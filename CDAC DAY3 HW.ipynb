{
 "cells": [
  {
   "cell_type": "code",
   "execution_count": 1,
   "id": "7eff643b-db98-407d-bc52-ec47a9941389",
   "metadata": {},
   "outputs": [],
   "source": [
    "import numpy as np"
   ]
  },
  {
   "cell_type": "markdown",
   "id": "3bf7b866-5e2c-4150-a40b-f75fbc9cc87a",
   "metadata": {},
   "source": [
    "**Q1. Split a 4 by 4 array into 4, 2 by 2 arrays.**"
   ]
  },
  {
   "cell_type": "code",
   "execution_count": 7,
   "id": "c85b6bf1-bf32-4a2f-8e84-d4c075bf4a79",
   "metadata": {},
   "outputs": [
    {
     "name": "stdout",
     "output_type": "stream",
     "text": [
      "The four split arrays are: \n",
      "[[[1 2]\n",
      "  [3 4]]] \n",
      "\n",
      " [[[5 6]\n",
      "  [7 8]]] \n",
      "\n",
      " [[[ 9 10]\n",
      "  [11 12]]] \n",
      "\n",
      " [[[13 14]\n",
      "  [15 16]]]\n"
     ]
    }
   ],
   "source": [
    "arr1 = np.array([[1, 2, 3, 4],\n",
    "                 [5, 6, 7, 8],\n",
    "                 [9, 10, 11, 12],\n",
    "                 [13, 14, 15, 16]])\n",
    "arr1_reshaped = arr1.reshape(4, 2, 2)\n",
    "a1, a2, a3, a4 = np.array_split(arr1_reshaped, 4)\n",
    "print(\"The four split arrays are: \")\n",
    "print(a1, \"\\n\\n\", a2, \"\\n\\n\", a3, \"\\n\\n\", a4)"
   ]
  },
  {
   "cell_type": "markdown",
   "id": "cf69d819-c955-4352-badb-1329e86faa7d",
   "metadata": {},
   "source": [
    "**Q2. Stack two vertical arrays. Calculate the row wise and column wise sum of the matrix.**"
   ]
  },
  {
   "cell_type": "code",
   "execution_count": 23,
   "id": "5d370fbe-f2dd-48da-bbc6-e59ac48dd4c8",
   "metadata": {},
   "outputs": [
    {
     "name": "stdout",
     "output_type": "stream",
     "text": [
      "Stacked Array = \n",
      "[[ 1 11]\n",
      " [ 2 12]\n",
      " [ 3 13]\n",
      " [ 4 14]\n",
      " [ 5 15]\n",
      " [ 6 16]\n",
      " [ 7 17]\n",
      " [ 8 18]\n",
      " [ 9 19]\n",
      " [10 20]]\n",
      "Sum of each row =  [12 14 16 18 20 22 24 26 28 30]\n",
      "Sum of each column =  [ 55 155]\n"
     ]
    }
   ],
   "source": [
    "a1 = np.array(list(range(1, 11)))\n",
    "a2 = np.array(list(range(11, 21)))\n",
    "a3 = a1.T\n",
    "a4 = a2.T\n",
    "\n",
    "a_stacked = np.stack((a3, a4))\n",
    "a_stacked = a_stacked.T\n",
    "\n",
    "print(\"Stacked Array = \")\n",
    "print(a_stacked)\n",
    "\n",
    "row_sum = np.empty(10)\n",
    "column_sum = np.empty(2)\n",
    "\n",
    "row_sum = np.sum(a_stacked, axis = 1)\n",
    "column_sum = np.sum(a_stacked, axis = 0)\n",
    "\n",
    "print(\"Sum of each row = \", row_sum)\n",
    "print(\"Sum of each column = \", column_sum)"
   ]
  },
  {
   "cell_type": "markdown",
   "id": "c42bd5fb-6b21-4796-9836-cdde8e9aedf2",
   "metadata": {},
   "source": [
    "**Q3. Create a 3 by 3 array with default value = 7.**"
   ]
  },
  {
   "cell_type": "code",
   "execution_count": 25,
   "id": "3f494925-7830-4b10-963b-157d3a9bffdf",
   "metadata": {},
   "outputs": [
    {
     "name": "stdout",
     "output_type": "stream",
     "text": [
      "Required Array = \n",
      "[[7 7 7]\n",
      " [7 7 7]\n",
      " [7 7 7]]\n"
     ]
    }
   ],
   "source": [
    "arr7 = np.full((3, 3), 7)\n",
    "print(\"Required Array = \")\n",
    "print(arr7)"
   ]
  },
  {
   "cell_type": "code",
   "execution_count": null,
   "id": "5096eb4b-6a18-4711-9a22-25e37f17e98e",
   "metadata": {},
   "outputs": [],
   "source": []
  }
 ],
 "metadata": {
  "kernelspec": {
   "display_name": "Python 3 (ipykernel)",
   "language": "python",
   "name": "python3"
  },
  "language_info": {
   "codemirror_mode": {
    "name": "ipython",
    "version": 3
   },
   "file_extension": ".py",
   "mimetype": "text/x-python",
   "name": "python",
   "nbconvert_exporter": "python",
   "pygments_lexer": "ipython3",
   "version": "3.13.2"
  }
 },
 "nbformat": 4,
 "nbformat_minor": 5
}
