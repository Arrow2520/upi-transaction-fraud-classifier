{
 "cells": [
  {
   "cell_type": "markdown",
   "id": "df7fc8a9-0042-4ca8-8974-9463da4e88e5",
   "metadata": {},
   "source": [
    "An online grocery store has captured amount spent per annum (in Indian rupees) by 20 customers on apparel and beauty and healthcare products and given in the file *customerspends.csv*. It contains the following records.\n",
    "\n",
    "* Customer - Customer ID\n",
    "* Apparel - Amount spent in apparel products\n",
    "* Beauty and Healthcare - Amount spent in beauty and healthcare.\n"
   ]
  },
  {
   "cell_type": "markdown",
   "id": "8698cab4-116c-455a-b683-6256b7943203",
   "metadata": {},
   "source": [
    "**Q1. Create a scatter plot to depict the customer spends on apparel and beauty and healthcare products. Identify number of scatters exisiting in the dataset.**"
   ]
  },
  {
   "cell_type": "markdown",
   "id": "5fc91c4b-56bf-45b4-bf19-3cdb8e0b7533",
   "metadata": {},
   "source": [
    "**Ans:-**"
   ]
  },
  {
   "cell_type": "code",
   "execution_count": 12,
   "id": "80868e2a-f86e-43cf-8577-8595cb799f6f",
   "metadata": {},
   "outputs": [],
   "source": [
    "import numpy as np\n",
    "import pandas as pd\n",
    "import matplotlib.pyplot as plt\n",
    "import seaborn as sn\n",
    "from scipy import stats\n",
    "import statsmodels.api as sm\n",
    "from sklearn.model_selection import train_test_split\n",
    "from sklearn.preprocessing import StandardScaler"
   ]
  },
  {
   "cell_type": "code",
   "execution_count": 13,
   "id": "e27979db-e62a-4692-abe9-ce46b10e636a",
   "metadata": {},
   "outputs": [
    {
     "data": {
      "text/html": [
       "<div>\n",
       "<style scoped>\n",
       "    .dataframe tbody tr th:only-of-type {\n",
       "        vertical-align: middle;\n",
       "    }\n",
       "\n",
       "    .dataframe tbody tr th {\n",
       "        vertical-align: top;\n",
       "    }\n",
       "\n",
       "    .dataframe thead th {\n",
       "        text-align: right;\n",
       "    }\n",
       "</style>\n",
       "<table border=\"1\" class=\"dataframe\">\n",
       "  <thead>\n",
       "    <tr style=\"text-align: right;\">\n",
       "      <th></th>\n",
       "      <th>Customer</th>\n",
       "      <th>Apparel</th>\n",
       "      <th>Beauty and Healthcare</th>\n",
       "    </tr>\n",
       "  </thead>\n",
       "  <tbody>\n",
       "    <tr>\n",
       "      <th>0</th>\n",
       "      <td>1</td>\n",
       "      <td>21.10</td>\n",
       "      <td>0.7</td>\n",
       "    </tr>\n",
       "    <tr>\n",
       "      <th>1</th>\n",
       "      <td>2</td>\n",
       "      <td>15.23</td>\n",
       "      <td>5.5</td>\n",
       "    </tr>\n",
       "    <tr>\n",
       "      <th>2</th>\n",
       "      <td>3</td>\n",
       "      <td>5.22</td>\n",
       "      <td>18.6</td>\n",
       "    </tr>\n",
       "    <tr>\n",
       "      <th>3</th>\n",
       "      <td>4</td>\n",
       "      <td>31.10</td>\n",
       "      <td>1.8</td>\n",
       "    </tr>\n",
       "    <tr>\n",
       "      <th>4</th>\n",
       "      <td>5</td>\n",
       "      <td>6.12</td>\n",
       "      <td>21.5</td>\n",
       "    </tr>\n",
       "  </tbody>\n",
       "</table>\n",
       "</div>"
      ],
      "text/plain": [
       "   Customer  Apparel  Beauty and Healthcare\n",
       "0         1    21.10                    0.7\n",
       "1         2    15.23                    5.5\n",
       "2         3     5.22                   18.6\n",
       "3         4    31.10                    1.8\n",
       "4         5     6.12                   21.5"
      ]
     },
     "execution_count": 13,
     "metadata": {},
     "output_type": "execute_result"
    }
   ],
   "source": [
    "cust_spend_df = pd.read_csv('customerspends.csv')\n",
    "cust_spend_df.head()"
   ]
  },
  {
   "cell_type": "code",
   "execution_count": 14,
   "id": "351c1655-445c-408f-8e70-7c8531d45ac9",
   "metadata": {},
   "outputs": [
    {
     "name": "stdout",
     "output_type": "stream",
     "text": [
      "<class 'pandas.core.frame.DataFrame'>\n",
      "RangeIndex: 20 entries, 0 to 19\n",
      "Data columns (total 3 columns):\n",
      " #   Column                 Non-Null Count  Dtype  \n",
      "---  ------                 --------------  -----  \n",
      " 0   Customer               20 non-null     int64  \n",
      " 1   Apparel                20 non-null     float64\n",
      " 2   Beauty and Healthcare  20 non-null     float64\n",
      "dtypes: float64(2), int64(1)\n",
      "memory usage: 612.0 bytes\n"
     ]
    }
   ],
   "source": [
    "cust_spend_df.info()"
   ]
  },
  {
   "cell_type": "code",
   "execution_count": 15,
   "id": "b5acc0a4-610c-490a-8650-8fb2c153ec42",
   "metadata": {},
   "outputs": [
    {
     "data": {
      "text/plain": [
       "<seaborn.axisgrid.FacetGrid at 0x1ecded42fd0>"
      ]
     },
     "execution_count": 15,
     "metadata": {},
     "output_type": "execute_result"
    },
    {
     "data": {
      "image/png": "[encoded data removed]",
      "text/plain": [
       "<Figure size 400x400 with 1 Axes>"
      ]
     },
     "metadata": {},
     "output_type": "display_data"
    }
   ],
   "source": [
    "sn.lmplot(x=\"Apparel\", y=\"Beauty and Healthcare\", data=cust_spend_df, fit_reg=False, height=4)"
   ]
  },
  {
   "cell_type": "markdown",
   "id": "9af904a8-d8ca-438e-ad2f-69d50e2948d9",
   "metadata": {},
   "source": [
    "Here we can see that there are three cluster groups:-\n",
    "\n",
    "* Spends money > 10 on Beauty and Healthcare and spends money between 5 and 10 on Apparel.\n",
    "* Spends money (10, 20) on Apparel and between (0, 10) on Beauty and Healthcare.\n",
    "* Spends money (0, 5) on Beauty and Healthcare and (20, 30) on Apparel."
   ]
  },
  {
   "cell_type": "markdown",
   "id": "476f0b90-eefe-48bb-9130-20a9fb3af950",
   "metadata": {},
   "source": [
    "**Q2. Normalize the features using StandardScaler and plot them in the scatter plot again.**"
   ]
  },
  {
   "cell_type": "markdown",
   "id": "d772b227-9546-4678-aed8-7a45356b07d5",
   "metadata": {},
   "source": [
    "**Ans:-**"
   ]
  },
  {
   "cell_type": "code",
   "execution_count": 21,
   "id": "f0a0108c-2f18-4cb2-879f-082f566c575e",
   "metadata": {},
   "outputs": [
    {
     "data": {
      "text/html": [
       "<div>\n",
       "<style scoped>\n",
       "    .dataframe tbody tr th:only-of-type {\n",
       "        vertical-align: middle;\n",
       "    }\n",
       "\n",
       "    .dataframe tbody tr th {\n",
       "        vertical-align: top;\n",
       "    }\n",
       "\n",
       "    .dataframe thead th {\n",
       "        text-align: right;\n",
       "    }\n",
       "</style>\n",
       "<table border=\"1\" class=\"dataframe\">\n",
       "  <thead>\n",
       "    <tr style=\"text-align: right;\">\n",
       "      <th></th>\n",
       "      <th>Customer</th>\n",
       "      <th>Apparel</th>\n",
       "      <th>Beauty and Healthcare</th>\n",
       "    </tr>\n",
       "  </thead>\n",
       "  <tbody>\n",
       "    <tr>\n",
       "      <th>0</th>\n",
       "      <td>-1.647509</td>\n",
       "      <td>0.892371</td>\n",
       "      <td>-1.266880</td>\n",
       "    </tr>\n",
       "    <tr>\n",
       "      <th>1</th>\n",
       "      <td>-1.474087</td>\n",
       "      <td>0.206471</td>\n",
       "      <td>-0.597753</td>\n",
       "    </tr>\n",
       "    <tr>\n",
       "      <th>2</th>\n",
       "      <td>-1.300665</td>\n",
       "      <td>-0.963181</td>\n",
       "      <td>1.228405</td>\n",
       "    </tr>\n",
       "    <tr>\n",
       "      <th>3</th>\n",
       "      <td>-1.127243</td>\n",
       "      <td>2.060855</td>\n",
       "      <td>-1.113539</td>\n",
       "    </tr>\n",
       "    <tr>\n",
       "      <th>4</th>\n",
       "      <td>-0.953821</td>\n",
       "      <td>-0.858018</td>\n",
       "      <td>1.632670</td>\n",
       "    </tr>\n",
       "  </tbody>\n",
       "</table>\n",
       "</div>"
      ],
      "text/plain": [
       "   Customer   Apparel  Beauty and Healthcare\n",
       "0 -1.647509  0.892371              -1.266880\n",
       "1 -1.474087  0.206471              -0.597753\n",
       "2 -1.300665 -0.963181               1.228405\n",
       "3 -1.127243  2.060855              -1.113539\n",
       "4 -0.953821 -0.858018               1.632670"
      ]
     },
     "execution_count": 21,
     "metadata": {},
     "output_type": "execute_result"
    }
   ],
   "source": [
    "scaler = StandardScaler()\n",
    "scaled_cusf = scaler.fit_transform(cust_spend_df)\n",
    "scaled_cust_df = pd.DataFrame(scaled_cusf, columns=cust_spend_df.columns)\n",
    "scaled_cust_df.head()"
   ]
  },
  {
   "cell_type": "code",
   "execution_count": 22,
   "id": "427c4eff-cdd2-42ff-9718-9d496befcfd8",
   "metadata": {},
   "outputs": [
    {
     "data": {
      "text/plain": [
       "<seaborn.axisgrid.FacetGrid at 0x1ece1b45450>"
      ]
     },
     "execution_count": 22,
     "metadata": {},
     "output_type": "execute_result"
    },
    {
     "data": {
      "image/png": "[encoded data removed]",
      "text/plain": [
       "<Figure size 400x400 with 1 Axes>"
      ]
     },
     "metadata": {},
     "output_type": "display_data"
    }
   ],
   "source": [
    "sn.lmplot(x=\"Apparel\", y=\"Beauty and Healthcare\", data=scaled_cust_df, fit_reg=False, height=4)"
   ]
  },
  {
   "cell_type": "markdown",
   "id": "1003550d-2466-4619-9219-5130ef548ce4",
   "metadata": {},
   "source": [
    "**Q3. Use dendogram and elbow method to verify if the number of clusters suggested is same as clusters visible in the scatter plot in Question 1.**"
   ]
  },
  {
   "cell_type": "markdown",
   "id": "92ddaa86-fe8c-43ae-9aae-853243d5bf7c",
   "metadata": {},
   "source": [
    "**Ans:-**"
   ]
  },
  {
   "cell_type": "markdown",
   "id": "4eabb5eb-6c8b-4e05-9dfb-9c9f6c29618b",
   "metadata": {},
   "source": [
    "**1. Using Dendogram**"
   ]
  },
  {
   "cell_type": "code",
   "execution_count": 24,
   "id": "307a424e-b698-471c-b32e-a5623a388812",
   "metadata": {},
   "outputs": [
    {
     "data": {
      "text/plain": [
       "<seaborn.matrix.ClusterGrid at 0x1ece1884830>"
      ]
     },
     "execution_count": 24,
     "metadata": {},
     "output_type": "execute_result"
    },
    {
     "data": {
      "image/png": "[encoded data removed]",
      "text/plain": [
       "<Figure size 800x800 with 4 Axes>"
      ]
     },
     "metadata": {},
     "output_type": "display_data"
    }
   ],
   "source": [
    "cmap = sn.cubehelix_palette(as_cmap=True, rot=-.3, light=1)\n",
    "sn.clustermap(scaled_cust_df, cmap=cmap, linewidths=.2, figsize=(8, 8))"
   ]
  },
  {
   "cell_type": "markdown",
   "id": "c108b819-2ceb-40bb-8fbb-55b5112121e5",
   "metadata": {},
   "source": [
    "**Finding Optimal number of clusters using Elbow Curve Method**"
   ]
  },
  {
   "cell_type": "code",
   "execution_count": null,
   "id": "c3b68aab-4f78-49d5-94bf-4ed6021a2203",
   "metadata": {},
   "outputs": [],
   "source": []
  }
 ],
 "metadata": {
  "kernelspec": {
   "display_name": "Python 3 (ipykernel)",
   "language": "python",
   "name": "python3"
  },
  "language_info": {
   "codemirror_mode": {
    "name": "ipython",
    "version": 3
   },
   "file_extension": ".py",
   "mimetype": "text/x-python",
   "name": "python",
   "nbconvert_exporter": "python",
   "pygments_lexer": "ipython3",
   "version": "3.13.2"
  }
 },
 "nbformat": 4,
 "nbformat_minor": 5
}
