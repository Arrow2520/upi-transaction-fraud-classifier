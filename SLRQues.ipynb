{
 "cells": [
  {
   "cell_type": "markdown",
   "id": "16c1ad5d-ce9c-44cd-a82d-9b13d326dd91",
   "metadata": {},
   "source": [
    "The dataset country.csv contains Corruption Perception Index and Gini Index of 20 countries . Corruption Perception Index close to 100 indicates low corruption and close to 0 indicates high corruption. Ginni Index is a measure of income distribution among citizens of a country(high Gini indicates high inequality).\n",
    "Use Python code:\n",
    "\n",
    "1. Develop a simple linear regression model between corruption perception index (Y) and Gini index (X). What is the change in the corruption perception index for every one unit increase in GIni index?\n",
    "2. What proportion of the variation in corruption perception index is explained by Gini Index?\n",
    "3. Is there a statistically significant relationship between corruption perception index and Gini index at alpha value of 0.1?\n",
    "4. Calculate the 95% confidence interval for the regression coefficient $$b_1$$.\n",
    "\n",
    "\n",
    "This problem is taken from the book:  \n",
    "**\"Machine Learning with Python\"** by **Manaranjan Pradhan** and **U Dinesh Kumar**\n",
    "\n",
    "This notebook is created for **educational purposes** only.\n",
    "\n",
    "**Link to the csv file** :- \n",
    "\n",
    "https://github.com/reddyprasade/DataSet-for-ML-and-Data-Science/blob/master/DataSets/country.csv\n"
   ]
  },
  {
   "cell_type": "code",
   "execution_count": 3,
   "id": "87227149-2430-4816-a7a2-90a72ee85e72",
   "metadata": {},
   "outputs": [],
   "source": [
    "import pandas as pd\n",
    "import numpy as np\n",
    "import matplotlib.pyplot as plt\n",
    "%matplotlib inline\n",
    "from scipy import stats\n",
    "import seaborn as sn\n",
    "import statsmodels.api as sm\n",
    "from sklearn.model_selection import train_test_split\n",
    "from sklearn.preprocessing import StandardScaler"
   ]
  },
  {
   "cell_type": "code",
   "execution_count": 4,
   "id": "d57d4c20-6135-4c47-a94d-f821d5905a68",
   "metadata": {},
   "outputs": [],
   "source": [
    "np.set_printoptions(precision=4, linewidth=100)"
   ]
  },
  {
   "cell_type": "markdown",
   "id": "21fc5fe4-ea46-4401-9032-544dc56ad89c",
   "metadata": {},
   "source": [
    "**Getting Dataset into DataFrame**"
   ]
  },
  {
   "cell_type": "code",
   "execution_count": 6,
   "id": "6cbe5bee-409b-43e6-a865-6ba54561b5df",
   "metadata": {},
   "outputs": [
    {
     "data": {
      "text/html": [
       "<div>\n",
       "<style scoped>\n",
       "    .dataframe tbody tr th:only-of-type {\n",
       "        vertical-align: middle;\n",
       "    }\n",
       "\n",
       "    .dataframe tbody tr th {\n",
       "        vertical-align: top;\n",
       "    }\n",
       "\n",
       "    .dataframe thead th {\n",
       "        text-align: right;\n",
       "    }\n",
       "</style>\n",
       "<table border=\"1\" class=\"dataframe\">\n",
       "  <thead>\n",
       "    <tr style=\"text-align: right;\">\n",
       "      <th></th>\n",
       "      <th>Country</th>\n",
       "      <th>Corruption_Index</th>\n",
       "      <th>Gini_Index</th>\n",
       "    </tr>\n",
       "  </thead>\n",
       "  <tbody>\n",
       "    <tr>\n",
       "      <th>0</th>\n",
       "      <td>Hong Kong</td>\n",
       "      <td>77</td>\n",
       "      <td>53.7</td>\n",
       "    </tr>\n",
       "    <tr>\n",
       "      <th>1</th>\n",
       "      <td>South Korea</td>\n",
       "      <td>53</td>\n",
       "      <td>30.2</td>\n",
       "    </tr>\n",
       "    <tr>\n",
       "      <th>2</th>\n",
       "      <td>China</td>\n",
       "      <td>40</td>\n",
       "      <td>46.2</td>\n",
       "    </tr>\n",
       "    <tr>\n",
       "      <th>3</th>\n",
       "      <td>Italy</td>\n",
       "      <td>47</td>\n",
       "      <td>32.7</td>\n",
       "    </tr>\n",
       "    <tr>\n",
       "      <th>4</th>\n",
       "      <td>Mongolia</td>\n",
       "      <td>38</td>\n",
       "      <td>36.5</td>\n",
       "    </tr>\n",
       "    <tr>\n",
       "      <th>5</th>\n",
       "      <td>Austria</td>\n",
       "      <td>75</td>\n",
       "      <td>27.6</td>\n",
       "    </tr>\n",
       "    <tr>\n",
       "      <th>6</th>\n",
       "      <td>Norway</td>\n",
       "      <td>85</td>\n",
       "      <td>23.5</td>\n",
       "    </tr>\n",
       "    <tr>\n",
       "      <th>7</th>\n",
       "      <td>UK</td>\n",
       "      <td>81</td>\n",
       "      <td>31.6</td>\n",
       "    </tr>\n",
       "    <tr>\n",
       "      <th>8</th>\n",
       "      <td>Canada</td>\n",
       "      <td>82</td>\n",
       "      <td>33.7</td>\n",
       "    </tr>\n",
       "    <tr>\n",
       "      <th>9</th>\n",
       "      <td>Germany</td>\n",
       "      <td>81</td>\n",
       "      <td>30.7</td>\n",
       "    </tr>\n",
       "    <tr>\n",
       "      <th>10</th>\n",
       "      <td>Sweden</td>\n",
       "      <td>88</td>\n",
       "      <td>25.4</td>\n",
       "    </tr>\n",
       "    <tr>\n",
       "      <th>11</th>\n",
       "      <td>Denmark</td>\n",
       "      <td>90</td>\n",
       "      <td>27.5</td>\n",
       "    </tr>\n",
       "    <tr>\n",
       "      <th>12</th>\n",
       "      <td>France</td>\n",
       "      <td>69</td>\n",
       "      <td>30.1</td>\n",
       "    </tr>\n",
       "    <tr>\n",
       "      <th>13</th>\n",
       "      <td>United States</td>\n",
       "      <td>74</td>\n",
       "      <td>40.8</td>\n",
       "    </tr>\n",
       "    <tr>\n",
       "      <th>14</th>\n",
       "      <td>Russia</td>\n",
       "      <td>29</td>\n",
       "      <td>40.1</td>\n",
       "    </tr>\n",
       "    <tr>\n",
       "      <th>15</th>\n",
       "      <td>Portugal</td>\n",
       "      <td>62</td>\n",
       "      <td>34.2</td>\n",
       "    </tr>\n",
       "    <tr>\n",
       "      <th>16</th>\n",
       "      <td>Romania</td>\n",
       "      <td>48</td>\n",
       "      <td>34.0</td>\n",
       "    </tr>\n",
       "    <tr>\n",
       "      <th>17</th>\n",
       "      <td>Argentina</td>\n",
       "      <td>36</td>\n",
       "      <td>42.7</td>\n",
       "    </tr>\n",
       "    <tr>\n",
       "      <th>18</th>\n",
       "      <td>Greece</td>\n",
       "      <td>44</td>\n",
       "      <td>34.2</td>\n",
       "    </tr>\n",
       "    <tr>\n",
       "      <th>19</th>\n",
       "      <td>Thailand</td>\n",
       "      <td>35</td>\n",
       "      <td>39.4</td>\n",
       "    </tr>\n",
       "  </tbody>\n",
       "</table>\n",
       "</div>"
      ],
      "text/plain": [
       "          Country  Corruption_Index  Gini_Index\n",
       "0       Hong Kong                77        53.7\n",
       "1     South Korea                53        30.2\n",
       "2           China                40        46.2\n",
       "3           Italy                47        32.7\n",
       "4        Mongolia                38        36.5\n",
       "5         Austria                75        27.6\n",
       "6          Norway                85        23.5\n",
       "7              UK                81        31.6\n",
       "8          Canada                82        33.7\n",
       "9         Germany                81        30.7\n",
       "10         Sweden                88        25.4\n",
       "11        Denmark                90        27.5\n",
       "12         France                69        30.1\n",
       "13  United States                74        40.8\n",
       "14        Russia                 29        40.1\n",
       "15       Portugal                62        34.2\n",
       "16        Romania                48        34.0\n",
       "17      Argentina                36        42.7\n",
       "18         Greece                44        34.2\n",
       "19      Thailand                 35        39.4"
      ]
     },
     "execution_count": 6,
     "metadata": {},
     "output_type": "execute_result"
    }
   ],
   "source": [
    "country = pd.read_csv('country.csv')\n",
    "country"
   ]
  },
  {
   "cell_type": "code",
   "execution_count": 7,
   "id": "58deaa2e-2f6a-43d3-a150-f233a7c2ebbf",
   "metadata": {},
   "outputs": [
    {
     "name": "stdout",
     "output_type": "stream",
     "text": [
      "<class 'pandas.core.frame.DataFrame'>\n",
      "RangeIndex: 20 entries, 0 to 19\n",
      "Data columns (total 3 columns):\n",
      " #   Column            Non-Null Count  Dtype  \n",
      "---  ------            --------------  -----  \n",
      " 0   Country           20 non-null     object \n",
      " 1   Corruption_Index  20 non-null     int64  \n",
      " 2   Gini_Index        20 non-null     float64\n",
      "dtypes: float64(1), int64(1), object(1)\n",
      "memory usage: 612.0+ bytes\n"
     ]
    }
   ],
   "source": [
    "country.info()"
   ]
  },
  {
   "cell_type": "markdown",
   "id": "5ad8386d-c19d-4a95-8c10-e866d884ed7d",
   "metadata": {},
   "source": [
    "**Creating Feature Set(X) and Outcome Variable(Y)** :-\n",
    "   The `Gini_Index` will be X and `Corruption_Index` will be Y. To estimate regression coefficient $\\beta_0$, a constant term of 1 needs to be added as a separate column."
   ]
  },
  {
   "cell_type": "code",
   "execution_count": 50,
   "id": "1b043f23-0c10-4bb6-b368-07cae9a7f397",
   "metadata": {},
   "outputs": [
    {
     "data": {
      "text/html": [
       "<div>\n",
       "<style scoped>\n",
       "    .dataframe tbody tr th:only-of-type {\n",
       "        vertical-align: middle;\n",
       "    }\n",
       "\n",
       "    .dataframe tbody tr th {\n",
       "        vertical-align: top;\n",
       "    }\n",
       "\n",
       "    .dataframe thead th {\n",
       "        text-align: right;\n",
       "    }\n",
       "</style>\n",
       "<table border=\"1\" class=\"dataframe\">\n",
       "  <thead>\n",
       "    <tr style=\"text-align: right;\">\n",
       "      <th></th>\n",
       "      <th>const</th>\n",
       "      <th>Gini_Index</th>\n",
       "    </tr>\n",
       "  </thead>\n",
       "  <tbody>\n",
       "    <tr>\n",
       "      <th>0</th>\n",
       "      <td>1.0</td>\n",
       "      <td>53.7</td>\n",
       "    </tr>\n",
       "    <tr>\n",
       "      <th>1</th>\n",
       "      <td>1.0</td>\n",
       "      <td>30.2</td>\n",
       "    </tr>\n",
       "    <tr>\n",
       "      <th>2</th>\n",
       "      <td>1.0</td>\n",
       "      <td>46.2</td>\n",
       "    </tr>\n",
       "    <tr>\n",
       "      <th>3</th>\n",
       "      <td>1.0</td>\n",
       "      <td>32.7</td>\n",
       "    </tr>\n",
       "    <tr>\n",
       "      <th>4</th>\n",
       "      <td>1.0</td>\n",
       "      <td>36.5</td>\n",
       "    </tr>\n",
       "  </tbody>\n",
       "</table>\n",
       "</div>"
      ],
      "text/plain": [
       "   const  Gini_Index\n",
       "0    1.0        53.7\n",
       "1    1.0        30.2\n",
       "2    1.0        46.2\n",
       "3    1.0        32.7\n",
       "4    1.0        36.5"
      ]
     },
     "execution_count": 50,
     "metadata": {},
     "output_type": "execute_result"
    }
   ],
   "source": [
    "X = sm.add_constant(country['Gini_Index'])\n",
    "Y = country['Corruption_Index']\n",
    "X.head()"
   ]
  },
  {
   "cell_type": "code",
   "execution_count": 51,
   "id": "41d415a2-a019-4b5d-9f28-0656d2a4abb5",
   "metadata": {},
   "outputs": [
    {
     "data": {
      "text/plain": [
       "0    77\n",
       "1    53\n",
       "2    40\n",
       "3    47\n",
       "4    38\n",
       "Name: Corruption_Index, dtype: int64"
      ]
     },
     "execution_count": 51,
     "metadata": {},
     "output_type": "execute_result"
    }
   ],
   "source": [
    "Y.head()"
   ]
  },
  {
   "cell_type": "markdown",
   "id": "3c701490-ddf6-43b1-8504-6a7cad1c7edc",
   "metadata": {},
   "source": [
    "**Splitting the Dataset into Training and Validation Sets**\n",
    "\n",
    "We will use 80% of the dataset as Training Set and 20% as Validation Set"
   ]
  },
  {
   "cell_type": "code",
   "execution_count": 13,
   "id": "80464933-f778-411b-a107-645b4cae565c",
   "metadata": {},
   "outputs": [],
   "source": [
    "train_X, test_X, train_Y, test_Y = train_test_split(X, Y, train_size=0.8, random_state=100)"
   ]
  },
  {
   "cell_type": "markdown",
   "id": "7ff7bb36-086b-4e95-a7d8-efb470f1b5f1",
   "metadata": {},
   "source": [
    "**Fitting the Model** :- We will fit the model using OLS method"
   ]
  },
  {
   "cell_type": "markdown",
   "id": "bebf7c4b-7fa4-48a1-a145-b97fa7128635",
   "metadata": {},
   "source": [
    "**Printing Estimated Parameters and Interpreting Them**"
   ]
  },
  {
   "cell_type": "code",
   "execution_count": 52,
   "id": "fb41ad49-c48d-4843-83a5-b3e751d78a7e",
   "metadata": {},
   "outputs": [
    {
     "data": {
      "text/plain": [
       "const         95.222379\n",
       "Gini_Index    -0.897565\n",
       "dtype: float64"
      ]
     },
     "execution_count": 52,
     "metadata": {},
     "output_type": "execute_result"
    }
   ],
   "source": [
    "country_lm = sm.OLS(train_Y, train_X).fit()\n",
    "country_lm.params\n"
   ]
  },
  {
   "cell_type": "markdown",
   "id": "b0833503-246f-4cfb-a788-ee55c72abe63",
   "metadata": {},
   "source": [
    "The estimated(predicted) model can be written as \n",
    "        \n",
    "        Corruption_index = 95.222379 + (-0.897567) * (Gini_Index)"
   ]
  },
  {
   "cell_type": "markdown",
   "id": "5d44db45-eaeb-4caf-8fb4-7544fa11e8fc",
   "metadata": {},
   "source": [
    "**MODEL DIAGONISTICS**"
   ]
  },
  {
   "cell_type": "code",
   "execution_count": 53,
   "id": "92bd7e94-e6d3-4675-997c-543919f61d91",
   "metadata": {},
   "outputs": [
    {
     "name": "stderr",
     "output_type": "stream",
     "text": [
      "C:\\Users\\rahak\\.virtualenvs\\venv\\Lib\\site-packages\\scipy\\stats\\_axis_nan_policy.py:430: UserWarning: `kurtosistest` p-value may be inaccurate with fewer than 20 observations; only n=16 observations were given.\n",
      "  return hypotest_fun_in(*args, **kwds)\n"
     ]
    },
    {
     "data": {
      "text/html": [
       "<table class=\"simpletable\">\n",
       "<tr>\n",
       "        <td>Model:</td>               <td>OLS</td>         <td>Adj. R-squared:</td>     <td>0.070</td> \n",
       "</tr>\n",
       "<tr>\n",
       "  <td>Dependent Variable:</td> <td>Corruption_Index</td>        <td>AIC:</td>         <td>140.5223</td>\n",
       "</tr>\n",
       "<tr>\n",
       "         <td>Date:</td>        <td>2025-06-03 22:34</td>        <td>BIC:</td>         <td>142.0674</td>\n",
       "</tr>\n",
       "<tr>\n",
       "   <td>No. Observations:</td>         <td>16</td>          <td>Log-Likelihood:</td>    <td>-68.261</td>\n",
       "</tr>\n",
       "<tr>\n",
       "       <td>Df Model:</td>              <td>1</td>           <td>F-statistic:</td>       <td>2.126</td> \n",
       "</tr>\n",
       "<tr>\n",
       "     <td>Df Residuals:</td>           <td>14</td>        <td>Prob (F-statistic):</td>   <td>0.167</td> \n",
       "</tr>\n",
       "<tr>\n",
       "      <td>R-squared:</td>            <td>0.132</td>            <td>Scale:</td>         <td>339.78</td> \n",
       "</tr>\n",
       "</table>\n",
       "<table class=\"simpletable\">\n",
       "<tr>\n",
       "       <td></td>       <th>Coef.</th>  <th>Std.Err.</th>    <th>t</th>     <th>P>|t|</th> <th>[0.025</th>   <th>0.975]</th> \n",
       "</tr>\n",
       "<tr>\n",
       "  <th>const</th>      <td>95.2224</td>  <td>21.6919</td> <td>4.3898</td>  <td>0.0006</td> <td>48.6980</td> <td>141.7468</td>\n",
       "</tr>\n",
       "<tr>\n",
       "  <th>Gini_Index</th> <td>-0.8976</td>  <td>0.6155</td>  <td>-1.4582</td> <td>0.1668</td> <td>-2.2177</td>  <td>0.4226</td> \n",
       "</tr>\n",
       "</table>\n",
       "<table class=\"simpletable\">\n",
       "<tr>\n",
       "     <td>Omnibus:</td>     <td>1.936</td>  <td>Durbin-Watson:</td>   <td>2.195</td>\n",
       "</tr>\n",
       "<tr>\n",
       "  <td>Prob(Omnibus):</td>  <td>0.380</td> <td>Jarque-Bera (JB):</td> <td>0.999</td>\n",
       "</tr>\n",
       "<tr>\n",
       "       <td>Skew:</td>     <td>-0.169</td>     <td>Prob(JB):</td>     <td>0.607</td>\n",
       "</tr>\n",
       "<tr>\n",
       "     <td>Kurtosis:</td>    <td>1.823</td>  <td>Condition No.:</td>    <td>166</td> \n",
       "</tr>\n",
       "</table><br/>\n",
       "Notes:<br/>\n",
       "[1] Standard Errors assume that the covariance matrix of the errors is correctly specified."
      ],
      "text/latex": [
       "\\begin{table}\n",
       "\\caption{Results: Ordinary least squares}\n",
       "\\label{}\n",
       "\\begin{center}\n",
       "\\begin{tabular}{llll}\n",
       "\\hline\n",
       "Model:              & OLS               & Adj. R-squared:     & 0.070     \\\\\n",
       "Dependent Variable: & Corruption\\_Index & AIC:                & 140.5223  \\\\\n",
       "Date:               & 2025-06-03 22:34  & BIC:                & 142.0674  \\\\\n",
       "No. Observations:   & 16                & Log-Likelihood:     & -68.261   \\\\\n",
       "Df Model:           & 1                 & F-statistic:        & 2.126     \\\\\n",
       "Df Residuals:       & 14                & Prob (F-statistic): & 0.167     \\\\\n",
       "R-squared:          & 0.132             & Scale:              & 339.78    \\\\\n",
       "\\hline\n",
       "\\end{tabular}\n",
       "\\end{center}\n",
       "\n",
       "\\begin{center}\n",
       "\\begin{tabular}{lrrrrrr}\n",
       "\\hline\n",
       "            &   Coef. & Std.Err. &       t & P$> |$t$|$ &  [0.025 &   0.975]  \\\\\n",
       "\\hline\n",
       "const       & 95.2224 &  21.6919 &  4.3898 &      0.0006 & 48.6980 & 141.7468  \\\\\n",
       "Gini\\_Index & -0.8976 &   0.6155 & -1.4582 &      0.1668 & -2.2177 &   0.4226  \\\\\n",
       "\\hline\n",
       "\\end{tabular}\n",
       "\\end{center}\n",
       "\n",
       "\\begin{center}\n",
       "\\begin{tabular}{llll}\n",
       "\\hline\n",
       "Omnibus:       & 1.936  & Durbin-Watson:    & 2.195  \\\\\n",
       "Prob(Omnibus): & 0.380  & Jarque-Bera (JB): & 0.999  \\\\\n",
       "Skew:          & -0.169 & Prob(JB):         & 0.607  \\\\\n",
       "Kurtosis:      & 1.823  & Condition No.:    & 166    \\\\\n",
       "\\hline\n",
       "\\end{tabular}\n",
       "\\end{center}\n",
       "\\end{table}\n",
       "\\bigskip\n",
       "Notes: \\newline \n",
       "[1] Standard Errors assume that the covariance matrix of the errors is correctly specified."
      ],
      "text/plain": [
       "<class 'statsmodels.iolib.summary2.Summary'>\n",
       "\"\"\"\n",
       "                 Results: Ordinary least squares\n",
       "=================================================================\n",
       "Model:              OLS              Adj. R-squared:     0.070   \n",
       "Dependent Variable: Corruption_Index AIC:                140.5223\n",
       "Date:               2025-06-03 22:34 BIC:                142.0674\n",
       "No. Observations:   16               Log-Likelihood:     -68.261 \n",
       "Df Model:           1                F-statistic:        2.126   \n",
       "Df Residuals:       14               Prob (F-statistic): 0.167   \n",
       "R-squared:          0.132            Scale:              339.78  \n",
       "------------------------------------------------------------------\n",
       "              Coef.   Std.Err.     t     P>|t|    [0.025   0.975] \n",
       "------------------------------------------------------------------\n",
       "const        95.2224   21.6919   4.3898  0.0006  48.6980  141.7468\n",
       "Gini_Index   -0.8976    0.6155  -1.4582  0.1668  -2.2177    0.4226\n",
       "-----------------------------------------------------------------\n",
       "Omnibus:               1.936        Durbin-Watson:          2.195\n",
       "Prob(Omnibus):         0.380        Jarque-Bera (JB):       0.999\n",
       "Skew:                  -0.169       Prob(JB):               0.607\n",
       "Kurtosis:              1.823        Condition No.:          166  \n",
       "=================================================================\n",
       "Notes:\n",
       "[1] Standard Errors assume that the covariance matrix of the\n",
       "errors is correctly specified.\n",
       "\"\"\""
      ]
     },
     "execution_count": 53,
     "metadata": {},
     "output_type": "execute_result"
    }
   ],
   "source": [
    "country_lm.summary2()"
   ]
  },
  {
   "cell_type": "markdown",
   "id": "4d646f95-99b1-4285-8164-231bd3d66d4d",
   "metadata": {},
   "source": [
    "From the summary output shown above, we can infer the folowing :-\n",
    "1. The model R-squared value is 0.132, that is, the model explains 13.2% of the variation in Corruption Perception Index\n",
    "2. The p-value for the t-test is 0.1668 which indicates that there is no statistaclly significant relationship (at significance value $\\alpha$ = 0.1) between the feature, Gini Index, and Corruption Perception Index. Als the probability value of F-statistic of the model is 0.167 which indicates that the overall model is statistically insignificant."
   ]
  },
  {
   "cell_type": "markdown",
   "id": "8d620caf-d693-41c0-b6c1-7de37c268458",
   "metadata": {},
   "source": [
    "**RESIDUAL ANALYSIS**"
   ]
  },
  {
   "cell_type": "markdown",
   "id": "2a5e4e92-6c00-4e94-9dca-48423a5cd104",
   "metadata": {},
   "source": [
    "**1. Checking for Normal Distribution of Residual**"
   ]
  },
  {
   "cell_type": "code",
   "execution_count": 54,
   "id": "2fc6126f-c177-41f5-986b-ea522324c1ea",
   "metadata": {
    "scrolled": true
   },
   "outputs": [
    {
     "data": {
      "image/png": "[encoded data removed]",
      "text/plain": [
       "<Figure size 640x480 with 1 Axes>"
      ]
     },
     "metadata": {},
     "output_type": "display_data"
    }
   ],
   "source": [
    "standardized_resid = StandardScaler().fit_transform(country_lm.resid.values.reshape(-1, 1)).flatten()\n",
    "\n",
    "probplot = sm.ProbPlot(standardized_resid)\n",
    "probplot.ppplot(line='45')\n",
    "plt.title(\"Fig (1) - Normal P-P Plot of Regression Standardized Residuals\")\n",
    "plt.show()"
   ]
  },
  {
   "cell_type": "markdown",
   "id": "e0f4dfc2-c1d9-4af5-ab5e-b81d2fad2d1b",
   "metadata": {},
   "source": [
    "Since the dots are close to the diagonal line, we can conclude the residuals follow an approximate normal distribution."
   ]
  },
  {
   "cell_type": "markdown",
   "id": "623faa4e-2345-4c9c-8684-b3fe3a352d04",
   "metadata": {},
   "source": [
    "**2. Test of Homoscedasticity**"
   ]
  },
  {
   "cell_type": "code",
   "execution_count": 19,
   "id": "02b2cc17-1f36-4848-83af-2dccbf5da744",
   "metadata": {},
   "outputs": [
    {
     "data": {
      "image/png": "[encoded data removed]",
      "text/plain": [
       "<Figure size 640x480 with 1 Axes>"
      ]
     },
     "metadata": {},
     "output_type": "display_data"
    }
   ],
   "source": [
    "def get_standardized_values(vals):\n",
    "    return (vals - vals.mean()) / vals.std()\n",
    "\n",
    "\n",
    "plt.scatter(get_standardized_values(country_lm.fittedvalues), get_standardized_values(country_lm.resid))\n",
    "plt.title(\"Fig (2) - Residual Plot: Corruption Perception Index Prediction\")\n",
    "plt.xlabel(\"Standardized predicted values\")\n",
    "plt.ylabel(\"Standardized Residuals\")\n",
    "plt.show()"
   ]
  },
  {
   "cell_type": "markdown",
   "id": "669c4556-86e4-4c56-80dc-ed8358da3e8e",
   "metadata": {},
   "source": [
    "From the scatter plot, it is observed that the residuals are random and have no funnel shape, which means the residuals have constant variance(homeoscedasticity)."
   ]
  },
  {
   "cell_type": "markdown",
   "id": "5ca1a5ce-de25-4e14-a162-86fcb88b780f",
   "metadata": {},
   "source": [
    "**Outlier Analysis**"
   ]
  },
  {
   "cell_type": "markdown",
   "id": "aeac880b-fdab-43c6-bb2d-b03da569a835",
   "metadata": {},
   "source": [
    "1. Z-Score"
   ]
  },
  {
   "cell_type": "code",
   "execution_count": 21,
   "id": "7ce7c42f-344f-40c7-b86c-463f823e70b5",
   "metadata": {},
   "outputs": [
    {
     "data": {
      "text/html": [
       "<div>\n",
       "<style scoped>\n",
       "    .dataframe tbody tr th:only-of-type {\n",
       "        vertical-align: middle;\n",
       "    }\n",
       "\n",
       "    .dataframe tbody tr th {\n",
       "        vertical-align: top;\n",
       "    }\n",
       "\n",
       "    .dataframe thead th {\n",
       "        text-align: right;\n",
       "    }\n",
       "</style>\n",
       "<table border=\"1\" class=\"dataframe\">\n",
       "  <thead>\n",
       "    <tr style=\"text-align: right;\">\n",
       "      <th></th>\n",
       "      <th>Country</th>\n",
       "      <th>Corruption_Index</th>\n",
       "      <th>Gini_Index</th>\n",
       "      <th>z_score_CI</th>\n",
       "    </tr>\n",
       "  </thead>\n",
       "  <tbody>\n",
       "  </tbody>\n",
       "</table>\n",
       "</div>"
      ],
      "text/plain": [
       "Empty DataFrame\n",
       "Columns: [Country, Corruption_Index, Gini_Index, z_score_CI]\n",
       "Index: []"
      ]
     },
     "execution_count": 21,
     "metadata": {},
     "output_type": "execute_result"
    }
   ],
   "source": [
    "country['z_score_CI'] = stats.zscore(country.Corruption_Index)\n",
    "country[(country.z_score_CI > 3.0) | (country.z_score_CI < -3.0)]"
   ]
  },
  {
   "cell_type": "markdown",
   "id": "63532fd0-7a6b-4ffb-a905-aee98e2d7471",
   "metadata": {},
   "source": [
    "We see that there are no observations that are outliers as per the Z-score."
   ]
  },
  {
   "cell_type": "markdown",
   "id": "90af87b4-82cd-4ccc-bd80-713249bba6a1",
   "metadata": {},
   "source": [
    "2. Cook's Distance"
   ]
  },
  {
   "cell_type": "code",
   "execution_count": 22,
   "id": "82e5795b-56c6-4725-94c8-5943644ae382",
   "metadata": {},
   "outputs": [
    {
     "data": {
      "image/png": "[encoded data removed]",
      "text/plain": [
       "<Figure size 640x480 with 1 Axes>"
      ]
     },
     "metadata": {},
     "output_type": "display_data"
    }
   ],
   "source": [
    "Corrupt_influence = country_lm.get_influence()\n",
    "(c, p) = Corrupt_influence.cooks_distance\n",
    "\n",
    "plt.stem(np.arange(len(train_X)), np.round(c, 3), markerfmt=\",\")\n",
    "plt.title(\"Figure SLR(3) - Cooks's distance for all observations in Country's Corruption Perception Index Dataset\")\n",
    "plt.xlabel(\"Row Index\")\n",
    "plt.ylabel(\"Cook's Distance\")\n",
    "plt.grid()\n",
    "plt.show()"
   ]
  },
  {
   "cell_type": "markdown",
   "id": "766ec71f-fa7d-40bc-8923-11d6bae93a69",
   "metadata": {},
   "source": [
    "Here we see for the value 11 the Cook's Distance exceeds 1. And hence it is an Outlier, so we find and remove that data and then make remake a new Model"
   ]
  },
  {
   "cell_type": "code",
   "execution_count": 24,
   "id": "f319f588-f907-41a1-a076-49bc687257ad",
   "metadata": {},
   "outputs": [
    {
     "data": {
      "text/html": [
       "<div>\n",
       "<style scoped>\n",
       "    .dataframe tbody tr th:only-of-type {\n",
       "        vertical-align: middle;\n",
       "    }\n",
       "\n",
       "    .dataframe tbody tr th {\n",
       "        vertical-align: top;\n",
       "    }\n",
       "\n",
       "    .dataframe thead th {\n",
       "        text-align: right;\n",
       "    }\n",
       "</style>\n",
       "<table border=\"1\" class=\"dataframe\">\n",
       "  <thead>\n",
       "    <tr style=\"text-align: right;\">\n",
       "      <th></th>\n",
       "      <th>Country</th>\n",
       "      <th>Corruption_Index</th>\n",
       "      <th>Gini_Index</th>\n",
       "      <th>z_score_CI</th>\n",
       "    </tr>\n",
       "  </thead>\n",
       "  <tbody>\n",
       "    <tr>\n",
       "      <th>11</th>\n",
       "      <td>Denmark</td>\n",
       "      <td>90</td>\n",
       "      <td>27.5</td>\n",
       "      <td>1.408309</td>\n",
       "    </tr>\n",
       "  </tbody>\n",
       "</table>\n",
       "</div>"
      ],
      "text/plain": [
       "    Country  Corruption_Index  Gini_Index  z_score_CI\n",
       "11  Denmark                90        27.5    1.408309"
      ]
     },
     "execution_count": 24,
     "metadata": {},
     "output_type": "execute_result"
    }
   ],
   "source": [
    "country[country.index.isin([11])]"
   ]
  },
  {
   "cell_type": "code",
   "execution_count": 29,
   "id": "d8960fab-431f-4ec4-94f3-14bff0e6ab34",
   "metadata": {},
   "outputs": [
    {
     "data": {
      "text/html": [
       "<div>\n",
       "<style scoped>\n",
       "    .dataframe tbody tr th:only-of-type {\n",
       "        vertical-align: middle;\n",
       "    }\n",
       "\n",
       "    .dataframe tbody tr th {\n",
       "        vertical-align: top;\n",
       "    }\n",
       "\n",
       "    .dataframe thead th {\n",
       "        text-align: right;\n",
       "    }\n",
       "</style>\n",
       "<table border=\"1\" class=\"dataframe\">\n",
       "  <thead>\n",
       "    <tr style=\"text-align: right;\">\n",
       "      <th></th>\n",
       "      <th>const</th>\n",
       "      <th>Gini_Index</th>\n",
       "    </tr>\n",
       "  </thead>\n",
       "  <tbody>\n",
       "    <tr>\n",
       "      <th>13</th>\n",
       "      <td>1.0</td>\n",
       "      <td>40.8</td>\n",
       "    </tr>\n",
       "    <tr>\n",
       "      <th>6</th>\n",
       "      <td>1.0</td>\n",
       "      <td>23.5</td>\n",
       "    </tr>\n",
       "    <tr>\n",
       "      <th>16</th>\n",
       "      <td>1.0</td>\n",
       "      <td>34.0</td>\n",
       "    </tr>\n",
       "    <tr>\n",
       "      <th>1</th>\n",
       "      <td>1.0</td>\n",
       "      <td>30.2</td>\n",
       "    </tr>\n",
       "    <tr>\n",
       "      <th>9</th>\n",
       "      <td>1.0</td>\n",
       "      <td>30.7</td>\n",
       "    </tr>\n",
       "    <tr>\n",
       "      <th>14</th>\n",
       "      <td>1.0</td>\n",
       "      <td>40.1</td>\n",
       "    </tr>\n",
       "    <tr>\n",
       "      <th>12</th>\n",
       "      <td>1.0</td>\n",
       "      <td>30.1</td>\n",
       "    </tr>\n",
       "    <tr>\n",
       "      <th>5</th>\n",
       "      <td>1.0</td>\n",
       "      <td>27.6</td>\n",
       "    </tr>\n",
       "    <tr>\n",
       "      <th>2</th>\n",
       "      <td>1.0</td>\n",
       "      <td>46.2</td>\n",
       "    </tr>\n",
       "    <tr>\n",
       "      <th>4</th>\n",
       "      <td>1.0</td>\n",
       "      <td>36.5</td>\n",
       "    </tr>\n",
       "    <tr>\n",
       "      <th>10</th>\n",
       "      <td>1.0</td>\n",
       "      <td>25.4</td>\n",
       "    </tr>\n",
       "    <tr>\n",
       "      <th>0</th>\n",
       "      <td>1.0</td>\n",
       "      <td>53.7</td>\n",
       "    </tr>\n",
       "    <tr>\n",
       "      <th>15</th>\n",
       "      <td>1.0</td>\n",
       "      <td>34.2</td>\n",
       "    </tr>\n",
       "    <tr>\n",
       "      <th>7</th>\n",
       "      <td>1.0</td>\n",
       "      <td>31.6</td>\n",
       "    </tr>\n",
       "    <tr>\n",
       "      <th>3</th>\n",
       "      <td>1.0</td>\n",
       "      <td>32.7</td>\n",
       "    </tr>\n",
       "    <tr>\n",
       "      <th>8</th>\n",
       "      <td>1.0</td>\n",
       "      <td>33.7</td>\n",
       "    </tr>\n",
       "  </tbody>\n",
       "</table>\n",
       "</div>"
      ],
      "text/plain": [
       "    const  Gini_Index\n",
       "13    1.0        40.8\n",
       "6     1.0        23.5\n",
       "16    1.0        34.0\n",
       "1     1.0        30.2\n",
       "9     1.0        30.7\n",
       "14    1.0        40.1\n",
       "12    1.0        30.1\n",
       "5     1.0        27.6\n",
       "2     1.0        46.2\n",
       "4     1.0        36.5\n",
       "10    1.0        25.4\n",
       "0     1.0        53.7\n",
       "15    1.0        34.2\n",
       "7     1.0        31.6\n",
       "3     1.0        32.7\n",
       "8     1.0        33.7"
      ]
     },
     "execution_count": 29,
     "metadata": {},
     "output_type": "execute_result"
    }
   ],
   "source": [
    "train_X"
   ]
  },
  {
   "cell_type": "markdown",
   "id": "4709464c-32bb-4b62-a091-f5e3a535ca27",
   "metadata": {},
   "source": [
    "But we see that the index 11 is not present in the Training Set, meaning it is present in the Validation Set so we can ignore it for now as it will not influence in model training. The Cook's Distance is plot according to the entire DataFrame of country.\n",
    "\n",
    "(Note : I have come to this realisation after trying to drop the data from the training sets, the steps of which or the code for which has been skipped)"
   ]
  },
  {
   "cell_type": "markdown",
   "id": "d8c50ec4-cd90-4beb-ade4-b7f0e5be50af",
   "metadata": {},
   "source": [
    "3. Leverage Values"
   ]
  },
  {
   "cell_type": "code",
   "execution_count": 30,
   "id": "27c15ac6-0cb1-4dc9-a735-3b5b3ffb22a7",
   "metadata": {},
   "outputs": [
    {
     "data": {
      "image/png": "[encoded data removed]",
      "text/plain": [
       "<Figure size 800x600 with 1 Axes>"
      ]
     },
     "metadata": {},
     "output_type": "display_data"
    }
   ],
   "source": [
    "from statsmodels.graphics.regressionplots import influence_plot\n",
    "\n",
    "fig, ax = plt.subplots(figsize=(8, 6))\n",
    "influence_plot(country_lm, ax=ax)\n",
    "plt.title(\"Figure (4) - Leverage Values VS Residuals\")\n",
    "plt.show()"
   ]
  },
  {
   "cell_type": "markdown",
   "id": "4245d952-e6ab-4b70-9f85-6624f4f1fe90",
   "metadata": {},
   "source": [
    "In the above figure, the size of the circle is proportional to the product of residual and leverage value. The larger the circle, the larger is the residual and hence influence of the observation."
   ]
  },
  {
   "cell_type": "markdown",
   "id": "2652cd33-0ba5-4052-9e01-380c23cd1e7c",
   "metadata": {},
   "source": [
    "**Making Prediction and Measuring Accuracy** \n",
    "\n",
    "Ideally, the prediction should be made on the validation (or test) data and the accuracy of prediction should be evaluated."
   ]
  },
  {
   "cell_type": "markdown",
   "id": "3a26d4b8-b24b-4857-bff1-9759cd98ddee",
   "metadata": {},
   "source": [
    "1. Predicting using the Validation Set"
   ]
  },
  {
   "cell_type": "code",
   "execution_count": 32,
   "id": "d4bbb331-d279-4879-b8df-3c353126c3b1",
   "metadata": {},
   "outputs": [],
   "source": [
    "pred_Y = country_lm.predict(test_X)"
   ]
  },
  {
   "cell_type": "markdown",
   "id": "7f591700-bc8d-4968-a145-ad1c5de879ab",
   "metadata": {},
   "source": [
    "2. Finding R-Squared and RMSE"
   ]
  },
  {
   "cell_type": "code",
   "execution_count": 35,
   "id": "5efcd33f-c941-4929-999c-b151a460550f",
   "metadata": {},
   "outputs": [
    {
     "data": {
      "text/plain": [
       "np.float64(0.09564052280706992)"
      ]
     },
     "execution_count": 35,
     "metadata": {},
     "output_type": "execute_result"
    }
   ],
   "source": [
    "from sklearn.metrics import r2_score, mean_squared_error\n",
    "\n",
    "np.abs(r2_score(test_Y, pred_Y))"
   ]
  },
  {
   "cell_type": "markdown",
   "id": "eaf9f023-8b3a-4958-a101-35a3b5f52883",
   "metadata": {},
   "source": [
    "So, the model can explain only 9.56% of the variance of the validation set."
   ]
  },
  {
   "cell_type": "markdown",
   "id": "a929380f-e69b-42b9-b111-d94475fa04f5",
   "metadata": {},
   "source": [
    "Now let's check the RMSE value"
   ]
  },
  {
   "cell_type": "code",
   "execution_count": 36,
   "id": "1dcd6465-e632-4fa7-86ed-f27f6813cf4f",
   "metadata": {},
   "outputs": [
    {
     "data": {
      "text/plain": [
       "np.float64(21.53262175080755)"
      ]
     },
     "execution_count": 36,
     "metadata": {},
     "output_type": "execute_result"
    }
   ],
   "source": [
    "np.sqrt(mean_squared_error(test_Y, pred_Y))"
   ]
  },
  {
   "cell_type": "markdown",
   "id": "800b8251-af06-4c43-a122-fd376140ceea",
   "metadata": {},
   "source": [
    "RMSE means the average error the model makes in predicting the outcome. And in here the average error in the model is 21.53 units."
   ]
  },
  {
   "cell_type": "code",
   "execution_count": 38,
   "id": "6d1dd834-6b2b-4924-a88b-59d75b5af634",
   "metadata": {},
   "outputs": [
    {
     "name": "stdout",
     "output_type": "stream",
     "text": [
      "Relative Error: 34.90%\n"
     ]
    }
   ],
   "source": [
    "mean_ci = country['Corruption_Index'].mean()\n",
    "rmse = 21.53262175080755\n",
    "relative_error = rmse / mean_ci\n",
    "print(f\"Relative Error: {relative_error:.2%}\")"
   ]
  },
  {
   "cell_type": "markdown",
   "id": "98b3f858-4878-4743-9c1c-42af53a4328d",
   "metadata": {},
   "source": [
    "Now we get the 95% confidence interval for the regression coefficient $$b_1$$."
   ]
  },
  {
   "cell_type": "code",
   "execution_count": 49,
   "id": "29245e1f-3c79-4684-8983-a0bc44f047ba",
   "metadata": {},
   "outputs": [
    {
     "name": "stdout",
     "output_type": "stream",
     "text": [
      "[-2.2177070094735596, 0.4225779059091739]\n"
     ]
    }
   ],
   "source": [
    "conf_int = country_lm.conf_int(alpha=0.05)  \n",
    "b1_ci = conf_int.loc['Gini_Index']\n",
    "print(list(b1_ci))"
   ]
  },
  {
   "cell_type": "raw",
   "id": "2fc46d12-a381-4ba6-8823-08914840e566",
   "metadata": {},
   "source": []
  },
  {
   "cell_type": "markdown",
   "id": "3ae2d4bc-d1c8-4f41-939f-3688ec65acbe",
   "metadata": {},
   "source": [
    "Now after all of our analysis we shall answer the questions given using all the data we have obtained."
   ]
  },
  {
   "cell_type": "markdown",
   "id": "b3b4971b-433b-476d-8468-7d849d3d892c",
   "metadata": {},
   "source": [
    "**Q1. Develop a simple linear regression model between corruption perception index (Y) and Gini index (X). What is the change in the corruption perception index for every one unit increase in Gini index?**"
   ]
  },
  {
   "cell_type": "markdown",
   "id": "63fdb12e-1758-4cf7-b3a1-9cff274d9de8",
   "metadata": {},
   "source": [
    "**Ans:** The required Simple Linear Regression Model is :\n",
    "\n",
    "              Corruption_Index = 95.222379 + (-0.897567) * (Gini_Index)\n",
    "\n",
    "For every 1 unit increase in Gini Index, the Corruption Perception Index decreases by approximately 0.897567 units, on average."
   ]
  },
  {
   "cell_type": "markdown",
   "id": "1ccc48dc-17ac-4e91-bb4e-ea661a635e42",
   "metadata": {},
   "source": [
    "**Q2. What proportion of the variation in corruption perception index is explained by Gini Index?**"
   ]
  },
  {
   "cell_type": "markdown",
   "id": "d24c792a-09c6-47bc-8d2e-53b81a537c38",
   "metadata": {},
   "source": [
    "**Ans:** The model R-squared value is 0.132, that is, the model by Gini Index explains 13.2% of the variation in Corruption Perception Index."
   ]
  },
  {
   "cell_type": "markdown",
   "id": "9ac4a877-0356-45de-a570-7da122808fb9",
   "metadata": {},
   "source": [
    "**Q3.Is there a statistically significant relationship between corruption perception index and Gini index at alpha value of 0.1?**"
   ]
  },
  {
   "cell_type": "markdown",
   "id": "4c61d8ce-014c-411a-b0da-f39178eadc7b",
   "metadata": {},
   "source": [
    "**Ans:** No.  \n",
    "The p-value for the slope coefficient is **0.1667**, which is **greater than the threshold α = 0.1**.\n",
    "\n",
    "Therefore, we do not have statistically significant evidence to conclude that there is a linear relationship between the Gini Index and the Corruption Perception Index at the 10% significance level."
   ]
  },
  {
   "cell_type": "markdown",
   "id": "a74c49e7-0a9e-4858-81ed-cc4196146022",
   "metadata": {},
   "source": [
    "**Q4.Calculate the 95% confidence interval for the regression coefficient $$b_1$$**"
   ]
  },
  {
   "cell_type": "markdown",
   "id": "5c35760c-31fb-4c89-b88c-9a17200e62a8",
   "metadata": {},
   "source": [
    "**Ans:-** The 95% confidence interval for the regression coeffcient is :-\n",
    "                \n",
    "                [-2.2177070094735596, 0.4225779059091739]"
   ]
  },
  {
   "cell_type": "code",
   "execution_count": null,
   "id": "939c343f-0e23-4e3f-a939-fc26545896e5",
   "metadata": {},
   "outputs": [],
   "source": []
  }
 ],
 "metadata": {
  "kernelspec": {
   "display_name": "Python 3 (ipykernel)",
   "language": "python",
   "name": "python3"
  },
  "language_info": {
   "codemirror_mode": {
    "name": "ipython",
    "version": 3
   },
   "file_extension": ".py",
   "mimetype": "text/x-python",
   "name": "python",
   "nbconvert_exporter": "python",
   "pygments_lexer": "ipython3",
   "version": "3.13.2"
  }
 },
 "nbformat": 4,
 "nbformat_minor": 5
}
