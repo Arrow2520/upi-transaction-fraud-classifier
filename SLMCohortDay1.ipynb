{
 "cells": [
  {
   "cell_type": "raw",
   "id": "4f8ae6a9-c65f-4eed-8cc0-921746385aac",
   "metadata": {},
   "source": [
    "Question 1 : Write a function that counts the number of times a specific word appears in a given string.\n",
    "             Example: count how many times \"Emma\" appears in \"Emma is a good developer. Emma is a writer\"."
   ]
  },
  {
   "cell_type": "code",
   "execution_count": 3,
   "id": "0a0000a8-87d0-40cb-a3a7-eb768c193503",
   "metadata": {},
   "outputs": [],
   "source": [
    "def count_wrd_freq(string, word):\n",
    "    for ch in ['.', '?', ',', '!', ';', ':']:\n",
    "        string = string.replace(ch, '')\n",
    "    words = string.split()\n",
    "    count = 0\n",
    "    for w in words:\n",
    "        if w == word:\n",
    "            count += 1\n",
    "    return count"
   ]
  },
  {
   "cell_type": "markdown",
   "id": "b4493d26-47f0-4853-ab50-94ed30c4e9cf",
   "metadata": {
    "editable": true,
    "slideshow": {
     "slide_type": ""
    },
    "tags": []
   },
   "source": []
  },
  {
   "cell_type": "raw",
   "id": "0b2298e6-c05e-4354-8930-df230f9e15aa",
   "metadata": {},
   "source": [
    "Question 2 : Write a program that takes a list of numbers and prints only those divisible by 5."
   ]
  },
  {
   "cell_type": "code",
   "execution_count": 4,
   "id": "70a0c330-e005-413e-bff8-910cca3e3c18",
   "metadata": {},
   "outputs": [],
   "source": [
    "def nums_divisible_by_5(nums):\n",
    "    return [i for i in nums if i % 5 == 0]"
   ]
  },
  {
   "cell_type": "markdown",
   "id": "37bc6850-8fb4-4943-aa25-75916e575a55",
   "metadata": {},
   "source": []
  },
  {
   "cell_type": "raw",
   "id": "38f29d94-2526-40b8-84bb-227e018d6399",
   "metadata": {},
   "source": [
    "Question 3 : Write a program that reads a text file, counts the frequency of each word, and prints the top five most common words."
   ]
  },
  {
   "cell_type": "code",
   "execution_count": 5,
   "id": "6640f56a-57b1-43a9-b2e4-b4365752fb2d",
   "metadata": {
    "editable": true,
    "slideshow": {
     "slide_type": ""
    },
    "tags": []
   },
   "outputs": [],
   "source": [
    "def q3(filename):\n",
    "    file = open(filename, 'r')\n",
    "    text = file.read().lower()\n",
    "    for ch in ['.', '?', ',', '!', ';', ':']:\n",
    "        text = text.replace(ch, '')\n",
    "    words = text.split()\n",
    "    freq = {}\n",
    "    for word in words:\n",
    "        if word in freq:\n",
    "            freq[word] += 1\n",
    "        else:\n",
    "            freq[word] = 1\n",
    "    sorted_items = sorted(freq.items(), key=lambda x: x[1], reverse=True)\n",
    "    print(\"Top 5 most common words:\")\n",
    "    for word, count in sorted_words[:5]:\n",
    "        print(f\"{word}: {count}\")\n"
   ]
  }
 ],
 "metadata": {
  "kernelspec": {
   "display_name": "Python 3 (ipykernel)",
   "language": "python",
   "name": "python3"
  },
  "language_info": {
   "codemirror_mode": {
    "name": "ipython",
    "version": 3
   },
   "file_extension": ".py",
   "mimetype": "text/x-python",
   "name": "python",
   "nbconvert_exporter": "python",
   "pygments_lexer": "ipython3",
   "version": "3.13.2"
  }
 },
 "nbformat": 4,
 "nbformat_minor": 5
}
