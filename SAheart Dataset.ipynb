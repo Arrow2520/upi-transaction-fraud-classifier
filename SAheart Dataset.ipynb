{
 "cells": [
  {
   "cell_type": "markdown",
   "id": "073d8981-58ff-411e-9317-6296c1520315",
   "metadata": {},
   "source": [
    "The dataset contains records of males in a heart-disease high-risk region of the Western Cape, South Africa. There are roughly two controls per case of CHD. Many of the CHD positive men have undergone blood pressure reduction treatment and other programs to reduce their risk factors after their CHD event. In some cases, the measurements were made after these treatments. It is a tab separated file (.csv) and contains the following columns:\n",
    "* sbp - Systolic Blood Pressure\n",
    "* tobacco - Cumulative tobacoo (kg)\n",
    "* ldl - Low Density Lipoprotein Cholesterol\n",
    "* adiposity\n",
    "* famhist - Family history of heart disease (Present, Absent)\n",
    "* typea - type-A behavior\n",
    "* obesity\n",
    "* alcohol - Current alcohol consumption\n",
    "* age - Age at onset\n",
    "* chd - Response, coronary heart disease"
   ]
  },
  {
   "cell_type": "markdown",
   "id": "4c1640ae-9234-43d4-8e7b-4af712a0b802",
   "metadata": {},
   "source": [
    "**Q1. Build a logistic regression model to predict the probability of getting chd (Coronary Heart Disease), that is, P (chd = 1). Use all other columns except chd as features to build the model.**"
   ]
  },
  {
   "cell_type": "markdown",
   "id": "b17404b0-93de-4ca1-a42d-4fea1309d099",
   "metadata": {},
   "source": [
    "**Ans:-**"
   ]
  },
  {
   "cell_type": "code",
   "execution_count": 65,
   "id": "cab4fee6-9d26-47a4-ab7c-ec57f76cb8d6",
   "metadata": {},
   "outputs": [],
   "source": [
    "import pandas as pd\n",
    "import numpy as np\n",
    "import matplotlib.pyplot as plt\n",
    "%matplotlib inline\n",
    "from scipy import stats\n",
    "import seaborn as sn\n",
    "import statsmodels.api as sm\n",
    "from sklearn.model_selection import train_test_split\n",
    "from sklearn.preprocessing import StandardScaler"
   ]
  },
  {
   "cell_type": "markdown",
   "id": "7992c381-5438-44b2-bd8e-4b01cdd1fc36",
   "metadata": {},
   "source": [
    "**Reading and displaying few records of the data**"
   ]
  },
  {
   "cell_type": "code",
   "execution_count": 66,
   "id": "5900812d-75f7-401e-819a-68d306272676",
   "metadata": {},
   "outputs": [
    {
     "data": {
      "text/html": [
       "<div>\n",
       "<style scoped>\n",
       "    .dataframe tbody tr th:only-of-type {\n",
       "        vertical-align: middle;\n",
       "    }\n",
       "\n",
       "    .dataframe tbody tr th {\n",
       "        vertical-align: top;\n",
       "    }\n",
       "\n",
       "    .dataframe thead th {\n",
       "        text-align: right;\n",
       "    }\n",
       "</style>\n",
       "<table border=\"1\" class=\"dataframe\">\n",
       "  <thead>\n",
       "    <tr style=\"text-align: right;\">\n",
       "      <th></th>\n",
       "      <th>sbp</th>\n",
       "      <th>tobacco</th>\n",
       "      <th>ldl</th>\n",
       "      <th>adiposity</th>\n",
       "      <th>famhist</th>\n",
       "      <th>typea</th>\n",
       "      <th>obesity</th>\n",
       "      <th>alcohol</th>\n",
       "      <th>age</th>\n",
       "      <th>chd</th>\n",
       "    </tr>\n",
       "  </thead>\n",
       "  <tbody>\n",
       "    <tr>\n",
       "      <th>0</th>\n",
       "      <td>160</td>\n",
       "      <td>12.00</td>\n",
       "      <td>5.73</td>\n",
       "      <td>23.11</td>\n",
       "      <td>Present</td>\n",
       "      <td>49</td>\n",
       "      <td>25.30</td>\n",
       "      <td>97.20</td>\n",
       "      <td>52</td>\n",
       "      <td>1</td>\n",
       "    </tr>\n",
       "    <tr>\n",
       "      <th>1</th>\n",
       "      <td>144</td>\n",
       "      <td>0.01</td>\n",
       "      <td>4.41</td>\n",
       "      <td>28.61</td>\n",
       "      <td>Absent</td>\n",
       "      <td>55</td>\n",
       "      <td>28.87</td>\n",
       "      <td>2.06</td>\n",
       "      <td>63</td>\n",
       "      <td>1</td>\n",
       "    </tr>\n",
       "    <tr>\n",
       "      <th>2</th>\n",
       "      <td>118</td>\n",
       "      <td>0.08</td>\n",
       "      <td>3.48</td>\n",
       "      <td>32.28</td>\n",
       "      <td>Present</td>\n",
       "      <td>52</td>\n",
       "      <td>29.14</td>\n",
       "      <td>3.81</td>\n",
       "      <td>46</td>\n",
       "      <td>0</td>\n",
       "    </tr>\n",
       "    <tr>\n",
       "      <th>3</th>\n",
       "      <td>170</td>\n",
       "      <td>7.50</td>\n",
       "      <td>6.41</td>\n",
       "      <td>38.03</td>\n",
       "      <td>Present</td>\n",
       "      <td>51</td>\n",
       "      <td>31.99</td>\n",
       "      <td>24.26</td>\n",
       "      <td>58</td>\n",
       "      <td>1</td>\n",
       "    </tr>\n",
       "    <tr>\n",
       "      <th>4</th>\n",
       "      <td>134</td>\n",
       "      <td>13.60</td>\n",
       "      <td>3.50</td>\n",
       "      <td>27.78</td>\n",
       "      <td>Present</td>\n",
       "      <td>60</td>\n",
       "      <td>25.99</td>\n",
       "      <td>57.34</td>\n",
       "      <td>49</td>\n",
       "      <td>1</td>\n",
       "    </tr>\n",
       "    <tr>\n",
       "      <th>5</th>\n",
       "      <td>132</td>\n",
       "      <td>6.20</td>\n",
       "      <td>6.47</td>\n",
       "      <td>36.21</td>\n",
       "      <td>Present</td>\n",
       "      <td>62</td>\n",
       "      <td>30.77</td>\n",
       "      <td>14.14</td>\n",
       "      <td>45</td>\n",
       "      <td>0</td>\n",
       "    </tr>\n",
       "    <tr>\n",
       "      <th>6</th>\n",
       "      <td>142</td>\n",
       "      <td>4.05</td>\n",
       "      <td>3.38</td>\n",
       "      <td>16.20</td>\n",
       "      <td>Absent</td>\n",
       "      <td>59</td>\n",
       "      <td>20.81</td>\n",
       "      <td>2.62</td>\n",
       "      <td>38</td>\n",
       "      <td>0</td>\n",
       "    </tr>\n",
       "    <tr>\n",
       "      <th>7</th>\n",
       "      <td>114</td>\n",
       "      <td>4.08</td>\n",
       "      <td>4.59</td>\n",
       "      <td>14.60</td>\n",
       "      <td>Present</td>\n",
       "      <td>62</td>\n",
       "      <td>23.11</td>\n",
       "      <td>6.72</td>\n",
       "      <td>58</td>\n",
       "      <td>1</td>\n",
       "    </tr>\n",
       "    <tr>\n",
       "      <th>8</th>\n",
       "      <td>114</td>\n",
       "      <td>0.00</td>\n",
       "      <td>3.83</td>\n",
       "      <td>19.40</td>\n",
       "      <td>Present</td>\n",
       "      <td>49</td>\n",
       "      <td>24.86</td>\n",
       "      <td>2.49</td>\n",
       "      <td>29</td>\n",
       "      <td>0</td>\n",
       "    </tr>\n",
       "    <tr>\n",
       "      <th>9</th>\n",
       "      <td>132</td>\n",
       "      <td>0.00</td>\n",
       "      <td>5.80</td>\n",
       "      <td>30.96</td>\n",
       "      <td>Present</td>\n",
       "      <td>69</td>\n",
       "      <td>30.11</td>\n",
       "      <td>0.00</td>\n",
       "      <td>53</td>\n",
       "      <td>1</td>\n",
       "    </tr>\n",
       "  </tbody>\n",
       "</table>\n",
       "</div>"
      ],
      "text/plain": [
       "   sbp  tobacco   ldl  adiposity  famhist  typea  obesity  alcohol  age  chd\n",
       "0  160    12.00  5.73      23.11  Present     49    25.30    97.20   52    1\n",
       "1  144     0.01  4.41      28.61   Absent     55    28.87     2.06   63    1\n",
       "2  118     0.08  3.48      32.28  Present     52    29.14     3.81   46    0\n",
       "3  170     7.50  6.41      38.03  Present     51    31.99    24.26   58    1\n",
       "4  134    13.60  3.50      27.78  Present     60    25.99    57.34   49    1\n",
       "5  132     6.20  6.47      36.21  Present     62    30.77    14.14   45    0\n",
       "6  142     4.05  3.38      16.20   Absent     59    20.81     2.62   38    0\n",
       "7  114     4.08  4.59      14.60  Present     62    23.11     6.72   58    1\n",
       "8  114     0.00  3.83      19.40  Present     49    24.86     2.49   29    0\n",
       "9  132     0.00  5.80      30.96  Present     69    30.11     0.00   53    1"
      ]
     },
     "execution_count": 66,
     "metadata": {},
     "output_type": "execute_result"
    }
   ],
   "source": [
    "SAheart_df = pd.read_csv('SAheart.csv')\n",
    "SAheart_df = SAheart_df.drop('row.names', axis=1)\n",
    "SAheart_df.head(10)"
   ]
  },
  {
   "cell_type": "code",
   "execution_count": 67,
   "id": "fa739a72-3f79-4eb2-9a81-68bab763f374",
   "metadata": {},
   "outputs": [
    {
     "name": "stdout",
     "output_type": "stream",
     "text": [
      "<class 'pandas.core.frame.DataFrame'>\n",
      "RangeIndex: 462 entries, 0 to 461\n",
      "Data columns (total 10 columns):\n",
      " #   Column     Non-Null Count  Dtype  \n",
      "---  ------     --------------  -----  \n",
      " 0   sbp        462 non-null    int64  \n",
      " 1   tobacco    462 non-null    float64\n",
      " 2   ldl        462 non-null    float64\n",
      " 3   adiposity  462 non-null    float64\n",
      " 4   famhist    462 non-null    object \n",
      " 5   typea      462 non-null    int64  \n",
      " 6   obesity    462 non-null    float64\n",
      " 7   alcohol    462 non-null    float64\n",
      " 8   age        462 non-null    int64  \n",
      " 9   chd        462 non-null    int64  \n",
      "dtypes: float64(5), int64(4), object(1)\n",
      "memory usage: 36.2+ KB\n"
     ]
    }
   ],
   "source": [
    "# Displaying total Information about the DataFrame\n",
    "SAheart_df.info()"
   ]
  },
  {
   "cell_type": "code",
   "execution_count": 68,
   "id": "ee1814bc-70da-404a-8200-7f3a652ec484",
   "metadata": {},
   "outputs": [
    {
     "data": {
      "text/plain": [
       "chd\n",
       "0    302\n",
       "1    160\n",
       "Name: count, dtype: int64"
      ]
     },
     "execution_count": 68,
     "metadata": {},
     "output_type": "execute_result"
    }
   ],
   "source": [
    "# Displaying the count of people having CHD and not having CHD\n",
    "SAheart_df.chd.value_counts()"
   ]
  },
  {
   "cell_type": "markdown",
   "id": "49adb66a-0ca2-4aa0-b086-ca4b20ce58b6",
   "metadata": {},
   "source": [
    "The Output displays that there are 302 observations of people not having CHD and  160 observations of people having CHD."
   ]
  },
  {
   "cell_type": "code",
   "execution_count": 69,
   "id": "ce948a52-cacf-4eab-96a4-6f063f3c446c",
   "metadata": {},
   "outputs": [
    {
     "data": {
      "text/plain": [
       "['sbp',\n",
       " 'tobacco',\n",
       " 'ldl',\n",
       " 'adiposity',\n",
       " 'famhist',\n",
       " 'typea',\n",
       " 'obesity',\n",
       " 'alcohol',\n",
       " 'age']"
      ]
     },
     "execution_count": 69,
     "metadata": {},
     "output_type": "execute_result"
    }
   ],
   "source": [
    "X_features = list(SAheart_df.columns)\n",
    "X_features.remove('chd')\n",
    "X_features"
   ]
  },
  {
   "cell_type": "markdown",
   "id": "1cf62ba7-8f41-40ae-94f4-f858b84ced56",
   "metadata": {},
   "source": [
    "**Encoding Categorical Features**"
   ]
  },
  {
   "cell_type": "code",
   "execution_count": 70,
   "id": "74b6df48-721b-406d-af42-468432f9d10b",
   "metadata": {},
   "outputs": [
    {
     "data": {
      "text/plain": [
       "['sbp',\n",
       " 'tobacco',\n",
       " 'ldl',\n",
       " 'adiposity',\n",
       " 'typea',\n",
       " 'obesity',\n",
       " 'alcohol',\n",
       " 'age',\n",
       " 'famhist_Present']"
      ]
     },
     "execution_count": 70,
     "metadata": {},
     "output_type": "execute_result"
    }
   ],
   "source": [
    "encoded_SAheart_df = pd.get_dummies(SAheart_df[X_features], drop_first=True, dtype='int64')\n",
    "list(encoded_SAheart_df)"
   ]
  },
  {
   "cell_type": "code",
   "execution_count": 71,
   "id": "1346b934-09a1-4ca8-af42-79d875feb0fd",
   "metadata": {},
   "outputs": [],
   "source": [
    "Y = SAheart_df.chd\n",
    "X = sm.add_constant(encoded_SAheart_df)"
   ]
  },
  {
   "cell_type": "markdown",
   "id": "078b943b-d5bc-44bf-a5ec-04c3dc2be1c8",
   "metadata": {},
   "source": [
    "**Splitting Dataset intro Training and Validation Sets**\n",
    "\n",
    "We split the data into the ratio of 80:20 for the training set and validation set respectively."
   ]
  },
  {
   "cell_type": "code",
   "execution_count": 72,
   "id": "118eda3c-a267-4e66-bde0-4347e9849165",
   "metadata": {},
   "outputs": [],
   "source": [
    "from sklearn.model_selection import train_test_split\n",
    "train_X, test_X, train_y, test_y = train_test_split(X, Y, test_size=0.2, random_state=42)"
   ]
  },
  {
   "cell_type": "markdown",
   "id": "a459a016-106e-4d12-a55b-4ae6e91d47d2",
   "metadata": {},
   "source": [
    "**Building Logistic Regression Model**"
   ]
  },
  {
   "cell_type": "code",
   "execution_count": 73,
   "id": "6da2da5d-477e-48de-bffa-8ab3c2e4d7e1",
   "metadata": {},
   "outputs": [
    {
     "name": "stdout",
     "output_type": "stream",
     "text": [
      "Optimization terminated successfully.\n",
      "         Current function value: 0.513971\n",
      "         Iterations 6\n"
     ]
    }
   ],
   "source": [
    "logit = sm.Logit(train_y, train_X)\n",
    "logit_lm = logit.fit()"
   ]
  },
  {
   "cell_type": "markdown",
   "id": "0674896a-4e93-4fb2-ab40-bc77982817dd",
   "metadata": {},
   "source": [
    "So the above `logit_lm` is the required Logistic Regression Model"
   ]
  },
  {
   "cell_type": "markdown",
   "id": "f22950e7-dc07-4ecc-8f8b-9612052ad92a",
   "metadata": {},
   "source": [
    "**Q2. Find out which features are statistically significant in the logistic regression model built in Question 1. Build a new logistic regression model using only the significant features.**"
   ]
  },
  {
   "cell_type": "markdown",
   "id": "1a91a7fe-6137-4830-a5e2-df4754c6a1eb",
   "metadata": {},
   "source": [
    "**Ans:-**"
   ]
  },
  {
   "cell_type": "code",
   "execution_count": 74,
   "id": "0fbb3a09-0849-46e5-a4cc-b8d61afc2aa8",
   "metadata": {},
   "outputs": [
    {
     "data": {
      "text/html": [
       "<table class=\"simpletable\">\n",
       "<tr>\n",
       "        <td>Model:</td>              <td>Logit</td>           <td>Method:</td>          <td>MLE</td>   \n",
       "</tr>\n",
       "<tr>\n",
       "  <td>Dependent Variable:</td>        <td>chd</td>       <td>Pseudo R-squared:</td>    <td>0.199</td>  \n",
       "</tr>\n",
       "<tr>\n",
       "         <td>Date:</td>        <td>2025-06-04 23:16</td>       <td>AIC:</td>         <td>399.3110</td> \n",
       "</tr>\n",
       "<tr>\n",
       "   <td>No. Observations:</td>         <td>369</td>             <td>BIC:</td>         <td>438.4189</td> \n",
       "</tr>\n",
       "<tr>\n",
       "       <td>Df Model:</td>              <td>9</td>         <td>Log-Likelihood:</td>    <td>-189.66</td> \n",
       "</tr>\n",
       "<tr>\n",
       "     <td>Df Residuals:</td>           <td>359</td>           <td>LL-Null:</td>        <td>-236.90</td> \n",
       "</tr>\n",
       "<tr>\n",
       "      <td>Converged:</td>           <td>1.0000</td>        <td>LLR p-value:</td>    <td>2.0409e-16</td>\n",
       "</tr>\n",
       "<tr>\n",
       "    <td>No. Iterations:</td>        <td>6.0000</td>           <td>Scale:</td>         <td>1.0000</td>  \n",
       "</tr>\n",
       "</table>\n",
       "<table class=\"simpletable\">\n",
       "<tr>\n",
       "         <td></td>          <th>Coef.</th>  <th>Std.Err.</th>    <th>z</th>     <th>P>|z|</th> <th>[0.025</th>  <th>0.975]</th> \n",
       "</tr>\n",
       "<tr>\n",
       "  <th>const</th>           <td>-6.1509</td>  <td>1.4664</td>  <td>-4.1945</td> <td>0.0000</td> <td>-9.0250</td> <td>-3.2767</td>\n",
       "</tr>\n",
       "<tr>\n",
       "  <th>sbp</th>             <td>0.0081</td>   <td>0.0064</td>  <td>1.2623</td>  <td>0.2068</td> <td>-0.0045</td> <td>0.0206</td> \n",
       "</tr>\n",
       "<tr>\n",
       "  <th>tobacco</th>         <td>0.0563</td>   <td>0.0292</td>  <td>1.9263</td>  <td>0.0541</td> <td>-0.0010</td> <td>0.1135</td> \n",
       "</tr>\n",
       "<tr>\n",
       "  <th>ldl</th>             <td>0.1676</td>   <td>0.0645</td>  <td>2.5994</td>  <td>0.0093</td> <td>0.0412</td>  <td>0.2940</td> \n",
       "</tr>\n",
       "<tr>\n",
       "  <th>adiposity</th>       <td>0.0273</td>   <td>0.0331</td>  <td>0.8227</td>  <td>0.4107</td> <td>-0.0377</td> <td>0.0922</td> \n",
       "</tr>\n",
       "<tr>\n",
       "  <th>typea</th>           <td>0.0411</td>   <td>0.0137</td>  <td>3.0048</td>  <td>0.0027</td> <td>0.0143</td>  <td>0.0680</td> \n",
       "</tr>\n",
       "<tr>\n",
       "  <th>obesity</th>         <td>-0.0820</td>  <td>0.0494</td>  <td>-1.6610</td> <td>0.0967</td> <td>-0.1788</td> <td>0.0148</td> \n",
       "</tr>\n",
       "<tr>\n",
       "  <th>alcohol</th>         <td>0.0019</td>   <td>0.0055</td>  <td>0.3440</td>  <td>0.7309</td> <td>-0.0090</td> <td>0.0128</td> \n",
       "</tr>\n",
       "<tr>\n",
       "  <th>age</th>             <td>0.0473</td>   <td>0.0134</td>  <td>3.5301</td>  <td>0.0004</td> <td>0.0210</td>  <td>0.0736</td> \n",
       "</tr>\n",
       "<tr>\n",
       "  <th>famhist_Present</th> <td>0.8135</td>   <td>0.2550</td>  <td>3.1906</td>  <td>0.0014</td> <td>0.3138</td>  <td>1.3133</td> \n",
       "</tr>\n",
       "</table><br/>\n"
      ],
      "text/latex": [
       "\\begin{table}\n",
       "\\caption{Results: Logit}\n",
       "\\label{}\n",
       "\\begin{center}\n",
       "\\begin{tabular}{llll}\n",
       "\\hline\n",
       "Model:              & Logit            & Method:           & MLE         \\\\\n",
       "Dependent Variable: & chd              & Pseudo R-squared: & 0.199       \\\\\n",
       "Date:               & 2025-06-04 23:16 & AIC:              & 399.3110    \\\\\n",
       "No. Observations:   & 369              & BIC:              & 438.4189    \\\\\n",
       "Df Model:           & 9                & Log-Likelihood:   & -189.66     \\\\\n",
       "Df Residuals:       & 359              & LL-Null:          & -236.90     \\\\\n",
       "Converged:          & 1.0000           & LLR p-value:      & 2.0409e-16  \\\\\n",
       "No. Iterations:     & 6.0000           & Scale:            & 1.0000      \\\\\n",
       "\\hline\n",
       "\\end{tabular}\n",
       "\\end{center}\n",
       "\n",
       "\\begin{center}\n",
       "\\begin{tabular}{lrrrrrr}\n",
       "\\hline\n",
       "                 &   Coef. & Std.Err. &       z & P$> |$z$|$ &  [0.025 &  0.975]  \\\\\n",
       "\\hline\n",
       "const            & -6.1509 &   1.4664 & -4.1945 &      0.0000 & -9.0250 & -3.2767  \\\\\n",
       "sbp              &  0.0081 &   0.0064 &  1.2623 &      0.2068 & -0.0045 &  0.0206  \\\\\n",
       "tobacco          &  0.0563 &   0.0292 &  1.9263 &      0.0541 & -0.0010 &  0.1135  \\\\\n",
       "ldl              &  0.1676 &   0.0645 &  2.5994 &      0.0093 &  0.0412 &  0.2940  \\\\\n",
       "adiposity        &  0.0273 &   0.0331 &  0.8227 &      0.4107 & -0.0377 &  0.0922  \\\\\n",
       "typea            &  0.0411 &   0.0137 &  3.0048 &      0.0027 &  0.0143 &  0.0680  \\\\\n",
       "obesity          & -0.0820 &   0.0494 & -1.6610 &      0.0967 & -0.1788 &  0.0148  \\\\\n",
       "alcohol          &  0.0019 &   0.0055 &  0.3440 &      0.7309 & -0.0090 &  0.0128  \\\\\n",
       "age              &  0.0473 &   0.0134 &  3.5301 &      0.0004 &  0.0210 &  0.0736  \\\\\n",
       "famhist\\_Present &  0.8135 &   0.2550 &  3.1906 &      0.0014 &  0.3138 &  1.3133  \\\\\n",
       "\\hline\n",
       "\\end{tabular}\n",
       "\\end{center}\n",
       "\\end{table}\n",
       "\\bigskip\n"
      ],
      "text/plain": [
       "<class 'statsmodels.iolib.summary2.Summary'>\n",
       "\"\"\"\n",
       "                         Results: Logit\n",
       "=================================================================\n",
       "Model:              Logit            Method:           MLE       \n",
       "Dependent Variable: chd              Pseudo R-squared: 0.199     \n",
       "Date:               2025-06-04 23:16 AIC:              399.3110  \n",
       "No. Observations:   369              BIC:              438.4189  \n",
       "Df Model:           9                Log-Likelihood:   -189.66   \n",
       "Df Residuals:       359              LL-Null:          -236.90   \n",
       "Converged:          1.0000           LLR p-value:      2.0409e-16\n",
       "No. Iterations:     6.0000           Scale:            1.0000    \n",
       "-----------------------------------------------------------------\n",
       "                   Coef.  Std.Err.    z    P>|z|   [0.025  0.975]\n",
       "-----------------------------------------------------------------\n",
       "const             -6.1509   1.4664 -4.1945 0.0000 -9.0250 -3.2767\n",
       "sbp                0.0081   0.0064  1.2623 0.2068 -0.0045  0.0206\n",
       "tobacco            0.0563   0.0292  1.9263 0.0541 -0.0010  0.1135\n",
       "ldl                0.1676   0.0645  2.5994 0.0093  0.0412  0.2940\n",
       "adiposity          0.0273   0.0331  0.8227 0.4107 -0.0377  0.0922\n",
       "typea              0.0411   0.0137  3.0048 0.0027  0.0143  0.0680\n",
       "obesity           -0.0820   0.0494 -1.6610 0.0967 -0.1788  0.0148\n",
       "alcohol            0.0019   0.0055  0.3440 0.7309 -0.0090  0.0128\n",
       "age                0.0473   0.0134  3.5301 0.0004  0.0210  0.0736\n",
       "famhist_Present    0.8135   0.2550  3.1906 0.0014  0.3138  1.3133\n",
       "=================================================================\n",
       "\n",
       "\"\"\""
      ]
     },
     "execution_count": 74,
     "metadata": {},
     "output_type": "execute_result"
    }
   ],
   "source": [
    "logit_lm.summary2()"
   ]
  },
  {
   "cell_type": "markdown",
   "id": "e3bcd7b5-4074-41a5-9a47-43e34a3e0082",
   "metadata": {},
   "source": [
    "**Model Diagonistics**\n",
    "\n",
    "Here we check which features are statistically significant."
   ]
  },
  {
   "cell_type": "code",
   "execution_count": 75,
   "id": "e7c756f8-caf2-4d1d-98e0-7048b05361c2",
   "metadata": {},
   "outputs": [
    {
     "data": {
      "text/plain": [
       "['const', 'ldl', 'typea', 'age', 'famhist_Present']"
      ]
     },
     "execution_count": 75,
     "metadata": {},
     "output_type": "execute_result"
    }
   ],
   "source": [
    "def get_significant_vars(lm):\n",
    "    \n",
    "    # Store the p-values and corresponding column names in a dataframe\n",
    "    var_p_vals_df = pd.DataFrame(lm.pvalues)\n",
    "    var_p_vals_df['vars'] = var_p_vals_df.index\n",
    "    var_p_vals_df.columns = ['pvals', 'vars']\n",
    "    \n",
    "    # Filter the column names where p-values if less than 0.05\n",
    "    return list(var_p_vals_df[var_p_vals_df.pvals <= 0.05]['vars'])\n",
    "\n",
    "\n",
    "significant_vars = get_significant_vars(logit_lm)\n",
    "significant_vars"
   ]
  },
  {
   "cell_type": "markdown",
   "id": "526dffec-62ff-4084-9dcc-a5be3d779372",
   "metadata": {},
   "source": [
    "So the features `ldl`, `typea`, `age`, `famhist_Present` are statistically significant in the logistic regression model."
   ]
  },
  {
   "cell_type": "markdown",
   "id": "16de3eb5-061d-4248-8105-82bb484ec698",
   "metadata": {},
   "source": [
    "Now we create a new model which only will have the above features."
   ]
  },
  {
   "cell_type": "code",
   "execution_count": 76,
   "id": "a6737d7c-92d1-430f-83b7-bde5b5a47575",
   "metadata": {},
   "outputs": [
    {
     "name": "stdout",
     "output_type": "stream",
     "text": [
      "Optimization terminated successfully.\n",
      "         Current function value: 0.526509\n",
      "         Iterations 6\n"
     ]
    }
   ],
   "source": [
    "logit_lm_2 = sm.Logit(train_y, sm.add_constant(train_X[significant_vars])).fit()"
   ]
  },
  {
   "cell_type": "code",
   "execution_count": 77,
   "id": "5618228a-2caf-458a-aa54-09a7e40aa9d1",
   "metadata": {},
   "outputs": [
    {
     "data": {
      "text/html": [
       "<table class=\"simpletable\">\n",
       "<tr>\n",
       "        <td>Model:</td>              <td>Logit</td>           <td>Method:</td>          <td>MLE</td>   \n",
       "</tr>\n",
       "<tr>\n",
       "  <td>Dependent Variable:</td>        <td>chd</td>       <td>Pseudo R-squared:</td>    <td>0.180</td>  \n",
       "</tr>\n",
       "<tr>\n",
       "         <td>Date:</td>        <td>2025-06-04 23:16</td>       <td>AIC:</td>         <td>398.5637</td> \n",
       "</tr>\n",
       "<tr>\n",
       "   <td>No. Observations:</td>         <td>369</td>             <td>BIC:</td>         <td>418.1176</td> \n",
       "</tr>\n",
       "<tr>\n",
       "       <td>Df Model:</td>              <td>4</td>         <td>Log-Likelihood:</td>    <td>-194.28</td> \n",
       "</tr>\n",
       "<tr>\n",
       "     <td>Df Residuals:</td>           <td>364</td>           <td>LL-Null:</td>        <td>-236.90</td> \n",
       "</tr>\n",
       "<tr>\n",
       "      <td>Converged:</td>           <td>1.0000</td>        <td>LLR p-value:</td>    <td>1.3535e-17</td>\n",
       "</tr>\n",
       "<tr>\n",
       "    <td>No. Iterations:</td>        <td>6.0000</td>           <td>Scale:</td>         <td>1.0000</td>  \n",
       "</tr>\n",
       "</table>\n",
       "<table class=\"simpletable\">\n",
       "<tr>\n",
       "         <td></td>          <th>Coef.</th>  <th>Std.Err.</th>    <th>z</th>     <th>P>|z|</th> <th>[0.025</th>  <th>0.975]</th> \n",
       "</tr>\n",
       "<tr>\n",
       "  <th>const</th>           <td>-6.6645</td>  <td>1.0241</td>  <td>-6.5076</td> <td>0.0000</td> <td>-8.6717</td> <td>-4.6573</td>\n",
       "</tr>\n",
       "<tr>\n",
       "  <th>ldl</th>             <td>0.1510</td>   <td>0.0586</td>  <td>2.5775</td>  <td>0.0100</td> <td>0.0362</td>  <td>0.2658</td> \n",
       "</tr>\n",
       "<tr>\n",
       "  <th>typea</th>           <td>0.0386</td>   <td>0.0134</td>  <td>2.8887</td>  <td>0.0039</td> <td>0.0124</td>  <td>0.0649</td> \n",
       "</tr>\n",
       "<tr>\n",
       "  <th>age</th>             <td>0.0626</td>   <td>0.0106</td>  <td>5.9065</td>  <td>0.0000</td> <td>0.0418</td>  <td>0.0833</td> \n",
       "</tr>\n",
       "<tr>\n",
       "  <th>famhist_Present</th> <td>0.7573</td>   <td>0.2485</td>  <td>3.0475</td>  <td>0.0023</td> <td>0.2702</td>  <td>1.2443</td> \n",
       "</tr>\n",
       "</table><br/>\n"
      ],
      "text/latex": [
       "\\begin{table}\n",
       "\\caption{Results: Logit}\n",
       "\\label{}\n",
       "\\begin{center}\n",
       "\\begin{tabular}{llll}\n",
       "\\hline\n",
       "Model:              & Logit            & Method:           & MLE         \\\\\n",
       "Dependent Variable: & chd              & Pseudo R-squared: & 0.180       \\\\\n",
       "Date:               & 2025-06-04 23:16 & AIC:              & 398.5637    \\\\\n",
       "No. Observations:   & 369              & BIC:              & 418.1176    \\\\\n",
       "Df Model:           & 4                & Log-Likelihood:   & -194.28     \\\\\n",
       "Df Residuals:       & 364              & LL-Null:          & -236.90     \\\\\n",
       "Converged:          & 1.0000           & LLR p-value:      & 1.3535e-17  \\\\\n",
       "No. Iterations:     & 6.0000           & Scale:            & 1.0000      \\\\\n",
       "\\hline\n",
       "\\end{tabular}\n",
       "\\end{center}\n",
       "\n",
       "\\begin{center}\n",
       "\\begin{tabular}{lrrrrrr}\n",
       "\\hline\n",
       "                 &   Coef. & Std.Err. &       z & P$> |$z$|$ &  [0.025 &  0.975]  \\\\\n",
       "\\hline\n",
       "const            & -6.6645 &   1.0241 & -6.5076 &      0.0000 & -8.6717 & -4.6573  \\\\\n",
       "ldl              &  0.1510 &   0.0586 &  2.5775 &      0.0100 &  0.0362 &  0.2658  \\\\\n",
       "typea            &  0.0386 &   0.0134 &  2.8887 &      0.0039 &  0.0124 &  0.0649  \\\\\n",
       "age              &  0.0626 &   0.0106 &  5.9065 &      0.0000 &  0.0418 &  0.0833  \\\\\n",
       "famhist\\_Present &  0.7573 &   0.2485 &  3.0475 &      0.0023 &  0.2702 &  1.2443  \\\\\n",
       "\\hline\n",
       "\\end{tabular}\n",
       "\\end{center}\n",
       "\\end{table}\n",
       "\\bigskip\n"
      ],
      "text/plain": [
       "<class 'statsmodels.iolib.summary2.Summary'>\n",
       "\"\"\"\n",
       "                         Results: Logit\n",
       "=================================================================\n",
       "Model:              Logit            Method:           MLE       \n",
       "Dependent Variable: chd              Pseudo R-squared: 0.180     \n",
       "Date:               2025-06-04 23:16 AIC:              398.5637  \n",
       "No. Observations:   369              BIC:              418.1176  \n",
       "Df Model:           4                Log-Likelihood:   -194.28   \n",
       "Df Residuals:       364              LL-Null:          -236.90   \n",
       "Converged:          1.0000           LLR p-value:      1.3535e-17\n",
       "No. Iterations:     6.0000           Scale:            1.0000    \n",
       "-----------------------------------------------------------------\n",
       "                   Coef.  Std.Err.    z    P>|z|   [0.025  0.975]\n",
       "-----------------------------------------------------------------\n",
       "const             -6.6645   1.0241 -6.5076 0.0000 -8.6717 -4.6573\n",
       "ldl                0.1510   0.0586  2.5775 0.0100  0.0362  0.2658\n",
       "typea              0.0386   0.0134  2.8887 0.0039  0.0124  0.0649\n",
       "age                0.0626   0.0106  5.9065 0.0000  0.0418  0.0833\n",
       "famhist_Present    0.7573   0.2485  3.0475 0.0023  0.2702  1.2443\n",
       "=================================================================\n",
       "\n",
       "\"\"\""
      ]
     },
     "execution_count": 77,
     "metadata": {},
     "output_type": "execute_result"
    }
   ],
   "source": [
    "logit_lm_2.summary2()"
   ]
  },
  {
   "cell_type": "markdown",
   "id": "6466b869-1a35-4dea-b6e0-cd03b139b9a1",
   "metadata": {},
   "source": [
    "So, `logit_lm_2` is the required model which uses only the significant features."
   ]
  },
  {
   "cell_type": "markdown",
   "id": "6501950b-1fd5-4351-8258-8890997bc687",
   "metadata": {},
   "source": [
    "**Q3. From the logistic regression model parameters, determine which parameters affect the probability of `chd` positively and negatively.**"
   ]
  },
  {
   "cell_type": "markdown",
   "id": "1008d878-6e90-4850-aa48-83d6a02b2cb3",
   "metadata": {},
   "source": [
    "**Ans:-**"
   ]
  },
  {
   "cell_type": "code",
   "execution_count": 78,
   "id": "f56c2d58-4ddd-4e52-8f48-ea5fb8794871",
   "metadata": {},
   "outputs": [
    {
     "data": {
      "text/plain": [
       "const             -6.664475\n",
       "ldl                0.150999\n",
       "typea              0.038649\n",
       "age                0.062556\n",
       "famhist_Present    0.757269\n",
       "dtype: float64"
      ]
     },
     "execution_count": 78,
     "metadata": {},
     "output_type": "execute_result"
    }
   ],
   "source": [
    "logit_lm_2.params"
   ]
  },
  {
   "cell_type": "markdown",
   "id": "a7e8fe15-4fc7-4613-ace1-579fe59a8b26",
   "metadata": {},
   "source": [
    "From the above parameters we see, that `chd` is :-\n",
    "1. Negatively affected by the constant term, although it is not a part of the original dataset so we can take it out of our considerations.\n",
    "2. Positively affected by `ldl` i.e., Low Density Lipoprotein Cholesterol, `typea` i.e., type-A behavior, `age` i.e., Age at onset and `famhist_Present` i.e., Family history of heart disease(Present)."
   ]
  },
  {
   "cell_type": "markdown",
   "id": "f5b0eb88-9571-44af-9537-101c796d1356",
   "metadata": {},
   "source": [
    "**Q4. Calculate Youden's index for all possible cut-off probabilities ranging from 0.1 to 0.5 with an interval of 0.01. Find the optimal cut-off where Youden's index is maximum.**"
   ]
  },
  {
   "cell_type": "markdown",
   "id": "b34c5180-f1ec-4588-a289-d0dafbf2b8d8",
   "metadata": {},
   "source": [
    "**Ans:-**"
   ]
  },
  {
   "cell_type": "markdown",
   "id": "72915672-f0f2-41c7-b179-98aa1bb463f7",
   "metadata": {},
   "source": [
    "For this part first we will first predict on our test data and draw the ROC curve along with it."
   ]
  },
  {
   "cell_type": "code",
   "execution_count": 79,
   "id": "270b10af-b1dd-459e-a316-e341f967d137",
   "metadata": {},
   "outputs": [
    {
     "data": {
      "text/html": [
       "<div>\n",
       "<style scoped>\n",
       "    .dataframe tbody tr th:only-of-type {\n",
       "        vertical-align: middle;\n",
       "    }\n",
       "\n",
       "    .dataframe tbody tr th {\n",
       "        vertical-align: top;\n",
       "    }\n",
       "\n",
       "    .dataframe thead th {\n",
       "        text-align: right;\n",
       "    }\n",
       "</style>\n",
       "<table border=\"1\" class=\"dataframe\">\n",
       "  <thead>\n",
       "    <tr style=\"text-align: right;\">\n",
       "      <th></th>\n",
       "      <th>actual</th>\n",
       "      <th>predicted_prob</th>\n",
       "    </tr>\n",
       "  </thead>\n",
       "  <tbody>\n",
       "    <tr>\n",
       "      <th>324</th>\n",
       "      <td>0</td>\n",
       "      <td>0.371330</td>\n",
       "    </tr>\n",
       "    <tr>\n",
       "      <th>278</th>\n",
       "      <td>0</td>\n",
       "      <td>0.028547</td>\n",
       "    </tr>\n",
       "    <tr>\n",
       "      <th>227</th>\n",
       "      <td>1</td>\n",
       "      <td>0.228640</td>\n",
       "    </tr>\n",
       "    <tr>\n",
       "      <th>291</th>\n",
       "      <td>0</td>\n",
       "      <td>0.066927</td>\n",
       "    </tr>\n",
       "    <tr>\n",
       "      <th>225</th>\n",
       "      <td>0</td>\n",
       "      <td>0.257000</td>\n",
       "    </tr>\n",
       "    <tr>\n",
       "      <th>172</th>\n",
       "      <td>0</td>\n",
       "      <td>0.248384</td>\n",
       "    </tr>\n",
       "    <tr>\n",
       "      <th>79</th>\n",
       "      <td>0</td>\n",
       "      <td>0.408029</td>\n",
       "    </tr>\n",
       "    <tr>\n",
       "      <th>19</th>\n",
       "      <td>1</td>\n",
       "      <td>0.613853</td>\n",
       "    </tr>\n",
       "    <tr>\n",
       "      <th>453</th>\n",
       "      <td>1</td>\n",
       "      <td>0.441454</td>\n",
       "    </tr>\n",
       "    <tr>\n",
       "      <th>185</th>\n",
       "      <td>1</td>\n",
       "      <td>0.253054</td>\n",
       "    </tr>\n",
       "  </tbody>\n",
       "</table>\n",
       "</div>"
      ],
      "text/plain": [
       "     actual  predicted_prob\n",
       "324       0        0.371330\n",
       "278       0        0.028547\n",
       "227       1        0.228640\n",
       "291       0        0.066927\n",
       "225       0        0.257000\n",
       "172       0        0.248384\n",
       "79        0        0.408029\n",
       "19        1        0.613853\n",
       "453       1        0.441454\n",
       "185       1        0.253054"
      ]
     },
     "execution_count": 79,
     "metadata": {},
     "output_type": "execute_result"
    }
   ],
   "source": [
    "Y_pred_df = pd.DataFrame({\"actual\": test_y, \"predicted_prob\": logit_lm_2.predict(sm.add_constant(test_X[significant_vars]))})\n",
    "Y_pred_df.sample(10, random_state=42)"
   ]
  },
  {
   "cell_type": "code",
   "execution_count": 80,
   "id": "7184337f-761a-4ca8-81e6-fd4721685e72",
   "metadata": {},
   "outputs": [
    {
     "data": {
      "image/png": "[encoded data removed]",
      "text/plain": [
       "<Figure size 800x600 with 1 Axes>"
      ]
     },
     "metadata": {},
     "output_type": "display_data"
    }
   ],
   "source": [
    "from sklearn import metrics\n",
    "def draw_roc(actual, probs):\n",
    "    fpr, tpr, thresholds = metrics.roc_curve(actual, probs, drop_intermediate=False)\n",
    "    auc_score = metrics.roc_auc_score(actual, probs)\n",
    "    plt.figure(figsize=(8, 6))\n",
    "   \n",
    "    # Plot the fpr and tpr values for different threshold values\n",
    "    plt.plot(fpr, tpr, label='ROC Curve (area = %0.2f)' % auc_score)\n",
    "    \n",
    "    # Draw a diagonal line connecting the origin and top right most point\n",
    "    plt.plot([0, 1], [0, 1], 'k--')\n",
    "    plt.xlim([0.0, 1.0])\n",
    "    plt.ylim([0.0, 1.05])\n",
    "    \n",
    "    # Setting x and y labels\n",
    "    plt.xlabel('False Positive Rate or [1 - True Negative Rate]')\n",
    "    plt.ylabel('True Positive Rate')\n",
    "    plt.legend(loc='lower right')\n",
    "    plt.grid()\n",
    "    plt.show()\n",
    "\n",
    "    return fpr, tpr, thresholds\n",
    "\n",
    "fpr, tpr, thresholds = draw_roc(Y_pred_df.actual, Y_pred_df.predicted_prob)"
   ]
  },
  {
   "cell_type": "markdown",
   "id": "f8eaa403-b69c-475b-8052-0e11f2c86bb2",
   "metadata": {},
   "source": [
    "Now we get the Youden's Index as required in the question."
   ]
  },
  {
   "cell_type": "code",
   "execution_count": 81,
   "id": "66da4d7f-032b-45ca-ba91-a1017c648023",
   "metadata": {},
   "outputs": [
    {
     "data": {
      "text/html": [
       "<div>\n",
       "<style scoped>\n",
       "    .dataframe tbody tr th:only-of-type {\n",
       "        vertical-align: middle;\n",
       "    }\n",
       "\n",
       "    .dataframe tbody tr th {\n",
       "        vertical-align: top;\n",
       "    }\n",
       "\n",
       "    .dataframe thead th {\n",
       "        text-align: right;\n",
       "    }\n",
       "</style>\n",
       "<table border=\"1\" class=\"dataframe\">\n",
       "  <thead>\n",
       "    <tr style=\"text-align: right;\">\n",
       "      <th></th>\n",
       "      <th>tpr</th>\n",
       "      <th>fpr</th>\n",
       "      <th>thresholds</th>\n",
       "      <th>diff</th>\n",
       "    </tr>\n",
       "  </thead>\n",
       "  <tbody>\n",
       "    <tr>\n",
       "      <th>29</th>\n",
       "      <td>0.617647</td>\n",
       "      <td>0.135593</td>\n",
       "      <td>0.441454</td>\n",
       "      <td>0.482054</td>\n",
       "    </tr>\n",
       "    <tr>\n",
       "      <th>30</th>\n",
       "      <td>0.617647</td>\n",
       "      <td>0.152542</td>\n",
       "      <td>0.408029</td>\n",
       "      <td>0.465105</td>\n",
       "    </tr>\n",
       "    <tr>\n",
       "      <th>33</th>\n",
       "      <td>0.647059</td>\n",
       "      <td>0.186441</td>\n",
       "      <td>0.379718</td>\n",
       "      <td>0.460618</td>\n",
       "    </tr>\n",
       "    <tr>\n",
       "      <th>28</th>\n",
       "      <td>0.588235</td>\n",
       "      <td>0.135593</td>\n",
       "      <td>0.444642</td>\n",
       "      <td>0.452642</td>\n",
       "    </tr>\n",
       "    <tr>\n",
       "      <th>31</th>\n",
       "      <td>0.617647</td>\n",
       "      <td>0.169492</td>\n",
       "      <td>0.391934</td>\n",
       "      <td>0.448156</td>\n",
       "    </tr>\n",
       "  </tbody>\n",
       "</table>\n",
       "</div>"
      ],
      "text/plain": [
       "         tpr       fpr  thresholds      diff\n",
       "29  0.617647  0.135593    0.441454  0.482054\n",
       "30  0.617647  0.152542    0.408029  0.465105\n",
       "33  0.647059  0.186441    0.379718  0.460618\n",
       "28  0.588235  0.135593    0.444642  0.452642\n",
       "31  0.617647  0.169492    0.391934  0.448156"
      ]
     },
     "execution_count": 81,
     "metadata": {},
     "output_type": "execute_result"
    }
   ],
   "source": [
    "tpr_fpr = pd.DataFrame({'tpr': tpr, 'fpr': fpr, 'thresholds': thresholds})\n",
    "\n",
    "tpr_fpr['diff'] = tpr_fpr.tpr - tpr_fpr.fpr\n",
    "tpr_fpr.sort_values('diff', ascending=False)[0:5]"
   ]
  },
  {
   "cell_type": "markdown",
   "id": "6da7ac61-b0c3-4040-82e4-6c115e73c224",
   "metadata": {},
   "source": [
    "So from the above DataFrame we see that for Youden's Index is maximum at `diff` = 0.482054 and for it the `thresholds` = 0.441454. So the **Optimal cut-off** based on the maximum Youden's Index is **0.44**."
   ]
  },
  {
   "cell_type": "markdown",
   "id": "122db126-9866-41f5-9832-a01358a69abc",
   "metadata": {},
   "source": [
    "**Q5. Build a confusion matrix based on the cut-off probability found in Question 4 and report the precision and recall of the model for chd cases (i.e., chd = 1).**"
   ]
  },
  {
   "cell_type": "markdown",
   "id": "5444e9ca-44fd-45dd-a05d-f67dbff42f7c",
   "metadata": {},
   "source": [
    "**Ans:-**"
   ]
  },
  {
   "cell_type": "markdown",
   "id": "67c198ae-f2cf-4975-bd5f-6a0085f8e1d0",
   "metadata": {},
   "source": [
    "So using the Optimal Cut-Off Probability we first get the predicted values."
   ]
  },
  {
   "cell_type": "code",
   "execution_count": 83,
   "id": "6cf9b7d9-99be-4b92-a844-f30ec2a32983",
   "metadata": {},
   "outputs": [
    {
     "data": {
      "text/html": [
       "<div>\n",
       "<style scoped>\n",
       "    .dataframe tbody tr th:only-of-type {\n",
       "        vertical-align: middle;\n",
       "    }\n",
       "\n",
       "    .dataframe tbody tr th {\n",
       "        vertical-align: top;\n",
       "    }\n",
       "\n",
       "    .dataframe thead th {\n",
       "        text-align: right;\n",
       "    }\n",
       "</style>\n",
       "<table border=\"1\" class=\"dataframe\">\n",
       "  <thead>\n",
       "    <tr style=\"text-align: right;\">\n",
       "      <th></th>\n",
       "      <th>actual</th>\n",
       "      <th>predicted_prob</th>\n",
       "      <th>predicted</th>\n",
       "    </tr>\n",
       "  </thead>\n",
       "  <tbody>\n",
       "    <tr>\n",
       "      <th>225</th>\n",
       "      <td>0</td>\n",
       "      <td>0.257000</td>\n",
       "      <td>0</td>\n",
       "    </tr>\n",
       "    <tr>\n",
       "      <th>30</th>\n",
       "      <td>1</td>\n",
       "      <td>0.217227</td>\n",
       "      <td>0</td>\n",
       "    </tr>\n",
       "    <tr>\n",
       "      <th>39</th>\n",
       "      <td>1</td>\n",
       "      <td>0.817131</td>\n",
       "      <td>1</td>\n",
       "    </tr>\n",
       "    <tr>\n",
       "      <th>222</th>\n",
       "      <td>0</td>\n",
       "      <td>0.523576</td>\n",
       "      <td>1</td>\n",
       "    </tr>\n",
       "    <tr>\n",
       "      <th>124</th>\n",
       "      <td>0</td>\n",
       "      <td>0.237860</td>\n",
       "      <td>0</td>\n",
       "    </tr>\n",
       "    <tr>\n",
       "      <th>...</th>\n",
       "      <td>...</td>\n",
       "      <td>...</td>\n",
       "      <td>...</td>\n",
       "    </tr>\n",
       "    <tr>\n",
       "      <th>22</th>\n",
       "      <td>0</td>\n",
       "      <td>0.641116</td>\n",
       "      <td>1</td>\n",
       "    </tr>\n",
       "    <tr>\n",
       "      <th>358</th>\n",
       "      <td>0</td>\n",
       "      <td>0.309249</td>\n",
       "      <td>0</td>\n",
       "    </tr>\n",
       "    <tr>\n",
       "      <th>46</th>\n",
       "      <td>1</td>\n",
       "      <td>0.815421</td>\n",
       "      <td>1</td>\n",
       "    </tr>\n",
       "    <tr>\n",
       "      <th>168</th>\n",
       "      <td>0</td>\n",
       "      <td>0.125514</td>\n",
       "      <td>0</td>\n",
       "    </tr>\n",
       "    <tr>\n",
       "      <th>347</th>\n",
       "      <td>0</td>\n",
       "      <td>0.372598</td>\n",
       "      <td>0</td>\n",
       "    </tr>\n",
       "  </tbody>\n",
       "</table>\n",
       "<p>93 rows × 3 columns</p>\n",
       "</div>"
      ],
      "text/plain": [
       "     actual  predicted_prob  predicted\n",
       "225       0        0.257000          0\n",
       "30        1        0.217227          0\n",
       "39        1        0.817131          1\n",
       "222       0        0.523576          1\n",
       "124       0        0.237860          0\n",
       "..      ...             ...        ...\n",
       "22        0        0.641116          1\n",
       "358       0        0.309249          0\n",
       "46        1        0.815421          1\n",
       "168       0        0.125514          0\n",
       "347       0        0.372598          0\n",
       "\n",
       "[93 rows x 3 columns]"
      ]
     },
     "execution_count": 83,
     "metadata": {},
     "output_type": "execute_result"
    }
   ],
   "source": [
    "Y_pred_df['predicted'] = Y_pred_df.predicted_prob.map(lambda x: 1 if x > 0.44 else 0)\n",
    "Y_pred_df"
   ]
  },
  {
   "cell_type": "markdown",
   "id": "791083aa-4903-49b0-af7a-133290602623",
   "metadata": {},
   "source": [
    "Now we build the Confusion Matrix"
   ]
  },
  {
   "cell_type": "code",
   "execution_count": 84,
   "id": "dfae9dfe-d9b9-45d9-9072-4d7172945823",
   "metadata": {},
   "outputs": [
    {
     "data": {
      "image/png": "[encoded data removed]",
      "text/plain": [
       "<Figure size 640x480 with 2 Axes>"
      ]
     },
     "metadata": {},
     "output_type": "display_data"
    }
   ],
   "source": [
    "def draw_cm(actual, predicted):\n",
    "    cm = metrics.confusion_matrix(actual, predicted, labels=[1, 0])\n",
    "    sn.heatmap(cm, annot=True, fmt='.2f', xticklabels=[\"No chd\", \"Yes chd\"], yticklabels=[\"No chd\", \"Yes chd\"])\n",
    "    plt.ylabel('True Label')\n",
    "    plt.xlabel('Predicted Label')\n",
    "    plt.show()\n",
    "\n",
    "\n",
    "draw_cm(Y_pred_df.actual, Y_pred_df.predicted)"
   ]
  },
  {
   "cell_type": "markdown",
   "id": "c90307e0-2eaa-4637-aae3-0cd2c76306ef",
   "metadata": {},
   "source": [
    "Now we get the Precision and recall values."
   ]
  },
  {
   "cell_type": "code",
   "execution_count": 85,
   "id": "8a5a5f4b-cc04-48db-b9ba-c30d48c6a537",
   "metadata": {},
   "outputs": [
    {
     "name": "stdout",
     "output_type": "stream",
     "text": [
      "              precision    recall  f1-score   support\n",
      "\n",
      "           0       0.80      0.86      0.83        59\n",
      "           1       0.72      0.62      0.67        34\n",
      "\n",
      "    accuracy                           0.77        93\n",
      "   macro avg       0.76      0.74      0.75        93\n",
      "weighted avg       0.77      0.77      0.77        93\n",
      "\n"
     ]
    }
   ],
   "source": [
    "print(metrics.classification_report(Y_pred_df.actual, Y_pred_df.predicted))"
   ]
  },
  {
   "cell_type": "markdown",
   "id": "57870f6c-5202-4552-b099-412be5d9561c",
   "metadata": {},
   "source": [
    "For `chd` cases (i.e., `chd` = 1), the Precision = 0.72 and Recall = 0.62."
   ]
  },
  {
   "cell_type": "markdown",
   "id": "24be67c0-a5ed-4c30-b36f-5c7bed56bc98",
   "metadata": {},
   "source": [
    "**Q6. Find optimal cut-off probability using cost-based approach using the cost of FPs and FNs defined below**\n",
    "* **Cost of predicting \"chd\" as \"No chd\" (FNs) cases is 5 times more than predicting \"No chd\" as \"chd\" (FPs).**\n",
    "\n",
    "**Then find the precision and recall of the model for chd = 1.**"
   ]
  },
  {
   "cell_type": "markdown",
   "id": "66dd9a3b-b177-423b-8b65-385286c5d94e",
   "metadata": {},
   "source": [
    "**Ans:-**"
   ]
  },
  {
   "cell_type": "code",
   "execution_count": 86,
   "id": "3989a3b8-e114-469a-b3e6-0f2e9348b2ca",
   "metadata": {},
   "outputs": [],
   "source": [
    "def get_total_cost(actual, predicted, cost_FP, cost_FN):\n",
    "    # Correct way to pass the labels argument\n",
    "    cm = metrics.confusion_matrix(actual, predicted, labels=[1, 0])\n",
    "    cm_mat = np.array(cm)\n",
    "    \n",
    "    # False positives = cm[1, 0], False negatives = cm[0, 1]\n",
    "    return cm_mat[0, 1] * cost_FN + cm_mat[1, 0] * cost_FP"
   ]
  },
  {
   "cell_type": "markdown",
   "id": "ec6677b6-6340-49af-81ce-cb1658c401cd",
   "metadata": {},
   "source": [
    "Now here we have that cost of FNs is 5 times more than cost of FPs."
   ]
  },
  {
   "cell_type": "code",
   "execution_count": 87,
   "id": "a66ca993-a18d-42cd-b79e-91c515d72a03",
   "metadata": {},
   "outputs": [
    {
     "data": {
      "text/html": [
       "<div>\n",
       "<style scoped>\n",
       "    .dataframe tbody tr th:only-of-type {\n",
       "        vertical-align: middle;\n",
       "    }\n",
       "\n",
       "    .dataframe tbody tr th {\n",
       "        vertical-align: top;\n",
       "    }\n",
       "\n",
       "    .dataframe thead th {\n",
       "        text-align: right;\n",
       "    }\n",
       "</style>\n",
       "<table border=\"1\" class=\"dataframe\">\n",
       "  <thead>\n",
       "    <tr style=\"text-align: right;\">\n",
       "      <th></th>\n",
       "      <th>prob</th>\n",
       "      <th>cost</th>\n",
       "    </tr>\n",
       "  </thead>\n",
       "  <tbody>\n",
       "    <tr>\n",
       "      <th>3</th>\n",
       "      <td>0.13</td>\n",
       "      <td>45.0</td>\n",
       "    </tr>\n",
       "    <tr>\n",
       "      <th>4</th>\n",
       "      <td>0.14</td>\n",
       "      <td>45.0</td>\n",
       "    </tr>\n",
       "    <tr>\n",
       "      <th>6</th>\n",
       "      <td>0.16</td>\n",
       "      <td>47.0</td>\n",
       "    </tr>\n",
       "    <tr>\n",
       "      <th>2</th>\n",
       "      <td>0.12</td>\n",
       "      <td>48.0</td>\n",
       "    </tr>\n",
       "    <tr>\n",
       "      <th>0</th>\n",
       "      <td>0.10</td>\n",
       "      <td>49.0</td>\n",
       "    </tr>\n",
       "  </tbody>\n",
       "</table>\n",
       "</div>"
      ],
      "text/plain": [
       "   prob  cost\n",
       "3  0.13  45.0\n",
       "4  0.14  45.0\n",
       "6  0.16  47.0\n",
       "2  0.12  48.0\n",
       "0  0.10  49.0"
      ]
     },
     "execution_count": 87,
     "metadata": {},
     "output_type": "execute_result"
    }
   ],
   "source": [
    "cost_df = pd.DataFrame(columns = ['prob', 'cost'])\n",
    "idx = 0\n",
    "\n",
    "# Iterate cut-off probability values between 0.10 and 0.49\n",
    "for each_prob in range(10, 50):\n",
    "    \n",
    "    # Calculate the cost for the current threshold\n",
    "    cost = get_total_cost(\n",
    "        Y_pred_df.actual, \n",
    "        Y_pred_df.predicted_prob.map(lambda x: 1 if x > (each_prob / 100) else 0),\n",
    "        1, 5\n",
    "    )\n",
    "    \n",
    "    # Append the result\n",
    "    cost_df.loc[idx] = [(each_prob / 100), cost]\n",
    "    idx += 1\n",
    "\n",
    "# Sort by cost and show top 5 thresholds\n",
    "cost_df.sort_values('cost').head()"
   ]
  },
  {
   "cell_type": "markdown",
   "id": "7e6076b1-72fa-4a6c-8b18-5863eaccf72b",
   "metadata": {},
   "source": [
    "So the lowest cost is achieved at Cut-Off Probability of 0.13.\n",
    "\n",
    "Hence using the cost-based approach the Optimal Cut-Off Probability is 0.13"
   ]
  },
  {
   "cell_type": "markdown",
   "id": "b1a60d05-5f56-4c35-8696-252d21f56c60",
   "metadata": {},
   "source": [
    "Now we build the Confusion Matrix for this and then get the precision and recall values."
   ]
  },
  {
   "cell_type": "code",
   "execution_count": 88,
   "id": "36d5ca65-f533-4cca-8481-16b3b0b622f1",
   "metadata": {},
   "outputs": [
    {
     "data": {
      "image/png": "[encoded data removed]",
      "text/plain": [
       "<Figure size 640x480 with 2 Axes>"
      ]
     },
     "metadata": {},
     "output_type": "display_data"
    }
   ],
   "source": [
    "Y_pred_df['predicted_using_cost'] = Y_pred_df.predicted_prob.map(lambda x: 1 if x > 0.13 else 0)\n",
    "\n",
    "draw_cm(Y_pred_df.actual, Y_pred_df.predicted_using_cost)"
   ]
  },
  {
   "cell_type": "code",
   "execution_count": 89,
   "id": "f5720ba7-145a-4946-82bf-8500ddf6e8d5",
   "metadata": {},
   "outputs": [
    {
     "name": "stdout",
     "output_type": "stream",
     "text": [
      "              precision    recall  f1-score   support\n",
      "\n",
      "           0       0.95      0.32      0.48        59\n",
      "           1       0.45      0.97      0.62        34\n",
      "\n",
      "    accuracy                           0.56        93\n",
      "   macro avg       0.70      0.65      0.55        93\n",
      "weighted avg       0.77      0.56      0.53        93\n",
      "\n"
     ]
    }
   ],
   "source": [
    "print(metrics.classification_report(Y_pred_df.actual, Y_pred_df.predicted_using_cost))"
   ]
  },
  {
   "cell_type": "markdown",
   "id": "ee1b2222-2a63-4ce3-88b2-bb4b7f4262ae",
   "metadata": {},
   "source": [
    "So for `chd` = 1, the Precision is 0.45 and Recall is 0.97."
   ]
  },
  {
   "cell_type": "markdown",
   "id": "10d554fc-9764-43d3-a799-8be62c211ac9",
   "metadata": {},
   "source": [
    "**Q7. Build a decision tree classifier to predict the probability of using Gini index and max depth as 4.**"
   ]
  },
  {
   "cell_type": "markdown",
   "id": "2675a953-37db-472f-8b85-137156402069",
   "metadata": {},
   "source": [
    "**Ans:-**"
   ]
  },
  {
   "cell_type": "markdown",
   "id": "2ff97e00-06f7-44f3-9664-ce396d274cf1",
   "metadata": {},
   "source": [
    "**Building Decision Tree Classifier using Gini Criteria**"
   ]
  },
  {
   "cell_type": "code",
   "execution_count": 114,
   "id": "0c1db004-e17c-4eec-b0ac-a55f552e1595",
   "metadata": {},
   "outputs": [
    {
     "data": {
      "text/html": [
       "<style>#sk-container-id-5 {\n",
       "  /* Definition of color scheme common for light and dark mode */\n",
       "  --sklearn-color-text: #000;\n",
       "  --sklearn-color-text-muted: #666;\n",
       "  --sklearn-color-line: gray;\n",
       "  /* Definition of color scheme for unfitted estimators */\n",
       "  --sklearn-color-unfitted-level-0: #fff5e6;\n",
       "  --sklearn-color-unfitted-level-1: #f6e4d2;\n",
       "  --sklearn-color-unfitted-level-2: #ffe0b3;\n",
       "  --sklearn-color-unfitted-level-3: chocolate;\n",
       "  /* Definition of color scheme for fitted estimators */\n",
       "  --sklearn-color-fitted-level-0: #f0f8ff;\n",
       "  --sklearn-color-fitted-level-1: #d4ebff;\n",
       "  --sklearn-color-fitted-level-2: #b3dbfd;\n",
       "  --sklearn-color-fitted-level-3: cornflowerblue;\n",
       "\n",
       "  /* Specific color for light theme */\n",
       "  --sklearn-color-text-on-default-background: var(--sg-text-color, var(--theme-code-foreground, var(--jp-content-font-color1, black)));\n",
       "  --sklearn-color-background: var(--sg-background-color, var(--theme-background, var(--jp-layout-color0, white)));\n",
       "  --sklearn-color-border-box: var(--sg-text-color, var(--theme-code-foreground, var(--jp-content-font-color1, black)));\n",
       "  --sklearn-color-icon: #696969;\n",
       "\n",
       "  @media (prefers-color-scheme: dark) {\n",
       "    /* Redefinition of color scheme for dark theme */\n",
       "    --sklearn-color-text-on-default-background: var(--sg-text-color, var(--theme-code-foreground, var(--jp-content-font-color1, white)));\n",
       "    --sklearn-color-background: var(--sg-background-color, var(--theme-background, var(--jp-layout-color0, #111)));\n",
       "    --sklearn-color-border-box: var(--sg-text-color, var(--theme-code-foreground, var(--jp-content-font-color1, white)));\n",
       "    --sklearn-color-icon: #878787;\n",
       "  }\n",
       "}\n",
       "\n",
       "#sk-container-id-5 {\n",
       "  color: var(--sklearn-color-text);\n",
       "}\n",
       "\n",
       "#sk-container-id-5 pre {\n",
       "  padding: 0;\n",
       "}\n",
       "\n",
       "#sk-container-id-5 input.sk-hidden--visually {\n",
       "  border: 0;\n",
       "  clip: rect(1px 1px 1px 1px);\n",
       "  clip: rect(1px, 1px, 1px, 1px);\n",
       "  height: 1px;\n",
       "  margin: -1px;\n",
       "  overflow: hidden;\n",
       "  padding: 0;\n",
       "  position: absolute;\n",
       "  width: 1px;\n",
       "}\n",
       "\n",
       "#sk-container-id-5 div.sk-dashed-wrapped {\n",
       "  border: 1px dashed var(--sklearn-color-line);\n",
       "  margin: 0 0.4em 0.5em 0.4em;\n",
       "  box-sizing: border-box;\n",
       "  padding-bottom: 0.4em;\n",
       "  background-color: var(--sklearn-color-background);\n",
       "}\n",
       "\n",
       "#sk-container-id-5 div.sk-container {\n",
       "  /* jupyter's `normalize.less` sets `[hidden] { display: none; }`\n",
       "     but bootstrap.min.css set `[hidden] { display: none !important; }`\n",
       "     so we also need the `!important` here to be able to override the\n",
       "     default hidden behavior on the sphinx rendered scikit-learn.org.\n",
       "     See: https://github.com/scikit-learn/scikit-learn/issues/21755 */\n",
       "  display: inline-block !important;\n",
       "  position: relative;\n",
       "}\n",
       "\n",
       "#sk-container-id-5 div.sk-text-repr-fallback {\n",
       "  display: none;\n",
       "}\n",
       "\n",
       "div.sk-parallel-item,\n",
       "div.sk-serial,\n",
       "div.sk-item {\n",
       "  /* draw centered vertical line to link estimators */\n",
       "  background-image: linear-gradient(var(--sklearn-color-text-on-default-background), var(--sklearn-color-text-on-default-background));\n",
       "  background-size: 2px 100%;\n",
       "  background-repeat: no-repeat;\n",
       "  background-position: center center;\n",
       "}\n",
       "\n",
       "/* Parallel-specific style estimator block */\n",
       "\n",
       "#sk-container-id-5 div.sk-parallel-item::after {\n",
       "  content: \"\";\n",
       "  width: 100%;\n",
       "  border-bottom: 2px solid var(--sklearn-color-text-on-default-background);\n",
       "  flex-grow: 1;\n",
       "}\n",
       "\n",
       "#sk-container-id-5 div.sk-parallel {\n",
       "  display: flex;\n",
       "  align-items: stretch;\n",
       "  justify-content: center;\n",
       "  background-color: var(--sklearn-color-background);\n",
       "  position: relative;\n",
       "}\n",
       "\n",
       "#sk-container-id-5 div.sk-parallel-item {\n",
       "  display: flex;\n",
       "  flex-direction: column;\n",
       "}\n",
       "\n",
       "#sk-container-id-5 div.sk-parallel-item:first-child::after {\n",
       "  align-self: flex-end;\n",
       "  width: 50%;\n",
       "}\n",
       "\n",
       "#sk-container-id-5 div.sk-parallel-item:last-child::after {\n",
       "  align-self: flex-start;\n",
       "  width: 50%;\n",
       "}\n",
       "\n",
       "#sk-container-id-5 div.sk-parallel-item:only-child::after {\n",
       "  width: 0;\n",
       "}\n",
       "\n",
       "/* Serial-specific style estimator block */\n",
       "\n",
       "#sk-container-id-5 div.sk-serial {\n",
       "  display: flex;\n",
       "  flex-direction: column;\n",
       "  align-items: center;\n",
       "  background-color: var(--sklearn-color-background);\n",
       "  padding-right: 1em;\n",
       "  padding-left: 1em;\n",
       "}\n",
       "\n",
       "\n",
       "/* Toggleable style: style used for estimator/Pipeline/ColumnTransformer box that is\n",
       "clickable and can be expanded/collapsed.\n",
       "- Pipeline and ColumnTransformer use this feature and define the default style\n",
       "- Estimators will overwrite some part of the style using the `sk-estimator` class\n",
       "*/\n",
       "\n",
       "/* Pipeline and ColumnTransformer style (default) */\n",
       "\n",
       "#sk-container-id-5 div.sk-toggleable {\n",
       "  /* Default theme specific background. It is overwritten whether we have a\n",
       "  specific estimator or a Pipeline/ColumnTransformer */\n",
       "  background-color: var(--sklearn-color-background);\n",
       "}\n",
       "\n",
       "/* Toggleable label */\n",
       "#sk-container-id-5 label.sk-toggleable__label {\n",
       "  cursor: pointer;\n",
       "  display: flex;\n",
       "  width: 100%;\n",
       "  margin-bottom: 0;\n",
       "  padding: 0.5em;\n",
       "  box-sizing: border-box;\n",
       "  text-align: center;\n",
       "  align-items: start;\n",
       "  justify-content: space-between;\n",
       "  gap: 0.5em;\n",
       "}\n",
       "\n",
       "#sk-container-id-5 label.sk-toggleable__label .caption {\n",
       "  font-size: 0.6rem;\n",
       "  font-weight: lighter;\n",
       "  color: var(--sklearn-color-text-muted);\n",
       "}\n",
       "\n",
       "#sk-container-id-5 label.sk-toggleable__label-arrow:before {\n",
       "  /* Arrow on the left of the label */\n",
       "  content: \"▸\";\n",
       "  float: left;\n",
       "  margin-right: 0.25em;\n",
       "  color: var(--sklearn-color-icon);\n",
       "}\n",
       "\n",
       "#sk-container-id-5 label.sk-toggleable__label-arrow:hover:before {\n",
       "  color: var(--sklearn-color-text);\n",
       "}\n",
       "\n",
       "/* Toggleable content - dropdown */\n",
       "\n",
       "#sk-container-id-5 div.sk-toggleable__content {\n",
       "  max-height: 0;\n",
       "  max-width: 0;\n",
       "  overflow: hidden;\n",
       "  text-align: left;\n",
       "  /* unfitted */\n",
       "  background-color: var(--sklearn-color-unfitted-level-0);\n",
       "}\n",
       "\n",
       "#sk-container-id-5 div.sk-toggleable__content.fitted {\n",
       "  /* fitted */\n",
       "  background-color: var(--sklearn-color-fitted-level-0);\n",
       "}\n",
       "\n",
       "#sk-container-id-5 div.sk-toggleable__content pre {\n",
       "  margin: 0.2em;\n",
       "  border-radius: 0.25em;\n",
       "  color: var(--sklearn-color-text);\n",
       "  /* unfitted */\n",
       "  background-color: var(--sklearn-color-unfitted-level-0);\n",
       "}\n",
       "\n",
       "#sk-container-id-5 div.sk-toggleable__content.fitted pre {\n",
       "  /* unfitted */\n",
       "  background-color: var(--sklearn-color-fitted-level-0);\n",
       "}\n",
       "\n",
       "#sk-container-id-5 input.sk-toggleable__control:checked~div.sk-toggleable__content {\n",
       "  /* Expand drop-down */\n",
       "  max-height: 200px;\n",
       "  max-width: 100%;\n",
       "  overflow: auto;\n",
       "}\n",
       "\n",
       "#sk-container-id-5 input.sk-toggleable__control:checked~label.sk-toggleable__label-arrow:before {\n",
       "  content: \"▾\";\n",
       "}\n",
       "\n",
       "/* Pipeline/ColumnTransformer-specific style */\n",
       "\n",
       "#sk-container-id-5 div.sk-label input.sk-toggleable__control:checked~label.sk-toggleable__label {\n",
       "  color: var(--sklearn-color-text);\n",
       "  background-color: var(--sklearn-color-unfitted-level-2);\n",
       "}\n",
       "\n",
       "#sk-container-id-5 div.sk-label.fitted input.sk-toggleable__control:checked~label.sk-toggleable__label {\n",
       "  background-color: var(--sklearn-color-fitted-level-2);\n",
       "}\n",
       "\n",
       "/* Estimator-specific style */\n",
       "\n",
       "/* Colorize estimator box */\n",
       "#sk-container-id-5 div.sk-estimator input.sk-toggleable__control:checked~label.sk-toggleable__label {\n",
       "  /* unfitted */\n",
       "  background-color: var(--sklearn-color-unfitted-level-2);\n",
       "}\n",
       "\n",
       "#sk-container-id-5 div.sk-estimator.fitted input.sk-toggleable__control:checked~label.sk-toggleable__label {\n",
       "  /* fitted */\n",
       "  background-color: var(--sklearn-color-fitted-level-2);\n",
       "}\n",
       "\n",
       "#sk-container-id-5 div.sk-label label.sk-toggleable__label,\n",
       "#sk-container-id-5 div.sk-label label {\n",
       "  /* The background is the default theme color */\n",
       "  color: var(--sklearn-color-text-on-default-background);\n",
       "}\n",
       "\n",
       "/* On hover, darken the color of the background */\n",
       "#sk-container-id-5 div.sk-label:hover label.sk-toggleable__label {\n",
       "  color: var(--sklearn-color-text);\n",
       "  background-color: var(--sklearn-color-unfitted-level-2);\n",
       "}\n",
       "\n",
       "/* Label box, darken color on hover, fitted */\n",
       "#sk-container-id-5 div.sk-label.fitted:hover label.sk-toggleable__label.fitted {\n",
       "  color: var(--sklearn-color-text);\n",
       "  background-color: var(--sklearn-color-fitted-level-2);\n",
       "}\n",
       "\n",
       "/* Estimator label */\n",
       "\n",
       "#sk-container-id-5 div.sk-label label {\n",
       "  font-family: monospace;\n",
       "  font-weight: bold;\n",
       "  display: inline-block;\n",
       "  line-height: 1.2em;\n",
       "}\n",
       "\n",
       "#sk-container-id-5 div.sk-label-container {\n",
       "  text-align: center;\n",
       "}\n",
       "\n",
       "/* Estimator-specific */\n",
       "#sk-container-id-5 div.sk-estimator {\n",
       "  font-family: monospace;\n",
       "  border: 1px dotted var(--sklearn-color-border-box);\n",
       "  border-radius: 0.25em;\n",
       "  box-sizing: border-box;\n",
       "  margin-bottom: 0.5em;\n",
       "  /* unfitted */\n",
       "  background-color: var(--sklearn-color-unfitted-level-0);\n",
       "}\n",
       "\n",
       "#sk-container-id-5 div.sk-estimator.fitted {\n",
       "  /* fitted */\n",
       "  background-color: var(--sklearn-color-fitted-level-0);\n",
       "}\n",
       "\n",
       "/* on hover */\n",
       "#sk-container-id-5 div.sk-estimator:hover {\n",
       "  /* unfitted */\n",
       "  background-color: var(--sklearn-color-unfitted-level-2);\n",
       "}\n",
       "\n",
       "#sk-container-id-5 div.sk-estimator.fitted:hover {\n",
       "  /* fitted */\n",
       "  background-color: var(--sklearn-color-fitted-level-2);\n",
       "}\n",
       "\n",
       "/* Specification for estimator info (e.g. \"i\" and \"?\") */\n",
       "\n",
       "/* Common style for \"i\" and \"?\" */\n",
       "\n",
       ".sk-estimator-doc-link,\n",
       "a:link.sk-estimator-doc-link,\n",
       "a:visited.sk-estimator-doc-link {\n",
       "  float: right;\n",
       "  font-size: smaller;\n",
       "  line-height: 1em;\n",
       "  font-family: monospace;\n",
       "  background-color: var(--sklearn-color-background);\n",
       "  border-radius: 1em;\n",
       "  height: 1em;\n",
       "  width: 1em;\n",
       "  text-decoration: none !important;\n",
       "  margin-left: 0.5em;\n",
       "  text-align: center;\n",
       "  /* unfitted */\n",
       "  border: var(--sklearn-color-unfitted-level-1) 1pt solid;\n",
       "  color: var(--sklearn-color-unfitted-level-1);\n",
       "}\n",
       "\n",
       ".sk-estimator-doc-link.fitted,\n",
       "a:link.sk-estimator-doc-link.fitted,\n",
       "a:visited.sk-estimator-doc-link.fitted {\n",
       "  /* fitted */\n",
       "  border: var(--sklearn-color-fitted-level-1) 1pt solid;\n",
       "  color: var(--sklearn-color-fitted-level-1);\n",
       "}\n",
       "\n",
       "/* On hover */\n",
       "div.sk-estimator:hover .sk-estimator-doc-link:hover,\n",
       ".sk-estimator-doc-link:hover,\n",
       "div.sk-label-container:hover .sk-estimator-doc-link:hover,\n",
       ".sk-estimator-doc-link:hover {\n",
       "  /* unfitted */\n",
       "  background-color: var(--sklearn-color-unfitted-level-3);\n",
       "  color: var(--sklearn-color-background);\n",
       "  text-decoration: none;\n",
       "}\n",
       "\n",
       "div.sk-estimator.fitted:hover .sk-estimator-doc-link.fitted:hover,\n",
       ".sk-estimator-doc-link.fitted:hover,\n",
       "div.sk-label-container:hover .sk-estimator-doc-link.fitted:hover,\n",
       ".sk-estimator-doc-link.fitted:hover {\n",
       "  /* fitted */\n",
       "  background-color: var(--sklearn-color-fitted-level-3);\n",
       "  color: var(--sklearn-color-background);\n",
       "  text-decoration: none;\n",
       "}\n",
       "\n",
       "/* Span, style for the box shown on hovering the info icon */\n",
       ".sk-estimator-doc-link span {\n",
       "  display: none;\n",
       "  z-index: 9999;\n",
       "  position: relative;\n",
       "  font-weight: normal;\n",
       "  right: .2ex;\n",
       "  padding: .5ex;\n",
       "  margin: .5ex;\n",
       "  width: min-content;\n",
       "  min-width: 20ex;\n",
       "  max-width: 50ex;\n",
       "  color: var(--sklearn-color-text);\n",
       "  box-shadow: 2pt 2pt 4pt #999;\n",
       "  /* unfitted */\n",
       "  background: var(--sklearn-color-unfitted-level-0);\n",
       "  border: .5pt solid var(--sklearn-color-unfitted-level-3);\n",
       "}\n",
       "\n",
       ".sk-estimator-doc-link.fitted span {\n",
       "  /* fitted */\n",
       "  background: var(--sklearn-color-fitted-level-0);\n",
       "  border: var(--sklearn-color-fitted-level-3);\n",
       "}\n",
       "\n",
       ".sk-estimator-doc-link:hover span {\n",
       "  display: block;\n",
       "}\n",
       "\n",
       "/* \"?\"-specific style due to the `<a>` HTML tag */\n",
       "\n",
       "#sk-container-id-5 a.estimator_doc_link {\n",
       "  float: right;\n",
       "  font-size: 1rem;\n",
       "  line-height: 1em;\n",
       "  font-family: monospace;\n",
       "  background-color: var(--sklearn-color-background);\n",
       "  border-radius: 1rem;\n",
       "  height: 1rem;\n",
       "  width: 1rem;\n",
       "  text-decoration: none;\n",
       "  /* unfitted */\n",
       "  color: var(--sklearn-color-unfitted-level-1);\n",
       "  border: var(--sklearn-color-unfitted-level-1) 1pt solid;\n",
       "}\n",
       "\n",
       "#sk-container-id-5 a.estimator_doc_link.fitted {\n",
       "  /* fitted */\n",
       "  border: var(--sklearn-color-fitted-level-1) 1pt solid;\n",
       "  color: var(--sklearn-color-fitted-level-1);\n",
       "}\n",
       "\n",
       "/* On hover */\n",
       "#sk-container-id-5 a.estimator_doc_link:hover {\n",
       "  /* unfitted */\n",
       "  background-color: var(--sklearn-color-unfitted-level-3);\n",
       "  color: var(--sklearn-color-background);\n",
       "  text-decoration: none;\n",
       "}\n",
       "\n",
       "#sk-container-id-5 a.estimator_doc_link.fitted:hover {\n",
       "  /* fitted */\n",
       "  background-color: var(--sklearn-color-fitted-level-3);\n",
       "}\n",
       "</style><div id=\"sk-container-id-5\" class=\"sk-top-container\"><div class=\"sk-text-repr-fallback\"><pre>DecisionTreeClassifier(max_depth=4)</pre><b>In a Jupyter environment, please rerun this cell to show the HTML representation or trust the notebook. <br />On GitHub, the HTML representation is unable to render, please try loading this page with nbviewer.org.</b></div><div class=\"sk-container\" hidden><div class=\"sk-item\"><div class=\"sk-estimator fitted sk-toggleable\"><input class=\"sk-toggleable__control sk-hidden--visually\" id=\"sk-estimator-id-7\" type=\"checkbox\" checked><label for=\"sk-estimator-id-7\" class=\"sk-toggleable__label fitted sk-toggleable__label-arrow\"><div><div>DecisionTreeClassifier</div></div><div><a class=\"sk-estimator-doc-link fitted\" rel=\"noreferrer\" target=\"_blank\" href=\"https://scikit-learn.org/1.6/modules/generated/sklearn.tree.DecisionTreeClassifier.html\">?<span>Documentation for DecisionTreeClassifier</span></a><span class=\"sk-estimator-doc-link fitted\">i<span>Fitted</span></span></div></label><div class=\"sk-toggleable__content fitted\"><pre>DecisionTreeClassifier(max_depth=4)</pre></div> </div></div></div></div>"
      ],
      "text/plain": [
       "DecisionTreeClassifier(max_depth=4)"
      ]
     },
     "execution_count": 114,
     "metadata": {},
     "output_type": "execute_result"
    }
   ],
   "source": [
    "from sklearn.tree import DecisionTreeClassifier\n",
    "clf_tree = DecisionTreeClassifier(criterion='gini', max_depth=4)\n",
    "clf_tree.fit(train_X, train_y)"
   ]
  },
  {
   "cell_type": "markdown",
   "id": "1820a7a6-29b8-4594-afa9-fc4c4c128084",
   "metadata": {},
   "source": [
    "So the `clf_tree` is the required Decision Tree."
   ]
  },
  {
   "cell_type": "markdown",
   "id": "fedf10ac-2617-42d3-b39a-9bdf1a24ff2a",
   "metadata": {},
   "source": [
    "**Q8. Compare the decision tree classifier and the logistic regression model performance. Explain which accuracy score can be used to find out which model is better in classifying *chd* from *no chd* cases.**"
   ]
  },
  {
   "cell_type": "markdown",
   "id": "9921e15f-04e8-4cc6-9754-bf2ed49c5fdb",
   "metadata": {},
   "source": [
    "**Ans:-**"
   ]
  },
  {
   "cell_type": "markdown",
   "id": "b4db078a-dad0-4738-a927-1bfed60220df",
   "metadata": {},
   "source": [
    "**Measuring Test Accuracy**"
   ]
  },
  {
   "cell_type": "code",
   "execution_count": 115,
   "id": "0f41db0b-563c-4488-a095-3ad890735b3d",
   "metadata": {},
   "outputs": [
    {
     "data": {
      "text/plain": [
       "np.float64(0.6567796610169492)"
      ]
     },
     "execution_count": 115,
     "metadata": {},
     "output_type": "execute_result"
    }
   ],
   "source": [
    "tree_predict = clf_tree.predict(test_X)\n",
    "metrics.roc_auc_score(test_y, tree_predict)"
   ]
  },
  {
   "cell_type": "code",
   "execution_count": 98,
   "id": "1e9ce1d2-17d3-4eae-8ef0-a848b33778e1",
   "metadata": {},
   "outputs": [
    {
     "name": "stdout",
     "output_type": "stream",
     "text": [
      "              precision    recall  f1-score   support\n",
      "\n",
      "           0       0.70      0.83      0.76        90\n",
      "           1       0.53      0.35      0.42        49\n",
      "\n",
      "    accuracy                           0.66       139\n",
      "   macro avg       0.62      0.59      0.59       139\n",
      "weighted avg       0.64      0.66      0.64       139\n",
      "\n"
     ]
    }
   ],
   "source": [
    "from sklearn.metrics import classification_report\n",
    "print(classification_report(y_test, tree_predict))"
   ]
  },
  {
   "cell_type": "markdown",
   "id": "cf0974a9-5d5c-45da-9042-607ef555659a",
   "metadata": {},
   "source": [
    "**Best Overall Model (Balanced):**\n",
    "Logistic Regression (cutoff = 0.44) :\n",
    "\n",
    "* Highest accuracy (0.77)\n",
    "\n",
    "* Best F1-score (0.67), meaning it balances precision and recall well\n",
    "\n",
    "* Strong precision (0.72) and good recall (0.62)\n",
    "\n",
    "**Best for Catching CHD Cases (High Recall):**\n",
    "Logistic Regression (cutoff = 0.13):\n",
    "\n",
    "* Recall = 0.97, almost all CHD cases detected\n",
    "\n",
    "* But low precision (many false positives) and lower accuracy\n",
    "\n",
    "**Decision Tree Model:**\n",
    "* Performs better than cost-based logistic in accuracy (0.64 vs 0.56)\n",
    "\n",
    "* But worse in:\n",
    "  * Recall for CHD = 1 (0.35)\n",
    "  * F 1-score (0.40)\n",
    "\n",
    "\n",
    "* Implies it's missing many CHD cases, which is risky in medical prediction tasks"
   ]
  },
  {
   "cell_type": "markdown",
   "id": "5ce5c584-17b7-4032-8fc7-f461ce7b68ad",
   "metadata": {},
   "source": [
    "**Q9. Plot the decision tree and find out the most important splitting criteria at the top node. Explain how the Gini index is derived at the top node of the decision tree classifer.**"
   ]
  },
  {
   "cell_type": "markdown",
   "id": "16181c70-1afd-4994-adfc-1852e4b8b91a",
   "metadata": {},
   "source": [
    "**Ans:-**"
   ]
  },
  {
   "cell_type": "markdown",
   "id": "5cff0dbe-2554-42b7-a94d-cb22c0e47bad",
   "metadata": {},
   "source": [
    "**Displaying the tree**"
   ]
  },
  {
   "cell_type": "code",
   "execution_count": 117,
   "id": "ff3491a1-3328-4cb0-82d1-719f0f05a965",
   "metadata": {
    "scrolled": true
   },
   "outputs": [
    {
     "data": {
      "image/png": "[encoded data removed]",
      "text/plain": [
       "<IPython.core.display.Image object>"
      ]
     },
     "execution_count": 117,
     "metadata": {},
     "output_type": "execute_result"
    }
   ],
   "source": [
    "from sklearn.tree import export_graphviz\n",
    "import pydotplus as pdot\n",
    "from IPython.display import Image\n",
    "\n",
    "# Export the tree into odt file\n",
    "export_graphviz(clf_tree, out_file=\"chd_tree1.odt\", feature_names=train_X.columns, filled=True)\n",
    "\n",
    "# Read and create the image file\n",
    "chd_tree_graph = pdot.graphviz.graph_from_dot_file('chd_tree1.odt')\n",
    "chd_tree_graph.write_jpg('chd_tree1.png')\n",
    "\n",
    "# Render the png file\n",
    "Image(filename='chd_tree1.png')"
   ]
  },
  {
   "cell_type": "markdown",
   "id": "4258b557-c97b-4672-bc67-e3976688406e",
   "metadata": {},
   "source": [
    "Based on the decision tree, the most important splitting criteria at the top node is age <= 49.5."
   ]
  },
  {
   "cell_type": "markdown",
   "id": "216eb64b-26b9-41cb-9c8d-07d2e27bf432",
   "metadata": {},
   "source": [
    "The Gini Index at the top node is derived as :-"
   ]
  },
  {
   "cell_type": "code",
   "execution_count": 118,
   "id": "dbf1bb87-c3b7-4c4b-8aba-9437070e2113",
   "metadata": {},
   "outputs": [
    {
     "name": "stdout",
     "output_type": "stream",
     "text": [
      "0.2778\n"
     ]
    }
   ],
   "source": [
    "gini_node_1 = 1 - pow(140/168, 2) - pow(28/168, 2)\n",
    "print(round(gini_node_1, 4))"
   ]
  },
  {
   "cell_type": "markdown",
   "id": "f8cc5ae6-b12b-49e9-9681-982526bd1094",
   "metadata": {},
   "source": [
    "**Q10. Find the optimal max_depth for decision tree classifier if Gini index is used as splitting criteria. Search possible depths ranging from 3 to 10 and use ROC and AUC as scoring to find the optimal max_depth.**"
   ]
  },
  {
   "cell_type": "markdown",
   "id": "7fbff3f3-0791-4db3-91b2-e3a7d7fd968b",
   "metadata": {},
   "source": [
    "**Ans:-**"
   ]
  },
  {
   "cell_type": "markdown",
   "id": "df0c5b64-029f-4600-90c2-6c01e5e239c3",
   "metadata": {},
   "source": [
    "**Finding Maximum Depth**"
   ]
  },
  {
   "cell_type": "code",
   "execution_count": 119,
   "id": "aef7952a-13ca-4796-9683-2ce0be3e7e30",
   "metadata": {},
   "outputs": [
    {
     "data": {
      "text/html": [
       "<style>#sk-container-id-6 {\n",
       "  /* Definition of color scheme common for light and dark mode */\n",
       "  --sklearn-color-text: #000;\n",
       "  --sklearn-color-text-muted: #666;\n",
       "  --sklearn-color-line: gray;\n",
       "  /* Definition of color scheme for unfitted estimators */\n",
       "  --sklearn-color-unfitted-level-0: #fff5e6;\n",
       "  --sklearn-color-unfitted-level-1: #f6e4d2;\n",
       "  --sklearn-color-unfitted-level-2: #ffe0b3;\n",
       "  --sklearn-color-unfitted-level-3: chocolate;\n",
       "  /* Definition of color scheme for fitted estimators */\n",
       "  --sklearn-color-fitted-level-0: #f0f8ff;\n",
       "  --sklearn-color-fitted-level-1: #d4ebff;\n",
       "  --sklearn-color-fitted-level-2: #b3dbfd;\n",
       "  --sklearn-color-fitted-level-3: cornflowerblue;\n",
       "\n",
       "  /* Specific color for light theme */\n",
       "  --sklearn-color-text-on-default-background: var(--sg-text-color, var(--theme-code-foreground, var(--jp-content-font-color1, black)));\n",
       "  --sklearn-color-background: var(--sg-background-color, var(--theme-background, var(--jp-layout-color0, white)));\n",
       "  --sklearn-color-border-box: var(--sg-text-color, var(--theme-code-foreground, var(--jp-content-font-color1, black)));\n",
       "  --sklearn-color-icon: #696969;\n",
       "\n",
       "  @media (prefers-color-scheme: dark) {\n",
       "    /* Redefinition of color scheme for dark theme */\n",
       "    --sklearn-color-text-on-default-background: var(--sg-text-color, var(--theme-code-foreground, var(--jp-content-font-color1, white)));\n",
       "    --sklearn-color-background: var(--sg-background-color, var(--theme-background, var(--jp-layout-color0, #111)));\n",
       "    --sklearn-color-border-box: var(--sg-text-color, var(--theme-code-foreground, var(--jp-content-font-color1, white)));\n",
       "    --sklearn-color-icon: #878787;\n",
       "  }\n",
       "}\n",
       "\n",
       "#sk-container-id-6 {\n",
       "  color: var(--sklearn-color-text);\n",
       "}\n",
       "\n",
       "#sk-container-id-6 pre {\n",
       "  padding: 0;\n",
       "}\n",
       "\n",
       "#sk-container-id-6 input.sk-hidden--visually {\n",
       "  border: 0;\n",
       "  clip: rect(1px 1px 1px 1px);\n",
       "  clip: rect(1px, 1px, 1px, 1px);\n",
       "  height: 1px;\n",
       "  margin: -1px;\n",
       "  overflow: hidden;\n",
       "  padding: 0;\n",
       "  position: absolute;\n",
       "  width: 1px;\n",
       "}\n",
       "\n",
       "#sk-container-id-6 div.sk-dashed-wrapped {\n",
       "  border: 1px dashed var(--sklearn-color-line);\n",
       "  margin: 0 0.4em 0.5em 0.4em;\n",
       "  box-sizing: border-box;\n",
       "  padding-bottom: 0.4em;\n",
       "  background-color: var(--sklearn-color-background);\n",
       "}\n",
       "\n",
       "#sk-container-id-6 div.sk-container {\n",
       "  /* jupyter's `normalize.less` sets `[hidden] { display: none; }`\n",
       "     but bootstrap.min.css set `[hidden] { display: none !important; }`\n",
       "     so we also need the `!important` here to be able to override the\n",
       "     default hidden behavior on the sphinx rendered scikit-learn.org.\n",
       "     See: https://github.com/scikit-learn/scikit-learn/issues/21755 */\n",
       "  display: inline-block !important;\n",
       "  position: relative;\n",
       "}\n",
       "\n",
       "#sk-container-id-6 div.sk-text-repr-fallback {\n",
       "  display: none;\n",
       "}\n",
       "\n",
       "div.sk-parallel-item,\n",
       "div.sk-serial,\n",
       "div.sk-item {\n",
       "  /* draw centered vertical line to link estimators */\n",
       "  background-image: linear-gradient(var(--sklearn-color-text-on-default-background), var(--sklearn-color-text-on-default-background));\n",
       "  background-size: 2px 100%;\n",
       "  background-repeat: no-repeat;\n",
       "  background-position: center center;\n",
       "}\n",
       "\n",
       "/* Parallel-specific style estimator block */\n",
       "\n",
       "#sk-container-id-6 div.sk-parallel-item::after {\n",
       "  content: \"\";\n",
       "  width: 100%;\n",
       "  border-bottom: 2px solid var(--sklearn-color-text-on-default-background);\n",
       "  flex-grow: 1;\n",
       "}\n",
       "\n",
       "#sk-container-id-6 div.sk-parallel {\n",
       "  display: flex;\n",
       "  align-items: stretch;\n",
       "  justify-content: center;\n",
       "  background-color: var(--sklearn-color-background);\n",
       "  position: relative;\n",
       "}\n",
       "\n",
       "#sk-container-id-6 div.sk-parallel-item {\n",
       "  display: flex;\n",
       "  flex-direction: column;\n",
       "}\n",
       "\n",
       "#sk-container-id-6 div.sk-parallel-item:first-child::after {\n",
       "  align-self: flex-end;\n",
       "  width: 50%;\n",
       "}\n",
       "\n",
       "#sk-container-id-6 div.sk-parallel-item:last-child::after {\n",
       "  align-self: flex-start;\n",
       "  width: 50%;\n",
       "}\n",
       "\n",
       "#sk-container-id-6 div.sk-parallel-item:only-child::after {\n",
       "  width: 0;\n",
       "}\n",
       "\n",
       "/* Serial-specific style estimator block */\n",
       "\n",
       "#sk-container-id-6 div.sk-serial {\n",
       "  display: flex;\n",
       "  flex-direction: column;\n",
       "  align-items: center;\n",
       "  background-color: var(--sklearn-color-background);\n",
       "  padding-right: 1em;\n",
       "  padding-left: 1em;\n",
       "}\n",
       "\n",
       "\n",
       "/* Toggleable style: style used for estimator/Pipeline/ColumnTransformer box that is\n",
       "clickable and can be expanded/collapsed.\n",
       "- Pipeline and ColumnTransformer use this feature and define the default style\n",
       "- Estimators will overwrite some part of the style using the `sk-estimator` class\n",
       "*/\n",
       "\n",
       "/* Pipeline and ColumnTransformer style (default) */\n",
       "\n",
       "#sk-container-id-6 div.sk-toggleable {\n",
       "  /* Default theme specific background. It is overwritten whether we have a\n",
       "  specific estimator or a Pipeline/ColumnTransformer */\n",
       "  background-color: var(--sklearn-color-background);\n",
       "}\n",
       "\n",
       "/* Toggleable label */\n",
       "#sk-container-id-6 label.sk-toggleable__label {\n",
       "  cursor: pointer;\n",
       "  display: flex;\n",
       "  width: 100%;\n",
       "  margin-bottom: 0;\n",
       "  padding: 0.5em;\n",
       "  box-sizing: border-box;\n",
       "  text-align: center;\n",
       "  align-items: start;\n",
       "  justify-content: space-between;\n",
       "  gap: 0.5em;\n",
       "}\n",
       "\n",
       "#sk-container-id-6 label.sk-toggleable__label .caption {\n",
       "  font-size: 0.6rem;\n",
       "  font-weight: lighter;\n",
       "  color: var(--sklearn-color-text-muted);\n",
       "}\n",
       "\n",
       "#sk-container-id-6 label.sk-toggleable__label-arrow:before {\n",
       "  /* Arrow on the left of the label */\n",
       "  content: \"▸\";\n",
       "  float: left;\n",
       "  margin-right: 0.25em;\n",
       "  color: var(--sklearn-color-icon);\n",
       "}\n",
       "\n",
       "#sk-container-id-6 label.sk-toggleable__label-arrow:hover:before {\n",
       "  color: var(--sklearn-color-text);\n",
       "}\n",
       "\n",
       "/* Toggleable content - dropdown */\n",
       "\n",
       "#sk-container-id-6 div.sk-toggleable__content {\n",
       "  max-height: 0;\n",
       "  max-width: 0;\n",
       "  overflow: hidden;\n",
       "  text-align: left;\n",
       "  /* unfitted */\n",
       "  background-color: var(--sklearn-color-unfitted-level-0);\n",
       "}\n",
       "\n",
       "#sk-container-id-6 div.sk-toggleable__content.fitted {\n",
       "  /* fitted */\n",
       "  background-color: var(--sklearn-color-fitted-level-0);\n",
       "}\n",
       "\n",
       "#sk-container-id-6 div.sk-toggleable__content pre {\n",
       "  margin: 0.2em;\n",
       "  border-radius: 0.25em;\n",
       "  color: var(--sklearn-color-text);\n",
       "  /* unfitted */\n",
       "  background-color: var(--sklearn-color-unfitted-level-0);\n",
       "}\n",
       "\n",
       "#sk-container-id-6 div.sk-toggleable__content.fitted pre {\n",
       "  /* unfitted */\n",
       "  background-color: var(--sklearn-color-fitted-level-0);\n",
       "}\n",
       "\n",
       "#sk-container-id-6 input.sk-toggleable__control:checked~div.sk-toggleable__content {\n",
       "  /* Expand drop-down */\n",
       "  max-height: 200px;\n",
       "  max-width: 100%;\n",
       "  overflow: auto;\n",
       "}\n",
       "\n",
       "#sk-container-id-6 input.sk-toggleable__control:checked~label.sk-toggleable__label-arrow:before {\n",
       "  content: \"▾\";\n",
       "}\n",
       "\n",
       "/* Pipeline/ColumnTransformer-specific style */\n",
       "\n",
       "#sk-container-id-6 div.sk-label input.sk-toggleable__control:checked~label.sk-toggleable__label {\n",
       "  color: var(--sklearn-color-text);\n",
       "  background-color: var(--sklearn-color-unfitted-level-2);\n",
       "}\n",
       "\n",
       "#sk-container-id-6 div.sk-label.fitted input.sk-toggleable__control:checked~label.sk-toggleable__label {\n",
       "  background-color: var(--sklearn-color-fitted-level-2);\n",
       "}\n",
       "\n",
       "/* Estimator-specific style */\n",
       "\n",
       "/* Colorize estimator box */\n",
       "#sk-container-id-6 div.sk-estimator input.sk-toggleable__control:checked~label.sk-toggleable__label {\n",
       "  /* unfitted */\n",
       "  background-color: var(--sklearn-color-unfitted-level-2);\n",
       "}\n",
       "\n",
       "#sk-container-id-6 div.sk-estimator.fitted input.sk-toggleable__control:checked~label.sk-toggleable__label {\n",
       "  /* fitted */\n",
       "  background-color: var(--sklearn-color-fitted-level-2);\n",
       "}\n",
       "\n",
       "#sk-container-id-6 div.sk-label label.sk-toggleable__label,\n",
       "#sk-container-id-6 div.sk-label label {\n",
       "  /* The background is the default theme color */\n",
       "  color: var(--sklearn-color-text-on-default-background);\n",
       "}\n",
       "\n",
       "/* On hover, darken the color of the background */\n",
       "#sk-container-id-6 div.sk-label:hover label.sk-toggleable__label {\n",
       "  color: var(--sklearn-color-text);\n",
       "  background-color: var(--sklearn-color-unfitted-level-2);\n",
       "}\n",
       "\n",
       "/* Label box, darken color on hover, fitted */\n",
       "#sk-container-id-6 div.sk-label.fitted:hover label.sk-toggleable__label.fitted {\n",
       "  color: var(--sklearn-color-text);\n",
       "  background-color: var(--sklearn-color-fitted-level-2);\n",
       "}\n",
       "\n",
       "/* Estimator label */\n",
       "\n",
       "#sk-container-id-6 div.sk-label label {\n",
       "  font-family: monospace;\n",
       "  font-weight: bold;\n",
       "  display: inline-block;\n",
       "  line-height: 1.2em;\n",
       "}\n",
       "\n",
       "#sk-container-id-6 div.sk-label-container {\n",
       "  text-align: center;\n",
       "}\n",
       "\n",
       "/* Estimator-specific */\n",
       "#sk-container-id-6 div.sk-estimator {\n",
       "  font-family: monospace;\n",
       "  border: 1px dotted var(--sklearn-color-border-box);\n",
       "  border-radius: 0.25em;\n",
       "  box-sizing: border-box;\n",
       "  margin-bottom: 0.5em;\n",
       "  /* unfitted */\n",
       "  background-color: var(--sklearn-color-unfitted-level-0);\n",
       "}\n",
       "\n",
       "#sk-container-id-6 div.sk-estimator.fitted {\n",
       "  /* fitted */\n",
       "  background-color: var(--sklearn-color-fitted-level-0);\n",
       "}\n",
       "\n",
       "/* on hover */\n",
       "#sk-container-id-6 div.sk-estimator:hover {\n",
       "  /* unfitted */\n",
       "  background-color: var(--sklearn-color-unfitted-level-2);\n",
       "}\n",
       "\n",
       "#sk-container-id-6 div.sk-estimator.fitted:hover {\n",
       "  /* fitted */\n",
       "  background-color: var(--sklearn-color-fitted-level-2);\n",
       "}\n",
       "\n",
       "/* Specification for estimator info (e.g. \"i\" and \"?\") */\n",
       "\n",
       "/* Common style for \"i\" and \"?\" */\n",
       "\n",
       ".sk-estimator-doc-link,\n",
       "a:link.sk-estimator-doc-link,\n",
       "a:visited.sk-estimator-doc-link {\n",
       "  float: right;\n",
       "  font-size: smaller;\n",
       "  line-height: 1em;\n",
       "  font-family: monospace;\n",
       "  background-color: var(--sklearn-color-background);\n",
       "  border-radius: 1em;\n",
       "  height: 1em;\n",
       "  width: 1em;\n",
       "  text-decoration: none !important;\n",
       "  margin-left: 0.5em;\n",
       "  text-align: center;\n",
       "  /* unfitted */\n",
       "  border: var(--sklearn-color-unfitted-level-1) 1pt solid;\n",
       "  color: var(--sklearn-color-unfitted-level-1);\n",
       "}\n",
       "\n",
       ".sk-estimator-doc-link.fitted,\n",
       "a:link.sk-estimator-doc-link.fitted,\n",
       "a:visited.sk-estimator-doc-link.fitted {\n",
       "  /* fitted */\n",
       "  border: var(--sklearn-color-fitted-level-1) 1pt solid;\n",
       "  color: var(--sklearn-color-fitted-level-1);\n",
       "}\n",
       "\n",
       "/* On hover */\n",
       "div.sk-estimator:hover .sk-estimator-doc-link:hover,\n",
       ".sk-estimator-doc-link:hover,\n",
       "div.sk-label-container:hover .sk-estimator-doc-link:hover,\n",
       ".sk-estimator-doc-link:hover {\n",
       "  /* unfitted */\n",
       "  background-color: var(--sklearn-color-unfitted-level-3);\n",
       "  color: var(--sklearn-color-background);\n",
       "  text-decoration: none;\n",
       "}\n",
       "\n",
       "div.sk-estimator.fitted:hover .sk-estimator-doc-link.fitted:hover,\n",
       ".sk-estimator-doc-link.fitted:hover,\n",
       "div.sk-label-container:hover .sk-estimator-doc-link.fitted:hover,\n",
       ".sk-estimator-doc-link.fitted:hover {\n",
       "  /* fitted */\n",
       "  background-color: var(--sklearn-color-fitted-level-3);\n",
       "  color: var(--sklearn-color-background);\n",
       "  text-decoration: none;\n",
       "}\n",
       "\n",
       "/* Span, style for the box shown on hovering the info icon */\n",
       ".sk-estimator-doc-link span {\n",
       "  display: none;\n",
       "  z-index: 9999;\n",
       "  position: relative;\n",
       "  font-weight: normal;\n",
       "  right: .2ex;\n",
       "  padding: .5ex;\n",
       "  margin: .5ex;\n",
       "  width: min-content;\n",
       "  min-width: 20ex;\n",
       "  max-width: 50ex;\n",
       "  color: var(--sklearn-color-text);\n",
       "  box-shadow: 2pt 2pt 4pt #999;\n",
       "  /* unfitted */\n",
       "  background: var(--sklearn-color-unfitted-level-0);\n",
       "  border: .5pt solid var(--sklearn-color-unfitted-level-3);\n",
       "}\n",
       "\n",
       ".sk-estimator-doc-link.fitted span {\n",
       "  /* fitted */\n",
       "  background: var(--sklearn-color-fitted-level-0);\n",
       "  border: var(--sklearn-color-fitted-level-3);\n",
       "}\n",
       "\n",
       ".sk-estimator-doc-link:hover span {\n",
       "  display: block;\n",
       "}\n",
       "\n",
       "/* \"?\"-specific style due to the `<a>` HTML tag */\n",
       "\n",
       "#sk-container-id-6 a.estimator_doc_link {\n",
       "  float: right;\n",
       "  font-size: 1rem;\n",
       "  line-height: 1em;\n",
       "  font-family: monospace;\n",
       "  background-color: var(--sklearn-color-background);\n",
       "  border-radius: 1rem;\n",
       "  height: 1rem;\n",
       "  width: 1rem;\n",
       "  text-decoration: none;\n",
       "  /* unfitted */\n",
       "  color: var(--sklearn-color-unfitted-level-1);\n",
       "  border: var(--sklearn-color-unfitted-level-1) 1pt solid;\n",
       "}\n",
       "\n",
       "#sk-container-id-6 a.estimator_doc_link.fitted {\n",
       "  /* fitted */\n",
       "  border: var(--sklearn-color-fitted-level-1) 1pt solid;\n",
       "  color: var(--sklearn-color-fitted-level-1);\n",
       "}\n",
       "\n",
       "/* On hover */\n",
       "#sk-container-id-6 a.estimator_doc_link:hover {\n",
       "  /* unfitted */\n",
       "  background-color: var(--sklearn-color-unfitted-level-3);\n",
       "  color: var(--sklearn-color-background);\n",
       "  text-decoration: none;\n",
       "}\n",
       "\n",
       "#sk-container-id-6 a.estimator_doc_link.fitted:hover {\n",
       "  /* fitted */\n",
       "  background-color: var(--sklearn-color-fitted-level-3);\n",
       "}\n",
       "</style><div id=\"sk-container-id-6\" class=\"sk-top-container\"><div class=\"sk-text-repr-fallback\"><pre>GridSearchCV(cv=10, estimator=DecisionTreeClassifier(),\n",
       "             param_grid=[{&#x27;criterion&#x27;: [&#x27;gini&#x27;, &#x27;entropy&#x27;],\n",
       "                          &#x27;max_depth&#x27;: range(2, 10)}],\n",
       "             scoring=&#x27;roc_auc&#x27;)</pre><b>In a Jupyter environment, please rerun this cell to show the HTML representation or trust the notebook. <br />On GitHub, the HTML representation is unable to render, please try loading this page with nbviewer.org.</b></div><div class=\"sk-container\" hidden><div class=\"sk-item sk-dashed-wrapped\"><div class=\"sk-label-container\"><div class=\"sk-label fitted sk-toggleable\"><input class=\"sk-toggleable__control sk-hidden--visually\" id=\"sk-estimator-id-8\" type=\"checkbox\" ><label for=\"sk-estimator-id-8\" class=\"sk-toggleable__label fitted sk-toggleable__label-arrow\"><div><div>GridSearchCV</div></div><div><a class=\"sk-estimator-doc-link fitted\" rel=\"noreferrer\" target=\"_blank\" href=\"https://scikit-learn.org/1.6/modules/generated/sklearn.model_selection.GridSearchCV.html\">?<span>Documentation for GridSearchCV</span></a><span class=\"sk-estimator-doc-link fitted\">i<span>Fitted</span></span></div></label><div class=\"sk-toggleable__content fitted\"><pre>GridSearchCV(cv=10, estimator=DecisionTreeClassifier(),\n",
       "             param_grid=[{&#x27;criterion&#x27;: [&#x27;gini&#x27;, &#x27;entropy&#x27;],\n",
       "                          &#x27;max_depth&#x27;: range(2, 10)}],\n",
       "             scoring=&#x27;roc_auc&#x27;)</pre></div> </div></div><div class=\"sk-parallel\"><div class=\"sk-parallel-item\"><div class=\"sk-item\"><div class=\"sk-label-container\"><div class=\"sk-label fitted sk-toggleable\"><input class=\"sk-toggleable__control sk-hidden--visually\" id=\"sk-estimator-id-9\" type=\"checkbox\" ><label for=\"sk-estimator-id-9\" class=\"sk-toggleable__label fitted sk-toggleable__label-arrow\"><div><div>best_estimator_: DecisionTreeClassifier</div></div></label><div class=\"sk-toggleable__content fitted\"><pre>DecisionTreeClassifier(max_depth=2)</pre></div> </div></div><div class=\"sk-serial\"><div class=\"sk-item\"><div class=\"sk-estimator fitted sk-toggleable\"><input class=\"sk-toggleable__control sk-hidden--visually\" id=\"sk-estimator-id-10\" type=\"checkbox\" ><label for=\"sk-estimator-id-10\" class=\"sk-toggleable__label fitted sk-toggleable__label-arrow\"><div><div>DecisionTreeClassifier</div></div><div><a class=\"sk-estimator-doc-link fitted\" rel=\"noreferrer\" target=\"_blank\" href=\"https://scikit-learn.org/1.6/modules/generated/sklearn.tree.DecisionTreeClassifier.html\">?<span>Documentation for DecisionTreeClassifier</span></a></div></label><div class=\"sk-toggleable__content fitted\"><pre>DecisionTreeClassifier(max_depth=2)</pre></div> </div></div></div></div></div></div></div></div></div>"
      ],
      "text/plain": [
       "GridSearchCV(cv=10, estimator=DecisionTreeClassifier(),\n",
       "             param_grid=[{'criterion': ['gini', 'entropy'],\n",
       "                          'max_depth': range(2, 10)}],\n",
       "             scoring='roc_auc')"
      ]
     },
     "execution_count": 119,
     "metadata": {},
     "output_type": "execute_result"
    }
   ],
   "source": [
    "from sklearn.model_selection import GridSearchCV\n",
    "\n",
    "tuned_parameters = [{'criterion': ['gini', 'entropy'], 'max_depth': range(2, 10)}]\n",
    "\n",
    "clf_tree = DecisionTreeClassifier()\n",
    "clf = GridSearchCV(clf_tree, tuned_parameters, cv=10, scoring='roc_auc')\n",
    "clf.fit(X_train, y_train)"
   ]
  },
  {
   "cell_type": "code",
   "execution_count": 120,
   "id": "7e529239-5ac9-4210-b4cc-93e7727d473c",
   "metadata": {},
   "outputs": [
    {
     "data": {
      "text/plain": [
       "{'criterion': 'gini', 'max_depth': 2}"
      ]
     },
     "execution_count": 120,
     "metadata": {},
     "output_type": "execute_result"
    }
   ],
   "source": [
    "clf.best_params_"
   ]
  },
  {
   "cell_type": "markdown",
   "id": "70c04858-3a50-424b-8a71-21f1a5117939",
   "metadata": {},
   "source": [
    "So the Optimal max_depth for decision tree classifier if Ginni index is used as splitting criteria is 2."
   ]
  },
  {
   "cell_type": "markdown",
   "id": "07efc951-74e0-4fe0-ac03-e5efebcefe62",
   "metadata": {},
   "source": [
    "Searching possible depths ranging from 3 to 10 ."
   ]
  },
  {
   "cell_type": "code",
   "execution_count": 1,
   "id": "4fdffe7a-07f8-4f2a-896f-528024912a63",
   "metadata": {},
   "outputs": [
    {
     "ename": "NameError",
     "evalue": "name 'DecisionTreeClassifier' is not defined",
     "output_type": "error",
     "traceback": [
      "\u001b[31m---------------------------------------------------------------------------\u001b[39m",
      "\u001b[31mNameError\u001b[39m                                 Traceback (most recent call last)",
      "\u001b[36mCell\u001b[39m\u001b[36m \u001b[39m\u001b[32mIn[1]\u001b[39m\u001b[32m, line 7\u001b[39m\n\u001b[32m      4\u001b[39m auc_scores = []\n\u001b[32m      6\u001b[39m \u001b[38;5;28;01mfor\u001b[39;00m depth \u001b[38;5;129;01min\u001b[39;00m depths:\n\u001b[32m----> \u001b[39m\u001b[32m7\u001b[39m     dt = \u001b[43mDecisionTreeClassifier\u001b[49m(criterion=\u001b[33m'\u001b[39m\u001b[33mgini\u001b[39m\u001b[33m'\u001b[39m, max_depth=depth, random_state=\u001b[32m42\u001b[39m)\n\u001b[32m      8\u001b[39m     dt.fit(train_X, train_y)\n\u001b[32m      9\u001b[39m     y_pred_proba = dt.predict_proba(test_X)[:, \u001b[32m1\u001b[39m]\n",
      "\u001b[31mNameError\u001b[39m: name 'DecisionTreeClassifier' is not defined"
     ]
    }
   ],
   "source": [
    "from sklearn.metrics import roc_auc_score\n",
    "# Store AUCs for different depths\n",
    "depths = list(range(3, 11))\n",
    "auc_scores = []\n",
    "\n",
    "for depth in depths:\n",
    "    dt = DecisionTreeClassifier(criterion='gini', max_depth=depth, random_state=42)\n",
    "    dt.fit(train_X, train_y)\n",
    "    y_pred_proba = dt.predict_proba(test_X)[:, 1]\n",
    "    \n",
    "    auc = roc_auc_score(test_y, y_pred_proba)\n",
    "    auc_scores.append(auc)\n",
    "    print(f\"Depth: {depth}, AUC: {auc:.4f}\")\n",
    "\n",
    "# Plot AUC vs Depth\n",
    "plt.figure(figsize=(8, 5))\n",
    "plt.plot(depths, auc_scores, marker='o', linestyle='-')\n",
    "plt.title(\"AUC Score vs max_depth (Decision Tree, Gini)\")\n",
    "plt.xlabel(\"max_depth\")\n",
    "plt.ylabel(\"ROC-AUC Score\")\n",
    "plt.grid(True)\n",
    "plt.show()"
   ]
  },
  {
   "cell_type": "markdown",
   "id": "fc326a40-10c8-49c9-bcd8-3a8bde54a12b",
   "metadata": {},
   "source": [
    "**EXTRAS**"
   ]
  },
  {
   "cell_type": "code",
   "execution_count": 122,
   "id": "dafa4d4d-6af3-4490-bd5f-4eee60daf53f",
   "metadata": {},
   "outputs": [],
   "source": [
    "Y_predTree_df = pd.DataFrame({\"actual\": test_y, \"predicted_prob\": tree_predict})"
   ]
  },
  {
   "cell_type": "code",
   "execution_count": 125,
   "id": "90c0b903-a6d0-48bc-b876-74d19ef6bc9e",
   "metadata": {},
   "outputs": [
    {
     "data": {
      "image/png": "[encoded data removed]",
      "text/plain": [
       "<Figure size 800x600 with 1 Axes>"
      ]
     },
     "metadata": {},
     "output_type": "display_data"
    }
   ],
   "source": [
    "fpr2, tpr2, thresholds2 = draw_roc(Y_predTree_df.actual, Y_predTree_df.predicted_prob)"
   ]
  },
  {
   "cell_type": "code",
   "execution_count": null,
   "id": "5d70e789-de2e-4c29-8dc3-c089e284765a",
   "metadata": {},
   "outputs": [],
   "source": []
  },
  {
   "cell_type": "code",
   "execution_count": null,
   "id": "120efe62-4b46-43c6-8cd2-3a7cdf7cdf62",
   "metadata": {},
   "outputs": [],
   "source": []
  },
  {
   "cell_type": "code",
   "execution_count": null,
   "id": "8cd5ef4f-f573-4ee4-b5ba-f7d14adf7fd3",
   "metadata": {},
   "outputs": [],
   "source": []
  },
  {
   "cell_type": "code",
   "execution_count": null,
   "id": "0a200842-c610-4121-bb3e-676bbc069062",
   "metadata": {},
   "outputs": [],
   "source": []
  }
 ],
 "metadata": {
  "kernelspec": {
   "display_name": "Python 3 (ipykernel)",
   "language": "python",
   "name": "python3"
  },
  "language_info": {
   "codemirror_mode": {
    "name": "ipython",
    "version": 3
   },
   "file_extension": ".py",
   "mimetype": "text/x-python",
   "name": "python",
   "nbconvert_exporter": "python",
   "pygments_lexer": "ipython3",
   "version": "3.13.2"
  }
 },
 "nbformat": 4,
 "nbformat_minor": 5
}
