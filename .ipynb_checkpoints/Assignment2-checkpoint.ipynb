{
 "cells": [
  {
   "cell_type": "markdown",
   "id": "0c3d6fe5-7452-47b3-a22d-9f8bc92fa3ca",
   "metadata": {},
   "source": [
    "**Q1. WAP to handle errors like not a string.**"
   ]
  },
  {
   "cell_type": "code",
   "execution_count": 7,
   "id": "9b95ce53-6959-4714-b914-23138e0c7dae",
   "metadata": {},
   "outputs": [
    {
     "name": "stdout",
     "output_type": "stream",
     "text": [
      "It is not a string!\n",
      "It is not a string!\n",
      "It is a string!\n"
     ]
    }
   ],
   "source": [
    "def check_str(s):\n",
    "    try:\n",
    "        if not isinstance(s, str):\n",
    "            raise TypeError(\"It is not a string!\")\n",
    "        else:\n",
    "            print(\"It is a string!\")\n",
    "    except TypeError as e:\n",
    "        print(e)\n",
    "\n",
    "check_str(69)\n",
    "check_str(6.79)    \n",
    "check_str(\"CDAC!!\")"
   ]
  },
  {
   "cell_type": "markdown",
   "id": "3f683839-da20-42a1-8b32-bca2d4e4d857",
   "metadata": {},
   "source": [
    "**Q2. WAP to merge content of two text files.**"
   ]
  },
  {
   "cell_type": "code",
   "execution_count": 16,
   "id": "d914ba14-3ac6-424e-9dfa-9e6f681d2f1f",
   "metadata": {},
   "outputs": [
    {
     "name": "stdout",
     "output_type": "stream",
     "text": [
      "I am the contents of file 1.\n",
      "I am the contents of file 2.\n"
     ]
    }
   ],
   "source": [
    "with open(\"file1.txt\", \"w\") as f1:\n",
    "    f1.write(\"I am the contents of file 1.\")\n",
    "\n",
    "with open(\"file2.txt\", \"w\") as f2:\n",
    "    f2.write(\"I am the contents of file 2.\")\n",
    "\n",
    "contents1 = \"\"\n",
    "contents2 = \"\"\n",
    "\n",
    "with open(\"file1.txt\", \"r\") as fn1:\n",
    "    contents1 = fn1.read()\n",
    "\n",
    "with open(\"file2.txt\", \"r\") as fn2:\n",
    "    contents2 = fn2.read()\n",
    "\n",
    "with open(\"Merged File.txt\", \"w\") as md:\n",
    "    md.write(contents1)\n",
    "\n",
    "with open(\"Merged File.txt\", \"a\") as md:\n",
    "    md.write(\"\\n\")\n",
    "\n",
    "with open(\"Merged File.txt\", \"a\") as md:\n",
    "    md.write(contents2)\n",
    "\n",
    "with open(\"Merged File.txt\", \"r\") as md:\n",
    "    print(md.read())"
   ]
  },
  {
   "cell_type": "markdown",
   "id": "56818e73-eb02-4092-bbcf-9f9ef3bfbd6f",
   "metadata": {},
   "source": [
    "**Q3. WAP to add 5 lines to file than append 3 more line to it and counts the words, spaces, digits.**"
   ]
  },
  {
   "cell_type": "code",
   "execution_count": 18,
   "id": "50cc1d2f-8966-498e-b66f-b73f0c3e35bd",
   "metadata": {},
   "outputs": [
    {
     "name": "stdout",
     "output_type": "stream",
     "text": [
      "Python is a really strong, crisp, precise and easy-to understand language.\n",
      "File handling is real easy with Python.\n",
      "I really enjoy coding with Python.\n",
      "I have learnt about json files, binary files and txt files\n",
      "I look forward to learn more and more in Python.\n",
      "\n",
      "Python is a really strong, crisp, precise and easy-to understand language.\n",
      "File handling is real easy with Python.\n",
      "I really enjoy coding with Python.\n",
      "I have learnt about json files, binary files and txt files\n",
      "I look forward to learn more and more in Python.\n",
      "Python is really helpful in Data Science and Machine Learning.\n",
      "The 4 library files Pandas, Numpy, Matplotlib, scikit-learn are helpful to learn Machine Learning.\n",
      "I look forward to learn them as soon as possible.\n",
      "\n",
      "Number of words in the file:  79\n",
      "Number of digits in the file:  1\n",
      "Number of whitespaces in the file:  78\n"
     ]
    }
   ],
   "source": [
    "with open(\"PythonCool.txt\", \"w\") as pth:\n",
    "    pth.write(\"Python is a really strong, crisp, precise and easy-to understand language.\\nFile handling is real easy with Python.\\nI really enjoy coding with Python.\\nI have learnt about json files, binary files and txt files\\nI look forward to learn more and more in Python.\")\n",
    "\n",
    "with open(\"PythonCool.txt\", \"r\") as f:\n",
    "    t = f.read()\n",
    "    print(t)\n",
    "\n",
    "with open(\"PythonCool.txt\", \"a\") as pth:\n",
    "    pth.write(\"\\nPython is really helpful in Data Science and Machine Learning.\\nThe 4 library files Pandas, Numpy, Matplotlib, scikit-learn are helpful to learn Machine Learning.\\nI look forward to learn them as soon as possible.\")\n",
    "\n",
    "print()\n",
    "\n",
    "with open(\"PythonCool.txt\", \"r\") as f:\n",
    "    t = f.read()\n",
    "    print(t)\n",
    "\n",
    "print()\n",
    "\n",
    "def count_words(filename):\n",
    "    with open(filename, \"r\") as file:\n",
    "        text = file.read().lower()\n",
    "        punclist = [\".\", \",\", \"?\", \"!\", \":\", \";\"]\n",
    "        for ch in text:\n",
    "            if ch in punclist:\n",
    "                text = text.replace(ch, ' ')\n",
    "        words = text.split()\n",
    "        return len(words)\n",
    "\n",
    "def count_digits(filename):\n",
    "    dig_count = 0\n",
    "    with open(filename, \"r\") as file:\n",
    "        text = file.read()\n",
    "        dig_count = sum(1 for ch in text if ch.isdigit())\n",
    "        return dig_count\n",
    "\n",
    "def count_spaces(filename):\n",
    "    spc_count = 0\n",
    "    with open(filename, \"r\") as file:\n",
    "        text = file.read()\n",
    "        spc_count = sum(1 for ch in text if ch.isspace())\n",
    "        return spc_count\n",
    "\n",
    "print(\"Number of words in the file: \", count_words(\"PythonCool.txt\"))\n",
    "print(\"Number of digits in the file: \", count_digits(\"PythonCool.txt\"))\n",
    "print(\"Number of whitespaces in the file: \", count_spaces(\"PythonCool.txt\"))"
   ]
  },
  {
   "cell_type": "markdown",
   "id": "8000acc7-f8f7-44a5-9d3a-980f05a0291f",
   "metadata": {},
   "source": [
    "**Q4. WAP to find out common movies using 2 sets.**"
   ]
  },
  {
   "cell_type": "code",
   "execution_count": 9,
   "id": "0724e8f8-3c0c-4064-94f2-c274160efe7a",
   "metadata": {},
   "outputs": [
    {
     "name": "stdout",
     "output_type": "stream",
     "text": [
      "{'Oblivion', 'Inception'}\n"
     ]
    }
   ],
   "source": [
    "movies1 = set([\"Avengers\", \"Inception\", \"Final Destination\", \"Oblivion\"])\n",
    "movies2 = set([\"Inception\", \"Oblivion\", \"How to Train Your Dragon\", \"Harry Potter\"])\n",
    "\n",
    "common_movies = movies1.intersection(movies2)\n",
    "print(common_movies)"
   ]
  },
  {
   "cell_type": "markdown",
   "id": "ed59653b-fd67-4f76-8a6e-f2b6bd3998c5",
   "metadata": {},
   "source": [
    "**Q5. WAP to print name age and qualification using f string.**"
   ]
  },
  {
   "cell_type": "code",
   "execution_count": 19,
   "id": "515c51d7-f3c1-438a-ae72-e644157eab4f",
   "metadata": {},
   "outputs": [
    {
     "name": "stdin",
     "output_type": "stream",
     "text": [
      "Enter your name:  Soubhik Raha\n",
      "Enter your age:  18\n",
      "Enter your qualification:  B.Tech\n"
     ]
    },
    {
     "name": "stdout",
     "output_type": "stream",
     "text": [
      "Name: Soubhik Raha\n",
      "Age: 18\n",
      "Qualifications: B.Tech\n"
     ]
    }
   ],
   "source": [
    "name = input(\"Enter your name: \")\n",
    "age = int(input(\"Enter your age: \"))\n",
    "quali = input(\"Enter your qualification: \")\n",
    "\n",
    "print(f\"Name: {name}\\nAge: {age}\\nQualifications: {quali}\")"
   ]
  },
  {
   "cell_type": "markdown",
   "id": "15b7b1d4-f6f3-4b7c-ac1f-bf8b9452be11",
   "metadata": {},
   "source": [
    "**Q6.WAP to check whether a string starts with a particular substring.**"
   ]
  },
  {
   "cell_type": "code",
   "execution_count": 11,
   "id": "62a0edc3-adf8-42b6-b3f4-b7e475e3d7dc",
   "metadata": {},
   "outputs": [
    {
     "name": "stdin",
     "output_type": "stream",
     "text": [
      "Enter a string:  Life Equation\n",
      "Enter the substring you wish to check for:  Life\n"
     ]
    },
    {
     "name": "stdout",
     "output_type": "stream",
     "text": [
      "Life Equation starts with Life.\n"
     ]
    }
   ],
   "source": [
    "s1 = input(\"Enter a string: \")\n",
    "subs = input(\"Enter the substring you wish to check for: \")\n",
    "\n",
    "if s1.startswith(subs):\n",
    "    print(f\"{s1} starts with {subs}.\")\n",
    "else:\n",
    "    print(f\"{s1} does not start with {subs}.\")"
   ]
  },
  {
   "cell_type": "markdown",
   "id": "e0fc6e68-c8d2-48f6-9c67-2723924db183",
   "metadata": {},
   "source": [
    "**Q7. WAP to find the first and last occurrence of ‘o’ in the word Mesopotamia.**"
   ]
  },
  {
   "cell_type": "code",
   "execution_count": 15,
   "id": "fae69585-6c13-4b76-950d-683928d213b3",
   "metadata": {},
   "outputs": [
    {
     "name": "stdout",
     "output_type": "stream",
     "text": [
      "Built-in Methods\n",
      "First occurrence of 'o':  3\n",
      "Last occurrence of 'o':  5\n",
      "\n",
      "Custom Functions\n",
      "First occurrence of 'o':  3\n",
      "Last occurrence of 'o':  5\n"
     ]
    }
   ],
   "source": [
    "word = \"Mesopotamia\"\n",
    "\n",
    "# Using Built-in Methods\n",
    "print(\"Built-in Methods\")\n",
    "print(\"First occurrence of 'o': \", word.find('o'))\n",
    "print(\"Last occurrence of 'o': \", word.rfind('o'))\n",
    "print()\n",
    "# Using custom functions\n",
    "def first_occurrence(word, c):\n",
    "    for i in range(len(word)):\n",
    "        if word[i] == c:\n",
    "            return i\n",
    "    return -1\n",
    "\n",
    "def last_occurrence(word, c):\n",
    "    i = len(word) - 1\n",
    "    while i >= 0:\n",
    "        if word[i] == c:\n",
    "            return i\n",
    "        i -= 1\n",
    "    return -1\n",
    "\n",
    "print(\"Custom Functions\")\n",
    "print(\"First occurrence of 'o': \", first_occurrence(word, 'o'))\n",
    "print(\"Last occurrence of 'o': \", last_occurrence(word, 'o'))"
   ]
  },
  {
   "cell_type": "code",
   "execution_count": null,
   "id": "9b8b8aaa-ef70-4413-8917-70d74335a042",
   "metadata": {},
   "outputs": [],
   "source": []
  }
 ],
 "metadata": {
  "kernelspec": {
   "display_name": "Python 3 (ipykernel)",
   "language": "python",
   "name": "python3"
  },
  "language_info": {
   "codemirror_mode": {
    "name": "ipython",
    "version": 3
   },
   "file_extension": ".py",
   "mimetype": "text/x-python",
   "name": "python",
   "nbconvert_exporter": "python",
   "pygments_lexer": "ipython3",
   "version": "3.13.2"
  }
 },
 "nbformat": 4,
 "nbformat_minor": 5
}
