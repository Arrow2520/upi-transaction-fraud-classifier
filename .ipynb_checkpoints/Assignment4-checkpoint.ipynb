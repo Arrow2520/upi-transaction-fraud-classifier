{
 "cells": [
  {
   "cell_type": "markdown",
   "id": "ff2d3b8b-157f-41e8-8eb8-b01f3e742b98",
   "metadata": {},
   "source": [
    "**Q1.**\n",
    "\n",
    "`x = [1, 2, 3]`\n",
    "\n",
    "`y = x`\n",
    "\n",
    "`x.append(4)`\n",
    "\n",
    "`print(y)`\n",
    "\n",
    "**What will be printed and why?**"
   ]
  },
  {
   "cell_type": "markdown",
   "id": "fa62b992-7682-4506-a8e7-dee68f3987f5",
   "metadata": {},
   "source": [
    "**Ans:-** It will print `[1, 2, 3, 4]` because the assignment `y = x` will create a deep copy. So any changes made in x will be reflected in y and vice-versa."
   ]
  },
  {
   "cell_type": "raw",
   "id": "c4b8d342-52dd-49d8-8ced-ae68dc5b23fc",
   "metadata": {},
   "source": []
  },
  {
   "cell_type": "markdown",
   "id": "3d338a3a-951d-4473-ad1d-c0f63606eda6",
   "metadata": {},
   "source": [
    "**Q2.**\n",
    "\n",
    "`def func(a, b=[]):`\n",
    "    \n",
    "`      b.append(a)`\n",
    "    \n",
    "`      return b`\n",
    "\n",
    "`print(func(1))`\n",
    "\n",
    "`print(func(2))`\n",
    "\n",
    "**What is the output of each function call? Why?**"
   ]
  },
  {
   "cell_type": "markdown",
   "id": "dbdf4636-52c7-4b4a-b157-ba67d657f04d",
   "metadata": {},
   "source": [
    "**Ans:-** \n",
    "\n",
    "Output:\n",
    "\n",
    "`[1]`\n",
    "\n",
    "`[1, 2]`\n",
    "\n",
    "In here after the `b=[]` is evaluated only the first time the function is called after which it prints `[1]`. In the second function call, we will have `b=[1]` unlesss we pass b as something during the function call. Hence we get the second output as `[1, 2]`."
   ]
  },
  {
   "cell_type": "markdown",
   "id": "d06cdc6b-9479-40e6-9275-16bca0f26f4b",
   "metadata": {},
   "source": [
    "**Q3.**\n",
    "\n",
    "`print(\"a\" * 3)`\n",
    "\n",
    "`print([1, 2] * 2)`\n",
    "\n",
    "**What do the print statements return?**"
   ]
  },
  {
   "cell_type": "markdown",
   "id": "f451a5f4-20ea-415f-b58c-41f37dc55f3b",
   "metadata": {},
   "source": [
    "**Ans:-**\n",
    "\n",
    "Output:-\n",
    "\n",
    "`aaa`\n",
    "\n",
    "`[1, 2, 1, 2]`"
   ]
  },
  {
   "cell_type": "markdown",
   "id": "a853a25b-a168-4b09-9223-7162a333c7cc",
   "metadata": {},
   "source": [
    "**Q4.**\n",
    "\n",
    "`a = 10`\n",
    "\n",
    "`def change(x):`\n",
    "\n",
    "`    x = x + 5`\n",
    "\n",
    "`    print(x)`\n",
    "\n",
    "`change(a)`\n",
    "\n",
    "`print(a)`\n",
    "\n",
    "**What will this code output? Why?**"
   ]
  },
  {
   "cell_type": "markdown",
   "id": "87d09ef2-c95b-46d3-a03d-14a18ce38a76",
   "metadata": {},
   "source": [
    "**Ans:-**\n",
    "\n",
    "Output:-\n",
    "\n",
    "`15`\n",
    "\n",
    "`10`\n",
    "\n",
    "The first output is given by the method `change(a)` where the variable `a` gets changed inside the method to become 15.\n",
    "For the second output, the actual value of `a` is kept the same as in the method only a copy of the variable `a` is passed so it gives as 10. And an int data type variable is immutable."
   ]
  },
  {
   "cell_type": "markdown",
   "id": "3eaecce8-c6b1-4416-83bd-4b47ab497289",
   "metadata": {},
   "source": [
    "**Q5.**\n",
    "\n",
    "`x = \"Python\"`\n",
    "\n",
    "`print(x[::-1])`\n",
    "\n",
    "**What is printed? How does slicing work here?**"
   ]
  },
  {
   "cell_type": "markdown",
   "id": "c66f158c-77dc-4a0f-89ad-acb4f495f4ff",
   "metadata": {},
   "source": [
    "**Ans:-**\n",
    "\n",
    "Output:-\n",
    "\n",
    "nohtyP\n",
    "\n",
    "In here since the step value is -1 the slicing starts from the last index and starts getting the characters from the last of the string `x`."
   ]
  },
  {
   "cell_type": "markdown",
   "id": "7b0916f7-e14b-44c6-943d-2712c2eb3478",
   "metadata": {},
   "source": [
    "**Q6.**\n",
    "\n",
    "`a = [1, 2, 3]`\n",
    "\n",
    "`b = a[:]`\n",
    "\n",
    "`a.append(4)`\n",
    "\n",
    "`print(b)`\n",
    "\n",
    "**What does this print? Why is b unaffected?**"
   ]
  },
  {
   "cell_type": "markdown",
   "id": "864d83e0-4373-462b-9c65-d8ec9af21c00",
   "metadata": {},
   "source": [
    "**Ans:-**\n",
    "\n",
    "Output:-\n",
    "\n",
    "`[1, 2, 3]`\n",
    "\n",
    "Here `b` is unaffected because by the assignment `b = a[:]` we are just assigning the values of `a` in the form of a list to `b`, i.e., a shallow copy is created."
   ]
  },
  {
   "cell_type": "markdown",
   "id": "6e49327c-dff5-47c3-b792-e21e5a795c6b",
   "metadata": {},
   "source": [
    "**Q7.**\n",
    "\n",
    "`def func(x=[]):`\n",
    "\n",
    "`    x.append(1)`\n",
    "\n",
    "`    return x`\n",
    "\n",
    "`print(func())`\n",
    "\n",
    "`print(func())`\n",
    "\n",
    "**What happens across function calls? Explain the behavior.**"
   ]
  },
  {
   "cell_type": "markdown",
   "id": "60256014-6feb-423d-8d28-e7c7a916025d",
   "metadata": {},
   "source": [
    "**Ans:-**\n",
    "\n",
    "Output:-\n",
    "\n",
    "`[1]`\n",
    "\n",
    "`[1, 1]`\n",
    "\n",
    "Here in each function call the list `x` in the arguments of the method gets updated as `x` is not being passed explicitly in the function calls. Hence we get the above output."
   ]
  },
  {
   "cell_type": "markdown",
   "id": "91d1e693-5dac-4500-afce-b3a8601900a5",
   "metadata": {},
   "source": [
    "**Q8.**\n",
    "\n",
    "`for i in range(3):`\n",
    "\n",
    "`   print(i)`\n",
    "\n",
    "`else:`\n",
    "\n",
    "`   print(\"Done\")`\n",
    "\n",
    "**Will \"Done\" print? If yes, when?**"
   ]
  },
  {
   "cell_type": "markdown",
   "id": "6d08a59e-f099-4e56-91e5-6f4eaf826656",
   "metadata": {},
   "source": [
    "**Ans:-**\n",
    "\n",
    "Yes \"Done\" will be printed.\n",
    "\n",
    "Output:\n",
    "\n",
    "`0`\n",
    "\n",
    "`1`\n",
    "\n",
    "`2`\n",
    "\n",
    "`Done`\n",
    "\n",
    "It is printed after the execution of the for loop.\n",
    "\n",
    "In this question we see how Python as a language has a much more easier syntax than other languages like Java, C++, where we cannot write an `else` block without first preceding it with an `if` block."
   ]
  },
  {
   "cell_type": "markdown",
   "id": "0a3d269e-4164-4152-b6b2-460577da87e5",
   "metadata": {},
   "source": [
    "**Q9.**\n",
    "\n",
    "`x = [1, 2, 3]`\n",
    "\n",
    "`print(x is x[:])`\n",
    "\n",
    "**What will this output and why?**"
   ]
  },
  {
   "cell_type": "markdown",
   "id": "c8b4dbfd-517c-4cb9-84f2-8a19a6a9e083",
   "metadata": {},
   "source": [
    "**Ans:-**\n",
    "\n",
    "Output:\n",
    "\n",
    "`False`\n",
    "\n",
    "This is because `x[:]` creates a shallow copy of the list x which is not same at all to the actual list `x`. Hence it gives the output as `False`."
   ]
  },
  {
   "cell_type": "markdown",
   "id": "85bc77ce-b967-4526-a69f-ff01313ec0e9",
   "metadata": {},
   "source": [
    "**Q10.**\n",
    "\n",
    "`a = \"Hello\"`\n",
    "\n",
    "`b = \"Hello\"`\n",
    "\n",
    "`print(a is b)`\n",
    "\n",
    "**Why might this return `True`?**"
   ]
  },
  {
   "cell_type": "markdown",
   "id": "70ee2566-a2c4-48e0-a618-2fad949ddea2",
   "metadata": {},
   "source": [
    "**Ans:-**\n",
    "\n",
    "Output:\n",
    "\n",
    "`True`\n",
    "\n",
    "In here we get it as `True` because Python stores and resues simple strings as it is and lets it to be directly compared using the keyword is. As compared to other programming language where strings are treated as character arrays."
   ]
  },
  {
   "cell_type": "markdown",
   "id": "31c8adcb-f661-49a9-8b4d-f2bda9f860f9",
   "metadata": {},
   "source": [
    "**Q11.**\n",
    "\n",
    "`import numpy as np`\n",
    "\n",
    "`a = np.array([1, 2, 3])`\n",
    "\n",
    "`print(a * 2)`\n",
    "\n",
    "**What is the output? How does NumPy handle element-wise operations?**"
   ]
  },
  {
   "cell_type": "markdown",
   "id": "234c9c90-f674-4661-a932-2c02426e2972",
   "metadata": {},
   "source": [
    "**Ans:-**\n",
    "\n",
    "Output:-\n",
    "\n",
    "`[2, 4, 6]`\n",
    "\n",
    "A NumPy array is optimised in such a way to handle element-wise operations so that each element get directly multiplied as compared to a normal List where the output just would have been `[1, 2, 3, 1, 2, 3]`."
   ]
  },
  {
   "cell_type": "markdown",
   "id": "37d76c03-7dd0-4034-9444-0d620c952361",
   "metadata": {},
   "source": [
    "**Q12.**\n",
    "\n",
    "`arr = np.array([[1, 2], [3, 4]])`\n",
    "\n",
    "`print(arr.T)`\n",
    "\n",
    "**What is printed? Explain the transpose operation.**"
   ]
  },
  {
   "cell_type": "markdown",
   "id": "47510d1d-0736-46f3-9633-ca2c01780dfe",
   "metadata": {},
   "source": [
    "**Ans:-**\n",
    "\n",
    "Output:-\n",
    "\n",
    "`[[1, 3],`\n",
    "\n",
    "` [2, 4]]`\n",
    "\n",
    "The transpose operation interchanges the rows to columns and vice-versa."
   ]
  },
  {
   "cell_type": "markdown",
   "id": "31086555-5184-4977-b618-da0ab817a122",
   "metadata": {},
   "source": [
    "**Q13.**\n",
    "\n",
    "`a = np.array([1, 2, 3])`\n",
    "\n",
    "`b = a`\n",
    "\n",
    "`a[0] = 10`\n",
    "\n",
    "`print(b)`\n",
    "\n",
    "**What is the output of b and why?**"
   ]
  },
  {
   "cell_type": "markdown",
   "id": "80181272-4418-4000-8925-9e00083add3c",
   "metadata": {},
   "source": [
    "**Ans:-**\n",
    "\n",
    "`[10, 2, 3]`\n",
    "\n",
    "Because here the assignment `b = a` we get a deep copy where any change in either of the arrays elements will be reflected on the other too."
   ]
  },
  {
   "cell_type": "markdown",
   "id": "42e2a2eb-e401-4dff-a7fe-72d576a1e0a8",
   "metadata": {},
   "source": [
    "**Q14.**\n",
    "\n",
    "`x = np.array([1, 2, 3])`\n",
    "\n",
    "`y = x.copy()`\n",
    "\n",
    "`x[0] = 99`\n",
    "\n",
    "`print(y)`\n",
    "\n",
    "**Does changing x affect y? Why?**"
   ]
  },
  {
   "cell_type": "markdown",
   "id": "0fe47e17-7251-4ef1-97bc-d31154aa4abc",
   "metadata": {},
   "source": [
    "**Ans:-**\n",
    "\n",
    "Output:-\n",
    "\n",
    "`[1, 2, 3]`\n",
    "\n",
    "No changing `x` doesn't affect `y` because the statement `y = x.copy()` will create a shallow copy, where changing one doesn't affect the other."
   ]
  }
 ],
 "metadata": {
  "kernelspec": {
   "display_name": "Python 3 (ipykernel)",
   "language": "python",
   "name": "python3"
  },
  "language_info": {
   "codemirror_mode": {
    "name": "ipython",
    "version": 3
   },
   "file_extension": ".py",
   "mimetype": "text/x-python",
   "name": "python",
   "nbconvert_exporter": "python",
   "pygments_lexer": "ipython3",
   "version": "3.13.2"
  }
 },
 "nbformat": 4,
 "nbformat_minor": 5
}
