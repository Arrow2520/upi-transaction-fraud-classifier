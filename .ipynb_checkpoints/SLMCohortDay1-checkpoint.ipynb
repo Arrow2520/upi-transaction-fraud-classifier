{
 "cells": [
  {
   "cell_type": "raw",
   "id": "4f8ae6a9-c65f-4eed-8cc0-921746385aac",
   "metadata": {},
   "source": [
    "Question 1 : Write a function that counts the number of times a specific word appears in a given string.\n",
    "             Example: count how many times \"Emma\" appears in \"Emma is a good developer. Emma is a writer\"."
   ]
  },
  {
   "cell_type": "code",
   "execution_count": 3,
   "id": "0a0000a8-87d0-40cb-a3a7-eb768c193503",
   "metadata": {},
   "outputs": [],
   "source": [
    "def count_wrd_freq(string, word):\n",
    "    for ch in ['.', '?', ',', '!', ';', ':']:\n",
    "        string = string.replace(ch, '')\n",
    "    words = string.split()\n",
    "    count = 0\n",
    "    for w in words:\n",
    "        if w == word:\n",
    "            count += 1\n",
    "    return count"
   ]
  },
  {
   "cell_type": "markdown",
   "id": "b4493d26-47f0-4853-ab50-94ed30c4e9cf",
   "metadata": {},
   "source": []
  },
  {
   "cell_type": "markdown",
   "id": "5ab399ed-d5ae-44d8-8067-0cc1452d5e75",
   "metadata": {},
   "source": [
    "Question 2 : Write a program that takes a list of numbers and prints only those divisible by 5."
   ]
  },
  {
   "cell_type": "code",
   "execution_count": 4,
   "id": "70a0c330-e005-413e-bff8-910cca3e3c18",
   "metadata": {},
   "outputs": [],
   "source": [
    "def nums_divisible_by_5(nums):\n",
    "    return [i for i in nums if i % 5 == 0]"
   ]
  },
  {
   "cell_type": "code",
   "execution_count": null,
   "id": "d63d8b26-b24b-4e95-bb15-89777f47990c",
   "metadata": {},
   "outputs": [],
   "source": []
  }
 ],
 "metadata": {
  "kernelspec": {
   "display_name": "Python 3 (ipykernel)",
   "language": "python",
   "name": "python3"
  },
  "language_info": {
   "codemirror_mode": {
    "name": "ipython",
    "version": 3
   },
   "file_extension": ".py",
   "mimetype": "text/x-python",
   "name": "python",
   "nbconvert_exporter": "python",
   "pygments_lexer": "ipython3",
   "version": "3.13.2"
  }
 },
 "nbformat": 4,
 "nbformat_minor": 5
}
