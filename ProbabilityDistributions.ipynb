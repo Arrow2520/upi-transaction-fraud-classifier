{
 "cells": [
  {
   "cell_type": "code",
   "execution_count": 74,
   "id": "3c60a5ce-b07c-4516-be44-fda793c879a9",
   "metadata": {},
   "outputs": [],
   "source": [
    "import pandas as pd\n",
    "import numpy as np\n",
    "import matplotlib.pyplot as plt\n",
    "from scipy import stats\n",
    "import seaborn as sn\n",
    "import math"
   ]
  },
  {
   "cell_type": "markdown",
   "id": "5c669604-bb5a-430e-bba9-0b99035ae445",
   "metadata": {},
   "source": [
    "**Question** \n",
    "On a specific day, 20 customers purchased items from FTO. It is observed that 10% of their customers return items purchased by them. Calculate:\n",
    "1. P(exactly 5 customers will return the items).\n",
    "2. P(maximum 5 customers will return the items).\n",
    "3. Probabillity that more than 5 customers will return the items\n",
    "4. Average and variance of the returns"
   ]
  },
  {
   "cell_type": "code",
   "execution_count": null,
   "id": "a316506a-f84a-4e25-99ca-bdf1eb6e7df4",
   "metadata": {},
   "outputs": [],
   "source": [
    "# This plots a graph of the binomial distribution for items returned from 1 to 20\n",
    "pmf_df = pd.DataFrame({'success': range(0, 21),\n",
    "                       'pmf': list(stats.binom.pmf(range(0,21), 20, 0.1))})\n",
    "\n",
    "plt.bar(pmf_df.success, pmf_df.pmf)\n",
    "plt.xticks(list(range(0, 21)))\n",
    "plt.ylabel('pmf')\n",
    "plt.xlabel('Number of items returned')\n",
    "plt.show()"
   ]
  },
  {
   "cell_type": "code",
   "execution_count": null,
   "id": "1a33cb2d-2b2c-41b7-b495-361b29ffcacc",
   "metadata": {},
   "outputs": [],
   "source": [
    "# Answer to 2.\n",
    "stats.binom.cdf(5, 20, 0.1)"
   ]
  },
  {
   "cell_type": "code",
   "execution_count": null,
   "id": "4934e5dd-a5ee-46ea-914e-9f9d2c816648",
   "metadata": {},
   "outputs": [],
   "source": [
    "#Answer to 3.\n",
    "1 - stats.binom.cdf(5, 20, 0.1)"
   ]
  },
  {
   "cell_type": "code",
   "execution_count": null,
   "id": "df8192bc-7f56-4151-976c-cd5d9388dea6",
   "metadata": {},
   "outputs": [],
   "source": [
    "mean, var = stats.binom.stats(20, 0.1)\n",
    "mean"
   ]
  },
  {
   "cell_type": "markdown",
   "id": "745e4da1-dd6a-4cce-ae93-46f13990c8c6",
   "metadata": {},
   "source": [
    "**Poisson Distribution**"
   ]
  },
  {
   "cell_type": "markdown",
   "id": "0825e736-3489-4edc-8bc6-d87347469330",
   "metadata": {},
   "source": [
    "**Question**\n",
    "The number of calls arriving at a call center follows a Poisson distribution at 10 calls per hour. Calculate:\n",
    "1. P(number of calls will be maximum 5)\n",
    "2. P(Number of calls over a 3-houred period will exceed 30)"
   ]
  },
  {
   "cell_type": "code",
   "execution_count": null,
   "id": "b1172a11-a80b-4372-ade5-72501e8d15ab",
   "metadata": {},
   "outputs": [],
   "source": [
    "# Answer to first question\n",
    "# We use stats.poisson.cdf() where 1st parameter is Number of events \n",
    "# and 2nd parameter is average number of events\n",
    "stats.poisson.cdf(5, 10)"
   ]
  },
  {
   "cell_type": "code",
   "execution_count": null,
   "id": "ef7dac82-8abd-4733-863d-8bbca5f9395f",
   "metadata": {},
   "outputs": [],
   "source": [
    "# Answer to second problem\n",
    "# Since the average calls per hour is 10(lambda = 10) the mean of calls over 3 hours is lambda*t = 30\n",
    "1 - stats.poisson.cdf(30, 30)"
   ]
  },
  {
   "cell_type": "code",
   "execution_count": null,
   "id": "3bcefb00-efec-4126-9bc5-0adf096eb561",
   "metadata": {},
   "outputs": [],
   "source": [
    "# Now we visualize the Pisson Distribution, we plot PMF for all possible no. of calls ranging from 0 to 30\n",
    "pmf_df = pd.DataFrame({'success': range(0, 30),\n",
    "                       'pmf': list(stats.poisson.pmf(range(0,30), 10))})\n",
    "\n",
    "plt.bar(pmf_df.success, pmf_df.pmf)\n",
    "plt.xticks(list(range(0, 30)), rotation=90)\n",
    "plt.ylabel('pmf')\n",
    "plt.xlabel('Number of calls received')\n",
    "plt.title('Poisson Distribution (λ = 10)')\n",
    "plt.show()"
   ]
  },
  {
   "cell_type": "markdown",
   "id": "26703ff8-df06-49e4-afd6-eba8a53a48d0",
   "metadata": {},
   "source": [
    "**Exponential Distribution**"
   ]
  },
  {
   "cell_type": "markdown",
   "id": "d4f8c69e-341d-49cc-a7c7-15176af0a600",
   "metadata": {},
   "source": [
    "**Question**\n",
    "The time-to-failure of an avionic system follows an exponential distribution with a mean time between failures(MTBF) of 1000 hours. Calculate\n",
    "1. P(System will fail before 1000 hours)\n",
    "2. P(It will not fail up to 2000 hours)\n",
    "3. The time by which 10% of the system will fail(i.e. calculate P(10) life)."
   ]
  },
  {
   "cell_type": "code",
   "execution_count": null,
   "id": "29104048-5ef5-4023-bc4e-3f7da8987adc",
   "metadata": {},
   "outputs": [],
   "source": [
    "# Answer to 1, we use stats.expon.cdf() that takes the number of hours and mean and scale of \n",
    "# exponential distribution\n",
    "stats.expon.cdf(1000, loc=1/1000, scale=1000)\n",
    "\n",
    "# Answer to second question\n",
    "1 - stats.expon.cdf(2000, loc=1/1000, scale=1000)\n",
    "\n",
    "# Answer to 3 we use ppf (percent point function) which is the inverse of CDF\n",
    "stats.expon.ppf(0.1, loc=1/1000, scale=1000)"
   ]
  },
  {
   "cell_type": "code",
   "execution_count": null,
   "id": "7021073a-fa8b-429c-bcf5-4771458b4c89",
   "metadata": {},
   "outputs": [],
   "source": [
    "# Now we visualize the exponential distribution by using the PDF function against different time-to-failure hours\n",
    "\n",
    "pdf_df = pd.DataFrame({'success': range(0, 5000, 100),\n",
    "                       'pdf': list(stats.expon.pdf(range(0, 5000, 100), loc=0, scale=1000))})\n",
    "plt.figure(figsize=(10, 4))\n",
    "plt.bar(pdf_df.success, pdf_df.pdf)\n",
    "plt.ylabel('pdf')\n",
    "plt.xlabel('Time to Failure')\n",
    "plt.title('Exponential Distritbution')\n",
    "plt.xticks(list(range(0, 5000, 100)), rotation=90)\n",
    "\n",
    "plt.show()"
   ]
  },
  {
   "cell_type": "raw",
   "id": "1f6fc4ce-5718-439d-bf99-b4d657c5e6cf",
   "metadata": {},
   "source": []
  },
  {
   "cell_type": "markdown",
   "id": "7fad12c2-a4a2-4e51-8a25-f0d50565e45e",
   "metadata": {},
   "source": [
    "**Normal Distribution**"
   ]
  },
  {
   "cell_type": "code",
   "execution_count": 37,
   "id": "e5182b06-462c-42f1-8ba4-0d1119491c01",
   "metadata": {},
   "outputs": [
    {
     "data": {
      "text/html": [
       "<div>\n",
       "<style scoped>\n",
       "    .dataframe tbody tr th:only-of-type {\n",
       "        vertical-align: middle;\n",
       "    }\n",
       "\n",
       "    .dataframe tbody tr th {\n",
       "        vertical-align: top;\n",
       "    }\n",
       "\n",
       "    .dataframe thead th {\n",
       "        text-align: right;\n",
       "    }\n",
       "</style>\n",
       "<table border=\"1\" class=\"dataframe\">\n",
       "  <thead>\n",
       "    <tr style=\"text-align: right;\">\n",
       "      <th></th>\n",
       "      <th>Date</th>\n",
       "      <th>Open</th>\n",
       "      <th>High</th>\n",
       "      <th>Low</th>\n",
       "      <th>Last</th>\n",
       "      <th>Close</th>\n",
       "      <th>Total Trade Quantity</th>\n",
       "      <th>Turnover (Lacs)</th>\n",
       "    </tr>\n",
       "  </thead>\n",
       "  <tbody>\n",
       "    <tr>\n",
       "      <th>0</th>\n",
       "      <td>2010-01-04</td>\n",
       "      <td>1121.0</td>\n",
       "      <td>1151.00</td>\n",
       "      <td>1121.00</td>\n",
       "      <td>1134.0</td>\n",
       "      <td>1135.60</td>\n",
       "      <td>101651.0</td>\n",
       "      <td>1157.18</td>\n",
       "    </tr>\n",
       "    <tr>\n",
       "      <th>1</th>\n",
       "      <td>2010-01-05</td>\n",
       "      <td>1146.8</td>\n",
       "      <td>1149.00</td>\n",
       "      <td>1128.75</td>\n",
       "      <td>1135.0</td>\n",
       "      <td>1134.60</td>\n",
       "      <td>59504.0</td>\n",
       "      <td>676.47</td>\n",
       "    </tr>\n",
       "    <tr>\n",
       "      <th>2</th>\n",
       "      <td>2010-01-06</td>\n",
       "      <td>1140.0</td>\n",
       "      <td>1164.25</td>\n",
       "      <td>1130.05</td>\n",
       "      <td>1137.0</td>\n",
       "      <td>1139.60</td>\n",
       "      <td>128908.0</td>\n",
       "      <td>1482.84</td>\n",
       "    </tr>\n",
       "    <tr>\n",
       "      <th>3</th>\n",
       "      <td>2010-01-07</td>\n",
       "      <td>1142.0</td>\n",
       "      <td>1159.40</td>\n",
       "      <td>1119.20</td>\n",
       "      <td>1141.0</td>\n",
       "      <td>1144.15</td>\n",
       "      <td>117871.0</td>\n",
       "      <td>1352.98</td>\n",
       "    </tr>\n",
       "    <tr>\n",
       "      <th>4</th>\n",
       "      <td>2010-01-08</td>\n",
       "      <td>1156.0</td>\n",
       "      <td>1172.00</td>\n",
       "      <td>1140.00</td>\n",
       "      <td>1141.2</td>\n",
       "      <td>1144.05</td>\n",
       "      <td>170063.0</td>\n",
       "      <td>1971.42</td>\n",
       "    </tr>\n",
       "  </tbody>\n",
       "</table>\n",
       "</div>"
      ],
      "text/plain": [
       "         Date    Open     High      Low    Last    Close  \\\n",
       "0  2010-01-04  1121.0  1151.00  1121.00  1134.0  1135.60   \n",
       "1  2010-01-05  1146.8  1149.00  1128.75  1135.0  1134.60   \n",
       "2  2010-01-06  1140.0  1164.25  1130.05  1137.0  1139.60   \n",
       "3  2010-01-07  1142.0  1159.40  1119.20  1141.0  1144.15   \n",
       "4  2010-01-08  1156.0  1172.00  1140.00  1141.2  1144.05   \n",
       "\n",
       "   Total Trade Quantity  Turnover (Lacs)  \n",
       "0              101651.0          1157.18  \n",
       "1               59504.0           676.47  \n",
       "2              128908.0          1482.84  \n",
       "3              117871.0          1352.98  \n",
       "4              170063.0          1971.42  "
      ]
     },
     "execution_count": 37,
     "metadata": {},
     "output_type": "execute_result"
    }
   ],
   "source": [
    "import warnings\n",
    "\n",
    "beml = pd.read_csv('BEML.csv')\n",
    "beml.head()"
   ]
  },
  {
   "cell_type": "code",
   "execution_count": 38,
   "id": "7567b68c-1284-40ea-a3da-baf531c685fe",
   "metadata": {},
   "outputs": [
    {
     "data": {
      "text/html": [
       "<div>\n",
       "<style scoped>\n",
       "    .dataframe tbody tr th:only-of-type {\n",
       "        vertical-align: middle;\n",
       "    }\n",
       "\n",
       "    .dataframe tbody tr th {\n",
       "        vertical-align: top;\n",
       "    }\n",
       "\n",
       "    .dataframe thead th {\n",
       "        text-align: right;\n",
       "    }\n",
       "</style>\n",
       "<table border=\"1\" class=\"dataframe\">\n",
       "  <thead>\n",
       "    <tr style=\"text-align: right;\">\n",
       "      <th></th>\n",
       "      <th>Date</th>\n",
       "      <th>Open</th>\n",
       "      <th>High</th>\n",
       "      <th>Low</th>\n",
       "      <th>Last</th>\n",
       "      <th>Close</th>\n",
       "      <th>Total Trade Quantity</th>\n",
       "      <th>Turnover (Lacs)</th>\n",
       "    </tr>\n",
       "  </thead>\n",
       "  <tbody>\n",
       "    <tr>\n",
       "      <th>0</th>\n",
       "      <td>2010-01-04</td>\n",
       "      <td>1613.00</td>\n",
       "      <td>1629.10</td>\n",
       "      <td>1602.00</td>\n",
       "      <td>1629.0</td>\n",
       "      <td>1625.65</td>\n",
       "      <td>9365.0</td>\n",
       "      <td>151.74</td>\n",
       "    </tr>\n",
       "    <tr>\n",
       "      <th>1</th>\n",
       "      <td>2010-01-05</td>\n",
       "      <td>1639.95</td>\n",
       "      <td>1639.95</td>\n",
       "      <td>1611.05</td>\n",
       "      <td>1620.0</td>\n",
       "      <td>1616.80</td>\n",
       "      <td>38148.0</td>\n",
       "      <td>622.58</td>\n",
       "    </tr>\n",
       "    <tr>\n",
       "      <th>2</th>\n",
       "      <td>2010-01-06</td>\n",
       "      <td>1618.00</td>\n",
       "      <td>1644.00</td>\n",
       "      <td>1617.00</td>\n",
       "      <td>1639.0</td>\n",
       "      <td>1638.50</td>\n",
       "      <td>36519.0</td>\n",
       "      <td>595.09</td>\n",
       "    </tr>\n",
       "    <tr>\n",
       "      <th>3</th>\n",
       "      <td>2010-01-07</td>\n",
       "      <td>1645.00</td>\n",
       "      <td>1654.00</td>\n",
       "      <td>1636.00</td>\n",
       "      <td>1648.0</td>\n",
       "      <td>1648.70</td>\n",
       "      <td>12809.0</td>\n",
       "      <td>211.00</td>\n",
       "    </tr>\n",
       "    <tr>\n",
       "      <th>4</th>\n",
       "      <td>2010-01-08</td>\n",
       "      <td>1650.00</td>\n",
       "      <td>1650.00</td>\n",
       "      <td>1626.55</td>\n",
       "      <td>1640.0</td>\n",
       "      <td>1639.80</td>\n",
       "      <td>28035.0</td>\n",
       "      <td>459.11</td>\n",
       "    </tr>\n",
       "  </tbody>\n",
       "</table>\n",
       "</div>"
      ],
      "text/plain": [
       "         Date     Open     High      Low    Last    Close  \\\n",
       "0  2010-01-04  1613.00  1629.10  1602.00  1629.0  1625.65   \n",
       "1  2010-01-05  1639.95  1639.95  1611.05  1620.0  1616.80   \n",
       "2  2010-01-06  1618.00  1644.00  1617.00  1639.0  1638.50   \n",
       "3  2010-01-07  1645.00  1654.00  1636.00  1648.0  1648.70   \n",
       "4  2010-01-08  1650.00  1650.00  1626.55  1640.0  1639.80   \n",
       "\n",
       "   Total Trade Quantity  Turnover (Lacs)  \n",
       "0                9365.0           151.74  \n",
       "1               38148.0           622.58  \n",
       "2               36519.0           595.09  \n",
       "3               12809.0           211.00  \n",
       "4               28035.0           459.11  "
      ]
     },
     "execution_count": 38,
     "metadata": {},
     "output_type": "execute_result"
    }
   ],
   "source": [
    "glaxo = pd.read_csv('GLAXO.csv')\n",
    "glaxo.head()"
   ]
  },
  {
   "cell_type": "code",
   "execution_count": 39,
   "id": "4e66b0ae-c167-423b-b543-cedfe2651e69",
   "metadata": {},
   "outputs": [
    {
     "data": {
      "text/html": [
       "<div>\n",
       "<style scoped>\n",
       "    .dataframe tbody tr th:only-of-type {\n",
       "        vertical-align: middle;\n",
       "    }\n",
       "\n",
       "    .dataframe tbody tr th {\n",
       "        vertical-align: top;\n",
       "    }\n",
       "\n",
       "    .dataframe thead th {\n",
       "        text-align: right;\n",
       "    }\n",
       "</style>\n",
       "<table border=\"1\" class=\"dataframe\">\n",
       "  <thead>\n",
       "    <tr style=\"text-align: right;\">\n",
       "      <th></th>\n",
       "      <th>Date</th>\n",
       "      <th>Close</th>\n",
       "    </tr>\n",
       "    <tr>\n",
       "      <th>Date</th>\n",
       "      <th></th>\n",
       "      <th></th>\n",
       "    </tr>\n",
       "  </thead>\n",
       "  <tbody>\n",
       "    <tr>\n",
       "      <th>2010-01-04</th>\n",
       "      <td>2010-01-04</td>\n",
       "      <td>1135.60</td>\n",
       "    </tr>\n",
       "    <tr>\n",
       "      <th>2010-01-05</th>\n",
       "      <td>2010-01-05</td>\n",
       "      <td>1134.60</td>\n",
       "    </tr>\n",
       "    <tr>\n",
       "      <th>2010-01-06</th>\n",
       "      <td>2010-01-06</td>\n",
       "      <td>1139.60</td>\n",
       "    </tr>\n",
       "    <tr>\n",
       "      <th>2010-01-07</th>\n",
       "      <td>2010-01-07</td>\n",
       "      <td>1144.15</td>\n",
       "    </tr>\n",
       "    <tr>\n",
       "      <th>2010-01-08</th>\n",
       "      <td>2010-01-08</td>\n",
       "      <td>1144.05</td>\n",
       "    </tr>\n",
       "  </tbody>\n",
       "</table>\n",
       "</div>"
      ],
      "text/plain": [
       "                  Date    Close\n",
       "Date                           \n",
       "2010-01-04  2010-01-04  1135.60\n",
       "2010-01-05  2010-01-05  1134.60\n",
       "2010-01-06  2010-01-06  1139.60\n",
       "2010-01-07  2010-01-07  1144.15\n",
       "2010-01-08  2010-01-08  1144.05"
      ]
     },
     "execution_count": 39,
     "metadata": {},
     "output_type": "execute_result"
    }
   ],
   "source": [
    "beml = beml[['Date', 'Close']]\n",
    "beml = beml.set_index(pd.DatetimeIndex(beml['Date']))\n",
    "beml.head()"
   ]
  },
  {
   "cell_type": "code",
   "execution_count": 40,
   "id": "21a39a18-f894-47e9-84a1-e487611d22d1",
   "metadata": {},
   "outputs": [
    {
     "data": {
      "text/html": [
       "<div>\n",
       "<style scoped>\n",
       "    .dataframe tbody tr th:only-of-type {\n",
       "        vertical-align: middle;\n",
       "    }\n",
       "\n",
       "    .dataframe tbody tr th {\n",
       "        vertical-align: top;\n",
       "    }\n",
       "\n",
       "    .dataframe thead th {\n",
       "        text-align: right;\n",
       "    }\n",
       "</style>\n",
       "<table border=\"1\" class=\"dataframe\">\n",
       "  <thead>\n",
       "    <tr style=\"text-align: right;\">\n",
       "      <th></th>\n",
       "      <th>Date</th>\n",
       "      <th>Close</th>\n",
       "    </tr>\n",
       "    <tr>\n",
       "      <th>Date</th>\n",
       "      <th></th>\n",
       "      <th></th>\n",
       "    </tr>\n",
       "  </thead>\n",
       "  <tbody>\n",
       "    <tr>\n",
       "      <th>2010-01-04</th>\n",
       "      <td>2010-01-04</td>\n",
       "      <td>1625.65</td>\n",
       "    </tr>\n",
       "    <tr>\n",
       "      <th>2010-01-05</th>\n",
       "      <td>2010-01-05</td>\n",
       "      <td>1616.80</td>\n",
       "    </tr>\n",
       "    <tr>\n",
       "      <th>2010-01-06</th>\n",
       "      <td>2010-01-06</td>\n",
       "      <td>1638.50</td>\n",
       "    </tr>\n",
       "    <tr>\n",
       "      <th>2010-01-07</th>\n",
       "      <td>2010-01-07</td>\n",
       "      <td>1648.70</td>\n",
       "    </tr>\n",
       "    <tr>\n",
       "      <th>2010-01-08</th>\n",
       "      <td>2010-01-08</td>\n",
       "      <td>1639.80</td>\n",
       "    </tr>\n",
       "  </tbody>\n",
       "</table>\n",
       "</div>"
      ],
      "text/plain": [
       "                  Date    Close\n",
       "Date                           \n",
       "2010-01-04  2010-01-04  1625.65\n",
       "2010-01-05  2010-01-05  1616.80\n",
       "2010-01-06  2010-01-06  1638.50\n",
       "2010-01-07  2010-01-07  1648.70\n",
       "2010-01-08  2010-01-08  1639.80"
      ]
     },
     "execution_count": 40,
     "metadata": {},
     "output_type": "execute_result"
    }
   ],
   "source": [
    "glaxo = glaxo[['Date', 'Close']]\n",
    "glaxo = glaxo.set_index(pd.DatetimeIndex(glaxo['Date']))\n",
    "glaxo.head()"
   ]
  },
  {
   "cell_type": "code",
   "execution_count": 41,
   "id": "54ff8813-5940-4922-891c-527d47883b2d",
   "metadata": {},
   "outputs": [
    {
     "data": {
      "image/png": "[encoded data removed]",
      "text/plain": [
       "<Figure size 640x480 with 1 Axes>"
      ]
     },
     "metadata": {},
     "output_type": "display_data"
    }
   ],
   "source": [
    "plt.plot(glaxo.Close)\n",
    "plt.xlabel('Time')\n",
    "plt.ylabel('Close Price')\n",
    "plt.title('Trend of close prices of GLAXO')\n",
    "plt.show()"
   ]
  },
  {
   "cell_type": "code",
   "execution_count": 42,
   "id": "50cfc1a3-ad18-4889-bccd-1faecb59c353",
   "metadata": {},
   "outputs": [
    {
     "data": {
      "image/png": "[encoded data removed]",
      "text/plain": [
       "<Figure size 640x480 with 1 Axes>"
      ]
     },
     "metadata": {},
     "output_type": "display_data"
    }
   ],
   "source": [
    "plt.plot(beml.Close)\n",
    "plt.xlabel('Time')\n",
    "plt.ylabel('Close Price')\n",
    "plt.title('Trend of close prices of BEML')\n",
    "plt.show()"
   ]
  },
  {
   "cell_type": "markdown",
   "id": "49858dfe-95eb-4362-9537-030061892fea",
   "metadata": {},
   "source": [
    "**Questions in the mind of the investor**\n",
    "1. What is the expected daily rate of return of these stocks?\n",
    "2. Which stocks have higher risk or volatility as far as daily returns are concerned?\n",
    "3. What is the expected range of return for 95% confidence interval?\n",
    "4. Which stock has higher probability of making a daily return of 2% or more?\n",
    "5. Which stock has higher probability of making a loss(risk) of 2% or more?"
   ]
  },
  {
   "cell_type": "markdown",
   "id": "8ee01b29-da17-4262-8e30-865f2627265b",
   "metadata": {},
   "source": [
    "To answer the above questions, we must find out the behaviour of daily returns on these stocks. The gain can be calculated as a percentage change in close price, from the previous day's close price.\n",
    "\n",
    "gain = $\\frac{ClosePrice_t - ClosePrice_{t-1}}{ClosePrice_{t-1}}$\n"
   ]
  },
  {
   "cell_type": "code",
   "execution_count": 43,
   "id": "9c1d6e23-7915-4c5b-af48-7aaa5f327250",
   "metadata": {},
   "outputs": [
    {
     "data": {
      "text/html": [
       "<div>\n",
       "<style scoped>\n",
       "    .dataframe tbody tr th:only-of-type {\n",
       "        vertical-align: middle;\n",
       "    }\n",
       "\n",
       "    .dataframe tbody tr th {\n",
       "        vertical-align: top;\n",
       "    }\n",
       "\n",
       "    .dataframe thead th {\n",
       "        text-align: right;\n",
       "    }\n",
       "</style>\n",
       "<table border=\"1\" class=\"dataframe\">\n",
       "  <thead>\n",
       "    <tr style=\"text-align: right;\">\n",
       "      <th></th>\n",
       "      <th>Date</th>\n",
       "      <th>Close</th>\n",
       "      <th>gain</th>\n",
       "    </tr>\n",
       "    <tr>\n",
       "      <th>Date</th>\n",
       "      <th></th>\n",
       "      <th></th>\n",
       "      <th></th>\n",
       "    </tr>\n",
       "  </thead>\n",
       "  <tbody>\n",
       "    <tr>\n",
       "      <th>2010-01-05</th>\n",
       "      <td>2010-01-05</td>\n",
       "      <td>1616.80</td>\n",
       "      <td>-0.005444</td>\n",
       "    </tr>\n",
       "    <tr>\n",
       "      <th>2010-01-06</th>\n",
       "      <td>2010-01-06</td>\n",
       "      <td>1638.50</td>\n",
       "      <td>0.013422</td>\n",
       "    </tr>\n",
       "    <tr>\n",
       "      <th>2010-01-07</th>\n",
       "      <td>2010-01-07</td>\n",
       "      <td>1648.70</td>\n",
       "      <td>0.006225</td>\n",
       "    </tr>\n",
       "    <tr>\n",
       "      <th>2010-01-08</th>\n",
       "      <td>2010-01-08</td>\n",
       "      <td>1639.80</td>\n",
       "      <td>-0.005398</td>\n",
       "    </tr>\n",
       "    <tr>\n",
       "      <th>2010-01-11</th>\n",
       "      <td>2010-01-11</td>\n",
       "      <td>1629.45</td>\n",
       "      <td>-0.006312</td>\n",
       "    </tr>\n",
       "  </tbody>\n",
       "</table>\n",
       "</div>"
      ],
      "text/plain": [
       "                  Date    Close      gain\n",
       "Date                                     \n",
       "2010-01-05  2010-01-05  1616.80 -0.005444\n",
       "2010-01-06  2010-01-06  1638.50  0.013422\n",
       "2010-01-07  2010-01-07  1648.70  0.006225\n",
       "2010-01-08  2010-01-08  1639.80 -0.005398\n",
       "2010-01-11  2010-01-11  1629.45 -0.006312"
      ]
     },
     "execution_count": 43,
     "metadata": {},
     "output_type": "execute_result"
    }
   ],
   "source": [
    "glaxo['gain'] = glaxo.Close.pct_change(periods=1)\n",
    "beml['gain'] = beml.Close.pct_change(periods=1)\n",
    "glaxo = glaxo.dropna()\n",
    "beml = beml.dropna()\n",
    "glaxo.head()\n"
   ]
  },
  {
   "cell_type": "code",
   "execution_count": 44,
   "id": "6aa6ef79-afa7-461d-b68c-ea45683d3e3f",
   "metadata": {},
   "outputs": [
    {
     "data": {
      "text/html": [
       "<div>\n",
       "<style scoped>\n",
       "    .dataframe tbody tr th:only-of-type {\n",
       "        vertical-align: middle;\n",
       "    }\n",
       "\n",
       "    .dataframe tbody tr th {\n",
       "        vertical-align: top;\n",
       "    }\n",
       "\n",
       "    .dataframe thead th {\n",
       "        text-align: right;\n",
       "    }\n",
       "</style>\n",
       "<table border=\"1\" class=\"dataframe\">\n",
       "  <thead>\n",
       "    <tr style=\"text-align: right;\">\n",
       "      <th></th>\n",
       "      <th>Date</th>\n",
       "      <th>Close</th>\n",
       "      <th>gain</th>\n",
       "    </tr>\n",
       "    <tr>\n",
       "      <th>Date</th>\n",
       "      <th></th>\n",
       "      <th></th>\n",
       "      <th></th>\n",
       "    </tr>\n",
       "  </thead>\n",
       "  <tbody>\n",
       "    <tr>\n",
       "      <th>2010-01-05</th>\n",
       "      <td>2010-01-05</td>\n",
       "      <td>1134.60</td>\n",
       "      <td>-0.000881</td>\n",
       "    </tr>\n",
       "    <tr>\n",
       "      <th>2010-01-06</th>\n",
       "      <td>2010-01-06</td>\n",
       "      <td>1139.60</td>\n",
       "      <td>0.004407</td>\n",
       "    </tr>\n",
       "    <tr>\n",
       "      <th>2010-01-07</th>\n",
       "      <td>2010-01-07</td>\n",
       "      <td>1144.15</td>\n",
       "      <td>0.003993</td>\n",
       "    </tr>\n",
       "    <tr>\n",
       "      <th>2010-01-08</th>\n",
       "      <td>2010-01-08</td>\n",
       "      <td>1144.05</td>\n",
       "      <td>-0.000087</td>\n",
       "    </tr>\n",
       "    <tr>\n",
       "      <th>2010-01-11</th>\n",
       "      <td>2010-01-11</td>\n",
       "      <td>1137.00</td>\n",
       "      <td>-0.006162</td>\n",
       "    </tr>\n",
       "  </tbody>\n",
       "</table>\n",
       "</div>"
      ],
      "text/plain": [
       "                  Date    Close      gain\n",
       "Date                                     \n",
       "2010-01-05  2010-01-05  1134.60 -0.000881\n",
       "2010-01-06  2010-01-06  1139.60  0.004407\n",
       "2010-01-07  2010-01-07  1144.15  0.003993\n",
       "2010-01-08  2010-01-08  1144.05 -0.000087\n",
       "2010-01-11  2010-01-11  1137.00 -0.006162"
      ]
     },
     "execution_count": 44,
     "metadata": {},
     "output_type": "execute_result"
    }
   ],
   "source": [
    "beml.head()"
   ]
  },
  {
   "cell_type": "code",
   "execution_count": 45,
   "id": "1d328878-5cd4-499c-89b2-bd3ecf7f6374",
   "metadata": {},
   "outputs": [
    {
     "data": {
      "image/png": "[encoded data removed]",
      "text/plain": [
       "<Figure size 800x600 with 1 Axes>"
      ]
     },
     "metadata": {},
     "output_type": "display_data"
    }
   ],
   "source": [
    "# Plotting gain against time for GLAXO\n",
    "plt.figure(figsize=(8, 6))\n",
    "plt.plot(glaxo.index, glaxo.gain)\n",
    "plt.xlabel('Time')\n",
    "plt.ylabel('Gain')\n",
    "plt.title('Daily Gain of GLAXO stock')\n",
    "plt.show()"
   ]
  },
  {
   "cell_type": "code",
   "execution_count": 46,
   "id": "d01a0673-03b9-4a1a-90f5-b15ce33a6964",
   "metadata": {},
   "outputs": [
    {
     "data": {
      "image/png": "[encoded data removed]",
      "text/plain": [
       "<Figure size 800x600 with 1 Axes>"
      ]
     },
     "metadata": {},
     "output_type": "display_data"
    }
   ],
   "source": [
    "# Plotting gain against time for BEML\n",
    "plt.figure(figsize=(8, 6))\n",
    "plt.plot(beml.index, beml.gain)\n",
    "plt.xlabel('Time')\n",
    "plt.ylabel('Gain')\n",
    "plt.title('Daily Gain of BEML stock')\n",
    "plt.show()"
   ]
  },
  {
   "cell_type": "code",
   "execution_count": 47,
   "id": "73fb7e52-adce-47bf-b56b-dfc3c8f0e87d",
   "metadata": {},
   "outputs": [
    {
     "data": {
      "text/plain": [
       "<matplotlib.legend.Legend at 0x2506ebc42d0>"
      ]
     },
     "execution_count": 47,
     "metadata": {},
     "output_type": "execute_result"
    },
    {
     "data": {
      "image/png": "[encoded data removed]",
      "text/plain": [
       "<Figure size 640x480 with 1 Axes>"
      ]
     },
     "metadata": {},
     "output_type": "display_data"
    }
   ],
   "source": [
    "sn.kdeplot(glaxo.gain, label='GLAXO', fill=True)\n",
    "sn.kdeplot(beml.gain, label='BEML', fill=True)\n",
    "plt.xlabel('gain')\n",
    "plt.ylabel('Density')\n",
    "plt.legend()"
   ]
  },
  {
   "cell_type": "code",
   "execution_count": 48,
   "id": "16ed49a6-0557-44b8-b1e8-ab0a393675cb",
   "metadata": {},
   "outputs": [
    {
     "name": "stdout",
     "output_type": "stream",
     "text": [
      "Daily Gain of Glaxo\n",
      "----------------------\n",
      "Mean:  0.0004\n",
      "Standard Deviation:  0.0134\n"
     ]
    }
   ],
   "source": [
    "print(\"Daily Gain of Glaxo\")\n",
    "print(\"----------------------\")\n",
    "print(\"Mean: \", round(glaxo.gain.mean(), 4))\n",
    "print(\"Standard Deviation: \", round(glaxo.gain.std(), 4))"
   ]
  },
  {
   "cell_type": "code",
   "execution_count": 49,
   "id": "fdf4d195-8979-4740-8b6d-7d7612459032",
   "metadata": {},
   "outputs": [
    {
     "name": "stdout",
     "output_type": "stream",
     "text": [
      "Daily Gain of BEML\n",
      "----------------------\n",
      "Mean:  0.0003\n",
      "Standard Deviation:  0.0264\n"
     ]
    }
   ],
   "source": [
    "print(\"Daily Gain of BEML\")\n",
    "print(\"----------------------\")\n",
    "print(\"Mean: \", round(beml.gain.mean(), 4))\n",
    "print(\"Standard Deviation: \", round(beml.gain.std(), 4))"
   ]
  },
  {
   "cell_type": "code",
   "execution_count": 50,
   "id": "cdd6ada0-c413-4c21-9de5-b4ab25b3aa94",
   "metadata": {},
   "outputs": [
    {
     "data": {
      "text/plain": [
       "count    1738.000000\n",
       "mean        0.000271\n",
       "std         0.026431\n",
       "min        -0.133940\n",
       "25%        -0.013736\n",
       "50%        -0.001541\n",
       "75%         0.011985\n",
       "max         0.198329\n",
       "Name: gain, dtype: float64"
      ]
     },
     "execution_count": 50,
     "metadata": {},
     "output_type": "execute_result"
    }
   ],
   "source": [
    "beml.gain.describe()"
   ]
  },
  {
   "cell_type": "markdown",
   "id": "487b532f-44e5-46d8-8c27-9029b261e012",
   "metadata": {},
   "source": [
    "**Confidence Interval** :- To find what is the expected range of return for 95% confidence interval, we need to calculate the values of gain for two standard deviations away from mean on both sides of the distribution, that is \n",
    "$\\mu \\pm 2\\sigma$"
   ]
  },
  {
   "cell_type": "code",
   "execution_count": 52,
   "id": "7a60d226-9eb8-489b-aedb-f61033e853ca",
   "metadata": {},
   "outputs": [
    {
     "name": "stdout",
     "output_type": "stream",
     "text": [
      "Gain at 95% confidence interval is:  [-0.0258  0.0266]\n"
     ]
    }
   ],
   "source": [
    "glaxo_ci = stats.norm.interval(0.95, loc=glaxo.gain.mean(), scale=glaxo.gain.std())\n",
    "print(\"Gain at 95% confidence interval for GLAXO is: \", np.round(glaxo_ci, 4))"
   ]
  },
  {
   "cell_type": "code",
   "execution_count": 53,
   "id": "3fd0203e-532c-4372-8797-f5794d95ad39",
   "metadata": {},
   "outputs": [
    {
     "name": "stdout",
     "output_type": "stream",
     "text": [
      "Gain at 95% confidence interval for BEML is:  [-0.0515  0.0521]\n"
     ]
    }
   ],
   "source": [
    "beml_ci = stats.norm.interval(0.95, loc=beml.gain.mean(), scale=beml.gain.std())\n",
    "print(\"Gain at 95% confidence interval for BEML is: \", np.round(beml_ci, 4))"
   ]
  },
  {
   "cell_type": "markdown",
   "id": "8ed88496-1351-4f03-ad43-b963fccd2712",
   "metadata": {},
   "source": [
    "**Cumulative Probability Distribution** : To calculate the probability of gain higher than 2% or more, we need to find out what is the sum of all probabilities that gain can take values more than 0.02(i.e., 2%). Cumulative distribution function F(a) is the area under the probability density function up to X = a."
   ]
  },
  {
   "cell_type": "code",
   "execution_count": 55,
   "id": "66152f93-2c8d-4daa-87aa-72359c6489e6",
   "metadata": {},
   "outputs": [
    {
     "name": "stdout",
     "output_type": "stream",
     "text": [
      "Probability of making 2% loss or higher in GLAXO: \n"
     ]
    },
    {
     "data": {
      "text/plain": [
       "np.float64(0.06352488667177401)"
      ]
     },
     "execution_count": 55,
     "metadata": {},
     "output_type": "execute_result"
    }
   ],
   "source": [
    "print(\"Probability of making 2% loss or higher in GLAXO: \")\n",
    "stats.norm.cdf(-0.02, loc=glaxo.gain.mean(), scale=glaxo.gain.std())"
   ]
  },
  {
   "cell_type": "code",
   "execution_count": 56,
   "id": "387f7e58-0ea9-40f2-a729-397e43feb6b2",
   "metadata": {},
   "outputs": [
    {
     "name": "stdout",
     "output_type": "stream",
     "text": [
      "Probability of making 2% loss or higher in BEML: \n"
     ]
    },
    {
     "data": {
      "text/plain": [
       "np.float64(0.22155987503755292)"
      ]
     },
     "execution_count": 56,
     "metadata": {},
     "output_type": "execute_result"
    }
   ],
   "source": [
    "print(\"Probability of making 2% loss or higher in BEML: \")\n",
    "stats.norm.cdf(-0.02, loc=beml.gain.mean(), scale=beml.gain.std())"
   ]
  },
  {
   "cell_type": "markdown",
   "id": "827c87b9-5976-4598-b3fa-e68b738df74b",
   "metadata": {},
   "source": [
    "From here we can see that BEML has 22.1% probability, whereas Glaxo has only 6.35% probability of making a loss of 2% or higher."
   ]
  },
  {
   "cell_type": "code",
   "execution_count": 57,
   "id": "e951c786-4674-4e5f-85f4-9a0c5b4133ad",
   "metadata": {},
   "outputs": [
    {
     "name": "stdout",
     "output_type": "stream",
     "text": [
      "Probability of making 2% gain or higher in BEML: \n"
     ]
    },
    {
     "data": {
      "text/plain": [
       "np.float64(0.22769829484075355)"
      ]
     },
     "execution_count": 57,
     "metadata": {},
     "output_type": "execute_result"
    }
   ],
   "source": [
    "print(\"Probability of making 2% gain or higher in BEML: \")\n",
    "1 - stats.norm.cdf(0.02, loc=beml.gain.mean(), scale=beml.gain.std())"
   ]
  },
  {
   "cell_type": "code",
   "execution_count": 58,
   "id": "a656d82e-a544-4629-bc81-920244eece1f",
   "metadata": {},
   "outputs": [
    {
     "name": "stdout",
     "output_type": "stream",
     "text": [
      "Probability of making 2% gain or higher in Glaxo: \n"
     ]
    },
    {
     "data": {
      "text/plain": [
       "np.float64(0.07104511457618568)"
      ]
     },
     "execution_count": 58,
     "metadata": {},
     "output_type": "execute_result"
    }
   ],
   "source": [
    "print(\"Probability of making 2% gain or higher in Glaxo: \")\n",
    "1 - stats.norm.cdf(0.02, loc=glaxo.gain.mean(), scale=glaxo.gain.std())"
   ]
  },
  {
   "cell_type": "markdown",
   "id": "18aa26e8-fbee-41d7-bb4f-bc7e83ac4cf1",
   "metadata": {},
   "source": [
    "So the probability of making a gain of 2% or more for Glaxo is 7.1%, whereas it is 22.76% for BEML"
   ]
  },
  {
   "cell_type": "markdown",
   "id": "40b7ab00-2f84-481e-869a-052a25844b64",
   "metadata": {},
   "source": []
  },
  {
   "cell_type": "markdown",
   "id": "663f8642-7fb1-4b06-a15f-5baeb9299373",
   "metadata": {},
   "source": [
    "**Exercises Solution** :- "
   ]
  },
  {
   "cell_type": "markdown",
   "id": "27ea07ac-29da-49f4-b69b-fefd2b8e07a7",
   "metadata": {},
   "source": [
    "Question 1"
   ]
  },
  {
   "cell_type": "code",
   "execution_count": 66,
   "id": "8ba4872a-a0d7-4a10-abd4-80ad1e58e60c",
   "metadata": {},
   "outputs": [
    {
     "name": "stdout",
     "output_type": "stream",
     "text": [
      "0.1366911308473363\n",
      "0.3576241464547001\n"
     ]
    }
   ],
   "source": [
    "# (a)\n",
    "print(1 - stats.poisson.cdf(30, 25))\n",
    "# (b)\n",
    "print(1 - stats.binom.cdf(1, 25, 0.05))"
   ]
  },
  {
   "cell_type": "markdown",
   "id": "ab78bac5-a3b4-4023-b714-1438edebc828",
   "metadata": {},
   "source": [
    "Question 2"
   ]
  },
  {
   "cell_type": "code",
   "execution_count": 68,
   "id": "1471edd2-2b43-4f41-8862-5d5c2e0ba3b2",
   "metadata": {},
   "outputs": [
    {
     "name": "stdout",
     "output_type": "stream",
     "text": [
      "0.7249765375851261\n",
      "0.24649446736051217\n"
     ]
    }
   ],
   "source": [
    "# (a)\n",
    "print(1 - stats.binom.cdf(2, 8, 0.42))\n",
    "# (b)\n",
    "print(stats.binom.pmf(4, 8, 0.42))"
   ]
  },
  {
   "cell_type": "markdown",
   "id": "9f833a88-24b0-4868-ac5d-eda00cbf803d",
   "metadata": {},
   "source": [
    "Question 3"
   ]
  },
  {
   "cell_type": "code",
   "execution_count": 72,
   "id": "a0235618-30f5-48fd-99e9-ffb446918f45",
   "metadata": {},
   "outputs": [
    {
     "name": "stdout",
     "output_type": "stream",
     "text": [
      "0.6321205588285577\n",
      "0.1712371429447882\n"
     ]
    }
   ],
   "source": [
    "# (a)\n",
    "print(stats.expon.cdf(85, scale=85))\n",
    "# (b)\n",
    "print(1 - stats.expon.cdf(150, scale=85))"
   ]
  },
  {
   "cell_type": "markdown",
   "id": "17c48faf-5d37-48cd-a323-d330a0cca4f0",
   "metadata": {},
   "source": [
    "Question 4"
   ]
  },
  {
   "cell_type": "code",
   "execution_count": 73,
   "id": "012251fc-63f6-474b-860f-b5735ef1d850",
   "metadata": {},
   "outputs": [
    {
     "name": "stdout",
     "output_type": "stream",
     "text": [
      "0.008197535924596155\n",
      "1.0717590258310887e-08\n",
      "0.9451952957565343\n"
     ]
    }
   ],
   "source": [
    "# (a)\n",
    "print(1 - stats.norm.cdf(50, 38, 5))\n",
    "# (b)\n",
    "print(stats.norm.cdf(10, 38, 5))\n",
    "# (c)\n",
    "print(stats.norm.cdf(60, 38, 5) - stats.norm.cdf(30, 38, 5))"
   ]
  },
  {
   "cell_type": "markdown",
   "id": "941aa4cd-9626-48c5-ac77-3a48b25fbff9",
   "metadata": {},
   "source": [
    " Question 5"
   ]
  },
  {
   "cell_type": "code",
   "execution_count": 77,
   "id": "144c5197-21f9-408e-8d35-a910f5b894a4",
   "metadata": {},
   "outputs": [
    {
     "name": "stdout",
     "output_type": "stream",
     "text": [
      "(-11.321028242757974, np.float64(5.162682749978096e-30))\n"
     ]
    }
   ],
   "source": [
    "def z_test(pop_mean, pop_std, sample_mean, n):\n",
    "    z_score = (sample_mean - pop_mean) / (pop_std / math.sqrt(n))\n",
    "    return z_score, stats.norm.cdf(z_score)\n",
    "\n",
    "print(z_test(5000, 1.30, 4998.1, 60))"
   ]
  },
  {
   "cell_type": "markdown",
   "id": "2d418635-91b5-4822-bd7f-020c1679fbf1",
   "metadata": {},
   "source": [
    "Here the p value is much lesser than a = 0.05, so we reject the Hypothesis"
   ]
  },
  {
   "cell_type": "markdown",
   "id": "97222345-8d0d-4165-9f6e-b1574391fe32",
   "metadata": {},
   "source": [
    "Question 6"
   ]
  },
  {
   "cell_type": "code",
   "execution_count": 79,
   "id": "1c4ea79d-0c88-460b-a78d-76f2ee79f083",
   "metadata": {},
   "outputs": [
    {
     "name": "stdout",
     "output_type": "stream",
     "text": [
      "Sample proportion: 0.22\n",
      "Z-score: 1.0412\n",
      "P-value: 0.1489\n",
      "Decision: Fail to reject the null hypothesis\n"
     ]
    }
   ],
   "source": [
    "p0 = 0.18        # Claimed proportion\n",
    "n = 100          # Sample size\n",
    "x = 22           # Number of defectives\n",
    "phat = x / n     # Sample proportion\n",
    "alpha = 0.05\n",
    "\n",
    "# Z-statistic\n",
    "z = (phat - p0) / np.sqrt(p0 * (1 - p0) / n)\n",
    "\n",
    "# p-value for right-tailed test\n",
    "p_value = 1 - stats.norm.cdf(z)\n",
    "\n",
    "# Decision\n",
    "if p_value < alpha:\n",
    "    result = \"Reject the null hypothesis\"\n",
    "else:\n",
    "    result = \"Fail to reject the null hypothesis\"\n",
    "\n",
    "# Output\n",
    "print(f\"Sample proportion: {phat:.2f}\")\n",
    "print(f\"Z-score: {z:.4f}\")\n",
    "print(f\"P-value: {p_value:.4f}\")\n",
    "print(f\"Decision: {result}\")"
   ]
  },
  {
   "cell_type": "markdown",
   "id": "fef6264c-5267-4c3a-bd3c-026b54221dcb",
   "metadata": {},
   "source": [
    "Question 7"
   ]
  },
  {
   "cell_type": "code",
   "execution_count": null,
   "id": "8f4ff8ce-3041-4639-ab8e-b5ebb0fcd727",
   "metadata": {},
   "outputs": [],
   "source": [
    "x1 = 450  # mean of ABC\n",
    "s1 = 82   # std dev of ABC\n",
    "n1 = 100  # sample size of ABC\n",
    "\n",
    "x2 = 368  # mean of Competitor\n",
    "s2 = 78   # std dev of Competitor\n",
    "n2 = 100  # sample size of Competitor\n",
    "\n",
    "numerator = (x1 - x2) - claimed_diff\n",
    "denominator = math.sqrt((s1**2)/n1 + (s2**2)/n2)\n",
    "z = numerator / denominator\n"
   ]
  },
  {
   "cell_type": "markdown",
   "id": "ce9b2583-92cf-44b4-83c4-0e7f1cbb3b59",
   "metadata": {},
   "source": []
  }
 ],
 "metadata": {
  "kernelspec": {
   "display_name": "Python 3 (ipykernel)",
   "language": "python",
   "name": "python3"
  },
  "language_info": {
   "codemirror_mode": {
    "name": "ipython",
    "version": 3
   },
   "file_extension": ".py",
   "mimetype": "text/x-python",
   "name": "python",
   "nbconvert_exporter": "python",
   "pygments_lexer": "ipython3",
   "version": "3.13.2"
  }
 },
 "nbformat": 4,
 "nbformat_minor": 5
}
