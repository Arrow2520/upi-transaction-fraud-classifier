{
 "cells": [
  {
   "cell_type": "markdown",
   "id": "4dc14881-23c4-4ab5-aeda-093b85f74c7b",
   "metadata": {},
   "source": [
    "**Q1.Write a Program to print the following Pattern :-**\n",
    "  \n",
    "   % % %\n",
    "  \n",
    "   % % \n",
    "   \n",
    "   %"
   ]
  },
  {
   "cell_type": "markdown",
   "id": "3228888d-1b84-4caf-85df-16e1199dcfb3",
   "metadata": {},
   "source": [
    "**Ans:-**"
   ]
  },
  {
   "cell_type": "code",
   "execution_count": 3,
   "id": "77b7f9cb-722f-48a6-a21a-4e81ede0e482",
   "metadata": {
    "editable": true,
    "slideshow": {
     "slide_type": ""
    },
    "tags": []
   },
   "outputs": [
    {
     "name": "stdin",
     "output_type": "stream",
     "text": [
      "Number of Rows =  5\n"
     ]
    },
    {
     "name": "stdout",
     "output_type": "stream",
     "text": [
      "* * * * * \n",
      "\n",
      "* * * * \n",
      "\n",
      "* * * \n",
      "\n",
      "* * \n",
      "\n",
      "* \n",
      "\n"
     ]
    }
   ],
   "source": [
    "n = int(input(\"Number of Rows = \"))\n",
    "j = n\n",
    "\n",
    "for i in range(1, n + 1):\n",
    "    while j >= i:\n",
    "        print(\"* \", end=\"\")\n",
    "        j -= 1\n",
    "    print(\"\\n\")\n",
    "    j = n\n"
   ]
  },
  {
   "cell_type": "markdown",
   "id": "cf70972e-1f2b-40d2-93df-b6820781147b",
   "metadata": {},
   "source": [
    "**Q2. Build a simple calculator.**"
   ]
  },
  {
   "cell_type": "markdown",
   "id": "04944917-b1b3-4994-b398-5901f5e2441e",
   "metadata": {},
   "source": [
    "**Ans:-**"
   ]
  },
  {
   "cell_type": "code",
   "execution_count": 5,
   "id": "0ccb9af5-dca2-42f4-bce6-f51ba01e996d",
   "metadata": {
    "scrolled": true
   },
   "outputs": [
    {
     "name": "stdin",
     "output_type": "stream",
     "text": [
      "Enter the first number =  69\n",
      "Enter the operator =  -\n",
      "Enter the second number =  96\n"
     ]
    },
    {
     "name": "stdout",
     "output_type": "stream",
     "text": [
      "Difference =  -27\n"
     ]
    }
   ],
   "source": [
    "a = int(input(\"Enter the first number = \"))\n",
    "opr = input(\"Enter the operator = \")\n",
    "b = int(input(\"Enter the second number = \"))\n",
    "\n",
    "operators = ['+', '-', '*', '/', '%']\n",
    "\n",
    "if opr in operators:\n",
    "    if opr == '+':\n",
    "        print('Sum = ', a + b)\n",
    "    elif opr == '-':\n",
    "        print('Difference = ', a - b)\n",
    "    elif opr == '*':\n",
    "        print(\"Product = \", a * b)\n",
    "    elif opr == '/':\n",
    "        print('Quotient = ', a / b)\n",
    "    elif opr == '%':\n",
    "        print('Remainder = ', a % b)\n",
    "else:\n",
    "    print('Invalid Operator')"
   ]
  },
  {
   "cell_type": "markdown",
   "id": "aa46626d-331f-4cd7-815c-b308674cda9a",
   "metadata": {},
   "source": [
    "**Q3. WAP to find the maximum of 4 numbers.**"
   ]
  },
  {
   "cell_type": "markdown",
   "id": "7cc9e2b2-ad64-46ff-b3ca-08d90681ec58",
   "metadata": {},
   "source": [
    "**Ans:-**"
   ]
  },
  {
   "cell_type": "code",
   "execution_count": 1,
   "id": "4202aee1-8df6-4899-937b-c959a3e3be9c",
   "metadata": {},
   "outputs": [
    {
     "name": "stdin",
     "output_type": "stream",
     "text": [
      "Enter 4 numbers =  3 2 7 5\n"
     ]
    },
    {
     "name": "stdout",
     "output_type": "stream",
     "text": [
      "Maximum number is :-  7\n"
     ]
    }
   ],
   "source": [
    "w, x, y, z = map(int, input(\"Enter 4 numbers = \").split())\n",
    "\n",
    "list2 = []\n",
    "list2.extend([w, x, y, z])\n",
    "\n",
    "maxi = list2[0]\n",
    "\n",
    "for i in range(1, 4):\n",
    "    if maxi < list2[i]:\n",
    "        maxi = list2[i]\n",
    "\n",
    "print(\"Maximum number is :- \", maxi)"
   ]
  },
  {
   "cell_type": "markdown",
   "id": "de64c15f-5146-4d86-bb5d-dc7535546038",
   "metadata": {},
   "source": [
    "**Q4. Write a program using fstring to print name, age and qualification.**"
   ]
  },
  {
   "cell_type": "code",
   "execution_count": 2,
   "id": "3e5afe6c-8e8f-4bf4-98ec-1c8b0f1d94a8",
   "metadata": {},
   "outputs": [
    {
     "name": "stdin",
     "output_type": "stream",
     "text": [
      "Enter your name:  Soubhik Raha\n",
      "Enter your age:  18\n",
      "Enter your qualification:  B.Tech\n"
     ]
    },
    {
     "name": "stdout",
     "output_type": "stream",
     "text": [
      "Name: Soubhik Raha\n",
      "Age: 18\n",
      "Qualifications: B.Tech\n"
     ]
    }
   ],
   "source": [
    "name = input(\"Enter your name: \")\n",
    "age = int(input(\"Enter your age: \"))\n",
    "quali = input(\"Enter your qualification: \")\n",
    "\n",
    "print(f\"Name: {name}\\nAge: {age}\\nQualifications: {quali}\")"
   ]
  },
  {
   "cell_type": "markdown",
   "id": "50bf0147-c765-4c87-a06a-c559ab13e9d9",
   "metadata": {},
   "source": [
    "**Q5. WAP to add 5 lines to a file and append 3 more lines to it and count the words.**"
   ]
  },
  {
   "cell_type": "code",
   "execution_count": 9,
   "id": "e752c691-7c4f-49ca-a26b-03914475a889",
   "metadata": {},
   "outputs": [
    {
     "name": "stdout",
     "output_type": "stream",
     "text": [
      "Python is a really strong, crisp, precise and easy-to understand language.\n",
      "File handling is real easy with Python.\n",
      "I really enjoy coding with Python.\n",
      "I have learnt about json files, binary files and txt files\n",
      "I look forward to learn more and more in Python.\n",
      "\n",
      "Python is a really strong, crisp, precise and easy-to understand language.\n",
      "File handling is real easy with Python.\n",
      "I really enjoy coding with Python.\n",
      "I have learnt about json files, binary files and txt files\n",
      "I look forward to learn more and more in Python.\n",
      "Python is really helpful in Data Science and Machine Learning.\n",
      "The library files Pands, Numpy, Matplotlib, scikit-learn are helpful to learn Machine Learning.\n",
      "I look forward to learn them as soon as possible.\n",
      "\n",
      "Number of words in the file:  78\n"
     ]
    }
   ],
   "source": [
    "with open(\"PythonCool.txt\", \"w\") as pth:\n",
    "    pth.write(\"Python is a really strong, crisp, precise and easy-to understand language.\\nFile handling is real easy with Python.\\nI really enjoy coding with Python.\\nI have learnt about json files, binary files and txt files\\nI look forward to learn more and more in Python.\")\n",
    "\n",
    "with open(\"PythonCool.txt\", \"r\") as f:\n",
    "    t = f.read()\n",
    "    print(t)\n",
    "\n",
    "with open(\"PythonCool.txt\", \"a\") as pth:\n",
    "    pth.write(\"\\nPython is really helpful in Data Science and Machine Learning.\\nThe library files Pands, Numpy, Matplotlib, scikit-learn are helpful to learn Machine Learning.\\nI look forward to learn them as soon as possible.\")\n",
    "\n",
    "print()\n",
    "\n",
    "with open(\"PythonCool.txt\", \"r\") as f:\n",
    "    t = f.read()\n",
    "    print(t)\n",
    "\n",
    "print()\n",
    "\n",
    "def count_words(filename):\n",
    "    with open(filename, \"r\") as file:\n",
    "        text = file.read().lower()\n",
    "        punclist = [\".\", \",\", \"?\", \"!\", \":\", \";\"]\n",
    "        for ch in text:\n",
    "            if ch in punclist:\n",
    "                text = text.replace(ch, ' ')\n",
    "        words = text.split()\n",
    "        return len(words)\n",
    "\n",
    "print(\"Number of words in the file: \", count_words(\"PythonCool.txt\"))"
   ]
  },
  {
   "cell_type": "markdown",
   "id": "4a62971b-401f-4bac-a646-23ed59c4a9df",
   "metadata": {},
   "source": [
    "**Q6. WAP to merge the contents of two files and store it in a new file.**"
   ]
  },
  {
   "cell_type": "code",
   "execution_count": 14,
   "id": "5fc97514-7bf9-4550-aece-12b9c3c2e150",
   "metadata": {},
   "outputs": [
    {
     "name": "stdout",
     "output_type": "stream",
     "text": [
      "I am the contents of file 1.\n",
      "I am the contents of file 2.\n"
     ]
    }
   ],
   "source": [
    "with open(\"file1.txt\", \"w\") as f1:\n",
    "    f1.write(\"I am the contents of file 1.\")\n",
    "\n",
    "with open(\"file2.txt\", \"w\") as f2:\n",
    "    f2.write(\"I am the contents of file 2.\")\n",
    "\n",
    "contents1 = \"\"\n",
    "contents2 = \"\"\n",
    "\n",
    "with open(\"file1.txt\", \"r\") as fn1:\n",
    "    contents1 = fn1.read()\n",
    "\n",
    "with open(\"file2.txt\", \"r\") as fn2:\n",
    "    contents2 = fn2.read()\n",
    "\n",
    "with open(\"Merged File.txt\", \"w\") as md:\n",
    "    md.write(contents1)\n",
    "\n",
    "with open(\"Merged File.txt\", \"a\") as md:\n",
    "    md.write(\"\\n\")\n",
    "\n",
    "with open(\"Merged File.txt\", \"a\") as md:\n",
    "    md.write(contents2)\n",
    "\n",
    "with open(\"Merged File.txt\", \"r\") as md:\n",
    "    print(md.read())"
   ]
  },
  {
   "cell_type": "code",
   "execution_count": null,
   "id": "cac9bd7b-c600-4923-baca-1fa801c009dd",
   "metadata": {},
   "outputs": [],
   "source": []
  }
 ],
 "metadata": {
  "kernelspec": {
   "display_name": "Python 3 (ipykernel)",
   "language": "python",
   "name": "python3"
  },
  "language_info": {
   "codemirror_mode": {
    "name": "ipython",
    "version": 3
   },
   "file_extension": ".py",
   "mimetype": "text/x-python",
   "name": "python",
   "nbconvert_exporter": "python",
   "pygments_lexer": "ipython3",
   "version": "3.13.2"
  }
 },
 "nbformat": 4,
 "nbformat_minor": 5
}
