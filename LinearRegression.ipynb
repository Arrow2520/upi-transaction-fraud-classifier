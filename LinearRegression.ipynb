{
 "cells": [
  {
   "cell_type": "code",
   "execution_count": 31,
   "id": "9633fb27-78e7-427e-88c1-7d612dfb2a5c",
   "metadata": {},
   "outputs": [],
   "source": [
    "import pandas as pd\n",
    "import numpy as np\n",
    "import matplotlib.pyplot as plt\n",
    "%matplotlib inline\n",
    "from scipy import stats\n",
    "import seaborn as sn\n",
    "import statsmodels.api as sm\n",
    "from sklearn.model_selection import train_test_split\n",
    "from sklearn.preprocessing import StandardScaler"
   ]
  },
  {
   "cell_type": "markdown",
   "id": "db5fd346-5dbb-4139-bf62-ecb29bffd48e",
   "metadata": {},
   "source": [
    "**SIMPLE LINEAR REGRESSION MODELS**"
   ]
  },
  {
   "cell_type": "markdown",
   "id": "66073df4-a094-46e0-a222-d86b6f4aafab",
   "metadata": {},
   "source": [
    "**Predicting MBA Salary from Grade in 10th Marks**\n",
    "\n",
    "From file name: MBA Salary.csv, develop an SLR model to understand and predict salary based on the percentage of marks in Grade 10."
   ]
  },
  {
   "cell_type": "code",
   "execution_count": 22,
   "id": "a750c7d4-ae32-4a01-8a05-667eb015048d",
   "metadata": {},
   "outputs": [],
   "source": [
    "np.set_printoptions(precision=4, linewidth=100)"
   ]
  },
  {
   "cell_type": "markdown",
   "id": "387f91a5-9aa4-4d01-be6e-f9740ed07039",
   "metadata": {},
   "source": [
    "First we import the dataset into the DataFrame"
   ]
  },
  {
   "cell_type": "code",
   "execution_count": 23,
   "id": "3f25082f-713e-4398-a1c8-b2a717b06e4d",
   "metadata": {},
   "outputs": [
    {
     "data": {
      "text/html": [
       "<div>\n",
       "<style scoped>\n",
       "    .dataframe tbody tr th:only-of-type {\n",
       "        vertical-align: middle;\n",
       "    }\n",
       "\n",
       "    .dataframe tbody tr th {\n",
       "        vertical-align: top;\n",
       "    }\n",
       "\n",
       "    .dataframe thead th {\n",
       "        text-align: right;\n",
       "    }\n",
       "</style>\n",
       "<table border=\"1\" class=\"dataframe\">\n",
       "  <thead>\n",
       "    <tr style=\"text-align: right;\">\n",
       "      <th></th>\n",
       "      <th>S. No.</th>\n",
       "      <th>Percentage in Grade 10</th>\n",
       "      <th>Salary</th>\n",
       "    </tr>\n",
       "  </thead>\n",
       "  <tbody>\n",
       "    <tr>\n",
       "      <th>0</th>\n",
       "      <td>1</td>\n",
       "      <td>62.00</td>\n",
       "      <td>270000</td>\n",
       "    </tr>\n",
       "    <tr>\n",
       "      <th>1</th>\n",
       "      <td>2</td>\n",
       "      <td>76.33</td>\n",
       "      <td>200000</td>\n",
       "    </tr>\n",
       "    <tr>\n",
       "      <th>2</th>\n",
       "      <td>3</td>\n",
       "      <td>72.00</td>\n",
       "      <td>240000</td>\n",
       "    </tr>\n",
       "    <tr>\n",
       "      <th>3</th>\n",
       "      <td>4</td>\n",
       "      <td>60.00</td>\n",
       "      <td>250000</td>\n",
       "    </tr>\n",
       "    <tr>\n",
       "      <th>4</th>\n",
       "      <td>5</td>\n",
       "      <td>61.00</td>\n",
       "      <td>180000</td>\n",
       "    </tr>\n",
       "  </tbody>\n",
       "</table>\n",
       "</div>"
      ],
      "text/plain": [
       "   S. No.  Percentage in Grade 10  Salary\n",
       "0       1                   62.00  270000\n",
       "1       2                   76.33  200000\n",
       "2       3                   72.00  240000\n",
       "3       4                   60.00  250000\n",
       "4       5                   61.00  180000"
      ]
     },
     "execution_count": 23,
     "metadata": {},
     "output_type": "execute_result"
    }
   ],
   "source": [
    "mba_salary = pd.read_csv('MBA Salary.csv')\n",
    "mba_salary.head()"
   ]
  },
  {
   "cell_type": "code",
   "execution_count": 24,
   "id": "65a698b1-50bd-4ec6-97c2-e02d027ed51f",
   "metadata": {},
   "outputs": [
    {
     "name": "stdout",
     "output_type": "stream",
     "text": [
      "<class 'pandas.core.frame.DataFrame'>\n",
      "RangeIndex: 50 entries, 0 to 49\n",
      "Data columns (total 3 columns):\n",
      " #   Column                  Non-Null Count  Dtype  \n",
      "---  ------                  --------------  -----  \n",
      " 0   S. No.                  50 non-null     int64  \n",
      " 1   Percentage in Grade 10  50 non-null     float64\n",
      " 2   Salary                  50 non-null     int64  \n",
      "dtypes: float64(1), int64(2)\n",
      "memory usage: 1.3 KB\n"
     ]
    }
   ],
   "source": [
    "mba_salary.info()"
   ]
  },
  {
   "cell_type": "markdown",
   "id": "61a11d3c-5784-4397-b22f-3b620b5ddd3d",
   "metadata": {},
   "source": [
    "**Creating Feature Set(X) and Outcome Variable(Y)** :-\n",
    "   The Percentage in Grade 10 will be X and Salary will be Y. To estimate regression coefficient $\\beta_0$, a constant term of 1 needs to be added as a separate column.\n",
    " \n"
   ]
  },
  {
   "cell_type": "code",
   "execution_count": 25,
   "id": "df4195f2-8397-41ae-bbaa-9f1ab49d68c9",
   "metadata": {},
   "outputs": [
    {
     "data": {
      "text/plain": [
       "0    270000\n",
       "1    200000\n",
       "2    240000\n",
       "3    250000\n",
       "4    180000\n",
       "Name: Salary, dtype: int64"
      ]
     },
     "execution_count": 25,
     "metadata": {},
     "output_type": "execute_result"
    }
   ],
   "source": [
    "X = sm.add_constant(mba_salary['Percentage in Grade 10'])\n",
    "Y = mba_salary['Salary']\n",
    "Y.head()"
   ]
  },
  {
   "cell_type": "markdown",
   "id": "28f2b349-10f2-4a9d-96c5-ee6e274342e7",
   "metadata": {},
   "source": [
    "**Splitting the Dataset into Training and Validation Sets** :-\n",
    "We use the train_test_split() function from sklearn.model_selection module to split the dataset randomly into training and validation datasets. The parameter train_size takes a fraction between 0 and 1 for specifying training set size. The remaining samples in the original set will be test or validation set. The method takes a seed value in paramenter named random_state, to fix which samples go to training and which ones go to test set."
   ]
  },
  {
   "cell_type": "code",
   "execution_count": 26,
   "id": "a674f12d-55ef-45ac-ae13-50dcdfdddb4c",
   "metadata": {},
   "outputs": [],
   "source": [
    "train_X, test_X, train_Y, test_Y = train_test_split(X, Y, train_size=0.8, random_state=100)"
   ]
  },
  {
   "cell_type": "markdown",
   "id": "e48a97bc-99a9-45c0-8caa-a081dbf48141",
   "metadata": {},
   "source": [
    "**Fitting the Model** :- We will fit the model using OLS method"
   ]
  },
  {
   "cell_type": "code",
   "execution_count": 27,
   "id": "a41838f1-5782-46ee-9dc4-57786072cb1e",
   "metadata": {},
   "outputs": [],
   "source": [
    "mba_salary_lm = sm.OLS(train_Y, train_X).fit()"
   ]
  },
  {
   "cell_type": "markdown",
   "id": "8abc296b-2797-4ecd-888b-3dad0615be65",
   "metadata": {},
   "source": [
    "**Printing Estimated Parameters and Interpreting Them**"
   ]
  },
  {
   "cell_type": "code",
   "execution_count": 28,
   "id": "911c01ba-30bb-4151-a92f-0875b0c1ff5e",
   "metadata": {},
   "outputs": [
    {
     "name": "stdout",
     "output_type": "stream",
     "text": [
      "const                     30587.285652\n",
      "Percentage in Grade 10     3560.587383\n",
      "dtype: float64\n"
     ]
    }
   ],
   "source": [
    "print(mba_salary_lm.params)"
   ]
  },
  {
   "cell_type": "markdown",
   "id": "84497f05-8779-4e73-a197-0ba3c6e25072",
   "metadata": {},
   "source": [
    "The estimated(predicted) model can be written as :\n",
    "MBA Salary = 30587.285 + 3560.587 * (Percentage in Grade 10)"
   ]
  },
  {
   "cell_type": "markdown",
   "id": "4e1db93d-288a-49f6-ac61-a5980b874acf",
   "metadata": {},
   "source": [
    "**MODEL DIAGNOSTICS**"
   ]
  },
  {
   "cell_type": "code",
   "execution_count": 29,
   "id": "10999c83-d38a-4680-8925-90cc02ae3e86",
   "metadata": {},
   "outputs": [
    {
     "data": {
      "text/html": [
       "<table class=\"simpletable\">\n",
       "<tr>\n",
       "        <td>Model:</td>               <td>OLS</td>         <td>Adj. R-squared:</td>      <td>0.190</td>  \n",
       "</tr>\n",
       "<tr>\n",
       "  <td>Dependent Variable:</td>      <td>Salary</td>             <td>AIC:</td>          <td>1008.8680</td>\n",
       "</tr>\n",
       "<tr>\n",
       "         <td>Date:</td>        <td>2025-06-03 11:36</td>        <td>BIC:</td>          <td>1012.2458</td>\n",
       "</tr>\n",
       "<tr>\n",
       "   <td>No. Observations:</td>         <td>40</td>          <td>Log-Likelihood:</td>     <td>-502.43</td> \n",
       "</tr>\n",
       "<tr>\n",
       "       <td>Df Model:</td>              <td>1</td>           <td>F-statistic:</td>        <td>10.16</td>  \n",
       "</tr>\n",
       "<tr>\n",
       "     <td>Df Residuals:</td>           <td>38</td>        <td>Prob (F-statistic):</td>   <td>0.00287</td> \n",
       "</tr>\n",
       "<tr>\n",
       "      <td>R-squared:</td>            <td>0.211</td>            <td>Scale:</td>        <td>5.0121e+09</td>\n",
       "</tr>\n",
       "</table>\n",
       "<table class=\"simpletable\">\n",
       "<tr>\n",
       "             <td></td>               <th>Coef.</th>    <th>Std.Err.</th>     <th>t</th>    <th>P>|t|</th>    <th>[0.025</th>      <th>0.975]</th>   \n",
       "</tr>\n",
       "<tr>\n",
       "  <th>const</th>                  <td>30587.2857</td> <td>71869.4497</td> <td>0.4256</td> <td>0.6728</td> <td>-114904.8088</td> <td>176079.3801</td>\n",
       "</tr>\n",
       "<tr>\n",
       "  <th>Percentage in Grade 10</th>  <td>3560.5874</td>  <td>1116.9258</td> <td>3.1878</td> <td>0.0029</td>   <td>1299.4892</td>   <td>5821.6855</td> \n",
       "</tr>\n",
       "</table>\n",
       "<table class=\"simpletable\">\n",
       "<tr>\n",
       "     <td>Omnibus:</td>    <td>2.048</td>  <td>Durbin-Watson:</td>   <td>2.611</td>\n",
       "</tr>\n",
       "<tr>\n",
       "  <td>Prob(Omnibus):</td> <td>0.359</td> <td>Jarque-Bera (JB):</td> <td>1.724</td>\n",
       "</tr>\n",
       "<tr>\n",
       "       <td>Skew:</td>     <td>0.369</td>     <td>Prob(JB):</td>     <td>0.422</td>\n",
       "</tr>\n",
       "<tr>\n",
       "     <td>Kurtosis:</td>   <td>2.300</td>  <td>Condition No.:</td>    <td>413</td> \n",
       "</tr>\n",
       "</table><br/>\n",
       "Notes:<br/>\n",
       "[1] Standard Errors assume that the covariance matrix of the errors is correctly specified."
      ],
      "text/latex": [
       "\\begin{table}\n",
       "\\caption{Results: Ordinary least squares}\n",
       "\\label{}\n",
       "\\begin{center}\n",
       "\\begin{tabular}{llll}\n",
       "\\hline\n",
       "Model:              & OLS              & Adj. R-squared:     & 0.190       \\\\\n",
       "Dependent Variable: & Salary           & AIC:                & 1008.8680   \\\\\n",
       "Date:               & 2025-06-03 11:36 & BIC:                & 1012.2458   \\\\\n",
       "No. Observations:   & 40               & Log-Likelihood:     & -502.43     \\\\\n",
       "Df Model:           & 1                & F-statistic:        & 10.16       \\\\\n",
       "Df Residuals:       & 38               & Prob (F-statistic): & 0.00287     \\\\\n",
       "R-squared:          & 0.211            & Scale:              & 5.0121e+09  \\\\\n",
       "\\hline\n",
       "\\end{tabular}\n",
       "\\end{center}\n",
       "\n",
       "\\begin{center}\n",
       "\\begin{tabular}{lrrrrrr}\n",
       "\\hline\n",
       "                       &      Coef. &   Std.Err. &      t & P$> |$t$|$ &       [0.025 &      0.975]  \\\\\n",
       "\\hline\n",
       "const                  & 30587.2857 & 71869.4497 & 0.4256 &      0.6728 & -114904.8088 & 176079.3801  \\\\\n",
       "Percentage in Grade 10 &  3560.5874 &  1116.9258 & 3.1878 &      0.0029 &    1299.4892 &   5821.6855  \\\\\n",
       "\\hline\n",
       "\\end{tabular}\n",
       "\\end{center}\n",
       "\n",
       "\\begin{center}\n",
       "\\begin{tabular}{llll}\n",
       "\\hline\n",
       "Omnibus:       & 2.048 & Durbin-Watson:    & 2.611  \\\\\n",
       "Prob(Omnibus): & 0.359 & Jarque-Bera (JB): & 1.724  \\\\\n",
       "Skew:          & 0.369 & Prob(JB):         & 0.422  \\\\\n",
       "Kurtosis:      & 2.300 & Condition No.:    & 413    \\\\\n",
       "\\hline\n",
       "\\end{tabular}\n",
       "\\end{center}\n",
       "\\end{table}\n",
       "\\bigskip\n",
       "Notes: \\newline \n",
       "[1] Standard Errors assume that the covariance matrix of the errors is correctly specified."
      ],
      "text/plain": [
       "<class 'statsmodels.iolib.summary2.Summary'>\n",
       "\"\"\"\n",
       "                          Results: Ordinary least squares\n",
       "===================================================================================\n",
       "Model:                    OLS                   Adj. R-squared:          0.190     \n",
       "Dependent Variable:       Salary                AIC:                     1008.8680 \n",
       "Date:                     2025-06-03 11:36      BIC:                     1012.2458 \n",
       "No. Observations:         40                    Log-Likelihood:          -502.43   \n",
       "Df Model:                 1                     F-statistic:             10.16     \n",
       "Df Residuals:             38                    Prob (F-statistic):      0.00287   \n",
       "R-squared:                0.211                 Scale:                   5.0121e+09\n",
       "-----------------------------------------------------------------------------------\n",
       "                         Coef.     Std.Err.    t    P>|t|     [0.025       0.975]  \n",
       "-----------------------------------------------------------------------------------\n",
       "const                  30587.2857 71869.4497 0.4256 0.6728 -114904.8088 176079.3801\n",
       "Percentage in Grade 10  3560.5874  1116.9258 3.1878 0.0029    1299.4892   5821.6855\n",
       "-----------------------------------------------------------------------------------\n",
       "Omnibus:                    2.048              Durbin-Watson:                 2.611\n",
       "Prob(Omnibus):              0.359              Jarque-Bera (JB):              1.724\n",
       "Skew:                       0.369              Prob(JB):                      0.422\n",
       "Kurtosis:                   2.300              Condition No.:                 413  \n",
       "===================================================================================\n",
       "Notes:\n",
       "[1] Standard Errors assume that the covariance matrix of the errors is correctly\n",
       "specified.\n",
       "\"\"\""
      ]
     },
     "execution_count": 29,
     "metadata": {},
     "output_type": "execute_result"
    }
   ],
   "source": [
    "mba_salary_lm.summary2()"
   ]
  },
  {
   "cell_type": "markdown",
   "id": "74de8920-6125-4048-99e1-58d6f41af43f",
   "metadata": {},
   "source": [
    "From the summary output shown above, we can infer the folowing :-\n",
    "1. The model R-squared value is 0.211, that is, the model explains 21.1% of the variation in salary.\n",
    "2. The p-value for the t-test is 0.0029 which indicates that there is a statistaclly significant relationship (at significance value $\\alpha$ = 0.05) between the feature, percentage in grade 10, and salary. Als the probability value of F-statistic of the model is 0.0029 which indicates that the overall model is statistically significant."
   ]
  },
  {
   "cell_type": "markdown",
   "id": "a8a30bcc-7de8-4baa-8d8e-c2d8f7fdb2e1",
   "metadata": {},
   "source": [
    "**RESIDUAL ANALYSIS** : \n",
    "\n",
    "It is performed to check the following :\n",
    "1. The residuals are normally distributed.\n",
    "2. Variance of residual is constant (homoscedasticity).\n",
    "3. The functional form of regression is correctly specified.\n",
    "4. There are no outliers."
   ]
  },
  {
   "cell_type": "raw",
   "id": "72399dbd-d6c0-4457-bd66-097c661087a2",
   "metadata": {},
   "source": []
  },
  {
   "cell_type": "markdown",
   "id": "f7b955e3-c6ce-47e5-9a40-b738c1e29665",
   "metadata": {},
   "source": [
    "**1.Checking for Normal Distribution of Residual**"
   ]
  },
  {
   "cell_type": "code",
   "execution_count": 32,
   "id": "eccdf909-1588-452c-a5d9-747deca3a0b1",
   "metadata": {},
   "outputs": [
    {
     "data": {
      "image/png": "[encoded data removed]",
      "text/plain": [
       "<Figure size 640x480 with 1 Axes>"
      ]
     },
     "metadata": {},
     "output_type": "display_data"
    }
   ],
   "source": [
    "# We also need to standardize the residuals\n",
    "standardized_resid = StandardScaler().fit_transform(mba_salary_lm.resid.values.reshape(-1, 1)).flatten()\n",
    "\n",
    "probplot = sm.ProbPlot(standardized_resid)\n",
    "probplot.ppplot(line='45')\n",
    "plt.title(\"Fig SLR(1) - Normal P-P Plot of Regression Standardized Residuals\")\n",
    "plt.show()"
   ]
  },
  {
   "cell_type": "markdown",
   "id": "532ace02-8dbd-43a2-bb36-8f31bbcdf906",
   "metadata": {},
   "source": [
    "Since the dots are close to the diagonal line, we can conclude the residuals follow an approximate normal distribution."
   ]
  },
  {
   "cell_type": "markdown",
   "id": "0dcc8dd9-6f4d-417a-a3c9-ccb107f2f024",
   "metadata": {},
   "source": [
    "**2. Test of Homoscedasticity**"
   ]
  },
  {
   "cell_type": "code",
   "execution_count": 34,
   "id": "9f07c1b9-3977-46df-a93e-4b7aac247b93",
   "metadata": {},
   "outputs": [
    {
     "data": {
      "image/png": "[encoded data removed]",
      "text/plain": [
       "<Figure size 640x480 with 1 Axes>"
      ]
     },
     "metadata": {},
     "output_type": "display_data"
    }
   ],
   "source": [
    "def get_standardized_values(vals):\n",
    "    return (vals - vals.mean()) / vals.std()\n",
    "\n",
    "\n",
    "plt.scatter(get_standardized_values(mba_salary_lm.fittedvalues), get_standardized_values(mba_salary_resid))\n",
    "plt.title(\"Fig SLR(2) - Residual Plot: MBA Salary Prediction\")\n",
    "plt.xlabel(\"Standardized predicted values\")\n",
    "plt.ylabel(\"Standardized Residuals\")\n",
    "plt.show()"
   ]
  },
  {
   "cell_type": "markdown",
   "id": "b670a42d-b504-4f9f-9a23-27b4b5c059a3",
   "metadata": {},
   "source": [
    "From the scatter plot, it is observed that the residuals are random and have no funnel shape, which means the residuals have constant variance(homeoscedasticity)."
   ]
  },
  {
   "cell_type": "markdown",
   "id": "a74f9e4a-3021-4693-8c62-f54deb944808",
   "metadata": {},
   "source": [
    "**Outlier Analysis**"
   ]
  },
  {
   "cell_type": "markdown",
   "id": "58ef6c21-cb37-4a89-af06-04ca6c909bd3",
   "metadata": {},
   "source": [
    "1. Z-Score"
   ]
  },
  {
   "cell_type": "code",
   "execution_count": 36,
   "id": "2a8253cc-faf7-453a-9918-5ce78b87589b",
   "metadata": {},
   "outputs": [
    {
     "data": {
      "text/html": [
       "<div>\n",
       "<style scoped>\n",
       "    .dataframe tbody tr th:only-of-type {\n",
       "        vertical-align: middle;\n",
       "    }\n",
       "\n",
       "    .dataframe tbody tr th {\n",
       "        vertical-align: top;\n",
       "    }\n",
       "\n",
       "    .dataframe thead th {\n",
       "        text-align: right;\n",
       "    }\n",
       "</style>\n",
       "<table border=\"1\" class=\"dataframe\">\n",
       "  <thead>\n",
       "    <tr style=\"text-align: right;\">\n",
       "      <th></th>\n",
       "      <th>S. No.</th>\n",
       "      <th>Percentage in Grade 10</th>\n",
       "      <th>Salary</th>\n",
       "      <th>z_score_salary</th>\n",
       "    </tr>\n",
       "  </thead>\n",
       "  <tbody>\n",
       "  </tbody>\n",
       "</table>\n",
       "</div>"
      ],
      "text/plain": [
       "Empty DataFrame\n",
       "Columns: [S. No., Percentage in Grade 10, Salary, z_score_salary]\n",
       "Index: []"
      ]
     },
     "execution_count": 36,
     "metadata": {},
     "output_type": "execute_result"
    }
   ],
   "source": [
    "mba_salary['z_score_salary'] = stats.zscore(mba_salary.Salary)\n",
    "mba_salary[(mba_salary.z_score_salary > 3.0) | (mba_salary.z_score_salary < -3.0)]"
   ]
  },
  {
   "cell_type": "markdown",
   "id": "392b5c86-fb2f-47bf-970e-f941e36c1996",
   "metadata": {},
   "source": [
    "We see that there are no observations that are outliers as per the Z-score"
   ]
  },
  {
   "cell_type": "markdown",
   "id": "4ca6c627-00d9-4425-8561-15910a0682b9",
   "metadata": {},
   "source": [
    "2. Cook's Distance"
   ]
  },
  {
   "cell_type": "code",
   "execution_count": 39,
   "id": "f9d8c27e-7f7e-4908-b28e-f5945c5c8d15",
   "metadata": {},
   "outputs": [
    {
     "data": {
      "image/png": "[encoded data removed]",
      "text/plain": [
       "<Figure size 640x480 with 1 Axes>"
      ]
     },
     "metadata": {},
     "output_type": "display_data"
    }
   ],
   "source": [
    "mba_influence = mba_salary_lm.get_influence()\n",
    "(c, p) = mba_influence.cooks_distance\n",
    "\n",
    "plt.stem(np.arange(len(train_X)), np.round(c, 3), markerfmt=\",\")\n",
    "plt.title(\"Figure SLR(3) - Cooks's distance for all observations in MBA Salary Data Ser\")\n",
    "plt.xlabel(\"Row Index\")\n",
    "plt.ylabel(\"Cook's Distance\")\n",
    "plt.grid()\n",
    "plt.show()"
   ]
  },
  {
   "cell_type": "markdown",
   "id": "0de988e7-e3c5-4d80-8663-2a8df63bf914",
   "metadata": {},
   "source": [
    "From the above figure, it can be observed that none of the observations' Cook's distance exceed 1 and hence none of them are outliers"
   ]
  },
  {
   "cell_type": "markdown",
   "id": "619789d5-e2b1-443f-9f17-15b8fcd19ec4",
   "metadata": {},
   "source": [
    "3. Leverage Values"
   ]
  },
  {
   "cell_type": "code",
   "execution_count": 40,
   "id": "ae060124-ae1e-494c-8d7a-af4a38a19ead",
   "metadata": {},
   "outputs": [
    {
     "data": {
      "image/png": "[encoded data removed]",
      "text/plain": [
       "<Figure size 800x600 with 1 Axes>"
      ]
     },
     "metadata": {},
     "output_type": "display_data"
    }
   ],
   "source": [
    "from statsmodels.graphics.regressionplots import influence_plot\n",
    "\n",
    "fig, ax = plt.subplots(figsize=(8, 6))\n",
    "influence_plot(mba_salary_lm, ax=ax)\n",
    "plt.title(\"Figure SLR(4) - Leverage Values VS Residuals\")\n",
    "plt.show()"
   ]
  },
  {
   "cell_type": "markdown",
   "id": "78c88e3c-eccf-4c9c-b5c7-7bd2c9d02076",
   "metadata": {},
   "source": [
    "In the above figure, the size of the circle is proportional to the product of residual and leverage value. The larger the circle, the larger is the residual and hence influence of the observation."
   ]
  },
  {
   "cell_type": "markdown",
   "id": "411af9b2-33f0-4787-abc6-d84e0bebaa36",
   "metadata": {},
   "source": []
  },
  {
   "cell_type": "markdown",
   "id": "ec4ddee4-434f-485e-86bc-f4324ea18c20",
   "metadata": {},
   "source": [
    "**Making Prediction and Measuring Accuracy** \n",
    "\n",
    "Ideally, the prediction should be made on the validation (or test) data and the accuracy of prediction should be evaluated."
   ]
  },
  {
   "cell_type": "markdown",
   "id": "c72ec952-ca62-4035-b817-67c12f3c9949",
   "metadata": {},
   "source": [
    "1. Predicting using the Validation Set"
   ]
  },
  {
   "cell_type": "code",
   "execution_count": 45,
   "id": "08770393-64e1-43ad-b6de-67cac78e4532",
   "metadata": {},
   "outputs": [],
   "source": [
    "pred_Y = mba_salary_lm.predict(test_X)"
   ]
  },
  {
   "cell_type": "markdown",
   "id": "a87352d0-c038-40db-ab85-9f681e234e29",
   "metadata": {},
   "source": [
    "2. Finding R-Squared and RMSE"
   ]
  },
  {
   "cell_type": "code",
   "execution_count": 46,
   "id": "43a54a99-4509-4acd-9085-0f266cd7f37e",
   "metadata": {},
   "outputs": [
    {
     "data": {
      "text/plain": [
       "np.float64(0.156645849742304)"
      ]
     },
     "execution_count": 46,
     "metadata": {},
     "output_type": "execute_result"
    }
   ],
   "source": [
    "from sklearn.metrics import r2_score, mean_squared_error\n",
    "\n",
    "np.abs(r2_score(test_Y, pred_Y))"
   ]
  },
  {
   "cell_type": "markdown",
   "id": "f6b1c0f4-264a-48a1-ab13-775fea7b804c",
   "metadata": {},
   "source": [
    "So, the model only explains 15.6% of the variance of the validation set"
   ]
  },
  {
   "cell_type": "code",
   "execution_count": 47,
   "id": "49d3410a-1df7-41b3-bda5-eefc5aaca140",
   "metadata": {},
   "outputs": [
    {
     "data": {
      "text/plain": [
       "np.float64(73458.04348346895)"
      ]
     },
     "execution_count": 47,
     "metadata": {},
     "output_type": "execute_result"
    }
   ],
   "source": [
    "np.sqrt(mean_squared_error(test_Y, pred_Y))"
   ]
  },
  {
   "cell_type": "markdown",
   "id": "7f5a999b-61f3-42af-af44-31ea42d13ef5",
   "metadata": {},
   "source": [
    "RMSE means the average error the model makes in predicting the outcome. The smaller the value of RMSE, the better model is."
   ]
  },
  {
   "cell_type": "code",
   "execution_count": 49,
   "id": "b268476a-5d92-428f-9a69-dd6398b81e51",
   "metadata": {},
   "outputs": [
    {
     "name": "stdout",
     "output_type": "stream",
     "text": [
      "Relative Error: 28.45%\n"
     ]
    }
   ],
   "source": [
    "mean_salary = mba_salary['Salary'].mean()\n",
    "rmse = 73458.04348346895\n",
    "relative_error = rmse / mean_salary\n",
    "print(f\"Relative Error: {relative_error:.2%}\")\n"
   ]
  },
  {
   "cell_type": "markdown",
   "id": "ce98bb91-782f-4a0e-8f5a-574bbb8dd27c",
   "metadata": {},
   "source": [
    "3. Calculating Prediction Intervals"
   ]
  },
  {
   "cell_type": "code",
   "execution_count": 56,
   "id": "01247e78-93b6-46e3-b300-804e7bd31f4b",
   "metadata": {},
   "outputs": [
    {
     "data": {
      "text/html": [
       "<div>\n",
       "<style scoped>\n",
       "    .dataframe tbody tr th:only-of-type {\n",
       "        vertical-align: middle;\n",
       "    }\n",
       "\n",
       "    .dataframe tbody tr th {\n",
       "        vertical-align: top;\n",
       "    }\n",
       "\n",
       "    .dataframe thead th {\n",
       "        text-align: right;\n",
       "    }\n",
       "</style>\n",
       "<table border=\"1\" class=\"dataframe\">\n",
       "  <thead>\n",
       "    <tr style=\"text-align: right;\">\n",
       "      <th></th>\n",
       "      <th>grade_10_perc</th>\n",
       "      <th>pred_Y</th>\n",
       "      <th>pred_y_left</th>\n",
       "      <th>pred_y_right</th>\n",
       "    </tr>\n",
       "  </thead>\n",
       "  <tbody>\n",
       "    <tr>\n",
       "      <th>6</th>\n",
       "      <td>70.0</td>\n",
       "      <td>279828.402452</td>\n",
       "      <td>158379.831862</td>\n",
       "      <td>401276.973042</td>\n",
       "    </tr>\n",
       "    <tr>\n",
       "      <th>36</th>\n",
       "      <td>68.0</td>\n",
       "      <td>272707.227686</td>\n",
       "      <td>151576.714839</td>\n",
       "      <td>393837.740534</td>\n",
       "    </tr>\n",
       "    <tr>\n",
       "      <th>37</th>\n",
       "      <td>52.0</td>\n",
       "      <td>215737.829560</td>\n",
       "      <td>92950.942211</td>\n",
       "      <td>338524.716909</td>\n",
       "    </tr>\n",
       "    <tr>\n",
       "      <th>28</th>\n",
       "      <td>58.0</td>\n",
       "      <td>237101.353858</td>\n",
       "      <td>115806.869437</td>\n",
       "      <td>358395.838278</td>\n",
       "    </tr>\n",
       "    <tr>\n",
       "      <th>43</th>\n",
       "      <td>74.5</td>\n",
       "      <td>295851.045675</td>\n",
       "      <td>173266.083158</td>\n",
       "      <td>418436.008191</td>\n",
       "    </tr>\n",
       "    <tr>\n",
       "      <th>49</th>\n",
       "      <td>60.8</td>\n",
       "      <td>247070.998530</td>\n",
       "      <td>126117.560802</td>\n",
       "      <td>368024.436257</td>\n",
       "    </tr>\n",
       "    <tr>\n",
       "      <th>5</th>\n",
       "      <td>55.0</td>\n",
       "      <td>226419.591709</td>\n",
       "      <td>104507.444206</td>\n",
       "      <td>348331.739212</td>\n",
       "    </tr>\n",
       "    <tr>\n",
       "      <th>33</th>\n",
       "      <td>78.0</td>\n",
       "      <td>308313.101515</td>\n",
       "      <td>184450.060303</td>\n",
       "      <td>432176.142727</td>\n",
       "    </tr>\n",
       "    <tr>\n",
       "      <th>20</th>\n",
       "      <td>63.0</td>\n",
       "      <td>254904.290772</td>\n",
       "      <td>134057.999077</td>\n",
       "      <td>375750.582466</td>\n",
       "    </tr>\n",
       "    <tr>\n",
       "      <th>42</th>\n",
       "      <td>74.4</td>\n",
       "      <td>295494.986937</td>\n",
       "      <td>172941.528507</td>\n",
       "      <td>418048.445366</td>\n",
       "    </tr>\n",
       "  </tbody>\n",
       "</table>\n",
       "</div>"
      ],
      "text/plain": [
       "    grade_10_perc         pred_Y    pred_y_left   pred_y_right\n",
       "6            70.0  279828.402452  158379.831862  401276.973042\n",
       "36           68.0  272707.227686  151576.714839  393837.740534\n",
       "37           52.0  215737.829560   92950.942211  338524.716909\n",
       "28           58.0  237101.353858  115806.869437  358395.838278\n",
       "43           74.5  295851.045675  173266.083158  418436.008191\n",
       "49           60.8  247070.998530  126117.560802  368024.436257\n",
       "5            55.0  226419.591709  104507.444206  348331.739212\n",
       "33           78.0  308313.101515  184450.060303  432176.142727\n",
       "20           63.0  254904.290772  134057.999077  375750.582466\n",
       "42           74.4  295494.986937  172941.528507  418048.445366"
      ]
     },
     "execution_count": 56,
     "metadata": {},
     "output_type": "execute_result"
    }
   ],
   "source": [
    "from statsmodels.sandbox.regression.predstd import wls_prediction_std\n",
    "\n",
    "# Predict Y\n",
    "pred_Y = mba_salary_lm.predict(test_X)\n",
    "\n",
    "# Get prediction standard errors and intervals\n",
    "prstd, pred_y_low, pred_y_high = wls_prediction_std(mba_salary_lm, exog=test_X, alpha=0.1)\n",
    "\n",
    "# Create DataFrame\n",
    "pred_y_df = pd.DataFrame({\n",
    "    'grade_10_perc': test_X['Percentage in Grade 10'],\n",
    "    'pred_Y': pred_Y,\n",
    "    'pred_y_left': pred_y_low,\n",
    "    'pred_y_right': pred_y_high\n",
    "})\n",
    "pred_y_df"
   ]
  },
  {
   "cell_type": "code",
   "execution_count": null,
   "id": "ffc17fc2-c9bb-45e4-a823-156221215931",
   "metadata": {},
   "outputs": [],
   "source": [
    "# Accuracy of the Model using  Mean Absolute Percentage Error (MAPE)\n",
    "from sklearn.metrics import mean_absolute_percentage_error\n",
    "mape = mean_absolute_percentage_error(test_Y, pred_Y)\n",
    "print(f\"MAPE: {mape * 100:.2f}%\")"
   ]
  },
  {
   "cell_type": "raw",
   "id": "0bb87dbb-b08b-4900-8d28-e13e7ff98238",
   "metadata": {},
   "source": []
  },
  {
   "cell_type": "markdown",
   "id": "39ed4059-9f03-4a8f-9afe-f1f3ec2f7ef5",
   "metadata": {},
   "source": [
    "**EXERCISE**"
   ]
  },
  {
   "cell_type": "code",
   "execution_count": null,
   "id": "f11c4de8-2e15-4ec9-91ef-aff205cbc6e3",
   "metadata": {},
   "outputs": [],
   "source": []
  }
 ],
 "metadata": {
  "kernelspec": {
   "display_name": "Python 3 (ipykernel)",
   "language": "python",
   "name": "python3"
  },
  "language_info": {
   "codemirror_mode": {
    "name": "ipython",
    "version": 3
   },
   "file_extension": ".py",
   "mimetype": "text/x-python",
   "name": "python",
   "nbconvert_exporter": "python",
   "pygments_lexer": "ipython3",
   "version": "3.13.2"
  }
 },
 "nbformat": 4,
 "nbformat_minor": 5
}
