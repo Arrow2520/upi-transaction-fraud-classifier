{
 "cells": [
  {
   "cell_type": "markdown",
   "id": "2060d653-13e6-457b-a161-9548907928ab",
   "metadata": {},
   "source": [
    "**SET**"
   ]
  },
  {
   "cell_type": "code",
   "execution_count": 8,
   "id": "df9bbb80-cb34-4c66-9e2e-5dc4669cff86",
   "metadata": {},
   "outputs": [],
   "source": [
    "fruits = {'apple', 'banana', 'apple', 'orange'}\n"
   ]
  },
  {
   "cell_type": "code",
   "execution_count": 9,
   "id": "43bdae48-84eb-4d93-b65c-6882e9792333",
   "metadata": {},
   "outputs": [
    {
     "name": "stdout",
     "output_type": "stream",
     "text": [
      "<class 'set'>\n"
     ]
    }
   ],
   "source": [
    "print(type(fruits))"
   ]
  },
  {
   "cell_type": "code",
   "execution_count": 10,
   "id": "8c5c3935-5c85-4a40-89dc-fd8e9e1952a8",
   "metadata": {},
   "outputs": [
    {
     "name": "stdout",
     "output_type": "stream",
     "text": [
      "{1, 2, 3}\n"
     ]
    }
   ],
   "source": [
    "# Another way of using or defining a set using 'set' construct\n",
    "vegetables = set([1, 2, 2, 3])\n",
    "print(vegetables)"
   ]
  },
  {
   "cell_type": "code",
   "execution_count": 11,
   "id": "4861d09f-4070-4a0f-b7ab-5a9104ae9f0b",
   "metadata": {},
   "outputs": [
    {
     "name": "stdout",
     "output_type": "stream",
     "text": [
      "set()\n"
     ]
    }
   ],
   "source": [
    "empty_set = set()\n",
    "print(empty_set)"
   ]
  },
  {
   "cell_type": "code",
   "execution_count": 14,
   "id": "afeed8c8-040b-431a-84fb-0bb040d91160",
   "metadata": {},
   "outputs": [
    {
     "name": "stdout",
     "output_type": "stream",
     "text": [
      "<class 'dict'>\n"
     ]
    }
   ],
   "source": [
    "# Creating an empty dictionary\n",
    "dict1 = {}\n",
    "print(type(dict1))"
   ]
  },
  {
   "cell_type": "code",
   "execution_count": 18,
   "id": "592dd04e-f2ba-4c27-b726-e6e5690799e4",
   "metadata": {},
   "outputs": [
    {
     "name": "stdout",
     "output_type": "stream",
     "text": [
      "<class 'set'>\n"
     ]
    }
   ],
   "source": [
    "set1 = set()\n",
    "print(type(set1))"
   ]
  },
  {
   "cell_type": "code",
   "execution_count": 20,
   "id": "85e184ad-2937-4e48-a77f-3522166170e2",
   "metadata": {},
   "outputs": [
    {
     "data": {
      "text/plain": [
       "{1}"
      ]
     },
     "execution_count": 20,
     "metadata": {},
     "output_type": "execute_result"
    }
   ],
   "source": [
    "# Adding element in set\n",
    "set1.add(1)\n",
    "set1"
   ]
  },
  {
   "cell_type": "code",
   "execution_count": 27,
   "id": "61764bc5-231a-450b-bdd6-3d6178134246",
   "metadata": {},
   "outputs": [
    {
     "name": "stdout",
     "output_type": "stream",
     "text": [
      "{1, 2, 3, 5}\n"
     ]
    }
   ],
   "source": [
    "# updating the elements\n",
    "set1.update([2, 3])\n",
    "set1.update([2, 3, 5]) # repeating elements do not get added\n",
    "print(set1)"
   ]
  },
  {
   "cell_type": "code",
   "execution_count": 28,
   "id": "f31aa702-4e2a-4577-a68b-ba21a140225f",
   "metadata": {},
   "outputs": [
    {
     "data": {
      "text/plain": [
       "{1, 2, 3}"
      ]
     },
     "execution_count": 28,
     "metadata": {},
     "output_type": "execute_result"
    }
   ],
   "source": [
    "# removing elements\n",
    "set1.remove(5)\n",
    "set1"
   ]
  },
  {
   "cell_type": "code",
   "execution_count": 29,
   "id": "9c11ec17-0075-487f-80c0-8a5c00ba5f08",
   "metadata": {},
   "outputs": [
    {
     "data": {
      "text/plain": [
       "{1, 2}"
      ]
     },
     "execution_count": 29,
     "metadata": {},
     "output_type": "execute_result"
    }
   ],
   "source": [
    "set1.discard(3)\n",
    "set1"
   ]
  },
  {
   "cell_type": "markdown",
   "id": "e8ac26e2-e378-4ea8-8d5a-5d1e53c167ec",
   "metadata": {},
   "source": [
    "Difference between `.discard()` and `.remove()` is that , even if the element is not present in the set, no error will be shown by `.discard()` while `.remove()` will show an error"
   ]
  },
  {
   "cell_type": "code",
   "execution_count": 30,
   "id": "b8ad066c-faa1-45b6-aad0-f2231f685fc4",
   "metadata": {},
   "outputs": [
    {
     "data": {
      "text/plain": [
       "1"
      ]
     },
     "execution_count": 30,
     "metadata": {},
     "output_type": "execute_result"
    }
   ],
   "source": [
    "set1.pop() "
   ]
  },
  {
   "cell_type": "code",
   "execution_count": 31,
   "id": "7efaff6d-3009-4eaf-a62b-a11dde9db3c1",
   "metadata": {},
   "outputs": [
    {
     "data": {
      "text/plain": [
       "2"
      ]
     },
     "execution_count": 31,
     "metadata": {},
     "output_type": "execute_result"
    }
   ],
   "source": [
    "set1.pop()"
   ]
  },
  {
   "cell_type": "code",
   "execution_count": 32,
   "id": "e74173c5-d172-42cf-9dd2-8c98e20eb569",
   "metadata": {},
   "outputs": [
    {
     "data": {
      "text/plain": [
       "set()"
      ]
     },
     "execution_count": 32,
     "metadata": {},
     "output_type": "execute_result"
    }
   ],
   "source": [
    "set1"
   ]
  },
  {
   "cell_type": "code",
   "execution_count": 33,
   "id": "b753d801-e408-4a78-8c5d-a199290d1ff3",
   "metadata": {},
   "outputs": [
    {
     "data": {
      "text/plain": [
       "\u001b[31mSignature:\u001b[39m set2.pop()\n",
       "\u001b[31mDocstring:\u001b[39m\n",
       "Remove and return an arbitrary set element.\n",
       "\n",
       "Raises KeyError if the set is empty.\n",
       "\u001b[31mType:\u001b[39m      builtin_function_or_method"
      ]
     },
     "metadata": {},
     "output_type": "display_data"
    }
   ],
   "source": [
    "set2 = {1, 16, 4, 8}\n",
    "set2.pop?"
   ]
  },
  {
   "cell_type": "code",
   "execution_count": 34,
   "id": "2399c13e-e019-4edc-9e2f-ab345966545e",
   "metadata": {},
   "outputs": [
    {
     "data": {
      "text/plain": [
       "\u001b[31mSignature:\u001b[39m set.discard(self, object, /)\n",
       "\u001b[31mDocstring:\u001b[39m\n",
       "Remove an element from a set if it is a member.\n",
       "\n",
       "Unlike set.remove(), the discard() method does not raise\n",
       "an exception when an element is missing from the set.\n",
       "\u001b[31mType:\u001b[39m      method_descriptor"
      ]
     },
     "metadata": {},
     "output_type": "display_data"
    }
   ],
   "source": [
    "set.discard?"
   ]
  },
  {
   "cell_type": "code",
   "execution_count": 35,
   "id": "ca3d6247-dde1-46f8-a88c-70d4e31fbd18",
   "metadata": {},
   "outputs": [],
   "source": [
    "# to remove all elements of the set at once.\n",
    "set2.clear()"
   ]
  },
  {
   "cell_type": "code",
   "execution_count": 36,
   "id": "9f726aa4-d79a-4423-aee6-b1f3d7c64c1a",
   "metadata": {},
   "outputs": [
    {
     "data": {
      "text/plain": [
       "set()"
      ]
     },
     "execution_count": 36,
     "metadata": {},
     "output_type": "execute_result"
    }
   ],
   "source": [
    "set2"
   ]
  },
  {
   "cell_type": "code",
   "execution_count": 40,
   "id": "2b3f4ad1-7f1d-497c-aec5-fbaabe099cb9",
   "metadata": {},
   "outputs": [
    {
     "data": {
      "text/plain": [
       "{1, 2, 3, 4, 5, 6, 7, 12}"
      ]
     },
     "execution_count": 40,
     "metadata": {},
     "output_type": "execute_result"
    }
   ],
   "source": [
    "set1 = {1, 2, 3, 6, 7}\n",
    "set2 = {3, 4, 5, 6, 12}\n",
    "set3 = set1.union(set2)\n",
    "set3"
   ]
  },
  {
   "cell_type": "code",
   "execution_count": 43,
   "id": "6bb5d234-6abb-4ce1-a284-4f3effd267d0",
   "metadata": {},
   "outputs": [
    {
     "data": {
      "text/plain": [
       "{3, 6}"
      ]
     },
     "execution_count": 43,
     "metadata": {},
     "output_type": "execute_result"
    }
   ],
   "source": [
    "set4 = set1.intersection(set2)\n",
    "set4"
   ]
  },
  {
   "cell_type": "code",
   "execution_count": 48,
   "id": "861f8b53-a7b3-4747-a9d9-93c68b4b00a3",
   "metadata": {},
   "outputs": [
    {
     "name": "stdout",
     "output_type": "stream",
     "text": [
      "{1, 2, 7}\n",
      "{12, 4, 5}\n"
     ]
    }
   ],
   "source": [
    "print(set1.difference(set2))\n",
    "print(set2.difference(set1))"
   ]
  },
  {
   "cell_type": "markdown",
   "id": "4d0381b3-8e0c-41c6-bc45-583b2523017c",
   "metadata": {},
   "source": [
    "Write a program to create a set having nos 1 to 10 and another set having 2 to 20 and perform union, difference and intersection and also add elements using update."
   ]
  },
  {
   "cell_type": "code",
   "execution_count": 52,
   "id": "2e11f4ee-3dba-4ab0-a438-8ab70698445e",
   "metadata": {},
   "outputs": [
    {
     "name": "stdout",
     "output_type": "stream",
     "text": [
      "Set 1 :-  {1, 2, 3, 4, 5, 6, 7, 8, 9, 10}\n",
      "Set 2 :-  {2, 3, 4, 5, 6, 7, 8, 9, 10, 11, 12, 13, 14, 15, 16, 17, 18, 19, 20}\n",
      "Union =  {1, 2, 3, 4, 5, 6, 7, 8, 9, 10, 11, 12, 13, 14, 15, 16, 17, 18, 19, 20}\n",
      "Intersection =  {2, 3, 4, 5, 6, 7, 8, 9, 10}\n",
      "Difference set1 - set2 =  {1}\n",
      "Difference set2 - set1 =  {11, 12, 13, 14, 15, 16, 17, 18, 19, 20}\n"
     ]
    }
   ],
   "source": [
    "set1 = set()\n",
    "set2 = set()\n",
    "\n",
    "set1.update(range(1, 11))\n",
    "set2.update(range(2, 21))\n",
    "\n",
    "print(\"Set 1 :- \", set1)\n",
    "print(\"Set 2 :- \", set2)\n",
    "\n",
    "setU = set1.union(set2)\n",
    "setI = set1.intersection(set2)\n",
    "setD1 = set1.difference(set2)\n",
    "setD2 = set2.difference(set1)\n",
    "\n",
    "print(\"Union = \", setU)\n",
    "print(\"Intersection = \", setI)\n",
    "print(\"Difference set1 - set2 = \", setD1)\n",
    "print(\"Difference set2 - set1 = \", setD2)"
   ]
  },
  {
   "cell_type": "code",
   "execution_count": 53,
   "id": "593943de-51f2-4618-aaf9-b1028b3f6117",
   "metadata": {},
   "outputs": [
    {
     "data": {
      "text/plain": [
       "False"
      ]
     },
     "execution_count": 53,
     "metadata": {},
     "output_type": "execute_result"
    }
   ],
   "source": [
    "setA = {1, 2, 3, 4, 5, 6}\n",
    "setB = {2, 3, 4}\n",
    "set1.issubset(set2)"
   ]
  },
  {
   "cell_type": "code",
   "execution_count": 54,
   "id": "8646e8ce-01dd-4ce5-bd79-6035e2bcabc2",
   "metadata": {},
   "outputs": [
    {
     "data": {
      "text/plain": [
       "True"
      ]
     },
     "execution_count": 54,
     "metadata": {},
     "output_type": "execute_result"
    }
   ],
   "source": [
    "setA.issuperset(setB)"
   ]
  },
  {
   "cell_type": "code",
   "execution_count": 55,
   "id": "b251bd4e-b0c4-4182-8125-49424be214eb",
   "metadata": {},
   "outputs": [
    {
     "data": {
      "text/plain": [
       "False"
      ]
     },
     "execution_count": 55,
     "metadata": {},
     "output_type": "execute_result"
    }
   ],
   "source": [
    "setA.isdisjoint(setB)"
   ]
  },
  {
   "cell_type": "code",
   "execution_count": 57,
   "id": "626fcfdf-a704-4246-8ee4-bb8e4d8e0f69",
   "metadata": {},
   "outputs": [
    {
     "data": {
      "text/plain": [
       "{1, 2, 3, 4, 5, 6}"
      ]
     },
     "execution_count": 57,
     "metadata": {},
     "output_type": "execute_result"
    }
   ],
   "source": [
    "setC = setA.copy() # Shallow Copy\n",
    "setC"
   ]
  },
  {
   "cell_type": "code",
   "execution_count": 58,
   "id": "9df724a0-4a37-4e9e-b178-450e18e81c12",
   "metadata": {},
   "outputs": [],
   "source": [
    "set111 = {1, \"Hello\"}   "
   ]
  },
  {
   "cell_type": "markdown",
   "id": "b30a762c-d598-48db-99fc-804b6f6f5f5c",
   "metadata": {},
   "source": [
    "**File Handling**"
   ]
  },
  {
   "cell_type": "code",
   "execution_count": 65,
   "id": "695a738f-7b78-4a54-be02-e6e6a7196e9d",
   "metadata": {},
   "outputs": [],
   "source": [
    "with open(\"sample.txt\", \"w\") as f:\n",
    "    f.write(\"Hello students!\\nWelcome to Python file handling,\\nLet's learn together.\")"
   ]
  },
  {
   "cell_type": "code",
   "execution_count": 68,
   "id": "c706cb28-7448-4dd6-8755-69c5e65c3fd6",
   "metadata": {},
   "outputs": [
    {
     "name": "stdout",
     "output_type": "stream",
     "text": [
      "Hello students!\n",
      "Welcome to Python file handling,\n",
      "Let's learn together.\n"
     ]
    }
   ],
   "source": [
    "with open(\"sample.txt\", \"r\") as f:\n",
    "    content = f.read()\n",
    "    print(content)"
   ]
  },
  {
   "cell_type": "markdown",
   "id": "875d23af-6961-48dc-8c24-29bbbe99eaf1",
   "metadata": {},
   "source": [
    "Modes = \n",
    "\n",
    "* read :- r\n",
    "* write :- w\n",
    "* append :- a\n",
    "* create :- x"
   ]
  },
  {
   "cell_type": "code",
   "execution_count": 70,
   "id": "a5968d8a-a79c-49d3-bfe8-bf0c96e96177",
   "metadata": {},
   "outputs": [],
   "source": [
    "with open(\"sample.txt\", \"a\") as f:\n",
    "    f.write(\"\\nThis lines is added later.\")"
   ]
  },
  {
   "cell_type": "code",
   "execution_count": 71,
   "id": "3e3f0f5d-3b98-4c21-b6c9-f4845028eaef",
   "metadata": {},
   "outputs": [
    {
     "name": "stdout",
     "output_type": "stream",
     "text": [
      "Hello students!\n",
      "Welcome to Python file handling,\n",
      "Let's learn together.\n",
      "This lines is added later.\n"
     ]
    }
   ],
   "source": [
    "with open(\"sample.txt\", \"r\") as file:\n",
    "    for i in file:\n",
    "        print(i.strip())"
   ]
  },
  {
   "cell_type": "markdown",
   "id": "5ec0ae2e-500e-4250-8ffd-31b9a41c7617",
   "metadata": {},
   "source": [
    "**WAP to read a file and count the words in it.**"
   ]
  },
  {
   "cell_type": "code",
   "execution_count": 80,
   "id": "f7d1ebc3-680f-415f-93f3-5a5b2a751a16",
   "metadata": {},
   "outputs": [
    {
     "name": "stdout",
     "output_type": "stream",
     "text": [
      "Number of words in the file:  49\n"
     ]
    }
   ],
   "source": [
    "def count_words(filename):\n",
    "    with open(filename, \"r\") as file:\n",
    "        text = file.read().lower()\n",
    "        for ch in ['.', '?', ',', '!', ';', ':']:\n",
    "            text = text.replace(ch, '')\n",
    "        words = text.split()\n",
    "        return len(words)\n",
    "\n",
    "with open(\"smple2\", \"w\") as mi:\n",
    "    mi.write(\"Python is a really cool language.\\nThe code is crisp and precise.\\nFile handling is real easy with Python.\\nI really enjoy coding with Python.\\nlearn Python.\")\n",
    "\n",
    "with open(\"smple2\", \"a\") as ml:\n",
    "    ml.write(\"Learning Python is essential to learn Data Science and Machine Learning.\\nCreating, Reading and Writing files is really use.\\nIt is really interesting\")\n",
    "\n",
    "print(\"Number of words in the file: \", count_words(\"smple2\"))"
   ]
  },
  {
   "cell_type": "code",
   "execution_count": 73,
   "id": "d40143ba-6a01-45c5-b5f1-ad6a55bc1889",
   "metadata": {},
   "outputs": [],
   "source": [
    "import json\n",
    "\n",
    "student = { \"name\": \"priya\", \"age\": 24, \"marks\": [85, 90, 88]}\n",
    "\n",
    "with open(\"student.json\", \"w\") as f:\n",
    "    json.dump(student, f)"
   ]
  },
  {
   "cell_type": "code",
   "execution_count": 74,
   "id": "09842ee3-a381-4f88-bc7e-ff8f96b49a4e",
   "metadata": {},
   "outputs": [
    {
     "name": "stdout",
     "output_type": "stream",
     "text": [
      "{'name': 'priya', 'age': 24, 'marks': [85, 90, 88]}\n"
     ]
    }
   ],
   "source": [
    "with open(\"student.json\", \"r\") as f:\n",
    "    data = json.load(f)\n",
    "    print(data)"
   ]
  },
  {
   "cell_type": "code",
   "execution_count": 77,
   "id": "a71dea82-6df0-4251-add2-ca2e290a098c",
   "metadata": {},
   "outputs": [
    {
     "name": "stdout",
     "output_type": "stream",
     "text": [
      "Files in current directory: ['.idea', '.ipynb_checkpoints', 'Advanced Machine Learning.ipynb', 'Advertising.csv', 'bank.csv', 'beer.csv', 'BEML.csv', 'Binary Tree.py', 'BST.py', 'CDAC Classes.ipynb', 'CDAC HW1.ipynb', 'chd1_tree.odt', 'chd_tree.odt', 'chd_tree.png', 'chd_tree1.odt', 'chd_tree1.png', 'chd_tree5.odt', 'chd_tree5.png', 'chd_tree_entropy.odt', 'chd_tree_entropy.png', 'Classification.ipynb', 'Clustering.ipynb', 'country.csv', 'curve.csv', 'customerspends.csv', 'CustomerSpends.ipynb', 'DynamicProgramming.py', 'Earnings Manipulation 220.csv', 'Earnings Manipulation Classification.ipynb', 'fifa_data.csv', 'forecast.xls', 'Forecasting.ipynb', 'ForecastingExercises.ipynb', 'Gain and Lift Chart.ipynb', 'gas_prices.csv', 'German Credit Data.csv', 'GLAXO.csv', 'Graphs.py', 'groceries.csv', 'HashTable.py', 'HR_Data Classification and DT.ipynb', 'hr_data.csv', 'Income Data.csv', 'IPL IMB381IPL2013.csv', 'LEarningMatplotlib.ipynb', 'LinearRegression.ipynb', 'matplot.py', 'MBA Salary.csv', 'movies.csv', 'MultipleLinearRegression.ipynb', 'mygraph.png', 'my_folder', 'Numpy.py', 'pand.py', 'PointsTable.py', 'Practice.py', 'ProbabilityDistributions.ipynb', 'ratings.csv', 'Recommender Systems.ipynb', 'Rotations_inRotatedSortedList.py', 'SAheart Dataset.ipynb', 'SAHeart.csv', 'SAHeartDatasetAdvanced.ipynb', 'sample.txt', 'SLMCohortDay1.ipynb', 'SLRQues.ipynb', 'smple2', 'SortingAlgorithma.py', 'store.xls', 'student.json', 'Untitled.ipynb', 'Untitled1.ipynb', 'venv', 'vimana.csv', 'wsb.csv']\n"
     ]
    }
   ],
   "source": [
    "import os\n",
    "\n",
    "if not os.path.exists(\"my_folder\"):\n",
    "    os.mkdir(\"my_folder\")\n",
    "\n",
    "files = os.listdir(\".\")\n",
    "print(\"Files in current directory:\", files)"
   ]
  },
  {
   "cell_type": "code",
   "execution_count": 79,
   "id": "c09c9bc4-1ee9-4bab-8c77-0f7f5885cba1",
   "metadata": {},
   "outputs": [],
   "source": [
    "os.rename(\"sample.txt\", \"sample4.txt\")"
   ]
  },
  {
   "cell_type": "markdown",
   "id": "f87a798b-f09e-44ad-923a-2e6932084c39",
   "metadata": {},
   "source": [
    "**Merge contents of 2 text files and show in a new file**"
   ]
  },
  {
   "cell_type": "code",
   "execution_count": 86,
   "id": "e7a1d288-f292-4a3e-9038-117ad99d287c",
   "metadata": {},
   "outputs": [
    {
     "name": "stdout",
     "output_type": "stream",
     "text": [
      "Hello students!\n",
      "Welcome to Python file handling,\n",
      "Let's learn together.\n",
      "This lines is added later.Python is a really cool language.\n",
      "The code is crisp and precise.\n",
      "File handling is real easy with Python.\n",
      "I really enjoy coding with Python.\n",
      "learn Python.Learning Python is essential to learn Data Science and Machine Learning.\n",
      "Creating, Reading and Writing files is really use.\n",
      "It is really interesting\n"
     ]
    }
   ],
   "source": [
    "content1 = \"\"\n",
    "content2 = \"\"\n",
    "\n",
    "with open(\"sample4.txt\", \"r\") as f1:\n",
    "    content1 = f1.read()\n",
    "\n",
    "with open(\"smple2\", \"r\") as f2:\n",
    "    content2 = f2.read()\n",
    "\n",
    "with open(\"New Merged File.txt\", \"w\") as nf:\n",
    "    nf.write(content1)\n",
    "\n",
    "with open(\"New Merged File.txt\", \"a\") as nf2:\n",
    "    nf2.write(content2)\n",
    "\n",
    "with open(\"New Merged File.txt\", \"r\") as nf3:\n",
    "    text = nf3.read()\n",
    "    print(text)"
   ]
  },
  {
   "cell_type": "markdown",
   "id": "9442876f-4964-4efc-bf31-6549d672ab76",
   "metadata": {},
   "source": [
    "**Exception Handling**"
   ]
  },
  {
   "cell_type": "code",
   "execution_count": null,
   "id": "ca4ab1f3-43bd-49ed-8ff0-73ab3abf7cc5",
   "metadata": {},
   "outputs": [],
   "source": [
    "try:\n",
    "    num1 = int(input(\"Enter a number: \"))\n",
    "    num2 = int(input(\"Enter another number: \"))\n",
    "    print(num1/num2)\n",
    "except ZeroDivisionError:\n",
    "    print(\"Cannot divide by zero!\")\n",
    "except ValueError:\n",
    "    print(\"invalid Input. Please enter a valid number.\")"
   ]
  },
  {
   "cell_type": "markdown",
   "id": "a2a69abb-6dfa-4c58-b593-d2c21d8b7e63",
   "metadata": {},
   "source": [
    "**WAP to handle errors like not a string.**"
   ]
  },
  {
   "cell_type": "code",
   "execution_count": 83,
   "id": "a285671a-b5ed-4f35-b307-9f5eba8a3a9d",
   "metadata": {},
   "outputs": [
    {
     "name": "stdin",
     "output_type": "stream",
     "text": [
      "Enter a number:  -9\n"
     ]
    },
    {
     "name": "stdout",
     "output_type": "stream",
     "text": [
      "Age cannot be negative\n"
     ]
    }
   ],
   "source": [
    "try:\n",
    "    age = int(input(\"Enter a number: \"))\n",
    "    if age < 0:\n",
    "        raise ValueError(\"Age cannot be negative\")\n",
    "except ValueError as e:\n",
    "    print(e)"
   ]
  },
  {
   "cell_type": "code",
   "execution_count": 87,
   "id": "fd229925-da3c-443d-9a4b-d2b87bdfd1a9",
   "metadata": {},
   "outputs": [
    {
     "name": "stdout",
     "output_type": "stream",
     "text": [
      "b'This is binary content\\n 1234'\n"
     ]
    }
   ],
   "source": [
    "with open(\"binary_file.bin\", \"wb\") as f:\n",
    "    f.write(b\"This is binary content\\n 1234\")\n",
    "\n",
    "with open(\"binary_file.bin\", \"rb\") as f:\n",
    "    content = f.read()\n",
    "    print(content)"
   ]
  },
  {
   "cell_type": "markdown",
   "id": "03aba888-feab-4c69-902f-04f4c356f2c2",
   "metadata": {},
   "source": [
    "**NumPy**"
   ]
  },
  {
   "cell_type": "code",
   "execution_count": 1,
   "id": "e7ab5374-0d3f-4163-822f-06b48dd1eb65",
   "metadata": {},
   "outputs": [],
   "source": [
    "import numpy as np\n"
   ]
  },
  {
   "cell_type": "code",
   "execution_count": 3,
   "id": "8f55fba0-bacd-4243-9163-a44cd089a9e3",
   "metadata": {},
   "outputs": [
    {
     "data": {
      "text/plain": [
       "numpy.ndarray"
      ]
     },
     "execution_count": 3,
     "metadata": {},
     "output_type": "execute_result"
    }
   ],
   "source": [
    "l2 = np.array([1, 6, 3, 4])\n",
    "type(l2)"
   ]
  },
  {
   "cell_type": "code",
   "execution_count": 4,
   "id": "9e8e93bf-33e4-406e-87f7-ff2a42500471",
   "metadata": {},
   "outputs": [
    {
     "name": "stdout",
     "output_type": "stream",
     "text": [
      "[ 5 30 15 20]\n"
     ]
    }
   ],
   "source": [
    "print(l2 * 5)"
   ]
  },
  {
   "cell_type": "code",
   "execution_count": 5,
   "id": "d01f87a5-2d29-45b6-be2d-08a66ea6f37e",
   "metadata": {},
   "outputs": [],
   "source": [
    "# We can store heterogeneous data type\n",
    "l3 = np.array([1, 2, 3, \"hello\"])"
   ]
  },
  {
   "cell_type": "code",
   "execution_count": 6,
   "id": "4daadac2-e015-4cb0-8c21-39832689754d",
   "metadata": {},
   "outputs": [
    {
     "data": {
      "text/plain": [
       "array([ 1,  6, 25,  4])"
      ]
     },
     "execution_count": 6,
     "metadata": {},
     "output_type": "execute_result"
    }
   ],
   "source": [
    "l2[2] = 25\n",
    "l2"
   ]
  },
  {
   "cell_type": "code",
   "execution_count": 13,
   "id": "e4931b77-deb0-48e5-80e3-dff272ee0ee6",
   "metadata": {},
   "outputs": [
    {
     "data": {
      "text/plain": [
       "2"
      ]
     },
     "execution_count": 13,
     "metadata": {},
     "output_type": "execute_result"
    }
   ],
   "source": [
    "l4 = np.array([[1, 2, 3, 7, 8], \n",
    "               [4, 5, 6, 4, 5], \n",
    "               [7, 8, 9, 3, 4]])\n",
    "l4.ndim # Gives the dimension of the array"
   ]
  },
  {
   "cell_type": "code",
   "execution_count": 14,
   "id": "9919f30a-bb2b-4c5c-ab68-5acbed3f807e",
   "metadata": {},
   "outputs": [
    {
     "data": {
      "text/plain": [
       "(3, 5)"
      ]
     },
     "execution_count": 14,
     "metadata": {},
     "output_type": "execute_result"
    }
   ],
   "source": [
    "l4.shape"
   ]
  },
  {
   "cell_type": "code",
   "execution_count": 16,
   "id": "3f7b9310-7562-4555-8171-b045f5a4372a",
   "metadata": {},
   "outputs": [
    {
     "name": "stdout",
     "output_type": "stream",
     "text": [
      "int64\n"
     ]
    }
   ],
   "source": [
    "print(l4.dtype)"
   ]
  },
  {
   "cell_type": "code",
   "execution_count": 17,
   "id": "de5f3d6e-9fcd-4767-a0af-45d4942ce633",
   "metadata": {},
   "outputs": [
    {
     "data": {
      "text/plain": [
       "15"
      ]
     },
     "execution_count": 17,
     "metadata": {},
     "output_type": "execute_result"
    }
   ],
   "source": [
    "l4.size"
   ]
  },
  {
   "cell_type": "code",
   "execution_count": 18,
   "id": "d6bcb2ab-037a-4dbe-aba1-353952c52213",
   "metadata": {},
   "outputs": [],
   "source": [
    "l5 = np.array([1, 2, 3, 4, 5])"
   ]
  },
  {
   "cell_type": "code",
   "execution_count": 22,
   "id": "bb258a8a-4d63-4830-8d94-581a8dcfd0f0",
   "metadata": {},
   "outputs": [
    {
     "name": "stdout",
     "output_type": "stream",
     "text": [
      "5\n"
     ]
    }
   ],
   "source": [
    "print(l4[1, 4])"
   ]
  },
  {
   "cell_type": "code",
   "execution_count": 23,
   "id": "dc2f2a9c-b12e-47aa-9de6-ed1dad185840",
   "metadata": {},
   "outputs": [
    {
     "name": "stdout",
     "output_type": "stream",
     "text": [
      "[[1 2 3 7 8]\n",
      " [4 5 6 4 5]]\n"
     ]
    }
   ],
   "source": [
    "print(l4[:2])"
   ]
  },
  {
   "cell_type": "code",
   "execution_count": 27,
   "id": "efd93933-e731-4830-aaad-b94db4105ca1",
   "metadata": {},
   "outputs": [],
   "source": [
    "l5 = np.array([[1, 2, 3, 7, 8], \n",
    "               [4, 5, 6, 6, 5], \n",
    "               [7, 8, 9, 3, 4]], dtype='int64')"
   ]
  },
  {
   "cell_type": "code",
   "execution_count": 28,
   "id": "fa75b326-49a7-41a8-bfb2-54bd1a1d3f8f",
   "metadata": {},
   "outputs": [
    {
     "data": {
      "text/plain": [
       "dtype('int64')"
      ]
     },
     "execution_count": 28,
     "metadata": {},
     "output_type": "execute_result"
    }
   ],
   "source": [
    "l5.dtype"
   ]
  },
  {
   "cell_type": "code",
   "execution_count": 30,
   "id": "f14edb3c-d5ff-4290-b88c-4a02476bbff7",
   "metadata": {},
   "outputs": [
    {
     "name": "stdout",
     "output_type": "stream",
     "text": [
      "35\n",
      "int64\n",
      "(5, 7)\n",
      "9\n"
     ]
    }
   ],
   "source": [
    "ar1 = np.array([[1, 2, 3, 5, 6, 7, 8],\n",
    "               [5, 4, 6, 8, 3, 3, 2],\n",
    "               [6, 5, 4, 7, 2, 4, 3],\n",
    "               [4, 5, 2, 8, 6, 4, 3],\n",
    "               [5, 9, 4, 2, 3, 5, 9]])\n",
    "print(ar1.size)\n",
    "print(ar1.dtype)\n",
    "print(ar1.shape)\n",
    "print(ar1[4, 6])"
   ]
  },
  {
   "cell_type": "code",
   "execution_count": 32,
   "id": "7b9ccdfe-516a-4a98-b49b-92051a3e7f84",
   "metadata": {},
   "outputs": [
    {
     "name": "stdout",
     "output_type": "stream",
     "text": [
      "object\n"
     ]
    }
   ],
   "source": [
    "d = {'1' : 'A'}\n",
    "l7 = np.array([[1, 2, 3], [4, d, 6], [7, 8, 'hello']])\n",
    "print(l7.dtype)"
   ]
  },
  {
   "cell_type": "code",
   "execution_count": 34,
   "id": "41ceba4e-bdd4-48a4-ab7e-894b30daad9a",
   "metadata": {},
   "outputs": [
    {
     "data": {
      "text/plain": [
       "array([[[0., 0.],\n",
       "        [0., 0.],\n",
       "        [0., 0.],\n",
       "        [0., 0.],\n",
       "        [0., 0.]],\n",
       "\n",
       "       [[0., 0.],\n",
       "        [0., 0.],\n",
       "        [0., 0.],\n",
       "        [0., 0.],\n",
       "        [0., 0.]],\n",
       "\n",
       "       [[0., 0.],\n",
       "        [0., 0.],\n",
       "        [0., 0.],\n",
       "        [0., 0.],\n",
       "        [0., 0.]],\n",
       "\n",
       "       [[0., 0.],\n",
       "        [0., 0.],\n",
       "        [0., 0.],\n",
       "        [0., 0.],\n",
       "        [0., 0.]],\n",
       "\n",
       "       [[0., 0.],\n",
       "        [0., 0.],\n",
       "        [0., 0.],\n",
       "        [0., 0.],\n",
       "        [0., 0.]]])"
      ]
     },
     "execution_count": 34,
     "metadata": {},
     "output_type": "execute_result"
    }
   ],
   "source": [
    "l9 = np.zeros((5, 5, 2))\n",
    "l9"
   ]
  },
  {
   "cell_type": "code",
   "execution_count": 37,
   "id": "557c17e0-1af5-47ff-9b0a-e534a2ddd088",
   "metadata": {},
   "outputs": [],
   "source": [
    "l9 = np.ones((2, 5, 1), dtype='int32')"
   ]
  },
  {
   "cell_type": "code",
   "execution_count": 38,
   "id": "b52ccb15-8552-45e3-9623-3de478f5dede",
   "metadata": {},
   "outputs": [
    {
     "data": {
      "text/plain": [
       "array([[[1],\n",
       "        [1],\n",
       "        [1],\n",
       "        [1],\n",
       "        [1]],\n",
       "\n",
       "       [[1],\n",
       "        [1],\n",
       "        [1],\n",
       "        [1],\n",
       "        [1]]], dtype=int32)"
      ]
     },
     "execution_count": 38,
     "metadata": {},
     "output_type": "execute_result"
    }
   ],
   "source": [
    "l9"
   ]
  },
  {
   "cell_type": "code",
   "execution_count": 40,
   "id": "f00707a4-8a4d-463f-b176-c78d88e36599",
   "metadata": {},
   "outputs": [
    {
     "data": {
      "text/plain": [
       "array([0, 3, 6, 9])"
      ]
     },
     "execution_count": 40,
     "metadata": {},
     "output_type": "execute_result"
    }
   ],
   "source": [
    "l12 = np.arange(0, 10, 3)\n",
    "l12"
   ]
  },
  {
   "cell_type": "code",
   "execution_count": 42,
   "id": "df8c3462-69d3-45e3-8ee1-a901765266db",
   "metadata": {},
   "outputs": [
    {
     "data": {
      "text/plain": [
       "array([  0.        ,   2.04081633,   4.08163265,   6.12244898,\n",
       "         8.16326531,  10.20408163,  12.24489796,  14.28571429,\n",
       "        16.32653061,  18.36734694,  20.40816327,  22.44897959,\n",
       "        24.48979592,  26.53061224,  28.57142857,  30.6122449 ,\n",
       "        32.65306122,  34.69387755,  36.73469388,  38.7755102 ,\n",
       "        40.81632653,  42.85714286,  44.89795918,  46.93877551,\n",
       "        48.97959184,  51.02040816,  53.06122449,  55.10204082,\n",
       "        57.14285714,  59.18367347,  61.2244898 ,  63.26530612,\n",
       "        65.30612245,  67.34693878,  69.3877551 ,  71.42857143,\n",
       "        73.46938776,  75.51020408,  77.55102041,  79.59183673,\n",
       "        81.63265306,  83.67346939,  85.71428571,  87.75510204,\n",
       "        89.79591837,  91.83673469,  93.87755102,  95.91836735,\n",
       "        97.95918367, 100.        ])"
      ]
     },
     "execution_count": 42,
     "metadata": {},
     "output_type": "execute_result"
    }
   ],
   "source": [
    "l13 = np.linspace(0, 100)\n",
    "l13"
   ]
  },
  {
   "cell_type": "code",
   "execution_count": 44,
   "id": "2cc14693-c5e2-4c61-bc1e-d54b16af9fc3",
   "metadata": {},
   "outputs": [
    {
     "data": {
      "text/plain": [
       "array([  0.,  25.,  50.,  75., 100.])"
      ]
     },
     "execution_count": 44,
     "metadata": {},
     "output_type": "execute_result"
    }
   ],
   "source": [
    "l14 = np.linspace(0, 100, 5)\n",
    "l14"
   ]
  },
  {
   "cell_type": "code",
   "execution_count": 47,
   "id": "b6ad432c-83b5-4081-ae1c-e61f4ab5bef1",
   "metadata": {},
   "outputs": [
    {
     "data": {
      "text/plain": [
       "array([  1., 100.])"
      ]
     },
     "execution_count": 47,
     "metadata": {},
     "output_type": "execute_result"
    }
   ],
   "source": [
    "l15 = np.linspace(1, 100, 2)\n",
    "l15"
   ]
  },
  {
   "cell_type": "code",
   "execution_count": 48,
   "id": "8513a389-c57a-4e7d-83c6-192690b823ae",
   "metadata": {},
   "outputs": [
    {
     "name": "stdout",
     "output_type": "stream",
     "text": [
      "[1. 2. 3. 4.]\n"
     ]
    }
   ],
   "source": [
    "l13 = [1,4,9,16]\n",
    "print(np.sqrt(l13))"
   ]
  },
  {
   "cell_type": "code",
   "execution_count": 49,
   "id": "1c68b94c-8820-4294-a729-eeb1b2b73f7d",
   "metadata": {},
   "outputs": [
    {
     "data": {
      "text/plain": [
       "array([[[9, 9, 9, 9],\n",
       "        [9, 9, 9, 9],\n",
       "        [9, 9, 9, 9]],\n",
       "\n",
       "       [[9, 9, 9, 9],\n",
       "        [9, 9, 9, 9],\n",
       "        [9, 9, 9, 9]]])"
      ]
     },
     "execution_count": 49,
     "metadata": {},
     "output_type": "execute_result"
    }
   ],
   "source": [
    "l14 = np.full((2, 3, 4), 9)\n",
    "l14"
   ]
  },
  {
   "cell_type": "code",
   "execution_count": 51,
   "id": "9c6210df-3349-42c0-9ac7-db00a2ab2358",
   "metadata": {},
   "outputs": [
    {
     "name": "stdout",
     "output_type": "stream",
     "text": [
      "Time with List :  0.23472332954406738\n",
      "Time with NumPy:  0.021486282348632812\n"
     ]
    }
   ],
   "source": [
    "import time\n",
    "\n",
    "a_list = list(range(1000000))\n",
    "start = time.time()\n",
    "a_list = [x + 1 for x in a_list]\n",
    "end = time.time()\n",
    "print(\"Time with List : \", end - start)\n",
    "\n",
    "b_arr = np.array(range(1000000))\n",
    "start = time.time()\n",
    "b_arr = b_arr + 1\n",
    "end = time.time()\n",
    "print(\"Time with NumPy: \", end - start)"
   ]
  },
  {
   "cell_type": "code",
   "execution_count": 52,
   "id": "cdff6765-cc25-4172-a349-6a1be68c74c4",
   "metadata": {},
   "outputs": [],
   "source": [
    "l15 = [1, 2, 3, 4, 5]\n",
    "l16 = [6, 7, 8, 9, 10]\n",
    "a1 = np.array(l15)\n",
    "a2 = np.array(l16)"
   ]
  },
  {
   "cell_type": "code",
   "execution_count": 53,
   "id": "d705fe88-c8e6-4e23-84f3-4b54b4fc9afb",
   "metadata": {},
   "outputs": [
    {
     "name": "stdout",
     "output_type": "stream",
     "text": [
      "[1, 2, 3, 4, 5, 6, 7, 8, 9, 10]\n"
     ]
    }
   ],
   "source": [
    "print(l15 + l16) # Concatenating"
   ]
  },
  {
   "cell_type": "code",
   "execution_count": 55,
   "id": "4ab3249f-9217-44a4-881b-82b1eea6d86c",
   "metadata": {},
   "outputs": [
    {
     "name": "stdout",
     "output_type": "stream",
     "text": [
      "[ 7  9 11 13 15]\n"
     ]
    }
   ],
   "source": [
    "print(a1 + a2) # Adding the elements"
   ]
  },
  {
   "cell_type": "code",
   "execution_count": 56,
   "id": "c05e2d1f-d2a3-4087-bb4c-c2f138b2a6fe",
   "metadata": {},
   "outputs": [
    {
     "name": "stdout",
     "output_type": "stream",
     "text": [
      "[ 6 14 24 36 50]\n"
     ]
    }
   ],
   "source": [
    "print(a1 * a2)"
   ]
  },
  {
   "cell_type": "code",
   "execution_count": 58,
   "id": "8b82d737-dd45-44f2-9782-7764b776dadb",
   "metadata": {},
   "outputs": [
    {
     "name": "stdout",
     "output_type": "stream",
     "text": [
      "[[2 3 4 5 6]\n",
      " [3 4 5 6 7]\n",
      " [4 5 6 7 8]]\n"
     ]
    }
   ],
   "source": [
    "a1 = np.array([1, 2, 3, 4, 5])\n",
    "a2 = np.array([[1], [2], [3]])\n",
    "print(a1 + a2)"
   ]
  },
  {
   "cell_type": "code",
   "execution_count": 59,
   "id": "d773c250-2553-4ae3-9cb7-e1fd221c6535",
   "metadata": {},
   "outputs": [
    {
     "name": "stdout",
     "output_type": "stream",
     "text": [
      "[1.         1.41421356 1.73205081 2.         2.23606798]\n"
     ]
    }
   ],
   "source": [
    "print(np.sqrt(a1))"
   ]
  },
  {
   "cell_type": "code",
   "execution_count": 60,
   "id": "7f274700-3ee9-4eab-8be7-a4858688e8ba",
   "metadata": {},
   "outputs": [
    {
     "name": "stdout",
     "output_type": "stream",
     "text": [
      "[1 2 3 4 5 7 8 9]\n"
     ]
    }
   ],
   "source": [
    "a2 = [7, 8, 9]\n",
    "a = np.append(a1, a2)\n",
    "print(a)"
   ]
  },
  {
   "cell_type": "code",
   "execution_count": 62,
   "id": "92336c4c-2614-4f39-b60c-79dafebecd0c",
   "metadata": {},
   "outputs": [
    {
     "data": {
      "text/plain": [
       "array([ 1,  2,  3,  8,  9, 10,  4,  5,  7,  8,  9])"
      ]
     },
     "execution_count": 62,
     "metadata": {},
     "output_type": "execute_result"
    }
   ],
   "source": [
    "a3 = np.insert(a, 3, [8, 9, 10])\n",
    "a3"
   ]
  },
  {
   "cell_type": "code",
   "execution_count": 63,
   "id": "b5fffa34-64c7-485a-bb02-2e4f0cfa4295",
   "metadata": {},
   "outputs": [
    {
     "data": {
      "text/plain": [
       "array([ 1,  3,  8,  9, 10,  4,  5,  7,  8,  9])"
      ]
     },
     "execution_count": 63,
     "metadata": {},
     "output_type": "execute_result"
    }
   ],
   "source": [
    "a4 = np.delete(a3, 1)\n",
    "a4"
   ]
  },
  {
   "cell_type": "code",
   "execution_count": 65,
   "id": "b9e8a0d1-c433-47ea-b722-cfc722755860",
   "metadata": {},
   "outputs": [
    {
     "data": {
      "text/plain": [
       "array([ 1,  3,  4,  5,  7,  8,  8,  9,  9, 10])"
      ]
     },
     "execution_count": 65,
     "metadata": {},
     "output_type": "execute_result"
    }
   ],
   "source": [
    "a5 = np.sort(a4)\n",
    "a5"
   ]
  },
  {
   "cell_type": "code",
   "execution_count": 68,
   "id": "3d1e8d56-be83-4134-8207-b0ee357122fd",
   "metadata": {},
   "outputs": [
    {
     "data": {
      "text/plain": [
       "array([[ 2,  3,  4,  5],\n",
       "       [ 7,  8,  9, 10],\n",
       "       [12, 13, 14, 15],\n",
       "       [17, 18, 19, 20]])"
      ]
     },
     "execution_count": 68,
     "metadata": {},
     "output_type": "execute_result"
    }
   ],
   "source": [
    "a4 = np.array([[1, 2, 3, 4, 5],\n",
    "               [6, 7, 8, 9, 10],\n",
    "               [11, 12, 13, 14, 15],\n",
    "               [16, 17, 18, 19, 20]])\n",
    "a5 = np.delete(a4, 0,1)\n",
    "a5"
   ]
  },
  {
   "cell_type": "code",
   "execution_count": 70,
   "id": "693ad94d-18fc-48db-bea7-b884fce6bb72",
   "metadata": {},
   "outputs": [
    {
     "name": "stdout",
     "output_type": "stream",
     "text": [
      "[[ 1  2  3  4  5  6  7  8  9 10]\n",
      " [11 12 13 14 15 16 17 18 19 20]]\n"
     ]
    }
   ],
   "source": [
    "print(a4.reshape(2, 10))"
   ]
  },
  {
   "cell_type": "code",
   "execution_count": 74,
   "id": "0f0c74be-f129-4a85-8e81-30ff7b5f68b2",
   "metadata": {},
   "outputs": [
    {
     "name": "stdout",
     "output_type": "stream",
     "text": [
      "[[[ 1  2]\n",
      "  [ 3  4]]\n",
      "\n",
      " [[ 5  6]\n",
      "  [ 7  8]]\n",
      "\n",
      " [[ 9 10]\n",
      "  [11 12]]\n",
      "\n",
      " [[13 14]\n",
      "  [15 16]]\n",
      "\n",
      " [[17 18]\n",
      "  [19 20]]]\n"
     ]
    }
   ],
   "source": [
    "print(a4.reshape(5, 2, 2))"
   ]
  },
  {
   "cell_type": "code",
   "execution_count": 77,
   "id": "d7216620-6dbe-4768-9724-12cc0506aa38",
   "metadata": {},
   "outputs": [
    {
     "name": "stdout",
     "output_type": "stream",
     "text": [
      "[ 1  2  3  4  5  6  7  8  9 10 11 12 13 14 15 16 17 18 19 20]\n"
     ]
    }
   ],
   "source": [
    "a5 = a4.reshape(20)\n",
    "print(a4.flatten()) # Converts to 1-D NumPy array"
   ]
  },
  {
   "cell_type": "code",
   "execution_count": 78,
   "id": "30969ca0-f2b6-4adf-8726-a63b135ce0e2",
   "metadata": {},
   "outputs": [
    {
     "data": {
      "text/plain": [
       "\u001b[31mDocstring:\u001b[39m\n",
       "a.reshape(shape, /, *, order='C', copy=None)\n",
       "\n",
       "Returns an array containing the same data with a new shape.\n",
       "\n",
       "Refer to `numpy.reshape` for full documentation.\n",
       "\n",
       "See Also\n",
       "--------\n",
       "numpy.reshape : equivalent function\n",
       "\n",
       "Notes\n",
       "-----\n",
       "Unlike the free function `numpy.reshape`, this method on `ndarray` allows\n",
       "the elements of the shape parameter to be passed in as separate arguments.\n",
       "For example, ``a.reshape(10, 11)`` is equivalent to\n",
       "``a.reshape((10, 11))``.\n",
       "\u001b[31mType:\u001b[39m      builtin_function_or_method"
      ]
     },
     "metadata": {},
     "output_type": "display_data"
    }
   ],
   "source": [
    "a.reshape?"
   ]
  },
  {
   "cell_type": "code",
   "execution_count": 79,
   "id": "37693ab0-b909-45bd-9b00-165d46dd1e86",
   "metadata": {},
   "outputs": [
    {
     "name": "stdout",
     "output_type": "stream",
     "text": [
      "[ 1  2  3  4  5  6  7  8  9 10 11 12 13 14 15 16 17 18 19 20]\n"
     ]
    }
   ],
   "source": [
    "print(a4.ravel())"
   ]
  },
  {
   "cell_type": "code",
   "execution_count": 80,
   "id": "85cdb6b9-a87e-44f4-b33c-ee6be526a2e4",
   "metadata": {},
   "outputs": [
    {
     "name": "stdout",
     "output_type": "stream",
     "text": [
      "[1 2 3 4 5 6 7 8 9]\n"
     ]
    }
   ],
   "source": [
    "# Take a 3*3 array and reshape to 1-D\n",
    "a6 = np.array([[1, 2, 3],\n",
    "               [4, 5, 6],\n",
    "               [7, 8, 9]])\n",
    "a7 = a6.reshape(9)\n",
    "print(a7)"
   ]
  },
  {
   "cell_type": "code",
   "execution_count": 84,
   "id": "4cce487d-626a-4175-add0-bddf399d314b",
   "metadata": {},
   "outputs": [
    {
     "name": "stdout",
     "output_type": "stream",
     "text": [
      "[[1 2]\n",
      " [3 4]]\n"
     ]
    }
   ],
   "source": [
    "a6 = np.array([[1, 2], [3, 4]])\n",
    "b1 = a6.flatten() # Shallow COpy\n",
    "b1[0] = 50\n",
    "print(a6)"
   ]
  },
  {
   "cell_type": "code",
   "execution_count": 83,
   "id": "88968dc0-1360-4cdf-a7eb-77b849460ace",
   "metadata": {},
   "outputs": [
    {
     "name": "stdout",
     "output_type": "stream",
     "text": [
      "[[50  2]\n",
      " [ 3  4]]\n"
     ]
    }
   ],
   "source": [
    "a6 = np.array([[1, 2], [3, 4]])\n",
    "b1 = a6.ravel() # Deep Copy\n",
    "b1[0] = 50\n",
    "print(a6)"
   ]
  },
  {
   "cell_type": "code",
   "execution_count": 87,
   "id": "0c835809-71d3-4b9a-958f-fb2746df7667",
   "metadata": {},
   "outputs": [
    {
     "name": "stdout",
     "output_type": "stream",
     "text": [
      "[[1 4 7]\n",
      " [2 5 8]\n",
      " [3 6 9]]\n"
     ]
    }
   ],
   "source": [
    "a6 = np.array([[1, 2, 3],\n",
    "               [4, 5, 6],\n",
    "               [7, 8, 9]])\n",
    "print(a6.T) # Transpose"
   ]
  },
  {
   "cell_type": "code",
   "execution_count": 89,
   "id": "c8b122db-d17b-4b03-a478-ab4ec5d35c30",
   "metadata": {},
   "outputs": [
    {
     "name": "stdin",
     "output_type": "stream",
     "text": [
      "Enter a number:  69\n"
     ]
    },
    {
     "name": "stdout",
     "output_type": "stream",
     "text": [
      "You won!!\n"
     ]
    }
   ],
   "source": [
    "m1 = np.random.randint(100)\n",
    "m2 = int(input(\"Enter a number: \"))\n",
    "if m1 == m2:\n",
    "    print(\"You won!!\")\n",
    "else:\n",
    "    print(\"You lose!!\")\n",
    "    print(m1)"
   ]
  },
  {
   "cell_type": "code",
   "execution_count": 90,
   "id": "f23c4af4-7781-4d49-803c-9995a6b359d0",
   "metadata": {},
   "outputs": [
    {
     "name": "stdout",
     "output_type": "stream",
     "text": [
      "20\n"
     ]
    }
   ],
   "source": [
    "numbers = np.random.choice([10, 20, 30, 40, 50])\n",
    "print(numbers)"
   ]
  },
  {
   "cell_type": "code",
   "execution_count": 91,
   "id": "d9171c3c-b6cf-4d5b-9668-8fc7794bc981",
   "metadata": {},
   "outputs": [],
   "source": [
    "np.save(\"myarray.npy\", a4)"
   ]
  },
  {
   "cell_type": "code",
   "execution_count": 92,
   "id": "9d0d6614-854d-490a-aa72-dd3dddc61db7",
   "metadata": {},
   "outputs": [],
   "source": [
    "np.savetxt(\"myarray.csv\", a4, delimiter=\",\")"
   ]
  },
  {
   "cell_type": "markdown",
   "id": "d5d82748-c58a-4a6f-8a47-e766d4761d38",
   "metadata": {},
   "source": [
    "Make an array of big dimensions and import it and export it."
   ]
  },
  {
   "cell_type": "code",
   "execution_count": 94,
   "id": "ea53e126-8eff-491b-b93f-a0fb5e5bddf5",
   "metadata": {},
   "outputs": [],
   "source": [
    "ar20 = np.array([list(range(1, 1001)), list(range(1000, 2000)), list(range(2000, 3000))])"
   ]
  },
  {
   "cell_type": "code",
   "execution_count": 96,
   "id": "94df3aab-da7b-403d-8053-7dc797a902de",
   "metadata": {},
   "outputs": [],
   "source": [
    "np.savetxt(\"largearray.csv\", ar20, delimiter=\",\")"
   ]
  },
  {
   "cell_type": "code",
   "execution_count": 97,
   "id": "b6388b60-a45d-47e5-9716-44c94a32c2b1",
   "metadata": {},
   "outputs": [],
   "source": [
    "a = np.loadtxt(\"largearray.csv\", delimiter=\",\")"
   ]
  },
  {
   "cell_type": "markdown",
   "id": "12a88e97-47d4-4067-a325-0a5f8baa1f10",
   "metadata": {},
   "source": [
    "Assignment \n",
    "\n",
    "1. Split 4 cross 4 cross 4 array into 4,  2 cross 2 arrays.\n",
    "2. Stack two vertical arrays (columns only). Calculate row wise and column wise of the matrix.\n",
    "3. Create a 3 by 3 array with Default Value=7"
   ]
  },
  {
   "cell_type": "markdown",
   "id": "5662b631-375e-42b4-9427-6edbb215e270",
   "metadata": {},
   "source": [
    "**Regular Expressions**"
   ]
  },
  {
   "cell_type": "code",
   "execution_count": 100,
   "id": "47e34ef6-e822-4108-b4f2-a45267739bd9",
   "metadata": {},
   "outputs": [
    {
     "name": "stdout",
     "output_type": "stream",
     "text": [
      "Found\n"
     ]
    },
    {
     "data": {
      "text/plain": [
       "<re.Match object; span=(11, 18), match='Soubhik'>"
      ]
     },
     "execution_count": 100,
     "metadata": {},
     "output_type": "execute_result"
    }
   ],
   "source": [
    "import re\n",
    "text = \"My name is Soubhik\"\n",
    "result = re.search(\"Soubhik\", text)\n",
    "if result:\n",
    "    print(\"Found\")\n",
    "else:\n",
    "    print(\"not Found\")\n",
    "result"
   ]
  },
  {
   "cell_type": "code",
   "execution_count": 101,
   "id": "5ea7823b-c71c-40d7-85dc-c43b871e2818",
   "metadata": {},
   "outputs": [
    {
     "data": {
      "text/plain": [
       "<re.Match object; span=(0, 2), match='My'>"
      ]
     },
     "execution_count": 101,
     "metadata": {},
     "output_type": "execute_result"
    }
   ],
   "source": [
    "result2 = re.match(\"My\", text) # Searches whether test starts with \"My\" or not\n",
    "result2"
   ]
  },
  {
   "cell_type": "code",
   "execution_count": 102,
   "id": "f5e8aa4d-052f-4a97-b9d9-a712ec2489a7",
   "metadata": {},
   "outputs": [
    {
     "data": {
      "text/plain": [
       "<re.Match object; span=(11, 18), match='Soubhik'>"
      ]
     },
     "execution_count": 102,
     "metadata": {},
     "output_type": "execute_result"
    }
   ],
   "source": [
    "re.search(\"S..bhik\", text)"
   ]
  },
  {
   "cell_type": "code",
   "execution_count": 106,
   "id": "ffafa9ec-ccc6-4c8d-a08e-9286b3bc2e22",
   "metadata": {},
   "outputs": [
    {
     "data": {
      "text/plain": [
       "<re.Match object; span=(0, 2), match='My'>"
      ]
     },
     "execution_count": 106,
     "metadata": {},
     "output_type": "execute_result"
    }
   ],
   "source": [
    "re.search(\"^My\", text)"
   ]
  },
  {
   "cell_type": "code",
   "execution_count": 105,
   "id": "9b6ac378-8daa-4e72-9750-1964031c1070",
   "metadata": {},
   "outputs": [
    {
     "data": {
      "text/plain": [
       "<re.Match object; span=(11, 18), match='Soubhik'>"
      ]
     },
     "execution_count": 105,
     "metadata": {},
     "output_type": "execute_result"
    }
   ],
   "source": [
    "re.search(\"Soubhik$\", text) # If the string ends with that"
   ]
  },
  {
   "cell_type": "code",
   "execution_count": 110,
   "id": "99fe347a-6e69-449f-947c-0bb4bf1578b9",
   "metadata": {},
   "outputs": [
    {
     "data": {
      "text/plain": [
       "<re.Match object; span=(0, 1), match='e'>"
      ]
     },
     "execution_count": 110,
     "metadata": {},
     "output_type": "execute_result"
    }
   ],
   "source": [
    "re.search(\"[aeiou]\", \"elephant\") # [aeiou] is char set, matches the first occurrence"
   ]
  },
  {
   "cell_type": "code",
   "execution_count": 111,
   "id": "7a2a013d-ab3b-47d8-ab57-b32c1511abd2",
   "metadata": {},
   "outputs": [
    {
     "data": {
      "text/plain": [
       "<re.Match object; span=(0, 2), match='gd'>"
      ]
     },
     "execution_count": 111,
     "metadata": {},
     "output_type": "execute_result"
    }
   ],
   "source": [
    "re.search(\"go*d\", \"gd\") # * means 0 or more times"
   ]
  },
  {
   "cell_type": "code",
   "execution_count": 113,
   "id": "ef8bc125-ac0d-4e27-b491-41e4c27d1267",
   "metadata": {},
   "outputs": [
    {
     "data": {
      "text/plain": [
       "<re.Match object; span=(0, 3), match='god'>"
      ]
     },
     "execution_count": 113,
     "metadata": {},
     "output_type": "execute_result"
    }
   ],
   "source": [
    "re.search(\"go+d\", \"god\") # + ---> 1 or more times checks only the character before the symbol"
   ]
  },
  {
   "cell_type": "code",
   "execution_count": 116,
   "id": "67f6c468-33ce-4599-97d6-a0bfda9a549b",
   "metadata": {},
   "outputs": [
    {
     "data": {
      "text/plain": [
       "<re.Match object; span=(0, 2), match='gd'>"
      ]
     },
     "execution_count": 116,
     "metadata": {},
     "output_type": "execute_result"
    }
   ],
   "source": [
    "re.search(\"go?d\", \"gd\") # ? ---> 0 or 1 times only"
   ]
  },
  {
   "cell_type": "code",
   "execution_count": 117,
   "id": "0abd86e0-fa65-4a17-b957-070231b849ab",
   "metadata": {},
   "outputs": [
    {
     "data": {
      "text/plain": [
       "<re.Match object; span=(0, 3), match='aaa'>"
      ]
     },
     "execution_count": 117,
     "metadata": {},
     "output_type": "execute_result"
    }
   ],
   "source": [
    "# {} ---> used to match specific number of repetitions\n",
    "re.search(\"a{3}\", \"aaab\")"
   ]
  },
  {
   "cell_type": "code",
   "execution_count": 118,
   "id": "69645d44-34ea-4f81-9006-9e3779513422",
   "metadata": {},
   "outputs": [],
   "source": [
    "re.search(\"a{2, 5}\", \"aaaaaab\")"
   ]
  },
  {
   "cell_type": "code",
   "execution_count": 119,
   "id": "75b91276-3d49-42b4-8a6f-a1eb033eae5d",
   "metadata": {},
   "outputs": [
    {
     "data": {
      "text/plain": [
       "['14', '15']"
      ]
     },
     "execution_count": 119,
     "metadata": {},
     "output_type": "execute_result"
    }
   ],
   "source": [
    "text = \"Today is 14th June, tomorrow is 15th\"\n",
    "re.findall(r\"\\d+\", text)"
   ]
  },
  {
   "cell_type": "code",
   "execution_count": 120,
   "id": "991fcae9-0c6f-4db9-b164-7bd562241a85",
   "metadata": {},
   "outputs": [
    {
     "data": {
      "text/plain": [
       "'python is awesome'"
      ]
     },
     "execution_count": 120,
     "metadata": {},
     "output_type": "execute_result"
    }
   ],
   "source": [
    "text = \"python is easy\"\n",
    "re.sub(\"easy\", \"awesome\", text)"
   ]
  },
  {
   "cell_type": "code",
   "execution_count": 121,
   "id": "ec28f650-7060-4120-8a96-70e37bc8617d",
   "metadata": {},
   "outputs": [
    {
     "data": {
      "text/plain": [
       "['hello', 'World']"
      ]
     },
     "execution_count": 121,
     "metadata": {},
     "output_type": "execute_result"
    }
   ],
   "source": [
    "re.split(r\"\\s\", \"hello World\")"
   ]
  },
  {
   "cell_type": "code",
   "execution_count": 129,
   "id": "3711ddd9-4e6c-429a-b8e9-f8e78b430dad",
   "metadata": {},
   "outputs": [
    {
     "name": "stdout",
     "output_type": "stream",
     "text": [
      "<re.Match object; span=(0, 17), match='test123@gmail.com'>\n"
     ]
    }
   ],
   "source": [
    "import re\n",
    "\n",
    "email = \"test123@gmail.com\"\n",
    "pattern = r\"[a-zA-Z0-9._]+@[a-z]+\\.[a-z]{2,}\"\n",
    "print(re.fullmatch(pattern, email))\n"
   ]
  },
  {
   "cell_type": "code",
   "execution_count": 130,
   "id": "f0ad1065-3af5-42de-b85e-b5160dd16447",
   "metadata": {},
   "outputs": [
    {
     "data": {
      "text/plain": [
       "<re.Match object; span=(0, 10), match='9876543210'>"
      ]
     },
     "execution_count": 130,
     "metadata": {},
     "output_type": "execute_result"
    }
   ],
   "source": [
    "# mobile number verification\n",
    "phone = \"9876543210\"\n",
    "pattern = r\"[6-9]\\d{9}\"\n",
    "re.fullmatch(pattern, phone)"
   ]
  },
  {
   "cell_type": "code",
   "execution_count": 133,
   "id": "ce92d214-d1a3-4c20-817f-e55a0ad26943",
   "metadata": {},
   "outputs": [
    {
     "data": {
      "text/plain": [
       "<re.Match object; span=(0, 0), match=''>"
      ]
     },
     "execution_count": 133,
     "metadata": {},
     "output_type": "execute_result"
    }
   ],
   "source": [
    "# Password Strength\n",
    "password = \"Hello@123\"\n",
    "pattern = r\"(?=.*[A-Z])(?=.*[a-z])(?=.*\\d)(?=.*[@#$])\"\n",
    "re.search(pattern, password)"
   ]
  },
  {
   "cell_type": "code",
   "execution_count": 1,
   "id": "0a2f0186-5b5e-4680-8ffa-edd25caffbb3",
   "metadata": {},
   "outputs": [],
   "source": [
    "import pandas as pd"
   ]
  },
  {
   "cell_type": "code",
   "execution_count": 3,
   "id": "1d62facf-2a12-436d-a8ca-408a56cf4724",
   "metadata": {},
   "outputs": [
    {
     "name": "stdout",
     "output_type": "stream",
     "text": [
      "a    10\n",
      "b    20\n",
      "c    30\n",
      "d    40\n",
      "e    50\n",
      "dtype: int64\n"
     ]
    }
   ],
   "source": [
    "data = pd.Series([10, 20, 30, 40, 50], index=['a', 'b', 'c', 'd', 'e'])\n",
    "print(data)"
   ]
  },
  {
   "cell_type": "code",
   "execution_count": 4,
   "id": "678ef4d2-e0c9-4806-8a23-9ba977bbdddf",
   "metadata": {},
   "outputs": [
    {
     "data": {
      "text/plain": [
       "np.int64(10)"
      ]
     },
     "execution_count": 4,
     "metadata": {},
     "output_type": "execute_result"
    }
   ],
   "source": [
    "data['a']"
   ]
  },
  {
   "cell_type": "code",
   "execution_count": 5,
   "id": "c595e662-7e62-4867-bb20-4a3f4d1a8dba",
   "metadata": {},
   "outputs": [
    {
     "name": "stdout",
     "output_type": "stream",
     "text": [
      "b    20\n",
      "dtype: int64\n"
     ]
    }
   ],
   "source": [
    "print(data[1:2])"
   ]
  },
  {
   "cell_type": "code",
   "execution_count": 7,
   "id": "0f5e7d4a-c656-4dfc-b3f0-d14bf108c980",
   "metadata": {},
   "outputs": [
    {
     "data": {
      "text/plain": [
       "np.True_"
      ]
     },
     "execution_count": 7,
     "metadata": {},
     "output_type": "execute_result"
    }
   ],
   "source": [
    "data['a'] == 10"
   ]
  },
  {
   "cell_type": "code",
   "execution_count": 10,
   "id": "e20d66dc-ca93-4f48-ad5e-22dad1d1c1ac",
   "metadata": {},
   "outputs": [
    {
     "name": "stdout",
     "output_type": "stream",
     "text": [
      "0     4\n",
      "1    10\n",
      "2    18\n",
      "3    28\n",
      "4    40\n",
      "dtype: int64\n"
     ]
    }
   ],
   "source": [
    "s1 = pd.Series([1, 2, 3, 4, 5])\n",
    "s2 = pd.Series([4, 5, 6, 7, 8])\n",
    "print(s1 * s2)"
   ]
  },
  {
   "cell_type": "code",
   "execution_count": 11,
   "id": "787f144a-7335-4316-adc1-06cd52106e02",
   "metadata": {},
   "outputs": [
    {
     "data": {
      "text/plain": [
       "a    100\n",
       "b    200\n",
       "c    300\n",
       "dtype: int64"
      ]
     },
     "execution_count": 11,
     "metadata": {},
     "output_type": "execute_result"
    }
   ],
   "source": [
    "data = { \n",
    "    'a' : 100,\n",
    "    'b' : 200,\n",
    "    'c' : 300,\n",
    "}\n",
    "s = pd.Series(data)\n",
    "s"
   ]
  },
  {
   "cell_type": "code",
   "execution_count": 50,
   "id": "6705c8c8-bc90-424e-a1ce-bb88d98cdc9e",
   "metadata": {},
   "outputs": [
    {
     "data": {
      "text/html": [
       "<div>\n",
       "<style scoped>\n",
       "    .dataframe tbody tr th:only-of-type {\n",
       "        vertical-align: middle;\n",
       "    }\n",
       "\n",
       "    .dataframe tbody tr th {\n",
       "        vertical-align: top;\n",
       "    }\n",
       "\n",
       "    .dataframe thead th {\n",
       "        text-align: right;\n",
       "    }\n",
       "</style>\n",
       "<table border=\"1\" class=\"dataframe\">\n",
       "  <thead>\n",
       "    <tr style=\"text-align: right;\">\n",
       "      <th></th>\n",
       "      <th>Name</th>\n",
       "      <th>Age</th>\n",
       "      <th>Marks</th>\n",
       "      <th>Sub</th>\n",
       "    </tr>\n",
       "  </thead>\n",
       "  <tbody>\n",
       "    <tr>\n",
       "      <th>0</th>\n",
       "      <td>Amit</td>\n",
       "      <td>25</td>\n",
       "      <td>85</td>\n",
       "      <td>Eng</td>\n",
       "    </tr>\n",
       "    <tr>\n",
       "      <th>1</th>\n",
       "      <td>Riya</td>\n",
       "      <td>22</td>\n",
       "      <td>90</td>\n",
       "      <td>Hindi</td>\n",
       "    </tr>\n",
       "    <tr>\n",
       "      <th>2</th>\n",
       "      <td>John</td>\n",
       "      <td>23</td>\n",
       "      <td>78</td>\n",
       "      <td>Beng</td>\n",
       "    </tr>\n",
       "    <tr>\n",
       "      <th>3</th>\n",
       "      <td>Diya</td>\n",
       "      <td>45</td>\n",
       "      <td>90</td>\n",
       "      <td>Math</td>\n",
       "    </tr>\n",
       "    <tr>\n",
       "      <th>4</th>\n",
       "      <td>Aman</td>\n",
       "      <td>27</td>\n",
       "      <td>87</td>\n",
       "      <td>Phy</td>\n",
       "    </tr>\n",
       "  </tbody>\n",
       "</table>\n",
       "</div>"
      ],
      "text/plain": [
       "   Name  Age  Marks    Sub\n",
       "0  Amit   25     85    Eng\n",
       "1  Riya   22     90  Hindi\n",
       "2  John   23     78   Beng\n",
       "3  Diya   45     90   Math\n",
       "4  Aman   27     87    Phy"
      ]
     },
     "execution_count": 50,
     "metadata": {},
     "output_type": "execute_result"
    }
   ],
   "source": [
    "data = {\n",
    "    'Name' : ['Amit', 'Riya', 'John', 'Diya', 'Aman'],\n",
    "    'Age'  : [25, 22, 23, 45, 27],\n",
    "    'Marks': [85, 90, 78, 90, 87],\n",
    "    'Sub'  :['Eng', 'Hindi', 'Beng', 'Math', 'Phy']\n",
    "}\n",
    "df = pd.DataFrame(data)\n",
    "df"
   ]
  },
  {
   "cell_type": "code",
   "execution_count": 51,
   "id": "cb40817e-18e3-4dd5-a4fe-b74621129adf",
   "metadata": {},
   "outputs": [
    {
     "name": "stdout",
     "output_type": "stream",
     "text": [
      "0    25\n",
      "1    22\n",
      "2    23\n",
      "3    45\n",
      "4    27\n",
      "Name: Age, dtype: int64\n"
     ]
    }
   ],
   "source": [
    "print(df.Age)"
   ]
  },
  {
   "cell_type": "code",
   "execution_count": 52,
   "id": "6d46cfc3-dd27-4df9-bcb6-92daf7331541",
   "metadata": {},
   "outputs": [
    {
     "data": {
      "text/html": [
       "<div>\n",
       "<style scoped>\n",
       "    .dataframe tbody tr th:only-of-type {\n",
       "        vertical-align: middle;\n",
       "    }\n",
       "\n",
       "    .dataframe tbody tr th {\n",
       "        vertical-align: top;\n",
       "    }\n",
       "\n",
       "    .dataframe thead th {\n",
       "        text-align: right;\n",
       "    }\n",
       "</style>\n",
       "<table border=\"1\" class=\"dataframe\">\n",
       "  <thead>\n",
       "    <tr style=\"text-align: right;\">\n",
       "      <th></th>\n",
       "      <th>Name</th>\n",
       "      <th>Age</th>\n",
       "      <th>Marks</th>\n",
       "      <th>Sub</th>\n",
       "      <th>Grade</th>\n",
       "    </tr>\n",
       "  </thead>\n",
       "  <tbody>\n",
       "    <tr>\n",
       "      <th>0</th>\n",
       "      <td>Amit</td>\n",
       "      <td>25</td>\n",
       "      <td>85</td>\n",
       "      <td>Eng</td>\n",
       "      <td>B</td>\n",
       "    </tr>\n",
       "    <tr>\n",
       "      <th>1</th>\n",
       "      <td>Riya</td>\n",
       "      <td>22</td>\n",
       "      <td>90</td>\n",
       "      <td>Hindi</td>\n",
       "      <td>A</td>\n",
       "    </tr>\n",
       "    <tr>\n",
       "      <th>2</th>\n",
       "      <td>John</td>\n",
       "      <td>23</td>\n",
       "      <td>78</td>\n",
       "      <td>Beng</td>\n",
       "      <td>C</td>\n",
       "    </tr>\n",
       "    <tr>\n",
       "      <th>3</th>\n",
       "      <td>Diya</td>\n",
       "      <td>45</td>\n",
       "      <td>90</td>\n",
       "      <td>Math</td>\n",
       "      <td>A</td>\n",
       "    </tr>\n",
       "    <tr>\n",
       "      <th>4</th>\n",
       "      <td>Aman</td>\n",
       "      <td>27</td>\n",
       "      <td>87</td>\n",
       "      <td>Phy</td>\n",
       "      <td>B</td>\n",
       "    </tr>\n",
       "  </tbody>\n",
       "</table>\n",
       "</div>"
      ],
      "text/plain": [
       "   Name  Age  Marks    Sub Grade\n",
       "0  Amit   25     85    Eng     B\n",
       "1  Riya   22     90  Hindi     A\n",
       "2  John   23     78   Beng     C\n",
       "3  Diya   45     90   Math     A\n",
       "4  Aman   27     87    Phy     B"
      ]
     },
     "execution_count": 52,
     "metadata": {},
     "output_type": "execute_result"
    }
   ],
   "source": [
    "df['Grade'] = ['B', 'A', 'C', 'A', 'B'] # or do df['Grade'] = 'B' for all rows same value\n",
    "df"
   ]
  },
  {
   "cell_type": "code",
   "execution_count": 53,
   "id": "e790677b-b136-4282-a453-2c355f8b9293",
   "metadata": {},
   "outputs": [
    {
     "data": {
      "text/html": [
       "<div>\n",
       "<style scoped>\n",
       "    .dataframe tbody tr th:only-of-type {\n",
       "        vertical-align: middle;\n",
       "    }\n",
       "\n",
       "    .dataframe tbody tr th {\n",
       "        vertical-align: top;\n",
       "    }\n",
       "\n",
       "    .dataframe thead th {\n",
       "        text-align: right;\n",
       "    }\n",
       "</style>\n",
       "<table border=\"1\" class=\"dataframe\">\n",
       "  <thead>\n",
       "    <tr style=\"text-align: right;\">\n",
       "      <th></th>\n",
       "      <th>Name</th>\n",
       "      <th>Age</th>\n",
       "      <th>Marks</th>\n",
       "      <th>Sub</th>\n",
       "      <th>Grade</th>\n",
       "    </tr>\n",
       "  </thead>\n",
       "  <tbody>\n",
       "    <tr>\n",
       "      <th>0</th>\n",
       "      <td>Amit</td>\n",
       "      <td>25</td>\n",
       "      <td>85</td>\n",
       "      <td>Eng</td>\n",
       "      <td>B</td>\n",
       "    </tr>\n",
       "    <tr>\n",
       "      <th>1</th>\n",
       "      <td>Riya</td>\n",
       "      <td>26</td>\n",
       "      <td>90</td>\n",
       "      <td>Hindi</td>\n",
       "      <td>A</td>\n",
       "    </tr>\n",
       "    <tr>\n",
       "      <th>2</th>\n",
       "      <td>John</td>\n",
       "      <td>23</td>\n",
       "      <td>78</td>\n",
       "      <td>Beng</td>\n",
       "      <td>C</td>\n",
       "    </tr>\n",
       "    <tr>\n",
       "      <th>3</th>\n",
       "      <td>Diya</td>\n",
       "      <td>45</td>\n",
       "      <td>90</td>\n",
       "      <td>Math</td>\n",
       "      <td>A</td>\n",
       "    </tr>\n",
       "    <tr>\n",
       "      <th>4</th>\n",
       "      <td>Aman</td>\n",
       "      <td>27</td>\n",
       "      <td>87</td>\n",
       "      <td>Phy</td>\n",
       "      <td>B</td>\n",
       "    </tr>\n",
       "  </tbody>\n",
       "</table>\n",
       "</div>"
      ],
      "text/plain": [
       "   Name  Age  Marks    Sub Grade\n",
       "0  Amit   25     85    Eng     B\n",
       "1  Riya   26     90  Hindi     A\n",
       "2  John   23     78   Beng     C\n",
       "3  Diya   45     90   Math     A\n",
       "4  Aman   27     87    Phy     B"
      ]
     },
     "execution_count": 53,
     "metadata": {},
     "output_type": "execute_result"
    }
   ],
   "source": [
    "df.at[1, \"Age\"] = 26\n",
    "df"
   ]
  },
  {
   "cell_type": "code",
   "execution_count": 54,
   "id": "f3a4fa33-7da4-4ec7-a3d8-41a0d6c46aa9",
   "metadata": {},
   "outputs": [
    {
     "data": {
      "text/html": [
       "<div>\n",
       "<style scoped>\n",
       "    .dataframe tbody tr th:only-of-type {\n",
       "        vertical-align: middle;\n",
       "    }\n",
       "\n",
       "    .dataframe tbody tr th {\n",
       "        vertical-align: top;\n",
       "    }\n",
       "\n",
       "    .dataframe thead th {\n",
       "        text-align: right;\n",
       "    }\n",
       "</style>\n",
       "<table border=\"1\" class=\"dataframe\">\n",
       "  <thead>\n",
       "    <tr style=\"text-align: right;\">\n",
       "      <th></th>\n",
       "      <th>Name</th>\n",
       "      <th>Age</th>\n",
       "      <th>Marks</th>\n",
       "      <th>Sub</th>\n",
       "      <th>Grade</th>\n",
       "    </tr>\n",
       "  </thead>\n",
       "  <tbody>\n",
       "    <tr>\n",
       "      <th>0</th>\n",
       "      <td>Amit</td>\n",
       "      <td>25</td>\n",
       "      <td>85</td>\n",
       "      <td>Eng</td>\n",
       "      <td>B</td>\n",
       "    </tr>\n",
       "    <tr>\n",
       "      <th>1</th>\n",
       "      <td>Riya</td>\n",
       "      <td>26</td>\n",
       "      <td>90</td>\n",
       "      <td>Hindi</td>\n",
       "      <td>A</td>\n",
       "    </tr>\n",
       "    <tr>\n",
       "      <th>3</th>\n",
       "      <td>Diya</td>\n",
       "      <td>45</td>\n",
       "      <td>90</td>\n",
       "      <td>Math</td>\n",
       "      <td>A</td>\n",
       "    </tr>\n",
       "    <tr>\n",
       "      <th>4</th>\n",
       "      <td>Aman</td>\n",
       "      <td>27</td>\n",
       "      <td>87</td>\n",
       "      <td>Phy</td>\n",
       "      <td>B</td>\n",
       "    </tr>\n",
       "  </tbody>\n",
       "</table>\n",
       "</div>"
      ],
      "text/plain": [
       "   Name  Age  Marks    Sub Grade\n",
       "0  Amit   25     85    Eng     B\n",
       "1  Riya   26     90  Hindi     A\n",
       "3  Diya   45     90   Math     A\n",
       "4  Aman   27     87    Phy     B"
      ]
     },
     "execution_count": 54,
     "metadata": {},
     "output_type": "execute_result"
    }
   ],
   "source": [
    "df[df[\"Marks\"] > 80]"
   ]
  },
  {
   "cell_type": "code",
   "execution_count": 55,
   "id": "443691bd-8923-41cb-8302-bb742992d9b6",
   "metadata": {},
   "outputs": [
    {
     "data": {
      "text/html": [
       "<div>\n",
       "<style scoped>\n",
       "    .dataframe tbody tr th:only-of-type {\n",
       "        vertical-align: middle;\n",
       "    }\n",
       "\n",
       "    .dataframe tbody tr th {\n",
       "        vertical-align: top;\n",
       "    }\n",
       "\n",
       "    .dataframe thead th {\n",
       "        text-align: right;\n",
       "    }\n",
       "</style>\n",
       "<table border=\"1\" class=\"dataframe\">\n",
       "  <thead>\n",
       "    <tr style=\"text-align: right;\">\n",
       "      <th></th>\n",
       "      <th>Name</th>\n",
       "      <th>Age</th>\n",
       "      <th>Marks</th>\n",
       "      <th>Sub</th>\n",
       "      <th>Grade</th>\n",
       "    </tr>\n",
       "  </thead>\n",
       "  <tbody>\n",
       "    <tr>\n",
       "      <th>0</th>\n",
       "      <td>Amit</td>\n",
       "      <td>25</td>\n",
       "      <td>85</td>\n",
       "      <td>Eng</td>\n",
       "      <td>B</td>\n",
       "    </tr>\n",
       "    <tr>\n",
       "      <th>1</th>\n",
       "      <td>Riya</td>\n",
       "      <td>26</td>\n",
       "      <td>90</td>\n",
       "      <td>Hindi</td>\n",
       "      <td>A</td>\n",
       "    </tr>\n",
       "  </tbody>\n",
       "</table>\n",
       "</div>"
      ],
      "text/plain": [
       "   Name  Age  Marks    Sub Grade\n",
       "0  Amit   25     85    Eng     B\n",
       "1  Riya   26     90  Hindi     A"
      ]
     },
     "execution_count": 55,
     "metadata": {},
     "output_type": "execute_result"
    }
   ],
   "source": [
    "df.head(2)"
   ]
  },
  {
   "cell_type": "code",
   "execution_count": 56,
   "id": "24267cb3-4d92-46e1-93c5-7fcbc5f49621",
   "metadata": {},
   "outputs": [
    {
     "data": {
      "text/html": [
       "<div>\n",
       "<style scoped>\n",
       "    .dataframe tbody tr th:only-of-type {\n",
       "        vertical-align: middle;\n",
       "    }\n",
       "\n",
       "    .dataframe tbody tr th {\n",
       "        vertical-align: top;\n",
       "    }\n",
       "\n",
       "    .dataframe thead th {\n",
       "        text-align: right;\n",
       "    }\n",
       "</style>\n",
       "<table border=\"1\" class=\"dataframe\">\n",
       "  <thead>\n",
       "    <tr style=\"text-align: right;\">\n",
       "      <th></th>\n",
       "      <th>Age</th>\n",
       "      <th>Marks</th>\n",
       "    </tr>\n",
       "  </thead>\n",
       "  <tbody>\n",
       "    <tr>\n",
       "      <th>count</th>\n",
       "      <td>5.000000</td>\n",
       "      <td>5.000000</td>\n",
       "    </tr>\n",
       "    <tr>\n",
       "      <th>mean</th>\n",
       "      <td>29.200000</td>\n",
       "      <td>86.000000</td>\n",
       "    </tr>\n",
       "    <tr>\n",
       "      <th>std</th>\n",
       "      <td>8.955445</td>\n",
       "      <td>4.949747</td>\n",
       "    </tr>\n",
       "    <tr>\n",
       "      <th>min</th>\n",
       "      <td>23.000000</td>\n",
       "      <td>78.000000</td>\n",
       "    </tr>\n",
       "    <tr>\n",
       "      <th>25%</th>\n",
       "      <td>25.000000</td>\n",
       "      <td>85.000000</td>\n",
       "    </tr>\n",
       "    <tr>\n",
       "      <th>50%</th>\n",
       "      <td>26.000000</td>\n",
       "      <td>87.000000</td>\n",
       "    </tr>\n",
       "    <tr>\n",
       "      <th>75%</th>\n",
       "      <td>27.000000</td>\n",
       "      <td>90.000000</td>\n",
       "    </tr>\n",
       "    <tr>\n",
       "      <th>max</th>\n",
       "      <td>45.000000</td>\n",
       "      <td>90.000000</td>\n",
       "    </tr>\n",
       "  </tbody>\n",
       "</table>\n",
       "</div>"
      ],
      "text/plain": [
       "             Age      Marks\n",
       "count   5.000000   5.000000\n",
       "mean   29.200000  86.000000\n",
       "std     8.955445   4.949747\n",
       "min    23.000000  78.000000\n",
       "25%    25.000000  85.000000\n",
       "50%    26.000000  87.000000\n",
       "75%    27.000000  90.000000\n",
       "max    45.000000  90.000000"
      ]
     },
     "execution_count": 56,
     "metadata": {},
     "output_type": "execute_result"
    }
   ],
   "source": [
    "df.describe()"
   ]
  },
  {
   "cell_type": "code",
   "execution_count": 57,
   "id": "0327f272-9bc9-4531-bb88-161f66010ccc",
   "metadata": {},
   "outputs": [
    {
     "name": "stdout",
     "output_type": "stream",
     "text": [
      "<class 'pandas.core.frame.DataFrame'>\n",
      "RangeIndex: 5 entries, 0 to 4\n",
      "Data columns (total 5 columns):\n",
      " #   Column  Non-Null Count  Dtype \n",
      "---  ------  --------------  ----- \n",
      " 0   Name    5 non-null      object\n",
      " 1   Age     5 non-null      int64 \n",
      " 2   Marks   5 non-null      int64 \n",
      " 3   Sub     5 non-null      object\n",
      " 4   Grade   5 non-null      object\n",
      "dtypes: int64(2), object(3)\n",
      "memory usage: 332.0+ bytes\n"
     ]
    }
   ],
   "source": [
    "df.info()"
   ]
  },
  {
   "cell_type": "code",
   "execution_count": 58,
   "id": "66e1742f-ba82-47bd-927f-e1e1f87cf476",
   "metadata": {},
   "outputs": [
    {
     "data": {
      "text/plain": [
       "Name      Riya\n",
       "Age         26\n",
       "Marks       90\n",
       "Sub      Hindi\n",
       "Grade        A\n",
       "Name: 1, dtype: object"
      ]
     },
     "execution_count": 58,
     "metadata": {},
     "output_type": "execute_result"
    }
   ],
   "source": [
    "df.loc[1]"
   ]
  },
  {
   "cell_type": "code",
   "execution_count": 59,
   "id": "1b78addb-a5b8-4832-a9c0-d5819d34b5be",
   "metadata": {},
   "outputs": [
    {
     "data": {
      "text/plain": [
       "0    25\n",
       "1    26\n",
       "2    23\n",
       "3    45\n",
       "4    27\n",
       "Name: Age, dtype: int64"
      ]
     },
     "execution_count": 59,
     "metadata": {},
     "output_type": "execute_result"
    }
   ],
   "source": [
    "df.loc[:, 'Age']"
   ]
  },
  {
   "cell_type": "code",
   "execution_count": 60,
   "id": "87757d6f-ea8f-4ca1-80ca-d9a2ccecdb9b",
   "metadata": {},
   "outputs": [
    {
     "data": {
      "text/plain": [
       "Name      Riya\n",
       "Age         26\n",
       "Marks       90\n",
       "Sub      Hindi\n",
       "Grade        A\n",
       "Name: 1, dtype: object"
      ]
     },
     "execution_count": 60,
     "metadata": {},
     "output_type": "execute_result"
    }
   ],
   "source": [
    "df.iloc[1]"
   ]
  },
  {
   "cell_type": "code",
   "execution_count": 64,
   "id": "81132286-ab2a-4c86-b4a9-b3435baa0b45",
   "metadata": {},
   "outputs": [
    {
     "data": {
      "text/plain": [
       "1    26\n",
       "3    45\n",
       "Name: Age, dtype: int64"
      ]
     },
     "execution_count": 64,
     "metadata": {},
     "output_type": "execute_result"
    }
   ],
   "source": [
    "df.iloc[1::2, 1]"
   ]
  },
  {
   "cell_type": "code",
   "execution_count": 65,
   "id": "f1e02788-8894-4c6f-a489-57a956a28959",
   "metadata": {},
   "outputs": [
    {
     "name": "stdout",
     "output_type": "stream",
     "text": [
      "   Marks\n",
      "A     10\n",
      "B     20\n",
      "C     30\n"
     ]
    }
   ],
   "source": [
    "s = pd.Series([10, 20, 30], index=['A', 'B', 'C'])\n",
    "df = s.to_frame(name='Marks')\n",
    "print(df)"
   ]
  },
  {
   "cell_type": "code",
   "execution_count": 68,
   "id": "723fc6cb-ff2f-448a-a334-11093c790864",
   "metadata": {},
   "outputs": [],
   "source": [
    "dis = {\n",
    "    'a':[1, 2, 3, 4, 5],\n",
    "    'b':[6, 7, 8, 9, 10],\n",
    "    'c':[2, 4, 6, 8, 10]\n",
    "}\n",
    "df = pd.DataFrame(dis)\n",
    "df.to_csv('test_1.csv', index=False)"
   ]
  },
  {
   "cell_type": "code",
   "execution_count": null,
   "id": "fc94afde-73a0-41ea-ada8-ab83e15422ef",
   "metadata": {},
   "outputs": [],
   "source": []
  },
  {
   "cell_type": "code",
   "execution_count": 77,
   "id": "0ce88fc3-bbed-49a5-8fd1-d7a35f16bb37",
   "metadata": {},
   "outputs": [],
   "source": [
    "csv_1 = pd.read_csv('Students_Grading_Dataset_Biased.csv', index_col='Student_ID')\n",
    "# For skipping the rows use skiprows = 1"
   ]
  },
  {
   "cell_type": "code",
   "execution_count": 78,
   "id": "124ec9c6-ad05-4d0d-9499-4acd2bb40074",
   "metadata": {},
   "outputs": [
    {
     "data": {
      "text/plain": [
       "\u001b[31mSignature:\u001b[39m\n",
       "pd.read_csv(\n",
       "    filepath_or_buffer: \u001b[33m'FilePath | ReadCsvBuffer[bytes] | ReadCsvBuffer[str]'\u001b[39m,\n",
       "    *,\n",
       "    sep: \u001b[33m'str | None | lib.NoDefault'\u001b[39m = <no_default>,\n",
       "    delimiter: \u001b[33m'str | None | lib.NoDefault'\u001b[39m = \u001b[38;5;28;01mNone\u001b[39;00m,\n",
       "    header: \u001b[33m\"int | Sequence[int] | None | Literal['infer']\"\u001b[39m = \u001b[33m'infer'\u001b[39m,\n",
       "    names: \u001b[33m'Sequence[Hashable] | None | lib.NoDefault'\u001b[39m = <no_default>,\n",
       "    index_col: \u001b[33m'IndexLabel | Literal[False] | None'\u001b[39m = \u001b[38;5;28;01mNone\u001b[39;00m,\n",
       "    usecols: \u001b[33m'UsecolsArgType'\u001b[39m = \u001b[38;5;28;01mNone\u001b[39;00m,\n",
       "    dtype: \u001b[33m'DtypeArg | None'\u001b[39m = \u001b[38;5;28;01mNone\u001b[39;00m,\n",
       "    engine: \u001b[33m'CSVEngine | None'\u001b[39m = \u001b[38;5;28;01mNone\u001b[39;00m,\n",
       "    converters: \u001b[33m'Mapping[Hashable, Callable] | None'\u001b[39m = \u001b[38;5;28;01mNone\u001b[39;00m,\n",
       "    true_values: \u001b[33m'list | None'\u001b[39m = \u001b[38;5;28;01mNone\u001b[39;00m,\n",
       "    false_values: \u001b[33m'list | None'\u001b[39m = \u001b[38;5;28;01mNone\u001b[39;00m,\n",
       "    skipinitialspace: \u001b[33m'bool'\u001b[39m = \u001b[38;5;28;01mFalse\u001b[39;00m,\n",
       "    skiprows: \u001b[33m'list[int] | int | Callable[[Hashable], bool] | None'\u001b[39m = \u001b[38;5;28;01mNone\u001b[39;00m,\n",
       "    skipfooter: \u001b[33m'int'\u001b[39m = \u001b[32m0\u001b[39m,\n",
       "    nrows: \u001b[33m'int | None'\u001b[39m = \u001b[38;5;28;01mNone\u001b[39;00m,\n",
       "    na_values: \u001b[33m'Hashable | Iterable[Hashable] | Mapping[Hashable, Iterable[Hashable]] | None'\u001b[39m = \u001b[38;5;28;01mNone\u001b[39;00m,\n",
       "    keep_default_na: \u001b[33m'bool'\u001b[39m = \u001b[38;5;28;01mTrue\u001b[39;00m,\n",
       "    na_filter: \u001b[33m'bool'\u001b[39m = \u001b[38;5;28;01mTrue\u001b[39;00m,\n",
       "    verbose: \u001b[33m'bool | lib.NoDefault'\u001b[39m = <no_default>,\n",
       "    skip_blank_lines: \u001b[33m'bool'\u001b[39m = \u001b[38;5;28;01mTrue\u001b[39;00m,\n",
       "    parse_dates: \u001b[33m'bool | Sequence[Hashable] | None'\u001b[39m = \u001b[38;5;28;01mNone\u001b[39;00m,\n",
       "    infer_datetime_format: \u001b[33m'bool | lib.NoDefault'\u001b[39m = <no_default>,\n",
       "    keep_date_col: \u001b[33m'bool | lib.NoDefault'\u001b[39m = <no_default>,\n",
       "    date_parser: \u001b[33m'Callable | lib.NoDefault'\u001b[39m = <no_default>,\n",
       "    date_format: \u001b[33m'str | dict[Hashable, str] | None'\u001b[39m = \u001b[38;5;28;01mNone\u001b[39;00m,\n",
       "    dayfirst: \u001b[33m'bool'\u001b[39m = \u001b[38;5;28;01mFalse\u001b[39;00m,\n",
       "    cache_dates: \u001b[33m'bool'\u001b[39m = \u001b[38;5;28;01mTrue\u001b[39;00m,\n",
       "    iterator: \u001b[33m'bool'\u001b[39m = \u001b[38;5;28;01mFalse\u001b[39;00m,\n",
       "    chunksize: \u001b[33m'int | None'\u001b[39m = \u001b[38;5;28;01mNone\u001b[39;00m,\n",
       "    compression: \u001b[33m'CompressionOptions'\u001b[39m = \u001b[33m'infer'\u001b[39m,\n",
       "    thousands: \u001b[33m'str | None'\u001b[39m = \u001b[38;5;28;01mNone\u001b[39;00m,\n",
       "    decimal: \u001b[33m'str'\u001b[39m = \u001b[33m'.'\u001b[39m,\n",
       "    lineterminator: \u001b[33m'str | None'\u001b[39m = \u001b[38;5;28;01mNone\u001b[39;00m,\n",
       "    quotechar: \u001b[33m'str'\u001b[39m = \u001b[33m'\"'\u001b[39m,\n",
       "    quoting: \u001b[33m'int'\u001b[39m = \u001b[32m0\u001b[39m,\n",
       "    doublequote: \u001b[33m'bool'\u001b[39m = \u001b[38;5;28;01mTrue\u001b[39;00m,\n",
       "    escapechar: \u001b[33m'str | None'\u001b[39m = \u001b[38;5;28;01mNone\u001b[39;00m,\n",
       "    comment: \u001b[33m'str | None'\u001b[39m = \u001b[38;5;28;01mNone\u001b[39;00m,\n",
       "    encoding: \u001b[33m'str | None'\u001b[39m = \u001b[38;5;28;01mNone\u001b[39;00m,\n",
       "    encoding_errors: \u001b[33m'str | None'\u001b[39m = \u001b[33m'strict'\u001b[39m,\n",
       "    dialect: \u001b[33m'str | csv.Dialect | None'\u001b[39m = \u001b[38;5;28;01mNone\u001b[39;00m,\n",
       "    on_bad_lines: \u001b[33m'str'\u001b[39m = \u001b[33m'error'\u001b[39m,\n",
       "    delim_whitespace: \u001b[33m'bool | lib.NoDefault'\u001b[39m = <no_default>,\n",
       "    low_memory: \u001b[33m'bool'\u001b[39m = \u001b[38;5;28;01mTrue\u001b[39;00m,\n",
       "    memory_map: \u001b[33m'bool'\u001b[39m = \u001b[38;5;28;01mFalse\u001b[39;00m,\n",
       "    float_precision: \u001b[33m\"Literal['high', 'legacy'] | None\"\u001b[39m = \u001b[38;5;28;01mNone\u001b[39;00m,\n",
       "    storage_options: \u001b[33m'StorageOptions | None'\u001b[39m = \u001b[38;5;28;01mNone\u001b[39;00m,\n",
       "    dtype_backend: \u001b[33m'DtypeBackend | lib.NoDefault'\u001b[39m = <no_default>,\n",
       ") -> \u001b[33m'DataFrame | TextFileReader'\u001b[39m\n",
       "\u001b[31mDocstring:\u001b[39m\n",
       "Read a comma-separated values (csv) file into DataFrame.\n",
       "\n",
       "Also supports optionally iterating or breaking of the file\n",
       "into chunks.\n",
       "\n",
       "Additional help can be found in the online docs for\n",
       "`IO Tools <https://pandas.pydata.org/pandas-docs/stable/user_guide/io.html>`_.\n",
       "\n",
       "Parameters\n",
       "----------\n",
       "filepath_or_buffer : str, path object or file-like object\n",
       "    Any valid string path is acceptable. The string could be a URL. Valid\n",
       "    URL schemes include http, ftp, s3, gs, and file. For file URLs, a host is\n",
       "    expected. A local file could be: file://localhost/path/to/table.csv.\n",
       "\n",
       "    If you want to pass in a path object, pandas accepts any ``os.PathLike``.\n",
       "\n",
       "    By file-like object, we refer to objects with a ``read()`` method, such as\n",
       "    a file handle (e.g. via builtin ``open`` function) or ``StringIO``.\n",
       "sep : str, default ','\n",
       "    Character or regex pattern to treat as the delimiter. If ``sep=None``, the\n",
       "    C engine cannot automatically detect\n",
       "    the separator, but the Python parsing engine can, meaning the latter will\n",
       "    be used and automatically detect the separator from only the first valid\n",
       "    row of the file by Python's builtin sniffer tool, ``csv.Sniffer``.\n",
       "    In addition, separators longer than 1 character and different from\n",
       "    ``'\\s+'`` will be interpreted as regular expressions and will also force\n",
       "    the use of the Python parsing engine. Note that regex delimiters are prone\n",
       "    to ignoring quoted data. Regex example: ``'\\r\\t'``.\n",
       "delimiter : str, optional\n",
       "    Alias for ``sep``.\n",
       "header : int, Sequence of int, 'infer' or None, default 'infer'\n",
       "    Row number(s) containing column labels and marking the start of the\n",
       "    data (zero-indexed). Default behavior is to infer the column names: if no ``names``\n",
       "    are passed the behavior is identical to ``header=0`` and column\n",
       "    names are inferred from the first line of the file, if column\n",
       "    names are passed explicitly to ``names`` then the behavior is identical to\n",
       "    ``header=None``. Explicitly pass ``header=0`` to be able to\n",
       "    replace existing names. The header can be a list of integers that\n",
       "    specify row locations for a :class:`~pandas.MultiIndex` on the columns\n",
       "    e.g. ``[0, 1, 3]``. Intervening rows that are not specified will be\n",
       "    skipped (e.g. 2 in this example is skipped). Note that this\n",
       "    parameter ignores commented lines and empty lines if\n",
       "    ``skip_blank_lines=True``, so ``header=0`` denotes the first line of\n",
       "    data rather than the first line of the file.\n",
       "names : Sequence of Hashable, optional\n",
       "    Sequence of column labels to apply. If the file contains a header row,\n",
       "    then you should explicitly pass ``header=0`` to override the column names.\n",
       "    Duplicates in this list are not allowed.\n",
       "index_col : Hashable, Sequence of Hashable or False, optional\n",
       "  Column(s) to use as row label(s), denoted either by column labels or column\n",
       "  indices.  If a sequence of labels or indices is given, :class:`~pandas.MultiIndex`\n",
       "  will be formed for the row labels.\n",
       "\n",
       "  Note: ``index_col=False`` can be used to force pandas to *not* use the first\n",
       "  column as the index, e.g., when you have a malformed file with delimiters at\n",
       "  the end of each line.\n",
       "usecols : Sequence of Hashable or Callable, optional\n",
       "    Subset of columns to select, denoted either by column labels or column indices.\n",
       "    If list-like, all elements must either\n",
       "    be positional (i.e. integer indices into the document columns) or strings\n",
       "    that correspond to column names provided either by the user in ``names`` or\n",
       "    inferred from the document header row(s). If ``names`` are given, the document\n",
       "    header row(s) are not taken into account. For example, a valid list-like\n",
       "    ``usecols`` parameter would be ``[0, 1, 2]`` or ``['foo', 'bar', 'baz']``.\n",
       "    Element order is ignored, so ``usecols=[0, 1]`` is the same as ``[1, 0]``.\n",
       "    To instantiate a :class:`~pandas.DataFrame` from ``data`` with element order\n",
       "    preserved use ``pd.read_csv(data, usecols=['foo', 'bar'])[['foo', 'bar']]``\n",
       "    for columns in ``['foo', 'bar']`` order or\n",
       "    ``pd.read_csv(data, usecols=['foo', 'bar'])[['bar', 'foo']]``\n",
       "    for ``['bar', 'foo']`` order.\n",
       "\n",
       "    If callable, the callable function will be evaluated against the column\n",
       "    names, returning names where the callable function evaluates to ``True``. An\n",
       "    example of a valid callable argument would be ``lambda x: x.upper() in\n",
       "    ['AAA', 'BBB', 'DDD']``. Using this parameter results in much faster\n",
       "    parsing time and lower memory usage.\n",
       "dtype : dtype or dict of {Hashable : dtype}, optional\n",
       "    Data type(s) to apply to either the whole dataset or individual columns.\n",
       "    E.g., ``{'a': np.float64, 'b': np.int32, 'c': 'Int64'}``\n",
       "    Use ``str`` or ``object`` together with suitable ``na_values`` settings\n",
       "    to preserve and not interpret ``dtype``.\n",
       "    If ``converters`` are specified, they will be applied INSTEAD\n",
       "    of ``dtype`` conversion.\n",
       "\n",
       "    .. versionadded:: 1.5.0\n",
       "\n",
       "        Support for ``defaultdict`` was added. Specify a ``defaultdict`` as input where\n",
       "        the default determines the ``dtype`` of the columns which are not explicitly\n",
       "        listed.\n",
       "engine : {'c', 'python', 'pyarrow'}, optional\n",
       "    Parser engine to use. The C and pyarrow engines are faster, while the python engine\n",
       "    is currently more feature-complete. Multithreading is currently only supported by\n",
       "    the pyarrow engine.\n",
       "\n",
       "    .. versionadded:: 1.4.0\n",
       "\n",
       "        The 'pyarrow' engine was added as an *experimental* engine, and some features\n",
       "        are unsupported, or may not work correctly, with this engine.\n",
       "converters : dict of {Hashable : Callable}, optional\n",
       "    Functions for converting values in specified columns. Keys can either\n",
       "    be column labels or column indices.\n",
       "true_values : list, optional\n",
       "    Values to consider as ``True`` in addition to case-insensitive variants of 'True'.\n",
       "false_values : list, optional\n",
       "    Values to consider as ``False`` in addition to case-insensitive variants of 'False'.\n",
       "skipinitialspace : bool, default False\n",
       "    Skip spaces after delimiter.\n",
       "skiprows : int, list of int or Callable, optional\n",
       "    Line numbers to skip (0-indexed) or number of lines to skip (``int``)\n",
       "    at the start of the file.\n",
       "\n",
       "    If callable, the callable function will be evaluated against the row\n",
       "    indices, returning ``True`` if the row should be skipped and ``False`` otherwise.\n",
       "    An example of a valid callable argument would be ``lambda x: x in [0, 2]``.\n",
       "skipfooter : int, default 0\n",
       "    Number of lines at bottom of file to skip (Unsupported with ``engine='c'``).\n",
       "nrows : int, optional\n",
       "    Number of rows of file to read. Useful for reading pieces of large files.\n",
       "na_values : Hashable, Iterable of Hashable or dict of {Hashable : Iterable}, optional\n",
       "    Additional strings to recognize as ``NA``/``NaN``. If ``dict`` passed, specific\n",
       "    per-column ``NA`` values.  By default the following values are interpreted as\n",
       "    ``NaN``: \" \", \"#N/A\", \"#N/A N/A\", \"#NA\", \"-1.#IND\", \"-1.#QNAN\", \"-NaN\", \"-nan\",\n",
       "    \"1.#IND\", \"1.#QNAN\", \"<NA>\", \"N/A\", \"NA\", \"NULL\", \"NaN\", \"None\",\n",
       "    \"n/a\", \"nan\", \"null \".\n",
       "\n",
       "keep_default_na : bool, default True\n",
       "    Whether or not to include the default ``NaN`` values when parsing the data.\n",
       "    Depending on whether ``na_values`` is passed in, the behavior is as follows:\n",
       "\n",
       "    * If ``keep_default_na`` is ``True``, and ``na_values`` are specified, ``na_values``\n",
       "      is appended to the default ``NaN`` values used for parsing.\n",
       "    * If ``keep_default_na`` is ``True``, and ``na_values`` are not specified, only\n",
       "      the default ``NaN`` values are used for parsing.\n",
       "    * If ``keep_default_na`` is ``False``, and ``na_values`` are specified, only\n",
       "      the ``NaN`` values specified ``na_values`` are used for parsing.\n",
       "    * If ``keep_default_na`` is ``False``, and ``na_values`` are not specified, no\n",
       "      strings will be parsed as ``NaN``.\n",
       "\n",
       "    Note that if ``na_filter`` is passed in as ``False``, the ``keep_default_na`` and\n",
       "    ``na_values`` parameters will be ignored.\n",
       "na_filter : bool, default True\n",
       "    Detect missing value markers (empty strings and the value of ``na_values``). In\n",
       "    data without any ``NA`` values, passing ``na_filter=False`` can improve the\n",
       "    performance of reading a large file.\n",
       "verbose : bool, default False\n",
       "    Indicate number of ``NA`` values placed in non-numeric columns.\n",
       "\n",
       "    .. deprecated:: 2.2.0\n",
       "skip_blank_lines : bool, default True\n",
       "    If ``True``, skip over blank lines rather than interpreting as ``NaN`` values.\n",
       "parse_dates : bool, list of Hashable, list of lists or dict of {Hashable : list}, default False\n",
       "    The behavior is as follows:\n",
       "\n",
       "    * ``bool``. If ``True`` -> try parsing the index. Note: Automatically set to\n",
       "      ``True`` if ``date_format`` or ``date_parser`` arguments have been passed.\n",
       "    * ``list`` of ``int`` or names. e.g. If ``[1, 2, 3]`` -> try parsing columns 1, 2, 3\n",
       "      each as a separate date column.\n",
       "    * ``list`` of ``list``. e.g.  If ``[[1, 3]]`` -> combine columns 1 and 3 and parse\n",
       "      as a single date column. Values are joined with a space before parsing.\n",
       "    * ``dict``, e.g. ``{'foo' : [1, 3]}`` -> parse columns 1, 3 as date and call\n",
       "      result 'foo'. Values are joined with a space before parsing.\n",
       "\n",
       "    If a column or index cannot be represented as an array of ``datetime``,\n",
       "    say because of an unparsable value or a mixture of timezones, the column\n",
       "    or index will be returned unaltered as an ``object`` data type. For\n",
       "    non-standard ``datetime`` parsing, use :func:`~pandas.to_datetime` after\n",
       "    :func:`~pandas.read_csv`.\n",
       "\n",
       "    Note: A fast-path exists for iso8601-formatted dates.\n",
       "infer_datetime_format : bool, default False\n",
       "    If ``True`` and ``parse_dates`` is enabled, pandas will attempt to infer the\n",
       "    format of the ``datetime`` strings in the columns, and if it can be inferred,\n",
       "    switch to a faster method of parsing them. In some cases this can increase\n",
       "    the parsing speed by 5-10x.\n",
       "\n",
       "    .. deprecated:: 2.0.0\n",
       "        A strict version of this argument is now the default, passing it has no effect.\n",
       "\n",
       "keep_date_col : bool, default False\n",
       "    If ``True`` and ``parse_dates`` specifies combining multiple columns then\n",
       "    keep the original columns.\n",
       "date_parser : Callable, optional\n",
       "    Function to use for converting a sequence of string columns to an array of\n",
       "    ``datetime`` instances. The default uses ``dateutil.parser.parser`` to do the\n",
       "    conversion. pandas will try to call ``date_parser`` in three different ways,\n",
       "    advancing to the next if an exception occurs: 1) Pass one or more arrays\n",
       "    (as defined by ``parse_dates``) as arguments; 2) concatenate (row-wise) the\n",
       "    string values from the columns defined by ``parse_dates`` into a single array\n",
       "    and pass that; and 3) call ``date_parser`` once for each row using one or\n",
       "    more strings (corresponding to the columns defined by ``parse_dates``) as\n",
       "    arguments.\n",
       "\n",
       "    .. deprecated:: 2.0.0\n",
       "       Use ``date_format`` instead, or read in as ``object`` and then apply\n",
       "       :func:`~pandas.to_datetime` as-needed.\n",
       "date_format : str or dict of column -> format, optional\n",
       "    Format to use for parsing dates when used in conjunction with ``parse_dates``.\n",
       "    The strftime to parse time, e.g. :const:`\"%d/%m/%Y\"`. See\n",
       "    `strftime documentation\n",
       "    <https://docs.python.org/3/library/datetime.html\n",
       "    #strftime-and-strptime-behavior>`_ for more information on choices, though\n",
       "    note that :const:`\"%f\"` will parse all the way up to nanoseconds.\n",
       "    You can also pass:\n",
       "\n",
       "    - \"ISO8601\", to parse any `ISO8601 <https://en.wikipedia.org/wiki/ISO_8601>`_\n",
       "        time string (not necessarily in exactly the same format);\n",
       "    - \"mixed\", to infer the format for each element individually. This is risky,\n",
       "        and you should probably use it along with `dayfirst`.\n",
       "\n",
       "    .. versionadded:: 2.0.0\n",
       "dayfirst : bool, default False\n",
       "    DD/MM format dates, international and European format.\n",
       "cache_dates : bool, default True\n",
       "    If ``True``, use a cache of unique, converted dates to apply the ``datetime``\n",
       "    conversion. May produce significant speed-up when parsing duplicate\n",
       "    date strings, especially ones with timezone offsets.\n",
       "\n",
       "iterator : bool, default False\n",
       "    Return ``TextFileReader`` object for iteration or getting chunks with\n",
       "    ``get_chunk()``.\n",
       "chunksize : int, optional\n",
       "    Number of lines to read from the file per chunk. Passing a value will cause the\n",
       "    function to return a ``TextFileReader`` object for iteration.\n",
       "    See the `IO Tools docs\n",
       "    <https://pandas.pydata.org/pandas-docs/stable/io.html#io-chunking>`_\n",
       "    for more information on ``iterator`` and ``chunksize``.\n",
       "\n",
       "compression : str or dict, default 'infer'\n",
       "    For on-the-fly decompression of on-disk data. If 'infer' and 'filepath_or_buffer' is\n",
       "    path-like, then detect compression from the following extensions: '.gz',\n",
       "    '.bz2', '.zip', '.xz', '.zst', '.tar', '.tar.gz', '.tar.xz' or '.tar.bz2'\n",
       "    (otherwise no compression).\n",
       "    If using 'zip' or 'tar', the ZIP file must contain only one data file to be read in.\n",
       "    Set to ``None`` for no decompression.\n",
       "    Can also be a dict with key ``'method'`` set\n",
       "    to one of {``'zip'``, ``'gzip'``, ``'bz2'``, ``'zstd'``, ``'xz'``, ``'tar'``} and\n",
       "    other key-value pairs are forwarded to\n",
       "    ``zipfile.ZipFile``, ``gzip.GzipFile``,\n",
       "    ``bz2.BZ2File``, ``zstandard.ZstdDecompressor``, ``lzma.LZMAFile`` or\n",
       "    ``tarfile.TarFile``, respectively.\n",
       "    As an example, the following could be passed for Zstandard decompression using a\n",
       "    custom compression dictionary:\n",
       "    ``compression={'method': 'zstd', 'dict_data': my_compression_dict}``.\n",
       "\n",
       "    .. versionadded:: 1.5.0\n",
       "        Added support for `.tar` files.\n",
       "\n",
       "    .. versionchanged:: 1.4.0 Zstandard support.\n",
       "\n",
       "thousands : str (length 1), optional\n",
       "    Character acting as the thousands separator in numerical values.\n",
       "decimal : str (length 1), default '.'\n",
       "    Character to recognize as decimal point (e.g., use ',' for European data).\n",
       "lineterminator : str (length 1), optional\n",
       "    Character used to denote a line break. Only valid with C parser.\n",
       "quotechar : str (length 1), optional\n",
       "    Character used to denote the start and end of a quoted item. Quoted\n",
       "    items can include the ``delimiter`` and it will be ignored.\n",
       "quoting : {0 or csv.QUOTE_MINIMAL, 1 or csv.QUOTE_ALL, 2 or csv.QUOTE_NONNUMERIC, 3 or csv.QUOTE_NONE}, default csv.QUOTE_MINIMAL\n",
       "    Control field quoting behavior per ``csv.QUOTE_*`` constants. Default is\n",
       "    ``csv.QUOTE_MINIMAL`` (i.e., 0) which implies that only fields containing special\n",
       "    characters are quoted (e.g., characters defined in ``quotechar``, ``delimiter``,\n",
       "    or ``lineterminator``.\n",
       "doublequote : bool, default True\n",
       "   When ``quotechar`` is specified and ``quoting`` is not ``QUOTE_NONE``, indicate\n",
       "   whether or not to interpret two consecutive ``quotechar`` elements INSIDE a\n",
       "   field as a single ``quotechar`` element.\n",
       "escapechar : str (length 1), optional\n",
       "    Character used to escape other characters.\n",
       "comment : str (length 1), optional\n",
       "    Character indicating that the remainder of line should not be parsed.\n",
       "    If found at the beginning\n",
       "    of a line, the line will be ignored altogether. This parameter must be a\n",
       "    single character. Like empty lines (as long as ``skip_blank_lines=True``),\n",
       "    fully commented lines are ignored by the parameter ``header`` but not by\n",
       "    ``skiprows``. For example, if ``comment='#'``, parsing\n",
       "    ``#empty\\na,b,c\\n1,2,3`` with ``header=0`` will result in ``'a,b,c'`` being\n",
       "    treated as the header.\n",
       "encoding : str, optional, default 'utf-8'\n",
       "    Encoding to use for UTF when reading/writing (ex. ``'utf-8'``). `List of Python\n",
       "    standard encodings\n",
       "    <https://docs.python.org/3/library/codecs.html#standard-encodings>`_ .\n",
       "\n",
       "encoding_errors : str, optional, default 'strict'\n",
       "    How encoding errors are treated. `List of possible values\n",
       "    <https://docs.python.org/3/library/codecs.html#error-handlers>`_ .\n",
       "\n",
       "    .. versionadded:: 1.3.0\n",
       "\n",
       "dialect : str or csv.Dialect, optional\n",
       "    If provided, this parameter will override values (default or not) for the\n",
       "    following parameters: ``delimiter``, ``doublequote``, ``escapechar``,\n",
       "    ``skipinitialspace``, ``quotechar``, and ``quoting``. If it is necessary to\n",
       "    override values, a ``ParserWarning`` will be issued. See ``csv.Dialect``\n",
       "    documentation for more details.\n",
       "on_bad_lines : {'error', 'warn', 'skip'} or Callable, default 'error'\n",
       "    Specifies what to do upon encountering a bad line (a line with too many fields).\n",
       "    Allowed values are :\n",
       "\n",
       "    - ``'error'``, raise an Exception when a bad line is encountered.\n",
       "    - ``'warn'``, raise a warning when a bad line is encountered and skip that line.\n",
       "    - ``'skip'``, skip bad lines without raising or warning when they are encountered.\n",
       "\n",
       "    .. versionadded:: 1.3.0\n",
       "\n",
       "    .. versionadded:: 1.4.0\n",
       "\n",
       "        - Callable, function with signature\n",
       "          ``(bad_line: list[str]) -> list[str] | None`` that will process a single\n",
       "          bad line. ``bad_line`` is a list of strings split by the ``sep``.\n",
       "          If the function returns ``None``, the bad line will be ignored.\n",
       "          If the function returns a new ``list`` of strings with more elements than\n",
       "          expected, a ``ParserWarning`` will be emitted while dropping extra elements.\n",
       "          Only supported when ``engine='python'``\n",
       "\n",
       "    .. versionchanged:: 2.2.0\n",
       "\n",
       "        - Callable, function with signature\n",
       "          as described in `pyarrow documentation\n",
       "          <https://arrow.apache.org/docs/python/generated/pyarrow.csv.ParseOptions.html\n",
       "          #pyarrow.csv.ParseOptions.invalid_row_handler>`_ when ``engine='pyarrow'``\n",
       "\n",
       "delim_whitespace : bool, default False\n",
       "    Specifies whether or not whitespace (e.g. ``' '`` or ``'\\t'``) will be\n",
       "    used as the ``sep`` delimiter. Equivalent to setting ``sep='\\s+'``. If this option\n",
       "    is set to ``True``, nothing should be passed in for the ``delimiter``\n",
       "    parameter.\n",
       "\n",
       "    .. deprecated:: 2.2.0\n",
       "        Use ``sep=\"\\s+\"`` instead.\n",
       "low_memory : bool, default True\n",
       "    Internally process the file in chunks, resulting in lower memory use\n",
       "    while parsing, but possibly mixed type inference.  To ensure no mixed\n",
       "    types either set ``False``, or specify the type with the ``dtype`` parameter.\n",
       "    Note that the entire file is read into a single :class:`~pandas.DataFrame`\n",
       "    regardless, use the ``chunksize`` or ``iterator`` parameter to return the data in\n",
       "    chunks. (Only valid with C parser).\n",
       "memory_map : bool, default False\n",
       "    If a filepath is provided for ``filepath_or_buffer``, map the file object\n",
       "    directly onto memory and access the data directly from there. Using this\n",
       "    option can improve performance because there is no longer any I/O overhead.\n",
       "float_precision : {'high', 'legacy', 'round_trip'}, optional\n",
       "    Specifies which converter the C engine should use for floating-point\n",
       "    values. The options are ``None`` or ``'high'`` for the ordinary converter,\n",
       "    ``'legacy'`` for the original lower precision pandas converter, and\n",
       "    ``'round_trip'`` for the round-trip converter.\n",
       "\n",
       "storage_options : dict, optional\n",
       "    Extra options that make sense for a particular storage connection, e.g.\n",
       "    host, port, username, password, etc. For HTTP(S) URLs the key-value pairs\n",
       "    are forwarded to ``urllib.request.Request`` as header options. For other\n",
       "    URLs (e.g. starting with \"s3://\", and \"gcs://\") the key-value pairs are\n",
       "    forwarded to ``fsspec.open``. Please see ``fsspec`` and ``urllib`` for more\n",
       "    details, and for more examples on storage options refer `here\n",
       "    <https://pandas.pydata.org/docs/user_guide/io.html?\n",
       "    highlight=storage_options#reading-writing-remote-files>`_.\n",
       "\n",
       "dtype_backend : {'numpy_nullable', 'pyarrow'}, default 'numpy_nullable'\n",
       "    Back-end data type applied to the resultant :class:`DataFrame`\n",
       "    (still experimental). Behaviour is as follows:\n",
       "\n",
       "    * ``\"numpy_nullable\"``: returns nullable-dtype-backed :class:`DataFrame`\n",
       "      (default).\n",
       "    * ``\"pyarrow\"``: returns pyarrow-backed nullable :class:`ArrowDtype`\n",
       "      DataFrame.\n",
       "\n",
       "    .. versionadded:: 2.0\n",
       "\n",
       "Returns\n",
       "-------\n",
       "DataFrame or TextFileReader\n",
       "    A comma-separated values (csv) file is returned as two-dimensional\n",
       "    data structure with labeled axes.\n",
       "\n",
       "See Also\n",
       "--------\n",
       "DataFrame.to_csv : Write DataFrame to a comma-separated values (csv) file.\n",
       "read_table : Read general delimited file into DataFrame.\n",
       "read_fwf : Read a table of fixed-width formatted lines into DataFrame.\n",
       "\n",
       "Examples\n",
       "--------\n",
       ">>> pd.read_csv('data.csv')  # doctest: +SKIP\n",
       "\u001b[31mFile:\u001b[39m      c:\\users\\rahak\\.virtualenvs\\venv\\lib\\site-packages\\pandas\\io\\parsers\\readers.py\n",
       "\u001b[31mType:\u001b[39m      function"
      ]
     },
     "metadata": {},
     "output_type": "display_data"
    }
   ],
   "source": [
    "pd.read_csv?"
   ]
  },
  {
   "cell_type": "code",
   "execution_count": 111,
   "id": "a7adb5d2-a07c-4866-a6db-b252c5c546bb",
   "metadata": {},
   "outputs": [
    {
     "data": {
      "text/html": [
       "<div>\n",
       "<style scoped>\n",
       "    .dataframe tbody tr th:only-of-type {\n",
       "        vertical-align: middle;\n",
       "    }\n",
       "\n",
       "    .dataframe tbody tr th {\n",
       "        vertical-align: top;\n",
       "    }\n",
       "\n",
       "    .dataframe thead th {\n",
       "        text-align: right;\n",
       "    }\n",
       "</style>\n",
       "<table border=\"1\" class=\"dataframe\">\n",
       "  <thead>\n",
       "    <tr style=\"text-align: right;\">\n",
       "      <th></th>\n",
       "      <th>Name</th>\n",
       "      <th>Age</th>\n",
       "    </tr>\n",
       "  </thead>\n",
       "  <tbody>\n",
       "    <tr>\n",
       "      <th>0</th>\n",
       "      <td>Alice</td>\n",
       "      <td>25.0</td>\n",
       "    </tr>\n",
       "    <tr>\n",
       "      <th>1</th>\n",
       "      <td>Bob</td>\n",
       "      <td>NaN</td>\n",
       "    </tr>\n",
       "    <tr>\n",
       "      <th>2</th>\n",
       "      <td>Cathy</td>\n",
       "      <td>30.0</td>\n",
       "    </tr>\n",
       "    <tr>\n",
       "      <th>3</th>\n",
       "      <td>Chandani</td>\n",
       "      <td>NaN</td>\n",
       "    </tr>\n",
       "  </tbody>\n",
       "</table>\n",
       "</div>"
      ],
      "text/plain": [
       "       Name   Age\n",
       "0     Alice  25.0\n",
       "1       Bob   NaN\n",
       "2     Cathy  30.0\n",
       "3  Chandani   NaN"
      ]
     },
     "execution_count": 111,
     "metadata": {},
     "output_type": "execute_result"
    }
   ],
   "source": [
    "df1 = pd.DataFrame({\n",
    "    'Name' : ['Alice', 'Bob', 'Cathy', 'Chandani'],\n",
    "    'Age' : [25, None, 30, None]\n",
    "})\n",
    "df1"
   ]
  },
  {
   "cell_type": "code",
   "execution_count": 112,
   "id": "7988c73a-e0fd-45c2-a3d6-00c7d45380fa",
   "metadata": {},
   "outputs": [
    {
     "data": {
      "text/plain": [
       "Name    0\n",
       "Age     2\n",
       "dtype: int64"
      ]
     },
     "execution_count": 112,
     "metadata": {},
     "output_type": "execute_result"
    }
   ],
   "source": [
    "df1.isnull().sum()"
   ]
  },
  {
   "cell_type": "code",
   "execution_count": 110,
   "id": "6ab4ac8d-26c8-4af9-8f7a-95bd59c69dbb",
   "metadata": {},
   "outputs": [
    {
     "data": {
      "text/html": [
       "<div>\n",
       "<style scoped>\n",
       "    .dataframe tbody tr th:only-of-type {\n",
       "        vertical-align: middle;\n",
       "    }\n",
       "\n",
       "    .dataframe tbody tr th {\n",
       "        vertical-align: top;\n",
       "    }\n",
       "\n",
       "    .dataframe thead th {\n",
       "        text-align: right;\n",
       "    }\n",
       "</style>\n",
       "<table border=\"1\" class=\"dataframe\">\n",
       "  <thead>\n",
       "    <tr style=\"text-align: right;\">\n",
       "      <th></th>\n",
       "      <th>Name</th>\n",
       "      <th>Age</th>\n",
       "    </tr>\n",
       "  </thead>\n",
       "  <tbody>\n",
       "    <tr>\n",
       "      <th>0</th>\n",
       "      <td>Alice</td>\n",
       "      <td>25.0</td>\n",
       "    </tr>\n",
       "    <tr>\n",
       "      <th>1</th>\n",
       "      <td>Bob</td>\n",
       "      <td>30.0</td>\n",
       "    </tr>\n",
       "    <tr>\n",
       "      <th>2</th>\n",
       "      <td>Cathy</td>\n",
       "      <td>30.0</td>\n",
       "    </tr>\n",
       "    <tr>\n",
       "      <th>3</th>\n",
       "      <td>Chandani</td>\n",
       "      <td>NaN</td>\n",
       "    </tr>\n",
       "  </tbody>\n",
       "</table>\n",
       "</div>"
      ],
      "text/plain": [
       "       Name   Age\n",
       "0     Alice  25.0\n",
       "1       Bob  30.0\n",
       "2     Cathy  30.0\n",
       "3  Chandani   NaN"
      ]
     },
     "execution_count": 110,
     "metadata": {},
     "output_type": "execute_result"
    }
   ],
   "source": [
    "df1.bfill()"
   ]
  },
  {
   "cell_type": "code",
   "execution_count": 114,
   "id": "68c52b73-1710-412a-b900-d8a5bc1111c7",
   "metadata": {},
   "outputs": [
    {
     "data": {
      "text/plain": [
       "np.True_"
      ]
     },
     "execution_count": 114,
     "metadata": {},
     "output_type": "execute_result"
    }
   ],
   "source": [
    "df1.isnull().values.any()"
   ]
  },
  {
   "cell_type": "code",
   "execution_count": 118,
   "id": "15bfc109-48de-44f9-8490-dff01293059d",
   "metadata": {},
   "outputs": [
    {
     "data": {
      "text/html": [
       "<div>\n",
       "<style scoped>\n",
       "    .dataframe tbody tr th:only-of-type {\n",
       "        vertical-align: middle;\n",
       "    }\n",
       "\n",
       "    .dataframe tbody tr th {\n",
       "        vertical-align: top;\n",
       "    }\n",
       "\n",
       "    .dataframe thead th {\n",
       "        text-align: right;\n",
       "    }\n",
       "</style>\n",
       "<table border=\"1\" class=\"dataframe\">\n",
       "  <thead>\n",
       "    <tr style=\"text-align: right;\">\n",
       "      <th></th>\n",
       "      <th>Name</th>\n",
       "      <th>Age</th>\n",
       "    </tr>\n",
       "  </thead>\n",
       "  <tbody>\n",
       "    <tr>\n",
       "      <th>0</th>\n",
       "      <td>Alice</td>\n",
       "      <td>25</td>\n",
       "    </tr>\n",
       "    <tr>\n",
       "      <th>1</th>\n",
       "      <td>Bob</td>\n",
       "      <td>30</td>\n",
       "    </tr>\n",
       "    <tr>\n",
       "      <th>2</th>\n",
       "      <td>Cathy</td>\n",
       "      <td>22</td>\n",
       "    </tr>\n",
       "    <tr>\n",
       "      <th>3</th>\n",
       "      <td>David</td>\n",
       "      <td>28</td>\n",
       "    </tr>\n",
       "  </tbody>\n",
       "</table>\n",
       "</div>"
      ],
      "text/plain": [
       "    Name  Age\n",
       "0  Alice   25\n",
       "1    Bob   30\n",
       "2  Cathy   22\n",
       "3  David   28"
      ]
     },
     "execution_count": 118,
     "metadata": {},
     "output_type": "execute_result"
    }
   ],
   "source": [
    "df1 = pd.DataFrame({'Name':['Alice', 'Bob'], 'Age':[25, 30]})\n",
    "df2 = pd.DataFrame({'Name':['Cathy', 'David'], 'Age':[22, 28]})\n",
    "result = pd.concat([df1, df2], ignore_index=True)\n",
    "result"
   ]
  },
  {
   "cell_type": "code",
   "execution_count": 119,
   "id": "8e9b696d-bfea-4889-90c2-6d8bd41ed3bf",
   "metadata": {},
   "outputs": [
    {
     "data": {
      "text/plain": [
       "\u001b[31mSignature:\u001b[39m\n",
       "result.reset_index(\n",
       "    level: \u001b[33m'IndexLabel | None'\u001b[39m = \u001b[38;5;28;01mNone\u001b[39;00m,\n",
       "    *,\n",
       "    drop: \u001b[33m'bool'\u001b[39m = \u001b[38;5;28;01mFalse\u001b[39;00m,\n",
       "    inplace: \u001b[33m'bool'\u001b[39m = \u001b[38;5;28;01mFalse\u001b[39;00m,\n",
       "    col_level: \u001b[33m'Hashable'\u001b[39m = \u001b[32m0\u001b[39m,\n",
       "    col_fill: \u001b[33m'Hashable'\u001b[39m = \u001b[33m''\u001b[39m,\n",
       "    allow_duplicates: \u001b[33m'bool | lib.NoDefault'\u001b[39m = <no_default>,\n",
       "    names: \u001b[33m'Hashable | Sequence[Hashable] | None'\u001b[39m = \u001b[38;5;28;01mNone\u001b[39;00m,\n",
       ") -> \u001b[33m'DataFrame | None'\u001b[39m\n",
       "\u001b[31mDocstring:\u001b[39m\n",
       "Reset the index, or a level of it.\n",
       "\n",
       "Reset the index of the DataFrame, and use the default one instead.\n",
       "If the DataFrame has a MultiIndex, this method can remove one or more\n",
       "levels.\n",
       "\n",
       "Parameters\n",
       "----------\n",
       "level : int, str, tuple, or list, default None\n",
       "    Only remove the given levels from the index. Removes all levels by\n",
       "    default.\n",
       "drop : bool, default False\n",
       "    Do not try to insert index into dataframe columns. This resets\n",
       "    the index to the default integer index.\n",
       "inplace : bool, default False\n",
       "    Whether to modify the DataFrame rather than creating a new one.\n",
       "col_level : int or str, default 0\n",
       "    If the columns have multiple levels, determines which level the\n",
       "    labels are inserted into. By default it is inserted into the first\n",
       "    level.\n",
       "col_fill : object, default ''\n",
       "    If the columns have multiple levels, determines how the other\n",
       "    levels are named. If None then the index name is repeated.\n",
       "allow_duplicates : bool, optional, default lib.no_default\n",
       "    Allow duplicate column labels to be created.\n",
       "\n",
       "    .. versionadded:: 1.5.0\n",
       "\n",
       "names : int, str or 1-dimensional list, default None\n",
       "    Using the given string, rename the DataFrame column which contains the\n",
       "    index data. If the DataFrame has a MultiIndex, this has to be a list or\n",
       "    tuple with length equal to the number of levels.\n",
       "\n",
       "    .. versionadded:: 1.5.0\n",
       "\n",
       "Returns\n",
       "-------\n",
       "DataFrame or None\n",
       "    DataFrame with the new index or None if ``inplace=True``.\n",
       "\n",
       "See Also\n",
       "--------\n",
       "DataFrame.set_index : Opposite of reset_index.\n",
       "DataFrame.reindex : Change to new indices or expand indices.\n",
       "DataFrame.reindex_like : Change to same indices as other DataFrame.\n",
       "\n",
       "Examples\n",
       "--------\n",
       ">>> df = pd.DataFrame([('bird', 389.0),\n",
       "...                    ('bird', 24.0),\n",
       "...                    ('mammal', 80.5),\n",
       "...                    ('mammal', np.nan)],\n",
       "...                   index=['falcon', 'parrot', 'lion', 'monkey'],\n",
       "...                   columns=('class', 'max_speed'))\n",
       ">>> df\n",
       "         class  max_speed\n",
       "falcon    bird      389.0\n",
       "parrot    bird       24.0\n",
       "lion    mammal       80.5\n",
       "monkey  mammal        NaN\n",
       "\n",
       "When we reset the index, the old index is added as a column, and a\n",
       "new sequential index is used:\n",
       "\n",
       ">>> df.reset_index()\n",
       "    index   class  max_speed\n",
       "0  falcon    bird      389.0\n",
       "1  parrot    bird       24.0\n",
       "2    lion  mammal       80.5\n",
       "3  monkey  mammal        NaN\n",
       "\n",
       "We can use the `drop` parameter to avoid the old index being added as\n",
       "a column:\n",
       "\n",
       ">>> df.reset_index(drop=True)\n",
       "    class  max_speed\n",
       "0    bird      389.0\n",
       "1    bird       24.0\n",
       "2  mammal       80.5\n",
       "3  mammal        NaN\n",
       "\n",
       "You can also use `reset_index` with `MultiIndex`.\n",
       "\n",
       ">>> index = pd.MultiIndex.from_tuples([('bird', 'falcon'),\n",
       "...                                    ('bird', 'parrot'),\n",
       "...                                    ('mammal', 'lion'),\n",
       "...                                    ('mammal', 'monkey')],\n",
       "...                                   names=['class', 'name'])\n",
       ">>> columns = pd.MultiIndex.from_tuples([('speed', 'max'),\n",
       "...                                      ('species', 'type')])\n",
       ">>> df = pd.DataFrame([(389.0, 'fly'),\n",
       "...                    (24.0, 'fly'),\n",
       "...                    (80.5, 'run'),\n",
       "...                    (np.nan, 'jump')],\n",
       "...                   index=index,\n",
       "...                   columns=columns)\n",
       ">>> df\n",
       "               speed species\n",
       "                 max    type\n",
       "class  name\n",
       "bird   falcon  389.0     fly\n",
       "       parrot   24.0     fly\n",
       "mammal lion     80.5     run\n",
       "       monkey    NaN    jump\n",
       "\n",
       "Using the `names` parameter, choose a name for the index column:\n",
       "\n",
       ">>> df.reset_index(names=['classes', 'names'])\n",
       "  classes   names  speed species\n",
       "                     max    type\n",
       "0    bird  falcon  389.0     fly\n",
       "1    bird  parrot   24.0     fly\n",
       "2  mammal    lion   80.5     run\n",
       "3  mammal  monkey    NaN    jump\n",
       "\n",
       "If the index has multiple levels, we can reset a subset of them:\n",
       "\n",
       ">>> df.reset_index(level='class')\n",
       "         class  speed species\n",
       "                  max    type\n",
       "name\n",
       "falcon    bird  389.0     fly\n",
       "parrot    bird   24.0     fly\n",
       "lion    mammal   80.5     run\n",
       "monkey  mammal    NaN    jump\n",
       "\n",
       "If we are not dropping the index, by default, it is placed in the top\n",
       "level. We can place it in another level:\n",
       "\n",
       ">>> df.reset_index(level='class', col_level=1)\n",
       "                speed species\n",
       "         class    max    type\n",
       "name\n",
       "falcon    bird  389.0     fly\n",
       "parrot    bird   24.0     fly\n",
       "lion    mammal   80.5     run\n",
       "monkey  mammal    NaN    jump\n",
       "\n",
       "When the index is inserted under another level, we can specify under\n",
       "which one with the parameter `col_fill`:\n",
       "\n",
       ">>> df.reset_index(level='class', col_level=1, col_fill='species')\n",
       "              species  speed species\n",
       "                class    max    type\n",
       "name\n",
       "falcon           bird  389.0     fly\n",
       "parrot           bird   24.0     fly\n",
       "lion           mammal   80.5     run\n",
       "monkey         mammal    NaN    jump\n",
       "\n",
       "If we specify a nonexistent level for `col_fill`, it is created:\n",
       "\n",
       ">>> df.reset_index(level='class', col_level=1, col_fill='genus')\n",
       "                genus  speed species\n",
       "                class    max    type\n",
       "name\n",
       "falcon           bird  389.0     fly\n",
       "parrot           bird   24.0     fly\n",
       "lion           mammal   80.5     run\n",
       "monkey         mammal    NaN    jump\n",
       "\u001b[31mFile:\u001b[39m      c:\\users\\rahak\\.virtualenvs\\venv\\lib\\site-packages\\pandas\\core\\frame.py\n",
       "\u001b[31mType:\u001b[39m      method"
      ]
     },
     "metadata": {},
     "output_type": "display_data"
    }
   ],
   "source": [
    "result.reset_index?"
   ]
  },
  {
   "cell_type": "code",
   "execution_count": 120,
   "id": "3e922203-4bbd-461b-b99c-546dcc3e42d6",
   "metadata": {},
   "outputs": [
    {
     "data": {
      "text/html": [
       "<div>\n",
       "<style scoped>\n",
       "    .dataframe tbody tr th:only-of-type {\n",
       "        vertical-align: middle;\n",
       "    }\n",
       "\n",
       "    .dataframe tbody tr th {\n",
       "        vertical-align: top;\n",
       "    }\n",
       "\n",
       "    .dataframe thead th {\n",
       "        text-align: right;\n",
       "    }\n",
       "</style>\n",
       "<table border=\"1\" class=\"dataframe\">\n",
       "  <thead>\n",
       "    <tr style=\"text-align: right;\">\n",
       "      <th></th>\n",
       "      <th>ID</th>\n",
       "      <th>Name</th>\n",
       "      <th>Marks</th>\n",
       "    </tr>\n",
       "  </thead>\n",
       "  <tbody>\n",
       "    <tr>\n",
       "      <th>0</th>\n",
       "      <td>1</td>\n",
       "      <td>Cathy</td>\n",
       "      <td>85</td>\n",
       "    </tr>\n",
       "    <tr>\n",
       "      <th>1</th>\n",
       "      <td>2</td>\n",
       "      <td>David</td>\n",
       "      <td>90</td>\n",
       "    </tr>\n",
       "  </tbody>\n",
       "</table>\n",
       "</div>"
      ],
      "text/plain": [
       "   ID   Name  Marks\n",
       "0   1  Cathy     85\n",
       "1   2  David     90"
      ]
     },
     "execution_count": 120,
     "metadata": {},
     "output_type": "execute_result"
    }
   ],
   "source": [
    "df1 = pd.DataFrame({'ID':[1, 2], 'Name':['Cathy', 'David']})\n",
    "df2 = pd.DataFrame({'ID':[1, 2], 'Marks':[85, 90]})\n",
    "result = pd.merge(df1, df2, on='ID')\n",
    "result"
   ]
  },
  {
   "cell_type": "code",
   "execution_count": 122,
   "id": "c4d7591e-7a97-41f8-9ce8-35db1b81e4bd",
   "metadata": {},
   "outputs": [
    {
     "name": "stdout",
     "output_type": "stream",
     "text": [
      "Common Columns =  {'ID'}\n"
     ]
    }
   ],
   "source": [
    "set1 = set(list(df1.columns))\n",
    "set2 = set(list(df2.columns))\n",
    "print(\"Common Columns = \", set1.intersection(set2))"
   ]
  },
  {
   "cell_type": "code",
   "execution_count": 124,
   "id": "26b4a80c-3692-407a-b71b-e95a2bcf335a",
   "metadata": {},
   "outputs": [
    {
     "data": {
      "text/html": [
       "<div>\n",
       "<style scoped>\n",
       "    .dataframe tbody tr th:only-of-type {\n",
       "        vertical-align: middle;\n",
       "    }\n",
       "\n",
       "    .dataframe tbody tr th {\n",
       "        vertical-align: top;\n",
       "    }\n",
       "\n",
       "    .dataframe thead th {\n",
       "        text-align: right;\n",
       "    }\n",
       "</style>\n",
       "<table border=\"1\" class=\"dataframe\">\n",
       "  <thead>\n",
       "    <tr style=\"text-align: right;\">\n",
       "      <th></th>\n",
       "      <th>Salary</th>\n",
       "    </tr>\n",
       "    <tr>\n",
       "      <th>Department</th>\n",
       "      <th></th>\n",
       "    </tr>\n",
       "  </thead>\n",
       "  <tbody>\n",
       "    <tr>\n",
       "      <th>HR</th>\n",
       "      <td>51000.0</td>\n",
       "    </tr>\n",
       "    <tr>\n",
       "      <th>IT</th>\n",
       "      <td>62500.0</td>\n",
       "    </tr>\n",
       "  </tbody>\n",
       "</table>\n",
       "</div>"
      ],
      "text/plain": [
       "             Salary\n",
       "Department         \n",
       "HR          51000.0\n",
       "IT          62500.0"
      ]
     },
     "execution_count": 124,
     "metadata": {},
     "output_type": "execute_result"
    }
   ],
   "source": [
    "df = pd.DataFrame({\n",
    "    'Department': ['IT', 'HR', 'IT', 'HR'],\n",
    "    'Salary' : [60000, 50000, 65000, 52000]\n",
    "})\n",
    "grouped = df.groupby('Department').mean()\n",
    "grouped"
   ]
  },
  {
   "cell_type": "code",
   "execution_count": 127,
   "id": "4c382132-f5d8-4552-a4f2-70c203e05f56",
   "metadata": {},
   "outputs": [
    {
     "data": {
      "text/html": [
       "<div>\n",
       "<style scoped>\n",
       "    .dataframe tbody tr th:only-of-type {\n",
       "        vertical-align: middle;\n",
       "    }\n",
       "\n",
       "    .dataframe tbody tr th {\n",
       "        vertical-align: top;\n",
       "    }\n",
       "\n",
       "    .dataframe thead th {\n",
       "        text-align: right;\n",
       "    }\n",
       "</style>\n",
       "<table border=\"1\" class=\"dataframe\">\n",
       "  <thead>\n",
       "    <tr style=\"text-align: right;\">\n",
       "      <th></th>\n",
       "      <th>Sal</th>\n",
       "    </tr>\n",
       "    <tr>\n",
       "      <th>dept</th>\n",
       "      <th></th>\n",
       "    </tr>\n",
       "  </thead>\n",
       "  <tbody>\n",
       "    <tr>\n",
       "      <th>HR</th>\n",
       "      <td>16000</td>\n",
       "    </tr>\n",
       "    <tr>\n",
       "      <th>IT</th>\n",
       "      <td>14000</td>\n",
       "    </tr>\n",
       "  </tbody>\n",
       "</table>\n",
       "</div>"
      ],
      "text/plain": [
       "        Sal\n",
       "dept       \n",
       "HR    16000\n",
       "IT    14000"
      ]
     },
     "execution_count": 127,
     "metadata": {},
     "output_type": "execute_result"
    }
   ],
   "source": [
    "data = pd.DataFrame({\n",
    "    \"dept\":[\"IT\", 'HR', 'IT', 'HR'],\n",
    "    'Emp':['A', 'B', 'C', 'D'],\n",
    "    'Sal':[6000, 7000, 8000, 9000]\n",
    "})\n",
    "pivot = data.pivot_table(values='Sal', index='dept', aggfunc='sum')\n",
    "pivot"
   ]
  },
  {
   "cell_type": "code",
   "execution_count": 128,
   "id": "1b8dfd9e-d1d9-405b-ba51-07f056fa53e4",
   "metadata": {},
   "outputs": [
    {
     "data": {
      "text/html": [
       "<div>\n",
       "<style scoped>\n",
       "    .dataframe tbody tr th:only-of-type {\n",
       "        vertical-align: middle;\n",
       "    }\n",
       "\n",
       "    .dataframe tbody tr th {\n",
       "        vertical-align: top;\n",
       "    }\n",
       "\n",
       "    .dataframe thead th {\n",
       "        text-align: right;\n",
       "    }\n",
       "</style>\n",
       "<table border=\"1\" class=\"dataframe\">\n",
       "  <thead>\n",
       "    <tr style=\"text-align: right;\">\n",
       "      <th></th>\n",
       "      <th>Student</th>\n",
       "      <th>Subject</th>\n",
       "      <th>Marks</th>\n",
       "    </tr>\n",
       "  </thead>\n",
       "  <tbody>\n",
       "    <tr>\n",
       "      <th>0</th>\n",
       "      <td>Alice</td>\n",
       "      <td>Math</td>\n",
       "      <td>85</td>\n",
       "    </tr>\n",
       "    <tr>\n",
       "      <th>1</th>\n",
       "      <td>Bob</td>\n",
       "      <td>Math</td>\n",
       "      <td>90</td>\n",
       "    </tr>\n",
       "    <tr>\n",
       "      <th>2</th>\n",
       "      <td>Alice</td>\n",
       "      <td>Science</td>\n",
       "      <td>78</td>\n",
       "    </tr>\n",
       "    <tr>\n",
       "      <th>3</th>\n",
       "      <td>Bob</td>\n",
       "      <td>Science</td>\n",
       "      <td>88</td>\n",
       "    </tr>\n",
       "  </tbody>\n",
       "</table>\n",
       "</div>"
      ],
      "text/plain": [
       "  Student  Subject  Marks\n",
       "0   Alice     Math     85\n",
       "1     Bob     Math     90\n",
       "2   Alice  Science     78\n",
       "3     Bob  Science     88"
      ]
     },
     "execution_count": 128,
     "metadata": {},
     "output_type": "execute_result"
    }
   ],
   "source": [
    "df = pd.DataFrame({\n",
    "    'Student':['Alice', 'Bob'],\n",
    "    'Math':[85, 90],\n",
    "    'Science':[78, 88]\n",
    "})\n",
    "melted = pd.melt(df, id_vars=['Student'], var_name='Subject', value_name='Marks')\n",
    "melted"
   ]
  },
  {
   "cell_type": "code",
   "execution_count": 129,
   "id": "4bac46a2-3c13-4451-a807-3de201727431",
   "metadata": {},
   "outputs": [
    {
     "data": {
      "text/plain": [
       "\u001b[31mSignature:\u001b[39m\n",
       "pd.melt(\n",
       "    frame: \u001b[33m'DataFrame'\u001b[39m,\n",
       "    id_vars=\u001b[38;5;28;01mNone\u001b[39;00m,\n",
       "    value_vars=\u001b[38;5;28;01mNone\u001b[39;00m,\n",
       "    var_name=\u001b[38;5;28;01mNone\u001b[39;00m,\n",
       "    value_name: \u001b[33m'Hashable'\u001b[39m = \u001b[33m'value'\u001b[39m,\n",
       "    col_level=\u001b[38;5;28;01mNone\u001b[39;00m,\n",
       "    ignore_index: \u001b[33m'bool'\u001b[39m = \u001b[38;5;28;01mTrue\u001b[39;00m,\n",
       ") -> \u001b[33m'DataFrame'\u001b[39m\n",
       "\u001b[31mDocstring:\u001b[39m\n",
       "Unpivot a DataFrame from wide to long format, optionally leaving identifiers set.\n",
       "\n",
       "This function is useful to massage a DataFrame into a format where one\n",
       "or more columns are identifier variables (`id_vars`), while all other\n",
       "columns, considered measured variables (`value_vars`), are \"unpivoted\" to\n",
       "the row axis, leaving just two non-identifier columns, 'variable' and\n",
       "'value'.\n",
       "\n",
       "Parameters\n",
       "----------\n",
       "id_vars : scalar, tuple, list, or ndarray, optional\n",
       "    Column(s) to use as identifier variables.\n",
       "value_vars : scalar, tuple, list, or ndarray, optional\n",
       "    Column(s) to unpivot. If not specified, uses all columns that\n",
       "    are not set as `id_vars`.\n",
       "var_name : scalar, default None\n",
       "    Name to use for the 'variable' column. If None it uses\n",
       "    ``frame.columns.name`` or 'variable'.\n",
       "value_name : scalar, default 'value'\n",
       "    Name to use for the 'value' column, can't be an existing column label.\n",
       "col_level : scalar, optional\n",
       "    If columns are a MultiIndex then use this level to melt.\n",
       "ignore_index : bool, default True\n",
       "    If True, original index is ignored. If False, the original index is retained.\n",
       "    Index labels will be repeated as necessary.\n",
       "\n",
       "Returns\n",
       "-------\n",
       "DataFrame\n",
       "    Unpivoted DataFrame.\n",
       "\n",
       "See Also\n",
       "--------\n",
       "DataFrame.melt : Identical method.\n",
       "pivot_table : Create a spreadsheet-style pivot table as a DataFrame.\n",
       "DataFrame.pivot : Return reshaped DataFrame organized\n",
       "    by given index / column values.\n",
       "DataFrame.explode : Explode a DataFrame from list-like\n",
       "        columns to long format.\n",
       "\n",
       "Notes\n",
       "-----\n",
       "Reference :ref:`the user guide <reshaping.melt>` for more examples.\n",
       "\n",
       "Examples\n",
       "--------\n",
       ">>> df = pd.DataFrame({'A': {0: 'a', 1: 'b', 2: 'c'},\n",
       "...                    'B': {0: 1, 1: 3, 2: 5},\n",
       "...                    'C': {0: 2, 1: 4, 2: 6}})\n",
       ">>> df\n",
       "   A  B  C\n",
       "0  a  1  2\n",
       "1  b  3  4\n",
       "2  c  5  6\n",
       "\n",
       ">>> pd.melt(df, id_vars=['A'], value_vars=['B'])\n",
       "   A variable  value\n",
       "0  a        B      1\n",
       "1  b        B      3\n",
       "2  c        B      5\n",
       "\n",
       ">>> pd.melt(df, id_vars=['A'], value_vars=['B', 'C'])\n",
       "   A variable  value\n",
       "0  a        B      1\n",
       "1  b        B      3\n",
       "2  c        B      5\n",
       "3  a        C      2\n",
       "4  b        C      4\n",
       "5  c        C      6\n",
       "\n",
       "The names of 'variable' and 'value' columns can be customized:\n",
       "\n",
       ">>> pd.melt(df, id_vars=['A'], value_vars=['B'],\n",
       "...         var_name='myVarname', value_name='myValname')\n",
       "   A myVarname  myValname\n",
       "0  a         B          1\n",
       "1  b         B          3\n",
       "2  c         B          5\n",
       "\n",
       "Original index values can be kept around:\n",
       "\n",
       ">>> pd.melt(df, id_vars=['A'], value_vars=['B', 'C'], ignore_index=False)\n",
       "   A variable  value\n",
       "0  a        B      1\n",
       "1  b        B      3\n",
       "2  c        B      5\n",
       "0  a        C      2\n",
       "1  b        C      4\n",
       "2  c        C      6\n",
       "\n",
       "If you have multi-index columns:\n",
       "\n",
       ">>> df.columns = [list('ABC'), list('DEF')]\n",
       ">>> df\n",
       "   A  B  C\n",
       "   D  E  F\n",
       "0  a  1  2\n",
       "1  b  3  4\n",
       "2  c  5  6\n",
       "\n",
       ">>> pd.melt(df, col_level=0, id_vars=['A'], value_vars=['B'])\n",
       "   A variable  value\n",
       "0  a        B      1\n",
       "1  b        B      3\n",
       "2  c        B      5\n",
       "\n",
       ">>> pd.melt(df, id_vars=[('A', 'D')], value_vars=[('B', 'E')])\n",
       "  (A, D) variable_0 variable_1  value\n",
       "0      a          B          E      1\n",
       "1      b          B          E      3\n",
       "2      c          B          E      5\n",
       "\u001b[31mFile:\u001b[39m      c:\\users\\rahak\\.virtualenvs\\venv\\lib\\site-packages\\pandas\\core\\reshape\\melt.py\n",
       "\u001b[31mType:\u001b[39m      function"
      ]
     },
     "metadata": {},
     "output_type": "display_data"
    }
   ],
   "source": [
    "pd.melt?"
   ]
  },
  {
   "cell_type": "code",
   "execution_count": null,
   "id": "ed6dc5aa-b12e-43f5-81a9-c348173a6f9e",
   "metadata": {},
   "outputs": [],
   "source": []
  }
 ],
 "metadata": {
  "kernelspec": {
   "display_name": "Python 3 (ipykernel)",
   "language": "python",
   "name": "python3"
  },
  "language_info": {
   "codemirror_mode": {
    "name": "ipython",
    "version": 3
   },
   "file_extension": ".py",
   "mimetype": "text/x-python",
   "name": "python",
   "nbconvert_exporter": "python",
   "pygments_lexer": "ipython3",
   "version": "3.13.2"
  }
 },
 "nbformat": 4,
 "nbformat_minor": 5
}
